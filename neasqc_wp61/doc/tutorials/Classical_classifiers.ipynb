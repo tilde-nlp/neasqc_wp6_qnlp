{
 "cells": [
  {
   "cell_type": "markdown",
   "metadata": {
    "tags": []
   },
   "source": [
    "# Classical classifiers"
   ]
  },
  {
   "cell_type": "markdown",
   "metadata": {},
   "source": [
    "This notebook shows how well classical classifiers solve the sentence classification problem. This is mainly needed to have a baseline for quantum solution to compare against."
   ]
  },
  {
   "cell_type": "markdown",
   "metadata": {},
   "source": [
    "We first load our library files and the required packages."
   ]
  },
  {
   "cell_type": "code",
   "execution_count": 1,
   "metadata": {},
   "outputs": [],
   "source": [
    "import sys\n",
    "import os\n",
    "import json\n",
    "import numpy as np\n",
    "from sklearn.neighbors import KNeighborsClassifier\n",
    "\n",
    "sys.path.append(\"../../models/classical/\")\n",
    "\n",
    "from NNClassifier import (loadData,evaluate, NNClassifier,\n",
    "       prepareTrainTestDevXYWords, prepareTrainTestDevXYSentence,)"
   ]
  },
  {
   "cell_type": "markdown",
   "metadata": {},
   "source": [
    "We have implemented sentence vectorization using pretrained BERT cased and uncased (see [Git](https://github.com/google-research/bert), [arXiv](https://arxiv.org/abs/1810.04805)) base models (each sentence is represented as a 768-dimensional real-valued vector), sentence transformer models *all-mpnet-base-v2* and *all-distilroberta-v1* (see [link](https://www.sbert.net/docs/pretrained_models.html)) as well as word-level vectorization using [_fastText_](https://fasttext.cc/) model pretrained on [English Wikipedia and Common Crawl](hhttps://fasttext.cc/docs/en/crawl-vectors.html) (each word in a sentence is represented as a 300-dimensional real-valued vector)."
   ]
  },
  {
   "cell_type": "markdown",
   "metadata": {},
   "source": [
    "The Jupyter notebook *Prepare_datasets_4classifier.ipynb* shows how to filterdata and acquire embedding vectors using different vectorization models."
   ]
  },
  {
   "cell_type": "code",
   "execution_count": 2,
   "metadata": {},
   "outputs": [],
   "source": [
    "datadir = \"../../data/datasets\"\n",
    "dsName='labelled_newscatcher_dataset'"
   ]
  },
  {
   "cell_type": "code",
   "execution_count": 3,
   "metadata": {},
   "outputs": [],
   "source": [
    "modeldir=\"../../models/classical\""
   ]
  },
  {
   "cell_type": "markdown",
   "metadata": {},
   "source": [
    "## 1. Training shallow feedforward neural network"
   ]
  },
  {
   "cell_type": "markdown",
   "metadata": {},
   "source": [
    "To train shallow feedforward neural network models we employ sentence level embeddings. "
   ]
  },
  {
   "cell_type": "code",
   "execution_count": 4,
   "metadata": {},
   "outputs": [],
   "source": [
    "embName='BERT_CASED'"
   ]
  },
  {
   "cell_type": "code",
   "execution_count": 5,
   "metadata": {},
   "outputs": [
    {
     "name": "stdout",
     "output_type": "stream",
     "text": [
      "Training samples: 142, test samples: 18, dev samples: 18\n",
      "An example sentence: Leon Fleisher obituary, class: ENTERTAINMENT, syntactical tag: n[(n/n)   n[(n/n)   n]]\n",
      "Vectorized sentence dimension: 768\n"
     ]
    }
   ],
   "source": [
    "data = loadData(f\"{datadir}/{dsName}_{embName}.json\")\n",
    "print(f\"Training samples: {len(data['train_data'])}, test samples: {len(data['test_data'])}, dev samples: {len(data['dev_data'])}\")\n",
    "print(f\"An example sentence: {data['train_data'][2]['sentence']}, class: {data['train_data'][2]['class']}, syntactical tag: {data['train_data'][2]['tag']}\")\n",
    "print(f\"Vectorized sentence dimension: {len(data['train_data'][0]['sentence_vectorized'][0])}\")"
   ]
  },
  {
   "cell_type": "markdown",
   "metadata": {},
   "source": [
    "We reformat the data as numpy arrays for classifier training. "
   ]
  },
  {
   "cell_type": "code",
   "execution_count": 6,
   "metadata": {},
   "outputs": [
    {
     "name": "stdout",
     "output_type": "stream",
     "text": [
      "(142, 768)\n",
      "(142, 8)\n",
      "(18, 768)\n",
      "(18, 8)\n",
      "(18, 768)\n",
      "(18, 8)\n"
     ]
    }
   ],
   "source": [
    "trainX, trainY, testX, testY, devX, devY = prepareTrainTestDevXYSentence(data,classify_by_field=\"class\")\n",
    "print(f\"{trainX.shape}\")\n",
    "print(f\"{trainY.shape}\")\n",
    "print(f\"{testX.shape}\")\n",
    "print(f\"{testY.shape}\")\n",
    "print(f\"{devX.shape}\")\n",
    "print(f\"{devY.shape}\")"
   ]
  },
  {
   "cell_type": "markdown",
   "metadata": {},
   "source": [
    "Now we train a feedforward neural network classifier."
   ]
  },
  {
   "cell_type": "code",
   "execution_count": 7,
   "metadata": {},
   "outputs": [
    {
     "name": "stdout",
     "output_type": "stream",
     "text": [
      "[[ 0.24831168  0.07755949  0.18315697 ... -0.17061237  0.47798586\n",
      "   0.42581174]\n",
      " [ 0.46027943 -0.00449959  0.24570152 ... -0.38116983  0.57670146\n",
      "   0.08010881]\n",
      " [ 0.50678337  0.28690478  0.11979629 ... -0.14566845  0.5664351\n",
      "   0.00436824]\n",
      " ...\n",
      " [ 0.00952067 -0.19946343 -0.06688491 ...  0.18058451  0.13292444\n",
      "  -0.09864058]\n",
      " [ 0.38189271  0.11512726 -0.54941505 ... -0.30580053  0.38593382\n",
      "   0.12605624]\n",
      " [ 0.15197268 -0.06892152  0.01059069 ...  0.21744832  0.52277052\n",
      "  -0.13285317]]\n"
     ]
    }
   ],
   "source": [
    "print(devX)"
   ]
  },
  {
   "cell_type": "code",
   "execution_count": 8,
   "metadata": {},
   "outputs": [
    {
     "name": "stdout",
     "output_type": "stream",
     "text": [
      "[[ 0.17508845  0.0303731  -0.11608101 ...  0.15217581  0.23186953\n",
      "  -0.04536352]\n",
      " [ 0.21825086  0.01423122 -0.43340895 ... -0.11458683  0.41350371\n",
      "   0.3508732 ]\n",
      " [ 0.25613171  0.4123975  -0.19751278 ... -0.24310029  0.45322585\n",
      "   0.19729736]\n",
      " ...\n",
      " [ 0.32167602  0.2516858   0.0106113  ... -0.02072906  0.37319386\n",
      "   0.18247254]\n",
      " [-0.13527533 -0.336319    0.10188356 ...  0.07672532  0.23597278\n",
      "   0.02403479]\n",
      " [ 0.45947847 -0.05158372  0.02307672 ... -0.41138276  0.36236608\n",
      "   0.33128804]]\n"
     ]
    }
   ],
   "source": [
    "print(testX)"
   ]
  },
  {
   "cell_type": "code",
   "execution_count": 9,
   "metadata": {},
   "outputs": [
    {
     "name": "stdout",
     "output_type": "stream",
     "text": [
      "[[0. 0. 0. 0. 1. 0. 0. 0.]\n",
      " [0. 0. 0. 0. 0. 0. 0. 1.]\n",
      " [0. 1. 0. 0. 0. 0. 0. 0.]\n",
      " [0. 0. 0. 0. 0. 1. 0. 0.]\n",
      " [0. 0. 1. 0. 0. 0. 0. 0.]\n",
      " [0. 0. 0. 1. 0. 0. 0. 0.]\n",
      " [0. 1. 0. 0. 0. 0. 0. 0.]\n",
      " [1. 0. 0. 0. 0. 0. 0. 0.]\n",
      " [0. 0. 1. 0. 0. 0. 0. 0.]\n",
      " [1. 0. 0. 0. 0. 0. 0. 0.]\n",
      " [0. 0. 0. 0. 0. 0. 1. 0.]\n",
      " [1. 0. 0. 0. 0. 0. 0. 0.]\n",
      " [1. 0. 0. 0. 0. 0. 0. 0.]\n",
      " [0. 0. 0. 0. 0. 1. 0. 0.]\n",
      " [0. 0. 0. 0. 1. 0. 0. 0.]\n",
      " [0. 0. 0. 0. 0. 1. 0. 0.]\n",
      " [1. 0. 0. 0. 0. 0. 0. 0.]\n",
      " [0. 1. 0. 0. 0. 0. 0. 0.]]\n"
     ]
    }
   ],
   "source": [
    "print(devY)"
   ]
  },
  {
   "cell_type": "code",
   "execution_count": 10,
   "metadata": {},
   "outputs": [
    {
     "name": "stdout",
     "output_type": "stream",
     "text": [
      "[[0. 0. 0. 1. 0. 0. 0. 0.]\n",
      " [1. 0. 0. 0. 0. 0. 0. 0.]\n",
      " [0. 1. 0. 0. 0. 0. 0. 0.]\n",
      " [0. 0. 0. 0. 1. 0. 0. 0.]\n",
      " [0. 0. 0. 1. 0. 0. 0. 0.]\n",
      " [0. 0. 0. 0. 0. 0. 1. 0.]\n",
      " [0. 1. 0. 0. 0. 0. 0. 0.]\n",
      " [0. 0. 0. 0. 1. 0. 0. 0.]\n",
      " [0. 0. 0. 0. 1. 0. 0. 0.]\n",
      " [0. 0. 0. 1. 0. 0. 0. 0.]\n",
      " [1. 0. 0. 0. 0. 0. 0. 0.]\n",
      " [0. 0. 0. 0. 0. 0. 0. 1.]\n",
      " [0. 0. 1. 0. 0. 0. 0. 0.]\n",
      " [1. 0. 0. 0. 0. 0. 0. 0.]\n",
      " [0. 1. 0. 0. 0. 0. 0. 0.]\n",
      " [0. 0. 0. 0. 0. 0. 0. 1.]\n",
      " [1. 0. 0. 0. 0. 0. 0. 0.]\n",
      " [0. 0. 0. 0. 1. 0. 0. 0.]]\n"
     ]
    }
   ],
   "source": [
    "print(testY)"
   ]
  },
  {
   "cell_type": "code",
   "execution_count": 11,
   "metadata": {
    "scrolled": true,
    "tags": []
   },
   "outputs": [
    {
     "name": "stdout",
     "output_type": "stream",
     "text": [
      "Epoch 1/100\n",
      "5/5 - 0s - loss: 2.3765 - accuracy: 0.1408 - val_loss: 2.1556 - val_accuracy: 0.1111 - 346ms/epoch - 69ms/step\n",
      "Epoch 2/100\n",
      "5/5 - 0s - loss: 1.9353 - accuracy: 0.2465 - val_loss: 1.9896 - val_accuracy: 0.2778 - 22ms/epoch - 4ms/step\n",
      "Epoch 3/100\n",
      "5/5 - 0s - loss: 1.7737 - accuracy: 0.4085 - val_loss: 1.9350 - val_accuracy: 0.3333 - 20ms/epoch - 4ms/step\n",
      "Epoch 4/100\n",
      "5/5 - 0s - loss: 1.7000 - accuracy: 0.3662 - val_loss: 1.9035 - val_accuracy: 0.3333 - 22ms/epoch - 4ms/step\n",
      "Epoch 5/100\n",
      "5/5 - 0s - loss: 1.6134 - accuracy: 0.4296 - val_loss: 1.8506 - val_accuracy: 0.3333 - 19ms/epoch - 4ms/step\n",
      "Epoch 6/100\n",
      "5/5 - 0s - loss: 1.5205 - accuracy: 0.5211 - val_loss: 1.7962 - val_accuracy: 0.3333 - 21ms/epoch - 4ms/step\n",
      "Epoch 7/100\n",
      "5/5 - 0s - loss: 1.4544 - accuracy: 0.5563 - val_loss: 1.7425 - val_accuracy: 0.3333 - 20ms/epoch - 4ms/step\n",
      "Epoch 8/100\n",
      "5/5 - 0s - loss: 1.3847 - accuracy: 0.5352 - val_loss: 1.6784 - val_accuracy: 0.3333 - 21ms/epoch - 4ms/step\n",
      "Epoch 9/100\n",
      "5/5 - 0s - loss: 1.3196 - accuracy: 0.6197 - val_loss: 1.6299 - val_accuracy: 0.3889 - 20ms/epoch - 4ms/step\n",
      "Epoch 10/100\n",
      "5/5 - 0s - loss: 1.2705 - accuracy: 0.6479 - val_loss: 1.6152 - val_accuracy: 0.3889 - 21ms/epoch - 4ms/step\n",
      "Epoch 11/100\n",
      "5/5 - 0s - loss: 1.2216 - accuracy: 0.6690 - val_loss: 1.6013 - val_accuracy: 0.3333 - 21ms/epoch - 4ms/step\n",
      "Epoch 12/100\n",
      "5/5 - 0s - loss: 1.1715 - accuracy: 0.6549 - val_loss: 1.5751 - val_accuracy: 0.3889 - 20ms/epoch - 4ms/step\n",
      "Epoch 13/100\n",
      "5/5 - 0s - loss: 1.1304 - accuracy: 0.6620 - val_loss: 1.5541 - val_accuracy: 0.3889 - 21ms/epoch - 4ms/step\n",
      "Epoch 14/100\n",
      "5/5 - 0s - loss: 1.0932 - accuracy: 0.6901 - val_loss: 1.5363 - val_accuracy: 0.3889 - 20ms/epoch - 4ms/step\n",
      "Epoch 15/100\n",
      "5/5 - 0s - loss: 1.0567 - accuracy: 0.7465 - val_loss: 1.5119 - val_accuracy: 0.3889 - 19ms/epoch - 4ms/step\n",
      "Epoch 16/100\n",
      "5/5 - 0s - loss: 1.0253 - accuracy: 0.7394 - val_loss: 1.4797 - val_accuracy: 0.4444 - 20ms/epoch - 4ms/step\n",
      "Epoch 17/100\n",
      "5/5 - 0s - loss: 0.9885 - accuracy: 0.7465 - val_loss: 1.4607 - val_accuracy: 0.4444 - 20ms/epoch - 4ms/step\n",
      "Epoch 18/100\n",
      "5/5 - 0s - loss: 0.9595 - accuracy: 0.7465 - val_loss: 1.4534 - val_accuracy: 0.5000 - 20ms/epoch - 4ms/step\n",
      "Epoch 19/100\n",
      "5/5 - 0s - loss: 0.9324 - accuracy: 0.7606 - val_loss: 1.4409 - val_accuracy: 0.5000 - 20ms/epoch - 4ms/step\n",
      "Epoch 20/100\n",
      "5/5 - 0s - loss: 0.9036 - accuracy: 0.7887 - val_loss: 1.4204 - val_accuracy: 0.5000 - 20ms/epoch - 4ms/step\n",
      "Epoch 21/100\n",
      "5/5 - 0s - loss: 0.8746 - accuracy: 0.7958 - val_loss: 1.4134 - val_accuracy: 0.5000 - 20ms/epoch - 4ms/step\n",
      "Epoch 22/100\n",
      "5/5 - 0s - loss: 0.8514 - accuracy: 0.8169 - val_loss: 1.4149 - val_accuracy: 0.4444 - 19ms/epoch - 4ms/step\n",
      "Epoch 23/100\n",
      "5/5 - 0s - loss: 0.8278 - accuracy: 0.8380 - val_loss: 1.4010 - val_accuracy: 0.4444 - 19ms/epoch - 4ms/step\n",
      "Epoch 24/100\n",
      "5/5 - 0s - loss: 0.8046 - accuracy: 0.8592 - val_loss: 1.3866 - val_accuracy: 0.4444 - 19ms/epoch - 4ms/step\n",
      "Epoch 25/100\n",
      "5/5 - 0s - loss: 0.7840 - accuracy: 0.8521 - val_loss: 1.3728 - val_accuracy: 0.4444 - 19ms/epoch - 4ms/step\n",
      "Epoch 26/100\n",
      "5/5 - 0s - loss: 0.7636 - accuracy: 0.8521 - val_loss: 1.3505 - val_accuracy: 0.4444 - 21ms/epoch - 4ms/step\n",
      "Epoch 27/100\n",
      "5/5 - 0s - loss: 0.7435 - accuracy: 0.8662 - val_loss: 1.3483 - val_accuracy: 0.5556 - 20ms/epoch - 4ms/step\n",
      "Epoch 28/100\n",
      "5/5 - 0s - loss: 0.7244 - accuracy: 0.8662 - val_loss: 1.3416 - val_accuracy: 0.5000 - 20ms/epoch - 4ms/step\n",
      "Epoch 29/100\n",
      "5/5 - 0s - loss: 0.7059 - accuracy: 0.8873 - val_loss: 1.3468 - val_accuracy: 0.5556 - 19ms/epoch - 4ms/step\n",
      "Epoch 30/100\n",
      "5/5 - 0s - loss: 0.6894 - accuracy: 0.9014 - val_loss: 1.3393 - val_accuracy: 0.5556 - 20ms/epoch - 4ms/step\n",
      "Epoch 31/100\n",
      "5/5 - 0s - loss: 0.6747 - accuracy: 0.9085 - val_loss: 1.3247 - val_accuracy: 0.5000 - 19ms/epoch - 4ms/step\n",
      "Epoch 32/100\n",
      "5/5 - 0s - loss: 0.6555 - accuracy: 0.9085 - val_loss: 1.3267 - val_accuracy: 0.5556 - 20ms/epoch - 4ms/step\n",
      "Epoch 33/100\n",
      "5/5 - 0s - loss: 0.6392 - accuracy: 0.9225 - val_loss: 1.3299 - val_accuracy: 0.5556 - 20ms/epoch - 4ms/step\n",
      "Epoch 34/100\n",
      "5/5 - 0s - loss: 0.6253 - accuracy: 0.9225 - val_loss: 1.3175 - val_accuracy: 0.5000 - 19ms/epoch - 4ms/step\n",
      "Epoch 35/100\n",
      "5/5 - 0s - loss: 0.6076 - accuracy: 0.9225 - val_loss: 1.3117 - val_accuracy: 0.5000 - 20ms/epoch - 4ms/step\n",
      "Epoch 36/100\n",
      "5/5 - 0s - loss: 0.5961 - accuracy: 0.9225 - val_loss: 1.3063 - val_accuracy: 0.5000 - 19ms/epoch - 4ms/step\n",
      "Epoch 37/100\n",
      "5/5 - 0s - loss: 0.5829 - accuracy: 0.9225 - val_loss: 1.3043 - val_accuracy: 0.5000 - 19ms/epoch - 4ms/step\n",
      "Epoch 38/100\n",
      "5/5 - 0s - loss: 0.5708 - accuracy: 0.9155 - val_loss: 1.3005 - val_accuracy: 0.5556 - 19ms/epoch - 4ms/step\n",
      "Epoch 39/100\n",
      "5/5 - 0s - loss: 0.5542 - accuracy: 0.9296 - val_loss: 1.2925 - val_accuracy: 0.5556 - 19ms/epoch - 4ms/step\n",
      "Epoch 40/100\n",
      "5/5 - 0s - loss: 0.5436 - accuracy: 0.9366 - val_loss: 1.2874 - val_accuracy: 0.5000 - 19ms/epoch - 4ms/step\n",
      "Epoch 41/100\n",
      "5/5 - 0s - loss: 0.5319 - accuracy: 0.9437 - val_loss: 1.2908 - val_accuracy: 0.5000 - 21ms/epoch - 4ms/step\n",
      "Epoch 42/100\n",
      "5/5 - 0s - loss: 0.5220 - accuracy: 0.9437 - val_loss: 1.2901 - val_accuracy: 0.5000 - 20ms/epoch - 4ms/step\n",
      "Epoch 43/100\n",
      "5/5 - 0s - loss: 0.5099 - accuracy: 0.9437 - val_loss: 1.2808 - val_accuracy: 0.5556 - 20ms/epoch - 4ms/step\n",
      "Epoch 44/100\n",
      "5/5 - 0s - loss: 0.4956 - accuracy: 0.9437 - val_loss: 1.2690 - val_accuracy: 0.5556 - 19ms/epoch - 4ms/step\n",
      "Epoch 45/100\n",
      "5/5 - 0s - loss: 0.4871 - accuracy: 0.9577 - val_loss: 1.2593 - val_accuracy: 0.5556 - 19ms/epoch - 4ms/step\n",
      "Epoch 46/100\n",
      "5/5 - 0s - loss: 0.4764 - accuracy: 0.9577 - val_loss: 1.2587 - val_accuracy: 0.5556 - 19ms/epoch - 4ms/step\n",
      "Epoch 47/100\n",
      "5/5 - 0s - loss: 0.4658 - accuracy: 0.9577 - val_loss: 1.2618 - val_accuracy: 0.5556 - 18ms/epoch - 4ms/step\n",
      "Epoch 48/100\n",
      "5/5 - 0s - loss: 0.4553 - accuracy: 0.9648 - val_loss: 1.2612 - val_accuracy: 0.5556 - 18ms/epoch - 4ms/step\n",
      "Epoch 49/100\n",
      "5/5 - 0s - loss: 0.4461 - accuracy: 0.9577 - val_loss: 1.2563 - val_accuracy: 0.5556 - 20ms/epoch - 4ms/step\n",
      "Epoch 50/100\n",
      "5/5 - 0s - loss: 0.4368 - accuracy: 0.9577 - val_loss: 1.2579 - val_accuracy: 0.6111 - 20ms/epoch - 4ms/step\n",
      "Epoch 51/100\n",
      "5/5 - 0s - loss: 0.4293 - accuracy: 0.9577 - val_loss: 1.2569 - val_accuracy: 0.6111 - 20ms/epoch - 4ms/step\n",
      "Epoch 52/100\n",
      "5/5 - 0s - loss: 0.4196 - accuracy: 0.9648 - val_loss: 1.2642 - val_accuracy: 0.5556 - 20ms/epoch - 4ms/step\n",
      "Epoch 53/100\n",
      "5/5 - 0s - loss: 0.4127 - accuracy: 0.9718 - val_loss: 1.2795 - val_accuracy: 0.5556 - 20ms/epoch - 4ms/step\n",
      "Epoch 54/100\n",
      "5/5 - 0s - loss: 0.4036 - accuracy: 0.9718 - val_loss: 1.2834 - val_accuracy: 0.5556 - 18ms/epoch - 4ms/step\n",
      "Epoch 55/100\n",
      "5/5 - 0s - loss: 0.3951 - accuracy: 0.9789 - val_loss: 1.2711 - val_accuracy: 0.6111 - 20ms/epoch - 4ms/step\n",
      "Epoch 56/100\n",
      "5/5 - 0s - loss: 0.3866 - accuracy: 0.9789 - val_loss: 1.2566 - val_accuracy: 0.6111 - 20ms/epoch - 4ms/step\n",
      "Epoch 57/100\n",
      "5/5 - 0s - loss: 0.3796 - accuracy: 0.9789 - val_loss: 1.2440 - val_accuracy: 0.6111 - 20ms/epoch - 4ms/step\n",
      "Epoch 58/100\n",
      "5/5 - 0s - loss: 0.3722 - accuracy: 0.9859 - val_loss: 1.2374 - val_accuracy: 0.5556 - 19ms/epoch - 4ms/step\n",
      "Epoch 59/100\n",
      "5/5 - 0s - loss: 0.3659 - accuracy: 0.9859 - val_loss: 1.2510 - val_accuracy: 0.6111 - 18ms/epoch - 4ms/step\n",
      "Epoch 60/100\n",
      "5/5 - 0s - loss: 0.3572 - accuracy: 0.9930 - val_loss: 1.2441 - val_accuracy: 0.6111 - 20ms/epoch - 4ms/step\n",
      "Epoch 61/100\n",
      "5/5 - 0s - loss: 0.3505 - accuracy: 0.9930 - val_loss: 1.2403 - val_accuracy: 0.6111 - 19ms/epoch - 4ms/step\n",
      "Epoch 62/100\n",
      "5/5 - 0s - loss: 0.3444 - accuracy: 0.9859 - val_loss: 1.2375 - val_accuracy: 0.6111 - 19ms/epoch - 4ms/step\n",
      "Epoch 63/100\n",
      "5/5 - 0s - loss: 0.3371 - accuracy: 0.9859 - val_loss: 1.2363 - val_accuracy: 0.6111 - 20ms/epoch - 4ms/step\n",
      "Epoch 64/100\n",
      "5/5 - 0s - loss: 0.3312 - accuracy: 0.9930 - val_loss: 1.2411 - val_accuracy: 0.6111 - 19ms/epoch - 4ms/step\n",
      "Epoch 65/100\n",
      "5/5 - 0s - loss: 0.3252 - accuracy: 0.9859 - val_loss: 1.2470 - val_accuracy: 0.6111 - 19ms/epoch - 4ms/step\n",
      "Epoch 66/100\n",
      "5/5 - 0s - loss: 0.3183 - accuracy: 0.9859 - val_loss: 1.2418 - val_accuracy: 0.6111 - 18ms/epoch - 4ms/step\n",
      "Epoch 67/100\n",
      "5/5 - 0s - loss: 0.3129 - accuracy: 0.9930 - val_loss: 1.2311 - val_accuracy: 0.6111 - 21ms/epoch - 4ms/step\n",
      "Epoch 68/100\n",
      "5/5 - 0s - loss: 0.3069 - accuracy: 0.9930 - val_loss: 1.2328 - val_accuracy: 0.6111 - 19ms/epoch - 4ms/step\n"
     ]
    },
    {
     "name": "stdout",
     "output_type": "stream",
     "text": [
      "Epoch 69/100\n",
      "5/5 - 0s - loss: 0.3019 - accuracy: 0.9930 - val_loss: 1.2241 - val_accuracy: 0.6111 - 22ms/epoch - 4ms/step\n",
      "Epoch 70/100\n",
      "5/5 - 0s - loss: 0.2962 - accuracy: 0.9930 - val_loss: 1.2256 - val_accuracy: 0.6111 - 19ms/epoch - 4ms/step\n",
      "Epoch 71/100\n",
      "5/5 - 0s - loss: 0.2905 - accuracy: 0.9930 - val_loss: 1.2258 - val_accuracy: 0.6111 - 19ms/epoch - 4ms/step\n",
      "Epoch 72/100\n",
      "5/5 - 0s - loss: 0.2863 - accuracy: 0.9930 - val_loss: 1.2300 - val_accuracy: 0.6111 - 19ms/epoch - 4ms/step\n",
      "Epoch 73/100\n",
      "5/5 - 0s - loss: 0.2809 - accuracy: 0.9930 - val_loss: 1.2289 - val_accuracy: 0.6111 - 19ms/epoch - 4ms/step\n",
      "Epoch 74/100\n",
      "5/5 - 0s - loss: 0.2759 - accuracy: 0.9930 - val_loss: 1.2303 - val_accuracy: 0.6111 - 19ms/epoch - 4ms/step\n",
      "Epoch 75/100\n",
      "5/5 - 0s - loss: 0.2706 - accuracy: 0.9930 - val_loss: 1.2189 - val_accuracy: 0.6111 - 19ms/epoch - 4ms/step\n",
      "Epoch 76/100\n",
      "5/5 - 0s - loss: 0.2661 - accuracy: 0.9930 - val_loss: 1.2171 - val_accuracy: 0.6111 - 19ms/epoch - 4ms/step\n",
      "Epoch 77/100\n",
      "5/5 - 0s - loss: 0.2613 - accuracy: 0.9930 - val_loss: 1.2180 - val_accuracy: 0.6111 - 19ms/epoch - 4ms/step\n",
      "Epoch 78/100\n",
      "5/5 - 0s - loss: 0.2579 - accuracy: 1.0000 - val_loss: 1.2170 - val_accuracy: 0.6111 - 20ms/epoch - 4ms/step\n",
      "Epoch 79/100\n",
      "5/5 - 0s - loss: 0.2535 - accuracy: 1.0000 - val_loss: 1.2236 - val_accuracy: 0.6111 - 19ms/epoch - 4ms/step\n",
      "Epoch 80/100\n",
      "5/5 - 0s - loss: 0.2484 - accuracy: 1.0000 - val_loss: 1.2353 - val_accuracy: 0.6111 - 19ms/epoch - 4ms/step\n",
      "Epoch 81/100\n",
      "5/5 - 0s - loss: 0.2440 - accuracy: 1.0000 - val_loss: 1.2384 - val_accuracy: 0.6111 - 20ms/epoch - 4ms/step\n",
      "Epoch 82/100\n",
      "5/5 - 0s - loss: 0.2403 - accuracy: 1.0000 - val_loss: 1.2361 - val_accuracy: 0.6111 - 20ms/epoch - 4ms/step\n",
      "Epoch 83/100\n",
      "5/5 - 0s - loss: 0.2357 - accuracy: 1.0000 - val_loss: 1.2361 - val_accuracy: 0.6111 - 19ms/epoch - 4ms/step\n",
      "Epoch 84/100\n",
      "5/5 - 0s - loss: 0.2330 - accuracy: 1.0000 - val_loss: 1.2248 - val_accuracy: 0.6111 - 19ms/epoch - 4ms/step\n",
      "Epoch 85/100\n",
      "5/5 - 0s - loss: 0.2280 - accuracy: 1.0000 - val_loss: 1.2259 - val_accuracy: 0.6111 - 18ms/epoch - 4ms/step\n",
      "Epoch 86/100\n",
      "5/5 - 0s - loss: 0.2247 - accuracy: 1.0000 - val_loss: 1.2348 - val_accuracy: 0.6111 - 18ms/epoch - 4ms/step\n",
      "Epoch 87/100\n",
      "5/5 - 0s - loss: 0.2211 - accuracy: 1.0000 - val_loss: 1.2371 - val_accuracy: 0.6111 - 20ms/epoch - 4ms/step\n",
      "Epoch 88/100\n",
      "5/5 - 0s - loss: 0.2173 - accuracy: 1.0000 - val_loss: 1.2362 - val_accuracy: 0.6111 - 20ms/epoch - 4ms/step\n",
      "Epoch 89/100\n",
      "5/5 - 0s - loss: 0.2145 - accuracy: 1.0000 - val_loss: 1.2278 - val_accuracy: 0.6111 - 21ms/epoch - 4ms/step\n",
      "Epoch 90/100\n",
      "5/5 - 0s - loss: 0.2109 - accuracy: 1.0000 - val_loss: 1.2328 - val_accuracy: 0.6111 - 19ms/epoch - 4ms/step\n",
      "Epoch 91/100\n",
      "5/5 - 0s - loss: 0.2079 - accuracy: 1.0000 - val_loss: 1.2328 - val_accuracy: 0.6111 - 20ms/epoch - 4ms/step\n",
      "Epoch 92/100\n",
      "5/5 - 0s - loss: 0.2044 - accuracy: 1.0000 - val_loss: 1.2290 - val_accuracy: 0.6111 - 19ms/epoch - 4ms/step\n",
      "Epoch 93/100\n",
      "5/5 - 0s - loss: 0.2007 - accuracy: 1.0000 - val_loss: 1.2256 - val_accuracy: 0.6111 - 19ms/epoch - 4ms/step\n",
      "Epoch 94/100\n",
      "5/5 - 0s - loss: 0.1978 - accuracy: 1.0000 - val_loss: 1.2298 - val_accuracy: 0.6111 - 19ms/epoch - 4ms/step\n",
      "Epoch 95/100\n",
      "5/5 - 0s - loss: 0.1961 - accuracy: 1.0000 - val_loss: 1.2345 - val_accuracy: 0.6111 - 20ms/epoch - 4ms/step\n",
      "Epoch 96/100\n",
      "5/5 - 0s - loss: 0.1928 - accuracy: 1.0000 - val_loss: 1.2354 - val_accuracy: 0.6111 - 20ms/epoch - 4ms/step\n",
      "Epoch 97/100\n",
      "5/5 - 0s - loss: 0.1899 - accuracy: 1.0000 - val_loss: 1.2293 - val_accuracy: 0.6111 - 19ms/epoch - 4ms/step\n",
      "Epoch 98/100\n",
      "5/5 - 0s - loss: 0.1859 - accuracy: 1.0000 - val_loss: 1.2302 - val_accuracy: 0.6111 - 19ms/epoch - 4ms/step\n",
      "Epoch 99/100\n",
      "5/5 - 0s - loss: 0.1837 - accuracy: 1.0000 - val_loss: 1.2369 - val_accuracy: 0.6111 - 19ms/epoch - 4ms/step\n",
      "Epoch 100/100\n",
      "5/5 - 0s - loss: 0.1812 - accuracy: 1.0000 - val_loss: 1.2363 - val_accuracy: 0.6111 - 19ms/epoch - 4ms/step\n"
     ]
    }
   ],
   "source": [
    "classifier = NNClassifier()\n",
    "history = classifier.train(trainX, trainY, devX, devY)"
   ]
  },
  {
   "cell_type": "markdown",
   "metadata": {},
   "source": [
    "## 2. Evaluating shallow feedforward neural network"
   ]
  },
  {
   "cell_type": "markdown",
   "metadata": {},
   "source": [
    "The *history* object returned by *train* function holds a record of the metric values during training."
   ]
  },
  {
   "cell_type": "code",
   "execution_count": 12,
   "metadata": {},
   "outputs": [
    {
     "name": "stdout",
     "output_type": "stream",
     "text": [
      "FNN train accuracy on BERT_CASED vectors: 1.0\n"
     ]
    }
   ],
   "source": [
    "nn_train_acc = history.history[\"accuracy\"][-1]\n",
    "print(f\"FNN train accuracy on {embName} vectors: {nn_train_acc}\")"
   ]
  },
  {
   "cell_type": "markdown",
   "metadata": {},
   "source": [
    "And measure the accuracy on the test set."
   ]
  },
  {
   "cell_type": "code",
   "execution_count": 13,
   "metadata": {},
   "outputs": [
    {
     "name": "stdout",
     "output_type": "stream",
     "text": [
      "1/1 [==============================] - 0s 46ms/step\n",
      "FFNN test accuracy on BERT_CASED vectors: 0.7222222222222222\n"
     ]
    }
   ],
   "source": [
    "res = classifier.predict(testX)\n",
    "nn_test_acc = evaluate(res, testY)\n",
    "print(f\"FFNN test accuracy on {embName} vectors: {nn_test_acc}\")"
   ]
  },
  {
   "cell_type": "markdown",
   "metadata": {},
   "source": [
    "For comparison we employ the nierest neighbor algorithm on the same data. We calculate the accuracy of classifying the sentence with the label corresponding to the closest sentence in the training data."
   ]
  },
  {
   "cell_type": "code",
   "execution_count": 14,
   "metadata": {},
   "outputs": [
    {
     "name": "stdout",
     "output_type": "stream",
     "text": [
      "Nearest neighbor test accuracy: 0.9027777777777778, train accuracy: 1.0\n"
     ]
    }
   ],
   "source": [
    "neigh = KNeighborsClassifier(n_neighbors=1)\n",
    "neigh.fit(trainX, trainY)\n",
    "res = neigh.predict(testX)\n",
    "neigh_test_acc = np.sum(res == testY)/len(testY[0])/len(testY)\n",
    "neigh_train_acc = neigh.score(trainX, trainY)\n",
    "print(f\"Nearest neighbor test accuracy: {neigh_test_acc}, train accuracy: {neigh_train_acc}\")"
   ]
  },
  {
   "cell_type": "markdown",
   "metadata": {},
   "source": [
    "Depending on random, the FNN classifier might perform better or worse (or the same) than the 1-nearest neighbor algorithm."
   ]
  },
  {
   "cell_type": "markdown",
   "metadata": {},
   "source": [
    "## 3. Training convolutional neural network classifier"
   ]
  },
  {
   "cell_type": "markdown",
   "metadata": {},
   "source": [
    "Now we load fastText word embeddings and train a convolutional network on them."
   ]
  },
  {
   "cell_type": "code",
   "execution_count": 15,
   "metadata": {
    "scrolled": true,
    "tags": []
   },
   "outputs": [
    {
     "name": "stdout",
     "output_type": "stream",
     "text": [
      "Global Phospholipids Industry\n",
      "August 4 coronavirus news\n",
      "Leon Fleisher obituary\n",
      "DraftKings Preview : Wyndham Championship\n",
      "Market Minute with Mary Weichert\n",
      "Global Gas Engines Industry\n",
      "The Caribbean Dilemma\n",
      "MartinLogan Motion 60XTi review\n",
      "Samsung Galaxy Watch3 Review\n",
      "Earnings Outlook For Walt Disney\n",
      "Global Antimicrobial Additives Industry\n",
      "Fantasy Insider : Wyndham Championship\n",
      "NY Current Conditions\n",
      "Two dead in Westville shooting\n",
      "Party official in land scam\n",
      "Audi developing dynamics superbrain\n",
      "The Super Mario Effect\n",
      "Stellar egg hunt\n",
      "Possible challenge of COVID-19 vaccination\n",
      "MSI Optix MAG161V Review\n",
      "Crucial P5 Review\n",
      "Global Booster Compressors Industry\n",
      "Razer Cynosa V2 Review\n",
      "Unjust jail reform\n",
      "Lenovo ThinkStation P520 Review\n",
      "The Zulum testimonies\n",
      "Spanish GP driver ratings\n",
      "WTA Race Standings\n",
      "August 7 coronavirus news\n",
      "Sony WH-1000XM4 review\n",
      "COVID-19 outbreak in Middle East\n",
      "Mars race rhetoric\n",
      "Daimler settlement over diesel emissions\n",
      "MSI Optix MAG321CURV Review\n",
      "Cooler Weather for the Weekend\n",
      "Saudi Telecom Company\n",
      "The Last unknown\n",
      "Illegal annexation day\n",
      "Global Laser Diodes Industry\n",
      "My natural prostate remedies\n",
      "The Trump Pandemic\n",
      "Foreign policy challenges\n",
      "ASEAN Morning Bytes\n",
      "Acuros extended SWIR camera\n",
      "Samsung Galaxy M31s Review\n",
      "Rare morning thunderstorms\n",
      "Flight Simulator Achievements list\n",
      "Metastatic Lung Cancer\n",
      "Tag Archives : Eric Garcia\n",
      "Redmi 9 Prime review\n",
      "Global Flavor Enhancers Industry\n",
      "Global Medical Gloves Industry\n",
      "AFL fans to the rescue\n",
      "Lower humidity on the way\n",
      "Indigenous vaccine in the making\n",
      "Fae Tactics Review\n",
      "Global Laminated Busbar Industry\n",
      "Eurovision fashion through the decades\n",
      "Nigel Weiss obituary\n",
      "Four lessons from bank results\n",
      "Tajik opposition movement\n",
      "Jabra Elite 45h Review\n",
      "Global Elemental Analysis Industry\n",
      "Sydney Lotterby obituary\n",
      "Perseid Meteor Shower\n",
      "The last aalap\n",
      "Cricket SA fire Appiah\n",
      "LG Xboom Go PL5 Review\n",
      "Indianapolis Motor Speedway\n",
      "Global Bacon Industry\n",
      "Indonesian Injured in Beirut Explosion\n",
      "Thursday morning video forecast\n",
      "Hisense 65H8 G Review\n",
      "Choppy waters for crude oil\n",
      "Global Geofoams Industry\n",
      "Global 3D Printers Industry\n",
      "2020 Lexus LX450d review\n",
      "Global Ethylene Glycol Industry\n",
      "Global Touchscreen Controllers Industry\n",
      "Savage Love - Savage Love\n",
      "Global Recycled Plastics Industry\n",
      "John Hume obituary\n",
      "Morning closure for magistrate courts\n",
      "back Movies For Your Monday\n",
      "Power Rankings : PGA Championship\n",
      "Coeur d'Alene Press\n",
      "Grading Pakistans August 5 gestures\n",
      "5 Questions : Alex Finkelstein\n",
      "Chris Smalling update\n",
      "Dell Latitude 7410 Chromebook\n",
      "Global Industrial Fabrics Industry\n",
      "Thermal displacement by marine heatwaves\n",
      "Coronavirus Live Updates\n",
      "Global Protein Alternatives Industry\n",
      "Football rumours from the media\n",
      "New Brunswick COVID-19 Update\n",
      "WordPress 5.5 - Easy Overview\n",
      "Breakingviews TV : Drug Deal\n",
      "Clearing confusion on asymptomatic spread\n",
      "Roger Williams obituary\n",
      "Atalanta v PSG updates\n",
      "Record Miles At Red Shores\n",
      "Global Stair Lifts Industry\n",
      "Quarterly dip in economic growth\n",
      "Samsung Galaxy Unpacked Contest\n",
      "Split Weekend For The Wiregrass\n",
      "André Ptaszynski obituary\n",
      "COVID scare for Victorian stable\n",
      "PMEX daily trading report\n",
      "Global Protective Eyewear Industry\n",
      "Global Sports Gloves Industry\n",
      "Disability inquiry on COVID-19 impact\n",
      "Albanian Daily News\n",
      "Little appetite for individual sacrifice\n",
      "Archie Young obituary\n",
      "Independence Day considerations\n",
      "Google Pixel 4a Review\n",
      "Global Ceramic Membrane Industry\n",
      "Global Forging Industry\n",
      "Official Website of the Tigers\n",
      "Mainstream HIV in national programmes\n",
      "Academy coaching update\n",
      "Southern Kaduna genocide\n",
      "Health experts on Covid-19 decongestion\n",
      "musculoskeletal injuries - Latest Stories\n",
      "Samsung Galaxy M31s review\n",
      "The best lip sunscreen\n",
      "Munster Rugby Statement\n",
      "Cut prediction : PGA Championship\n",
      "Linda Manz obituary\n",
      "Model Portfolio trades\n",
      "Microsoft Flight Simulator review\n",
      "Mars Eerie Pulsing Nightglow\n",
      "Bird restrictions in Golden Plains\n",
      "Global Ceramic Textiles Industry\n",
      "Civil Rights International\n",
      "Yellow Brick Road\n",
      "Samsung Galaxy Tab S7\n",
      "Global Black Pepper Industry\n",
      "Google Pixel 4a Preview\n",
      "Kandu Global Telecommunications\n",
      "TOUGH TIMES FOR TAGWIREI newsdzeZimbabweNewsdzeZimbabwe\n",
      "Featured Groups : Wyndham Championship\n",
      "Global Confectionery Packaging Industry\n",
      "Jalalabad jail attack\n",
      "Apple watchOS 7 preview\n",
      "Top performers of Super AU\n",
      "Explosive nuclear astrophysics\n",
      "TX Current Conditions\n",
      "Bugsnax gameplay trailer\n",
      "Roborock S6 MaxV review\n",
      "Sleeper Picks : Wyndham Championship\n",
      "The Talented Mr Erdogan\n",
      "HPV Vaccinations During Global Pandemic\n",
      "Casualty spoilers for August 15\n",
      "Global Automotive Belt Industry\n",
      "No new Covid cases\n",
      "Delayed Covid data drive\n",
      "Treasury Market Dissonance\n",
      "OnePlus Nord GCam review\n",
      "Core Meditation Trainer Review\n",
      "CP therapy for severe COVID-19\n",
      "CPEC Phase II\n",
      "Cheaper loans for communal farmers\n",
      "Brent Carver obituary\n",
      "Expert Picks : Wyndham Championship\n",
      "Stuart Christie obituary\n",
      "Steelmaker BlueScope in profit plunge\n",
      "The Umbrella Academy S2\n",
      "Global Otoscopes Industry\n",
      "Space bricks for lunar habitation\n",
      "Global Grow Lights Industry\n",
      "Closing Chapter for Baoshang Bank\n",
      "Monday traffic torment\n",
      "Skater XL review\n",
      "Record number of COVID-19 recoveries\n",
      "Global Egg Powder Industry\n",
      "Catherine the Great Facts\n",
      "Epoch 1/30\n",
      "5/5 - 0s - loss: 1.9937 - accuracy: 0.2183 - val_loss: 1.9217 - val_accuracy: 0.3889 - 441ms/epoch - 88ms/step\n",
      "Epoch 2/30\n",
      "5/5 - 0s - loss: 1.6937 - accuracy: 0.5423 - val_loss: 1.8600 - val_accuracy: 0.4444 - 30ms/epoch - 6ms/step\n",
      "Epoch 3/30\n",
      "5/5 - 0s - loss: 1.5100 - accuracy: 0.6197 - val_loss: 1.8339 - val_accuracy: 0.4444 - 27ms/epoch - 5ms/step\n",
      "Epoch 4/30\n",
      "5/5 - 0s - loss: 1.3702 - accuracy: 0.6479 - val_loss: 1.8131 - val_accuracy: 0.4444 - 29ms/epoch - 6ms/step\n",
      "Epoch 5/30\n",
      "5/5 - 0s - loss: 1.2433 - accuracy: 0.6620 - val_loss: 1.8048 - val_accuracy: 0.4444 - 28ms/epoch - 6ms/step\n",
      "Epoch 6/30\n",
      "5/5 - 0s - loss: 1.1277 - accuracy: 0.6972 - val_loss: 1.7913 - val_accuracy: 0.4444 - 28ms/epoch - 6ms/step\n",
      "Epoch 7/30\n",
      "5/5 - 0s - loss: 1.0117 - accuracy: 0.7465 - val_loss: 1.7808 - val_accuracy: 0.4444 - 27ms/epoch - 5ms/step\n",
      "Epoch 8/30\n",
      "5/5 - 0s - loss: 0.9244 - accuracy: 0.8099 - val_loss: 1.7676 - val_accuracy: 0.4444 - 28ms/epoch - 6ms/step\n",
      "Epoch 9/30\n",
      "5/5 - 0s - loss: 0.8378 - accuracy: 0.8451 - val_loss: 1.7666 - val_accuracy: 0.5556 - 28ms/epoch - 6ms/step\n",
      "Epoch 10/30\n",
      "5/5 - 0s - loss: 0.7712 - accuracy: 0.8873 - val_loss: 1.7729 - val_accuracy: 0.5000 - 27ms/epoch - 5ms/step\n",
      "Epoch 11/30\n",
      "5/5 - 0s - loss: 0.7102 - accuracy: 0.8732 - val_loss: 1.7827 - val_accuracy: 0.5000 - 28ms/epoch - 6ms/step\n",
      "Epoch 12/30\n",
      "5/5 - 0s - loss: 0.6389 - accuracy: 0.9014 - val_loss: 1.7884 - val_accuracy: 0.5000 - 28ms/epoch - 6ms/step\n",
      "Epoch 13/30\n",
      "5/5 - 0s - loss: 0.5724 - accuracy: 0.9296 - val_loss: 1.8025 - val_accuracy: 0.5556 - 28ms/epoch - 6ms/step\n",
      "Epoch 14/30\n",
      "5/5 - 0s - loss: 0.5177 - accuracy: 0.9437 - val_loss: 1.8198 - val_accuracy: 0.5556 - 28ms/epoch - 6ms/step\n",
      "Epoch 15/30\n",
      "5/5 - 0s - loss: 0.4733 - accuracy: 0.9507 - val_loss: 1.8380 - val_accuracy: 0.5556 - 27ms/epoch - 5ms/step\n",
      "Epoch 16/30\n",
      "5/5 - 0s - loss: 0.4506 - accuracy: 0.9577 - val_loss: 1.8668 - val_accuracy: 0.5556 - 28ms/epoch - 6ms/step\n",
      "Epoch 17/30\n",
      "5/5 - 0s - loss: 0.4137 - accuracy: 0.9718 - val_loss: 1.8946 - val_accuracy: 0.5556 - 27ms/epoch - 5ms/step\n",
      "Epoch 18/30\n",
      "5/5 - 0s - loss: 0.3723 - accuracy: 0.9718 - val_loss: 1.9081 - val_accuracy: 0.5556 - 28ms/epoch - 6ms/step\n",
      "Epoch 19/30\n",
      "5/5 - 0s - loss: 0.3298 - accuracy: 0.9859 - val_loss: 1.9358 - val_accuracy: 0.5556 - 27ms/epoch - 5ms/step\n",
      "Epoch 20/30\n",
      "5/5 - 0s - loss: 0.2964 - accuracy: 0.9859 - val_loss: 1.9584 - val_accuracy: 0.5556 - 27ms/epoch - 5ms/step\n",
      "Epoch 21/30\n",
      "5/5 - 0s - loss: 0.2880 - accuracy: 0.9930 - val_loss: 1.9758 - val_accuracy: 0.5000 - 28ms/epoch - 6ms/step\n",
      "Epoch 22/30\n",
      "5/5 - 0s - loss: 0.2498 - accuracy: 0.9859 - val_loss: 1.9934 - val_accuracy: 0.5000 - 28ms/epoch - 6ms/step\n",
      "Epoch 23/30\n",
      "5/5 - 0s - loss: 0.2495 - accuracy: 0.9789 - val_loss: 2.0100 - val_accuracy: 0.5000 - 27ms/epoch - 5ms/step\n",
      "Epoch 24/30\n",
      "5/5 - 0s - loss: 0.2121 - accuracy: 0.9930 - val_loss: 2.0207 - val_accuracy: 0.5000 - 28ms/epoch - 6ms/step\n",
      "Epoch 25/30\n",
      "5/5 - 0s - loss: 0.1981 - accuracy: 0.9930 - val_loss: 2.0418 - val_accuracy: 0.5000 - 27ms/epoch - 5ms/step\n",
      "Epoch 26/30\n",
      "5/5 - 0s - loss: 0.1956 - accuracy: 0.9859 - val_loss: 2.0582 - val_accuracy: 0.5000 - 29ms/epoch - 6ms/step\n"
     ]
    },
    {
     "name": "stdout",
     "output_type": "stream",
     "text": [
      "Epoch 27/30\n",
      "5/5 - 0s - loss: 0.1726 - accuracy: 0.9930 - val_loss: 2.0785 - val_accuracy: 0.5000 - 28ms/epoch - 6ms/step\n",
      "Epoch 28/30\n",
      "5/5 - 0s - loss: 0.1534 - accuracy: 0.9930 - val_loss: 2.0878 - val_accuracy: 0.5000 - 27ms/epoch - 5ms/step\n",
      "Epoch 29/30\n",
      "5/5 - 0s - loss: 0.1545 - accuracy: 0.9930 - val_loss: 2.1114 - val_accuracy: 0.5000 - 29ms/epoch - 6ms/step\n",
      "Epoch 30/30\n",
      "5/5 - 0s - loss: 0.1417 - accuracy: 0.9930 - val_loss: 2.1476 - val_accuracy: 0.5000 - 27ms/epoch - 5ms/step\n"
     ]
    }
   ],
   "source": [
    "data = loadData(f\"{datadir}/{dsName}_FASTTEXT.json\")\n",
    "\n",
    "maxLen = 6\n",
    "trainX, trainY, testX, testY, devX, devY = prepareTrainTestDevXYWords(data, maxLen,classify_by_field=\"class\")\n",
    "\n",
    "cnnclassifier = NNClassifier(model=\"CNN\", vectorSpaceSize=300)\n",
    "history = cnnclassifier.train(trainX, trainY, devX, devY)"
   ]
  },
  {
   "cell_type": "markdown",
   "metadata": {},
   "source": [
    "## 4. Evaluating convolutional neural network classifier"
   ]
  },
  {
   "cell_type": "code",
   "execution_count": 16,
   "metadata": {},
   "outputs": [
    {
     "name": "stdout",
     "output_type": "stream",
     "text": [
      "CNN train accuracy on fastText vectors: 0.9929577708244324\n"
     ]
    }
   ],
   "source": [
    "fasttext_nn_train_acc = history.history['accuracy'][-1]\n",
    "print(f\"CNN train accuracy on fastText vectors: {fasttext_nn_train_acc}\")"
   ]
  },
  {
   "cell_type": "code",
   "execution_count": 17,
   "metadata": {},
   "outputs": [
    {
     "name": "stdout",
     "output_type": "stream",
     "text": [
      "1/1 [==============================] - 0s 51ms/step\n",
      "CNN test accuracy on fastText vectors: 0.6111111111111112\n"
     ]
    }
   ],
   "source": [
    "res = cnnclassifier.predict(testX)\n",
    "fasttext_nn_test_acc = evaluate(res, testY)\n",
    "print(f\"CNN test accuracy on fastText vectors: {fasttext_nn_test_acc}\")"
   ]
  },
  {
   "cell_type": "markdown",
   "metadata": {},
   "source": [
    "## 5. Comparing results"
   ]
  },
  {
   "cell_type": "markdown",
   "metadata": {},
   "source": [
    "Now we will show results (train and test accuracies) in a chart."
   ]
  },
  {
   "cell_type": "code",
   "execution_count": 18,
   "metadata": {},
   "outputs": [],
   "source": [
    "import matplotlib.pyplot as plt\n",
    "plt.rcParams[\"figure.figsize\"] = (8,6)\n",
    "test_accs = [fasttext_nn_test_acc, neigh_test_acc, nn_test_acc]\n",
    "train_accs = [fasttext_nn_train_acc, neigh_train_acc, nn_train_acc]\n",
    "labels = [\"fastText CNN\",f\"{embName} nearest neighbors\", f\"{embName} NN\"]"
   ]
  },
  {
   "cell_type": "markdown",
   "metadata": {},
   "source": [
    "To compare results we will train models for other sentence embeddings as well."
   ]
  },
  {
   "cell_type": "code",
   "execution_count": 19,
   "metadata": {},
   "outputs": [
    {
     "name": "stdout",
     "output_type": "stream",
     "text": [
      "Epoch 1/100\n",
      "5/5 - 0s - loss: 2.3440 - accuracy: 0.1268 - val_loss: 1.9942 - val_accuracy: 0.2778 - 285ms/epoch - 57ms/step\n",
      "Epoch 2/100\n",
      "5/5 - 0s - loss: 1.8830 - accuracy: 0.3169 - val_loss: 1.8845 - val_accuracy: 0.2778 - 21ms/epoch - 4ms/step\n",
      "Epoch 3/100\n",
      "5/5 - 0s - loss: 1.7328 - accuracy: 0.3451 - val_loss: 1.8274 - val_accuracy: 0.3333 - 21ms/epoch - 4ms/step\n",
      "Epoch 4/100\n",
      "5/5 - 0s - loss: 1.6255 - accuracy: 0.4366 - val_loss: 1.7789 - val_accuracy: 0.3889 - 22ms/epoch - 4ms/step\n",
      "Epoch 5/100\n",
      "5/5 - 0s - loss: 1.5201 - accuracy: 0.5000 - val_loss: 1.7101 - val_accuracy: 0.3889 - 21ms/epoch - 4ms/step\n",
      "Epoch 6/100\n",
      "5/5 - 0s - loss: 1.4178 - accuracy: 0.5493 - val_loss: 1.6475 - val_accuracy: 0.4444 - 22ms/epoch - 4ms/step\n",
      "Epoch 7/100\n",
      "5/5 - 0s - loss: 1.3383 - accuracy: 0.5986 - val_loss: 1.5997 - val_accuracy: 0.4444 - 20ms/epoch - 4ms/step\n",
      "Epoch 8/100\n",
      "5/5 - 0s - loss: 1.2681 - accuracy: 0.6268 - val_loss: 1.5683 - val_accuracy: 0.5000 - 20ms/epoch - 4ms/step\n",
      "Epoch 9/100\n",
      "5/5 - 0s - loss: 1.2097 - accuracy: 0.6690 - val_loss: 1.5288 - val_accuracy: 0.5000 - 20ms/epoch - 4ms/step\n",
      "Epoch 10/100\n",
      "5/5 - 0s - loss: 1.1502 - accuracy: 0.6972 - val_loss: 1.5015 - val_accuracy: 0.5000 - 23ms/epoch - 5ms/step\n",
      "Epoch 11/100\n",
      "5/5 - 0s - loss: 1.0994 - accuracy: 0.7394 - val_loss: 1.4842 - val_accuracy: 0.5000 - 20ms/epoch - 4ms/step\n",
      "Epoch 12/100\n",
      "5/5 - 0s - loss: 1.0511 - accuracy: 0.7465 - val_loss: 1.4691 - val_accuracy: 0.5000 - 22ms/epoch - 4ms/step\n",
      "Epoch 13/100\n",
      "5/5 - 0s - loss: 1.0096 - accuracy: 0.7676 - val_loss: 1.4454 - val_accuracy: 0.5000 - 19ms/epoch - 4ms/step\n",
      "Epoch 14/100\n",
      "5/5 - 0s - loss: 0.9726 - accuracy: 0.7676 - val_loss: 1.4213 - val_accuracy: 0.5000 - 21ms/epoch - 4ms/step\n",
      "Epoch 15/100\n",
      "5/5 - 0s - loss: 0.9366 - accuracy: 0.7958 - val_loss: 1.3996 - val_accuracy: 0.5556 - 19ms/epoch - 4ms/step\n",
      "Epoch 16/100\n",
      "5/5 - 0s - loss: 0.9028 - accuracy: 0.7958 - val_loss: 1.3882 - val_accuracy: 0.5000 - 23ms/epoch - 5ms/step\n",
      "Epoch 17/100\n",
      "5/5 - 0s - loss: 0.8723 - accuracy: 0.8028 - val_loss: 1.3810 - val_accuracy: 0.5000 - 20ms/epoch - 4ms/step\n",
      "Epoch 18/100\n",
      "5/5 - 0s - loss: 0.8420 - accuracy: 0.8239 - val_loss: 1.3605 - val_accuracy: 0.5000 - 20ms/epoch - 4ms/step\n",
      "Epoch 19/100\n",
      "5/5 - 0s - loss: 0.8159 - accuracy: 0.8239 - val_loss: 1.3454 - val_accuracy: 0.5000 - 20ms/epoch - 4ms/step\n",
      "Epoch 20/100\n",
      "5/5 - 0s - loss: 0.7895 - accuracy: 0.8310 - val_loss: 1.3319 - val_accuracy: 0.5000 - 20ms/epoch - 4ms/step\n",
      "Epoch 21/100\n",
      "5/5 - 0s - loss: 0.7658 - accuracy: 0.8592 - val_loss: 1.3238 - val_accuracy: 0.5000 - 20ms/epoch - 4ms/step\n",
      "Epoch 22/100\n",
      "5/5 - 0s - loss: 0.7395 - accuracy: 0.8592 - val_loss: 1.3132 - val_accuracy: 0.5000 - 21ms/epoch - 4ms/step\n",
      "Epoch 23/100\n",
      "5/5 - 0s - loss: 0.7174 - accuracy: 0.8662 - val_loss: 1.3046 - val_accuracy: 0.5556 - 21ms/epoch - 4ms/step\n",
      "Epoch 24/100\n",
      "5/5 - 0s - loss: 0.6972 - accuracy: 0.8662 - val_loss: 1.2988 - val_accuracy: 0.5556 - 19ms/epoch - 4ms/step\n",
      "Epoch 25/100\n",
      "5/5 - 0s - loss: 0.6786 - accuracy: 0.8803 - val_loss: 1.2947 - val_accuracy: 0.5000 - 24ms/epoch - 5ms/step\n",
      "Epoch 26/100\n",
      "5/5 - 0s - loss: 0.6593 - accuracy: 0.8944 - val_loss: 1.2906 - val_accuracy: 0.5000 - 21ms/epoch - 4ms/step\n",
      "Epoch 27/100\n",
      "5/5 - 0s - loss: 0.6412 - accuracy: 0.9014 - val_loss: 1.2919 - val_accuracy: 0.5000 - 23ms/epoch - 5ms/step\n",
      "Epoch 28/100\n",
      "5/5 - 0s - loss: 0.6224 - accuracy: 0.9085 - val_loss: 1.2800 - val_accuracy: 0.5000 - 19ms/epoch - 4ms/step\n",
      "Epoch 29/100\n",
      "5/5 - 0s - loss: 0.6060 - accuracy: 0.9014 - val_loss: 1.2681 - val_accuracy: 0.5000 - 22ms/epoch - 4ms/step\n",
      "Epoch 30/100\n",
      "5/5 - 0s - loss: 0.5901 - accuracy: 0.9155 - val_loss: 1.2676 - val_accuracy: 0.5556 - 20ms/epoch - 4ms/step\n",
      "Epoch 31/100\n",
      "5/5 - 0s - loss: 0.5733 - accuracy: 0.9155 - val_loss: 1.2716 - val_accuracy: 0.5556 - 21ms/epoch - 4ms/step\n",
      "Epoch 32/100\n",
      "5/5 - 0s - loss: 0.5585 - accuracy: 0.9155 - val_loss: 1.2748 - val_accuracy: 0.5556 - 18ms/epoch - 4ms/step\n",
      "Epoch 33/100\n",
      "5/5 - 0s - loss: 0.5452 - accuracy: 0.9155 - val_loss: 1.2710 - val_accuracy: 0.5000 - 21ms/epoch - 4ms/step\n",
      "Epoch 34/100\n",
      "5/5 - 0s - loss: 0.5315 - accuracy: 0.9225 - val_loss: 1.2565 - val_accuracy: 0.5000 - 20ms/epoch - 4ms/step\n",
      "Epoch 35/100\n",
      "5/5 - 0s - loss: 0.5170 - accuracy: 0.9225 - val_loss: 1.2496 - val_accuracy: 0.5000 - 20ms/epoch - 4ms/step\n",
      "Epoch 36/100\n",
      "5/5 - 0s - loss: 0.5042 - accuracy: 0.9225 - val_loss: 1.2538 - val_accuracy: 0.5000 - 22ms/epoch - 4ms/step\n",
      "Epoch 37/100\n",
      "5/5 - 0s - loss: 0.4934 - accuracy: 0.9225 - val_loss: 1.2528 - val_accuracy: 0.5556 - 20ms/epoch - 4ms/step\n",
      "Epoch 38/100\n",
      "5/5 - 0s - loss: 0.4811 - accuracy: 0.9296 - val_loss: 1.2528 - val_accuracy: 0.5556 - 21ms/epoch - 4ms/step\n",
      "Epoch 39/100\n",
      "5/5 - 0s - loss: 0.4687 - accuracy: 0.9366 - val_loss: 1.2454 - val_accuracy: 0.5556 - 19ms/epoch - 4ms/step\n",
      "Epoch 40/100\n",
      "5/5 - 0s - loss: 0.4581 - accuracy: 0.9437 - val_loss: 1.2371 - val_accuracy: 0.5556 - 21ms/epoch - 4ms/step\n",
      "Epoch 41/100\n",
      "5/5 - 0s - loss: 0.4479 - accuracy: 0.9437 - val_loss: 1.2428 - val_accuracy: 0.5556 - 20ms/epoch - 4ms/step\n",
      "Epoch 42/100\n",
      "5/5 - 0s - loss: 0.4371 - accuracy: 0.9507 - val_loss: 1.2487 - val_accuracy: 0.5556 - 22ms/epoch - 4ms/step\n",
      "Epoch 43/100\n",
      "5/5 - 0s - loss: 0.4260 - accuracy: 0.9577 - val_loss: 1.2459 - val_accuracy: 0.5556 - 19ms/epoch - 4ms/step\n",
      "Epoch 44/100\n",
      "5/5 - 0s - loss: 0.4176 - accuracy: 0.9577 - val_loss: 1.2410 - val_accuracy: 0.5556 - 21ms/epoch - 4ms/step\n",
      "Epoch 45/100\n",
      "5/5 - 0s - loss: 0.4081 - accuracy: 0.9507 - val_loss: 1.2377 - val_accuracy: 0.5556 - 19ms/epoch - 4ms/step\n",
      "Epoch 46/100\n",
      "5/5 - 0s - loss: 0.3993 - accuracy: 0.9577 - val_loss: 1.2385 - val_accuracy: 0.5556 - 20ms/epoch - 4ms/step\n",
      "Epoch 47/100\n",
      "5/5 - 0s - loss: 0.3903 - accuracy: 0.9648 - val_loss: 1.2422 - val_accuracy: 0.5556 - 20ms/epoch - 4ms/step\n",
      "Epoch 48/100\n",
      "5/5 - 0s - loss: 0.3822 - accuracy: 0.9577 - val_loss: 1.2481 - val_accuracy: 0.5556 - 19ms/epoch - 4ms/step\n",
      "Epoch 49/100\n",
      "5/5 - 0s - loss: 0.3737 - accuracy: 0.9577 - val_loss: 1.2478 - val_accuracy: 0.5556 - 21ms/epoch - 4ms/step\n",
      "Epoch 50/100\n",
      "5/5 - 0s - loss: 0.3662 - accuracy: 0.9577 - val_loss: 1.2483 - val_accuracy: 0.5556 - 19ms/epoch - 4ms/step\n",
      "Epoch 51/100\n",
      "5/5 - 0s - loss: 0.3596 - accuracy: 0.9577 - val_loss: 1.2446 - val_accuracy: 0.5556 - 21ms/epoch - 4ms/step\n",
      "Epoch 52/100\n",
      "5/5 - 0s - loss: 0.3516 - accuracy: 0.9577 - val_loss: 1.2340 - val_accuracy: 0.5556 - 19ms/epoch - 4ms/step\n",
      "Epoch 53/100\n",
      "5/5 - 0s - loss: 0.3440 - accuracy: 0.9648 - val_loss: 1.2271 - val_accuracy: 0.5556 - 21ms/epoch - 4ms/step\n",
      "Epoch 54/100\n",
      "5/5 - 0s - loss: 0.3368 - accuracy: 0.9648 - val_loss: 1.2185 - val_accuracy: 0.5556 - 20ms/epoch - 4ms/step\n",
      "Epoch 55/100\n",
      "5/5 - 0s - loss: 0.3304 - accuracy: 0.9648 - val_loss: 1.2181 - val_accuracy: 0.5556 - 21ms/epoch - 4ms/step\n",
      "Epoch 56/100\n",
      "5/5 - 0s - loss: 0.3244 - accuracy: 0.9648 - val_loss: 1.2184 - val_accuracy: 0.5556 - 19ms/epoch - 4ms/step\n",
      "Epoch 57/100\n",
      "5/5 - 0s - loss: 0.3177 - accuracy: 0.9648 - val_loss: 1.2211 - val_accuracy: 0.5000 - 19ms/epoch - 4ms/step\n",
      "Epoch 58/100\n",
      "5/5 - 0s - loss: 0.3107 - accuracy: 0.9718 - val_loss: 1.2272 - val_accuracy: 0.5000 - 19ms/epoch - 4ms/step\n",
      "Epoch 59/100\n",
      "5/5 - 0s - loss: 0.3040 - accuracy: 0.9648 - val_loss: 1.2266 - val_accuracy: 0.5556 - 19ms/epoch - 4ms/step\n",
      "Epoch 60/100\n",
      "5/5 - 0s - loss: 0.2983 - accuracy: 0.9648 - val_loss: 1.2307 - val_accuracy: 0.5000 - 20ms/epoch - 4ms/step\n",
      "Epoch 61/100\n",
      "5/5 - 0s - loss: 0.2933 - accuracy: 0.9648 - val_loss: 1.2323 - val_accuracy: 0.5000 - 19ms/epoch - 4ms/step\n",
      "Epoch 62/100\n",
      "5/5 - 0s - loss: 0.2871 - accuracy: 0.9648 - val_loss: 1.2305 - val_accuracy: 0.5000 - 20ms/epoch - 4ms/step\n",
      "Epoch 63/100\n",
      "5/5 - 0s - loss: 0.2824 - accuracy: 0.9648 - val_loss: 1.2261 - val_accuracy: 0.4444 - 20ms/epoch - 4ms/step\n",
      "Epoch 64/100\n",
      "5/5 - 0s - loss: 0.2770 - accuracy: 0.9718 - val_loss: 1.2206 - val_accuracy: 0.4444 - 20ms/epoch - 4ms/step\n",
      "Epoch 65/100\n",
      "5/5 - 0s - loss: 0.2719 - accuracy: 0.9718 - val_loss: 1.2196 - val_accuracy: 0.5000 - 18ms/epoch - 4ms/step\n",
      "Epoch 66/100\n",
      "5/5 - 0s - loss: 0.2670 - accuracy: 0.9718 - val_loss: 1.2216 - val_accuracy: 0.5000 - 20ms/epoch - 4ms/step\n",
      "Epoch 67/100\n",
      "5/5 - 0s - loss: 0.2623 - accuracy: 0.9718 - val_loss: 1.2194 - val_accuracy: 0.4444 - 19ms/epoch - 4ms/step\n",
      "Epoch 68/100\n",
      "5/5 - 0s - loss: 0.2577 - accuracy: 0.9718 - val_loss: 1.2210 - val_accuracy: 0.4444 - 18ms/epoch - 4ms/step\n"
     ]
    },
    {
     "name": "stdout",
     "output_type": "stream",
     "text": [
      "Epoch 69/100\n",
      "5/5 - 0s - loss: 0.2533 - accuracy: 0.9718 - val_loss: 1.2133 - val_accuracy: 0.4444 - 19ms/epoch - 4ms/step\n",
      "Epoch 70/100\n",
      "5/5 - 0s - loss: 0.2482 - accuracy: 0.9718 - val_loss: 1.2084 - val_accuracy: 0.4444 - 19ms/epoch - 4ms/step\n",
      "Epoch 71/100\n",
      "5/5 - 0s - loss: 0.2447 - accuracy: 0.9718 - val_loss: 1.2099 - val_accuracy: 0.4444 - 20ms/epoch - 4ms/step\n",
      "Epoch 72/100\n",
      "5/5 - 0s - loss: 0.2398 - accuracy: 0.9789 - val_loss: 1.2046 - val_accuracy: 0.4444 - 19ms/epoch - 4ms/step\n",
      "Epoch 73/100\n",
      "5/5 - 0s - loss: 0.2363 - accuracy: 0.9789 - val_loss: 1.2102 - val_accuracy: 0.4444 - 19ms/epoch - 4ms/step\n",
      "Epoch 74/100\n",
      "5/5 - 0s - loss: 0.2320 - accuracy: 0.9789 - val_loss: 1.2127 - val_accuracy: 0.4444 - 19ms/epoch - 4ms/step\n",
      "Epoch 75/100\n",
      "5/5 - 0s - loss: 0.2287 - accuracy: 0.9789 - val_loss: 1.2185 - val_accuracy: 0.4444 - 19ms/epoch - 4ms/step\n",
      "Epoch 76/100\n",
      "5/5 - 0s - loss: 0.2239 - accuracy: 0.9789 - val_loss: 1.2210 - val_accuracy: 0.4444 - 19ms/epoch - 4ms/step\n",
      "Epoch 77/100\n",
      "5/5 - 0s - loss: 0.2203 - accuracy: 0.9789 - val_loss: 1.2243 - val_accuracy: 0.5000 - 19ms/epoch - 4ms/step\n",
      "Epoch 78/100\n",
      "5/5 - 0s - loss: 0.2170 - accuracy: 0.9789 - val_loss: 1.2226 - val_accuracy: 0.5000 - 19ms/epoch - 4ms/step\n",
      "Epoch 79/100\n",
      "5/5 - 0s - loss: 0.2134 - accuracy: 0.9789 - val_loss: 1.2193 - val_accuracy: 0.5000 - 19ms/epoch - 4ms/step\n",
      "Epoch 80/100\n",
      "5/5 - 0s - loss: 0.2103 - accuracy: 0.9859 - val_loss: 1.2205 - val_accuracy: 0.5000 - 20ms/epoch - 4ms/step\n",
      "Epoch 81/100\n",
      "5/5 - 0s - loss: 0.2075 - accuracy: 0.9859 - val_loss: 1.2239 - val_accuracy: 0.4444 - 21ms/epoch - 4ms/step\n",
      "Epoch 82/100\n",
      "5/5 - 0s - loss: 0.2046 - accuracy: 0.9930 - val_loss: 1.2252 - val_accuracy: 0.4444 - 19ms/epoch - 4ms/step\n",
      "Epoch 83/100\n",
      "5/5 - 0s - loss: 0.2007 - accuracy: 0.9930 - val_loss: 1.2268 - val_accuracy: 0.4444 - 19ms/epoch - 4ms/step\n",
      "Epoch 84/100\n",
      "5/5 - 0s - loss: 0.1970 - accuracy: 0.9930 - val_loss: 1.2255 - val_accuracy: 0.4444 - 19ms/epoch - 4ms/step\n",
      "Epoch 85/100\n",
      "5/5 - 0s - loss: 0.1936 - accuracy: 0.9930 - val_loss: 1.2273 - val_accuracy: 0.4444 - 19ms/epoch - 4ms/step\n",
      "Epoch 86/100\n",
      "5/5 - 0s - loss: 0.1915 - accuracy: 0.9859 - val_loss: 1.2268 - val_accuracy: 0.4444 - 18ms/epoch - 4ms/step\n",
      "Epoch 87/100\n",
      "5/5 - 0s - loss: 0.1886 - accuracy: 0.9859 - val_loss: 1.2312 - val_accuracy: 0.4444 - 18ms/epoch - 4ms/step\n",
      "Epoch 88/100\n",
      "5/5 - 0s - loss: 0.1856 - accuracy: 0.9859 - val_loss: 1.2285 - val_accuracy: 0.4444 - 19ms/epoch - 4ms/step\n",
      "Epoch 89/100\n",
      "5/5 - 0s - loss: 0.1821 - accuracy: 0.9930 - val_loss: 1.2256 - val_accuracy: 0.4444 - 19ms/epoch - 4ms/step\n",
      "Epoch 90/100\n",
      "5/5 - 0s - loss: 0.1801 - accuracy: 0.9930 - val_loss: 1.2297 - val_accuracy: 0.4444 - 19ms/epoch - 4ms/step\n",
      "Epoch 91/100\n",
      "5/5 - 0s - loss: 0.1771 - accuracy: 0.9930 - val_loss: 1.2290 - val_accuracy: 0.4444 - 20ms/epoch - 4ms/step\n",
      "Epoch 92/100\n",
      "5/5 - 0s - loss: 0.1750 - accuracy: 0.9930 - val_loss: 1.2309 - val_accuracy: 0.4444 - 19ms/epoch - 4ms/step\n",
      "Epoch 93/100\n",
      "5/5 - 0s - loss: 0.1721 - accuracy: 0.9930 - val_loss: 1.2327 - val_accuracy: 0.4444 - 20ms/epoch - 4ms/step\n",
      "Epoch 94/100\n",
      "5/5 - 0s - loss: 0.1690 - accuracy: 0.9930 - val_loss: 1.2314 - val_accuracy: 0.4444 - 18ms/epoch - 4ms/step\n",
      "Epoch 95/100\n",
      "5/5 - 0s - loss: 0.1670 - accuracy: 0.9930 - val_loss: 1.2268 - val_accuracy: 0.5000 - 19ms/epoch - 4ms/step\n",
      "Epoch 96/100\n",
      "5/5 - 0s - loss: 0.1653 - accuracy: 0.9930 - val_loss: 1.2254 - val_accuracy: 0.5000 - 19ms/epoch - 4ms/step\n",
      "Epoch 97/100\n",
      "5/5 - 0s - loss: 0.1623 - accuracy: 1.0000 - val_loss: 1.2192 - val_accuracy: 0.5000 - 20ms/epoch - 4ms/step\n",
      "Epoch 98/100\n",
      "5/5 - 0s - loss: 0.1600 - accuracy: 0.9930 - val_loss: 1.2072 - val_accuracy: 0.4444 - 19ms/epoch - 4ms/step\n",
      "Epoch 99/100\n",
      "5/5 - 0s - loss: 0.1577 - accuracy: 0.9930 - val_loss: 1.2084 - val_accuracy: 0.4444 - 19ms/epoch - 4ms/step\n",
      "Epoch 100/100\n",
      "5/5 - 0s - loss: 0.1557 - accuracy: 0.9930 - val_loss: 1.2153 - val_accuracy: 0.4444 - 18ms/epoch - 4ms/step\n",
      "1/1 [==============================] - 0s 25ms/step\n",
      "Epoch 1/100\n",
      "5/5 - 0s - loss: 2.0772 - accuracy: 0.1268 - val_loss: 2.0546 - val_accuracy: 0.2778 - 360ms/epoch - 72ms/step\n",
      "Epoch 2/100\n",
      "5/5 - 0s - loss: 2.0438 - accuracy: 0.2887 - val_loss: 2.0331 - val_accuracy: 0.4444 - 21ms/epoch - 4ms/step\n",
      "Epoch 3/100\n",
      "5/5 - 0s - loss: 2.0135 - accuracy: 0.5070 - val_loss: 2.0122 - val_accuracy: 0.4444 - 19ms/epoch - 4ms/step\n",
      "Epoch 4/100\n",
      "5/5 - 0s - loss: 1.9838 - accuracy: 0.6197 - val_loss: 1.9916 - val_accuracy: 0.5556 - 18ms/epoch - 4ms/step\n",
      "Epoch 5/100\n",
      "5/5 - 0s - loss: 1.9549 - accuracy: 0.6549 - val_loss: 1.9717 - val_accuracy: 0.5556 - 20ms/epoch - 4ms/step\n",
      "Epoch 6/100\n",
      "5/5 - 0s - loss: 1.9268 - accuracy: 0.6620 - val_loss: 1.9522 - val_accuracy: 0.5556 - 20ms/epoch - 4ms/step\n",
      "Epoch 7/100\n",
      "5/5 - 0s - loss: 1.8991 - accuracy: 0.6761 - val_loss: 1.9337 - val_accuracy: 0.5556 - 19ms/epoch - 4ms/step\n",
      "Epoch 8/100\n",
      "5/5 - 0s - loss: 1.8712 - accuracy: 0.6831 - val_loss: 1.9159 - val_accuracy: 0.5556 - 20ms/epoch - 4ms/step\n",
      "Epoch 9/100\n",
      "5/5 - 0s - loss: 1.8447 - accuracy: 0.7042 - val_loss: 1.8979 - val_accuracy: 0.5556 - 19ms/epoch - 4ms/step\n",
      "Epoch 10/100\n",
      "5/5 - 0s - loss: 1.8180 - accuracy: 0.7183 - val_loss: 1.8798 - val_accuracy: 0.6111 - 20ms/epoch - 4ms/step\n",
      "Epoch 11/100\n",
      "5/5 - 0s - loss: 1.7920 - accuracy: 0.7113 - val_loss: 1.8620 - val_accuracy: 0.6111 - 19ms/epoch - 4ms/step\n",
      "Epoch 12/100\n",
      "5/5 - 0s - loss: 1.7661 - accuracy: 0.7183 - val_loss: 1.8450 - val_accuracy: 0.6111 - 20ms/epoch - 4ms/step\n",
      "Epoch 13/100\n",
      "5/5 - 0s - loss: 1.7414 - accuracy: 0.7183 - val_loss: 1.8284 - val_accuracy: 0.6111 - 20ms/epoch - 4ms/step\n",
      "Epoch 14/100\n",
      "5/5 - 0s - loss: 1.7169 - accuracy: 0.7254 - val_loss: 1.8119 - val_accuracy: 0.6667 - 20ms/epoch - 4ms/step\n",
      "Epoch 15/100\n",
      "5/5 - 0s - loss: 1.6925 - accuracy: 0.7254 - val_loss: 1.7963 - val_accuracy: 0.6667 - 18ms/epoch - 4ms/step\n",
      "Epoch 16/100\n",
      "5/5 - 0s - loss: 1.6691 - accuracy: 0.7254 - val_loss: 1.7810 - val_accuracy: 0.6111 - 19ms/epoch - 4ms/step\n",
      "Epoch 17/100\n",
      "5/5 - 0s - loss: 1.6461 - accuracy: 0.7254 - val_loss: 1.7662 - val_accuracy: 0.6111 - 21ms/epoch - 4ms/step\n",
      "Epoch 18/100\n",
      "5/5 - 0s - loss: 1.6235 - accuracy: 0.7324 - val_loss: 1.7514 - val_accuracy: 0.6111 - 20ms/epoch - 4ms/step\n",
      "Epoch 19/100\n",
      "5/5 - 0s - loss: 1.6011 - accuracy: 0.7394 - val_loss: 1.7368 - val_accuracy: 0.6111 - 22ms/epoch - 4ms/step\n",
      "Epoch 20/100\n",
      "5/5 - 0s - loss: 1.5789 - accuracy: 0.7394 - val_loss: 1.7225 - val_accuracy: 0.6111 - 19ms/epoch - 4ms/step\n",
      "Epoch 21/100\n",
      "5/5 - 0s - loss: 1.5577 - accuracy: 0.7535 - val_loss: 1.7082 - val_accuracy: 0.6111 - 19ms/epoch - 4ms/step\n",
      "Epoch 22/100\n",
      "5/5 - 0s - loss: 1.5366 - accuracy: 0.7535 - val_loss: 1.6943 - val_accuracy: 0.5556 - 18ms/epoch - 4ms/step\n",
      "Epoch 23/100\n",
      "5/5 - 0s - loss: 1.5162 - accuracy: 0.7606 - val_loss: 1.6814 - val_accuracy: 0.5556 - 20ms/epoch - 4ms/step\n",
      "Epoch 24/100\n",
      "5/5 - 0s - loss: 1.4962 - accuracy: 0.7606 - val_loss: 1.6683 - val_accuracy: 0.5556 - 20ms/epoch - 4ms/step\n",
      "Epoch 25/100\n",
      "5/5 - 0s - loss: 1.4766 - accuracy: 0.7676 - val_loss: 1.6553 - val_accuracy: 0.5556 - 18ms/epoch - 4ms/step\n",
      "Epoch 26/100\n",
      "5/5 - 0s - loss: 1.4570 - accuracy: 0.7746 - val_loss: 1.6433 - val_accuracy: 0.5556 - 20ms/epoch - 4ms/step\n",
      "Epoch 27/100\n",
      "5/5 - 0s - loss: 1.4388 - accuracy: 0.7746 - val_loss: 1.6307 - val_accuracy: 0.5556 - 19ms/epoch - 4ms/step\n",
      "Epoch 28/100\n",
      "5/5 - 0s - loss: 1.4203 - accuracy: 0.7817 - val_loss: 1.6186 - val_accuracy: 0.6111 - 19ms/epoch - 4ms/step\n",
      "Epoch 29/100\n",
      "5/5 - 0s - loss: 1.4022 - accuracy: 0.7817 - val_loss: 1.6073 - val_accuracy: 0.6111 - 18ms/epoch - 4ms/step\n",
      "Epoch 30/100\n",
      "5/5 - 0s - loss: 1.3849 - accuracy: 0.7817 - val_loss: 1.5962 - val_accuracy: 0.6111 - 20ms/epoch - 4ms/step\n",
      "Epoch 31/100\n",
      "5/5 - 0s - loss: 1.3674 - accuracy: 0.7817 - val_loss: 1.5851 - val_accuracy: 0.6111 - 19ms/epoch - 4ms/step\n",
      "Epoch 32/100\n",
      "5/5 - 0s - loss: 1.3505 - accuracy: 0.8028 - val_loss: 1.5740 - val_accuracy: 0.6111 - 20ms/epoch - 4ms/step\n",
      "Epoch 33/100\n",
      "5/5 - 0s - loss: 1.3337 - accuracy: 0.8028 - val_loss: 1.5638 - val_accuracy: 0.6111 - 19ms/epoch - 4ms/step\n",
      "Epoch 34/100\n",
      "5/5 - 0s - loss: 1.3173 - accuracy: 0.8028 - val_loss: 1.5535 - val_accuracy: 0.6111 - 20ms/epoch - 4ms/step\n",
      "Epoch 35/100\n",
      "5/5 - 0s - loss: 1.3017 - accuracy: 0.8028 - val_loss: 1.5438 - val_accuracy: 0.6111 - 20ms/epoch - 4ms/step\n"
     ]
    },
    {
     "name": "stdout",
     "output_type": "stream",
     "text": [
      "Epoch 36/100\n",
      "5/5 - 0s - loss: 1.2859 - accuracy: 0.8028 - val_loss: 1.5341 - val_accuracy: 0.6111 - 18ms/epoch - 4ms/step\n",
      "Epoch 37/100\n",
      "5/5 - 0s - loss: 1.2708 - accuracy: 0.8099 - val_loss: 1.5249 - val_accuracy: 0.6111 - 19ms/epoch - 4ms/step\n",
      "Epoch 38/100\n",
      "5/5 - 0s - loss: 1.2557 - accuracy: 0.8099 - val_loss: 1.5160 - val_accuracy: 0.6111 - 19ms/epoch - 4ms/step\n",
      "Epoch 39/100\n",
      "5/5 - 0s - loss: 1.2411 - accuracy: 0.8169 - val_loss: 1.5074 - val_accuracy: 0.6111 - 20ms/epoch - 4ms/step\n",
      "Epoch 40/100\n",
      "5/5 - 0s - loss: 1.2268 - accuracy: 0.8239 - val_loss: 1.4989 - val_accuracy: 0.6111 - 19ms/epoch - 4ms/step\n",
      "Epoch 41/100\n",
      "5/5 - 0s - loss: 1.2128 - accuracy: 0.8239 - val_loss: 1.4905 - val_accuracy: 0.6111 - 19ms/epoch - 4ms/step\n",
      "Epoch 42/100\n",
      "5/5 - 0s - loss: 1.1992 - accuracy: 0.8239 - val_loss: 1.4822 - val_accuracy: 0.6111 - 19ms/epoch - 4ms/step\n",
      "Epoch 43/100\n",
      "5/5 - 0s - loss: 1.1855 - accuracy: 0.8239 - val_loss: 1.4741 - val_accuracy: 0.6111 - 19ms/epoch - 4ms/step\n",
      "Epoch 44/100\n",
      "5/5 - 0s - loss: 1.1723 - accuracy: 0.8239 - val_loss: 1.4661 - val_accuracy: 0.6111 - 20ms/epoch - 4ms/step\n",
      "Epoch 45/100\n",
      "5/5 - 0s - loss: 1.1592 - accuracy: 0.8310 - val_loss: 1.4584 - val_accuracy: 0.6111 - 19ms/epoch - 4ms/step\n",
      "Epoch 46/100\n",
      "5/5 - 0s - loss: 1.1463 - accuracy: 0.8310 - val_loss: 1.4506 - val_accuracy: 0.6111 - 21ms/epoch - 4ms/step\n",
      "Epoch 47/100\n",
      "5/5 - 0s - loss: 1.1338 - accuracy: 0.8380 - val_loss: 1.4432 - val_accuracy: 0.6111 - 19ms/epoch - 4ms/step\n",
      "Epoch 48/100\n",
      "5/5 - 0s - loss: 1.1215 - accuracy: 0.8380 - val_loss: 1.4355 - val_accuracy: 0.6111 - 19ms/epoch - 4ms/step\n",
      "Epoch 49/100\n",
      "5/5 - 0s - loss: 1.1094 - accuracy: 0.8380 - val_loss: 1.4280 - val_accuracy: 0.6111 - 19ms/epoch - 4ms/step\n",
      "Epoch 50/100\n",
      "5/5 - 0s - loss: 1.0976 - accuracy: 0.8451 - val_loss: 1.4209 - val_accuracy: 0.6111 - 20ms/epoch - 4ms/step\n",
      "Epoch 51/100\n",
      "5/5 - 0s - loss: 1.0856 - accuracy: 0.8521 - val_loss: 1.4143 - val_accuracy: 0.6111 - 20ms/epoch - 4ms/step\n",
      "Epoch 52/100\n",
      "5/5 - 0s - loss: 1.0742 - accuracy: 0.8521 - val_loss: 1.4074 - val_accuracy: 0.6111 - 20ms/epoch - 4ms/step\n",
      "Epoch 53/100\n",
      "5/5 - 0s - loss: 1.0629 - accuracy: 0.8592 - val_loss: 1.4008 - val_accuracy: 0.6111 - 20ms/epoch - 4ms/step\n",
      "Epoch 54/100\n",
      "5/5 - 0s - loss: 1.0517 - accuracy: 0.8662 - val_loss: 1.3940 - val_accuracy: 0.6111 - 20ms/epoch - 4ms/step\n",
      "Epoch 55/100\n",
      "5/5 - 0s - loss: 1.0409 - accuracy: 0.8732 - val_loss: 1.3877 - val_accuracy: 0.6111 - 19ms/epoch - 4ms/step\n",
      "Epoch 56/100\n",
      "5/5 - 0s - loss: 1.0301 - accuracy: 0.8732 - val_loss: 1.3814 - val_accuracy: 0.6111 - 18ms/epoch - 4ms/step\n",
      "Epoch 57/100\n",
      "5/5 - 0s - loss: 1.0195 - accuracy: 0.8732 - val_loss: 1.3754 - val_accuracy: 0.6111 - 19ms/epoch - 4ms/step\n",
      "Epoch 58/100\n",
      "5/5 - 0s - loss: 1.0090 - accuracy: 0.8732 - val_loss: 1.3694 - val_accuracy: 0.6111 - 19ms/epoch - 4ms/step\n",
      "Epoch 59/100\n",
      "5/5 - 0s - loss: 0.9989 - accuracy: 0.8803 - val_loss: 1.3637 - val_accuracy: 0.6111 - 18ms/epoch - 4ms/step\n",
      "Epoch 60/100\n",
      "5/5 - 0s - loss: 0.9888 - accuracy: 0.8803 - val_loss: 1.3581 - val_accuracy: 0.6111 - 20ms/epoch - 4ms/step\n",
      "Epoch 61/100\n",
      "5/5 - 0s - loss: 0.9787 - accuracy: 0.8803 - val_loss: 1.3529 - val_accuracy: 0.6111 - 19ms/epoch - 4ms/step\n",
      "Epoch 62/100\n",
      "5/5 - 0s - loss: 0.9691 - accuracy: 0.8873 - val_loss: 1.3477 - val_accuracy: 0.6111 - 20ms/epoch - 4ms/step\n",
      "Epoch 63/100\n",
      "5/5 - 0s - loss: 0.9594 - accuracy: 0.8873 - val_loss: 1.3428 - val_accuracy: 0.6111 - 19ms/epoch - 4ms/step\n",
      "Epoch 64/100\n",
      "5/5 - 0s - loss: 0.9498 - accuracy: 0.8873 - val_loss: 1.3377 - val_accuracy: 0.6111 - 19ms/epoch - 4ms/step\n",
      "Epoch 65/100\n",
      "5/5 - 0s - loss: 0.9406 - accuracy: 0.9014 - val_loss: 1.3327 - val_accuracy: 0.6111 - 19ms/epoch - 4ms/step\n",
      "Epoch 66/100\n",
      "5/5 - 0s - loss: 0.9316 - accuracy: 0.9014 - val_loss: 1.3280 - val_accuracy: 0.6111 - 20ms/epoch - 4ms/step\n",
      "Epoch 67/100\n",
      "5/5 - 0s - loss: 0.9223 - accuracy: 0.9014 - val_loss: 1.3233 - val_accuracy: 0.6111 - 20ms/epoch - 4ms/step\n",
      "Epoch 68/100\n",
      "5/5 - 0s - loss: 0.9133 - accuracy: 0.9014 - val_loss: 1.3185 - val_accuracy: 0.5556 - 21ms/epoch - 4ms/step\n",
      "Epoch 69/100\n",
      "5/5 - 0s - loss: 0.9045 - accuracy: 0.9014 - val_loss: 1.3138 - val_accuracy: 0.5556 - 19ms/epoch - 4ms/step\n",
      "Epoch 70/100\n",
      "5/5 - 0s - loss: 0.8960 - accuracy: 0.9085 - val_loss: 1.3089 - val_accuracy: 0.5556 - 19ms/epoch - 4ms/step\n",
      "Epoch 71/100\n",
      "5/5 - 0s - loss: 0.8873 - accuracy: 0.9085 - val_loss: 1.3041 - val_accuracy: 0.5556 - 18ms/epoch - 4ms/step\n",
      "Epoch 72/100\n",
      "5/5 - 0s - loss: 0.8789 - accuracy: 0.9085 - val_loss: 1.2992 - val_accuracy: 0.5556 - 18ms/epoch - 4ms/step\n",
      "Epoch 73/100\n",
      "5/5 - 0s - loss: 0.8705 - accuracy: 0.9085 - val_loss: 1.2949 - val_accuracy: 0.5556 - 20ms/epoch - 4ms/step\n",
      "Epoch 74/100\n",
      "5/5 - 0s - loss: 0.8625 - accuracy: 0.9085 - val_loss: 1.2909 - val_accuracy: 0.5556 - 19ms/epoch - 4ms/step\n",
      "Epoch 75/100\n",
      "5/5 - 0s - loss: 0.8543 - accuracy: 0.9085 - val_loss: 1.2871 - val_accuracy: 0.5556 - 20ms/epoch - 4ms/step\n",
      "Epoch 76/100\n",
      "5/5 - 0s - loss: 0.8464 - accuracy: 0.9085 - val_loss: 1.2829 - val_accuracy: 0.5556 - 19ms/epoch - 4ms/step\n",
      "Epoch 77/100\n",
      "5/5 - 0s - loss: 0.8386 - accuracy: 0.9085 - val_loss: 1.2789 - val_accuracy: 0.5556 - 20ms/epoch - 4ms/step\n",
      "Epoch 78/100\n",
      "5/5 - 0s - loss: 0.8308 - accuracy: 0.9085 - val_loss: 1.2746 - val_accuracy: 0.5556 - 20ms/epoch - 4ms/step\n",
      "Epoch 79/100\n",
      "5/5 - 0s - loss: 0.8233 - accuracy: 0.9085 - val_loss: 1.2703 - val_accuracy: 0.5556 - 19ms/epoch - 4ms/step\n",
      "Epoch 80/100\n",
      "5/5 - 0s - loss: 0.8158 - accuracy: 0.9085 - val_loss: 1.2666 - val_accuracy: 0.5556 - 21ms/epoch - 4ms/step\n",
      "Epoch 81/100\n",
      "5/5 - 0s - loss: 0.8083 - accuracy: 0.9155 - val_loss: 1.2630 - val_accuracy: 0.5556 - 19ms/epoch - 4ms/step\n",
      "Epoch 82/100\n",
      "5/5 - 0s - loss: 0.8010 - accuracy: 0.9155 - val_loss: 1.2593 - val_accuracy: 0.6111 - 19ms/epoch - 4ms/step\n",
      "Epoch 83/100\n",
      "5/5 - 0s - loss: 0.7937 - accuracy: 0.9225 - val_loss: 1.2555 - val_accuracy: 0.6111 - 20ms/epoch - 4ms/step\n",
      "Epoch 84/100\n",
      "5/5 - 0s - loss: 0.7867 - accuracy: 0.9225 - val_loss: 1.2520 - val_accuracy: 0.6111 - 20ms/epoch - 4ms/step\n",
      "Epoch 85/100\n",
      "5/5 - 0s - loss: 0.7799 - accuracy: 0.9225 - val_loss: 1.2485 - val_accuracy: 0.6111 - 20ms/epoch - 4ms/step\n",
      "Epoch 86/100\n",
      "5/5 - 0s - loss: 0.7730 - accuracy: 0.9225 - val_loss: 1.2449 - val_accuracy: 0.6111 - 19ms/epoch - 4ms/step\n",
      "Epoch 87/100\n",
      "5/5 - 0s - loss: 0.7661 - accuracy: 0.9225 - val_loss: 1.2412 - val_accuracy: 0.6111 - 19ms/epoch - 4ms/step\n",
      "Epoch 88/100\n",
      "5/5 - 0s - loss: 0.7594 - accuracy: 0.9225 - val_loss: 1.2375 - val_accuracy: 0.6111 - 19ms/epoch - 4ms/step\n",
      "Epoch 89/100\n",
      "5/5 - 0s - loss: 0.7528 - accuracy: 0.9225 - val_loss: 1.2341 - val_accuracy: 0.6111 - 19ms/epoch - 4ms/step\n",
      "Epoch 90/100\n",
      "5/5 - 0s - loss: 0.7462 - accuracy: 0.9225 - val_loss: 1.2308 - val_accuracy: 0.6111 - 20ms/epoch - 4ms/step\n",
      "Epoch 91/100\n",
      "5/5 - 0s - loss: 0.7398 - accuracy: 0.9296 - val_loss: 1.2275 - val_accuracy: 0.6111 - 19ms/epoch - 4ms/step\n",
      "Epoch 92/100\n",
      "5/5 - 0s - loss: 0.7334 - accuracy: 0.9296 - val_loss: 1.2243 - val_accuracy: 0.6111 - 20ms/epoch - 4ms/step\n",
      "Epoch 93/100\n",
      "5/5 - 0s - loss: 0.7271 - accuracy: 0.9296 - val_loss: 1.2211 - val_accuracy: 0.6111 - 20ms/epoch - 4ms/step\n",
      "Epoch 94/100\n",
      "5/5 - 0s - loss: 0.7208 - accuracy: 0.9296 - val_loss: 1.2180 - val_accuracy: 0.6111 - 21ms/epoch - 4ms/step\n",
      "Epoch 95/100\n",
      "5/5 - 0s - loss: 0.7147 - accuracy: 0.9296 - val_loss: 1.2151 - val_accuracy: 0.6111 - 18ms/epoch - 4ms/step\n",
      "Epoch 96/100\n",
      "5/5 - 0s - loss: 0.7084 - accuracy: 0.9296 - val_loss: 1.2124 - val_accuracy: 0.6111 - 19ms/epoch - 4ms/step\n",
      "Epoch 97/100\n",
      "5/5 - 0s - loss: 0.7026 - accuracy: 0.9296 - val_loss: 1.2096 - val_accuracy: 0.6111 - 18ms/epoch - 4ms/step\n",
      "Epoch 98/100\n",
      "5/5 - 0s - loss: 0.6966 - accuracy: 0.9366 - val_loss: 1.2068 - val_accuracy: 0.6111 - 19ms/epoch - 4ms/step\n",
      "Epoch 99/100\n",
      "5/5 - 0s - loss: 0.6908 - accuracy: 0.9366 - val_loss: 1.2040 - val_accuracy: 0.6111 - 20ms/epoch - 4ms/step\n",
      "Epoch 100/100\n",
      "5/5 - 0s - loss: 0.6850 - accuracy: 0.9366 - val_loss: 1.2014 - val_accuracy: 0.6111 - 20ms/epoch - 4ms/step\n",
      "1/1 [==============================] - 0s 23ms/step\n",
      "Epoch 1/100\n",
      "5/5 - 0s - loss: 2.0745 - accuracy: 0.1620 - val_loss: 2.0586 - val_accuracy: 0.2778 - 283ms/epoch - 57ms/step\n",
      "Epoch 2/100\n",
      "5/5 - 0s - loss: 2.0401 - accuracy: 0.3662 - val_loss: 2.0391 - val_accuracy: 0.3889 - 20ms/epoch - 4ms/step\n"
     ]
    },
    {
     "name": "stdout",
     "output_type": "stream",
     "text": [
      "Epoch 3/100\n",
      "5/5 - 0s - loss: 2.0092 - accuracy: 0.5634 - val_loss: 2.0202 - val_accuracy: 0.4444 - 19ms/epoch - 4ms/step\n",
      "Epoch 4/100\n",
      "5/5 - 0s - loss: 1.9785 - accuracy: 0.6338 - val_loss: 2.0028 - val_accuracy: 0.4444 - 20ms/epoch - 4ms/step\n",
      "Epoch 5/100\n",
      "5/5 - 0s - loss: 1.9489 - accuracy: 0.7042 - val_loss: 1.9852 - val_accuracy: 0.5000 - 20ms/epoch - 4ms/step\n",
      "Epoch 6/100\n",
      "5/5 - 0s - loss: 1.9191 - accuracy: 0.7254 - val_loss: 1.9685 - val_accuracy: 0.5000 - 20ms/epoch - 4ms/step\n",
      "Epoch 7/100\n",
      "5/5 - 0s - loss: 1.8899 - accuracy: 0.7324 - val_loss: 1.9525 - val_accuracy: 0.5556 - 19ms/epoch - 4ms/step\n",
      "Epoch 8/100\n",
      "5/5 - 0s - loss: 1.8627 - accuracy: 0.7465 - val_loss: 1.9360 - val_accuracy: 0.5556 - 19ms/epoch - 4ms/step\n",
      "Epoch 9/100\n",
      "5/5 - 0s - loss: 1.8338 - accuracy: 0.7606 - val_loss: 1.9197 - val_accuracy: 0.5000 - 20ms/epoch - 4ms/step\n",
      "Epoch 10/100\n",
      "5/5 - 0s - loss: 1.8066 - accuracy: 0.7676 - val_loss: 1.9038 - val_accuracy: 0.5000 - 19ms/epoch - 4ms/step\n",
      "Epoch 11/100\n",
      "5/5 - 0s - loss: 1.7797 - accuracy: 0.7676 - val_loss: 1.8885 - val_accuracy: 0.5000 - 20ms/epoch - 4ms/step\n",
      "Epoch 12/100\n",
      "5/5 - 0s - loss: 1.7541 - accuracy: 0.7676 - val_loss: 1.8738 - val_accuracy: 0.5000 - 19ms/epoch - 4ms/step\n",
      "Epoch 13/100\n",
      "5/5 - 0s - loss: 1.7281 - accuracy: 0.7817 - val_loss: 1.8593 - val_accuracy: 0.6111 - 22ms/epoch - 4ms/step\n",
      "Epoch 14/100\n",
      "5/5 - 0s - loss: 1.7030 - accuracy: 0.7817 - val_loss: 1.8458 - val_accuracy: 0.6111 - 22ms/epoch - 4ms/step\n",
      "Epoch 15/100\n",
      "5/5 - 0s - loss: 1.6788 - accuracy: 0.7958 - val_loss: 1.8325 - val_accuracy: 0.6111 - 22ms/epoch - 4ms/step\n",
      "Epoch 16/100\n",
      "5/5 - 0s - loss: 1.6546 - accuracy: 0.7958 - val_loss: 1.8189 - val_accuracy: 0.6111 - 20ms/epoch - 4ms/step\n",
      "Epoch 17/100\n",
      "5/5 - 0s - loss: 1.6304 - accuracy: 0.7958 - val_loss: 1.8054 - val_accuracy: 0.5556 - 19ms/epoch - 4ms/step\n",
      "Epoch 18/100\n",
      "5/5 - 0s - loss: 1.6072 - accuracy: 0.7958 - val_loss: 1.7921 - val_accuracy: 0.5556 - 19ms/epoch - 4ms/step\n",
      "Epoch 19/100\n",
      "5/5 - 0s - loss: 1.5845 - accuracy: 0.7958 - val_loss: 1.7792 - val_accuracy: 0.5556 - 21ms/epoch - 4ms/step\n",
      "Epoch 20/100\n",
      "5/5 - 0s - loss: 1.5621 - accuracy: 0.8028 - val_loss: 1.7660 - val_accuracy: 0.5556 - 21ms/epoch - 4ms/step\n",
      "Epoch 21/100\n",
      "5/5 - 0s - loss: 1.5401 - accuracy: 0.8028 - val_loss: 1.7530 - val_accuracy: 0.5556 - 19ms/epoch - 4ms/step\n",
      "Epoch 22/100\n",
      "5/5 - 0s - loss: 1.5189 - accuracy: 0.8028 - val_loss: 1.7407 - val_accuracy: 0.5556 - 19ms/epoch - 4ms/step\n",
      "Epoch 23/100\n",
      "5/5 - 0s - loss: 1.4979 - accuracy: 0.8028 - val_loss: 1.7290 - val_accuracy: 0.5556 - 19ms/epoch - 4ms/step\n",
      "Epoch 24/100\n",
      "5/5 - 0s - loss: 1.4775 - accuracy: 0.8028 - val_loss: 1.7175 - val_accuracy: 0.5556 - 19ms/epoch - 4ms/step\n",
      "Epoch 25/100\n",
      "5/5 - 0s - loss: 1.4575 - accuracy: 0.8028 - val_loss: 1.7064 - val_accuracy: 0.5556 - 19ms/epoch - 4ms/step\n",
      "Epoch 26/100\n",
      "5/5 - 0s - loss: 1.4385 - accuracy: 0.8099 - val_loss: 1.6956 - val_accuracy: 0.5556 - 20ms/epoch - 4ms/step\n",
      "Epoch 27/100\n",
      "5/5 - 0s - loss: 1.4194 - accuracy: 0.8099 - val_loss: 1.6855 - val_accuracy: 0.5556 - 19ms/epoch - 4ms/step\n",
      "Epoch 28/100\n",
      "5/5 - 0s - loss: 1.4004 - accuracy: 0.8310 - val_loss: 1.6753 - val_accuracy: 0.5556 - 19ms/epoch - 4ms/step\n",
      "Epoch 29/100\n",
      "5/5 - 0s - loss: 1.3825 - accuracy: 0.8310 - val_loss: 1.6654 - val_accuracy: 0.5556 - 20ms/epoch - 4ms/step\n",
      "Epoch 30/100\n",
      "5/5 - 0s - loss: 1.3643 - accuracy: 0.8310 - val_loss: 1.6559 - val_accuracy: 0.5556 - 19ms/epoch - 4ms/step\n",
      "Epoch 31/100\n",
      "5/5 - 0s - loss: 1.3471 - accuracy: 0.8310 - val_loss: 1.6469 - val_accuracy: 0.5556 - 20ms/epoch - 4ms/step\n",
      "Epoch 32/100\n",
      "5/5 - 0s - loss: 1.3297 - accuracy: 0.8310 - val_loss: 1.6380 - val_accuracy: 0.5556 - 19ms/epoch - 4ms/step\n",
      "Epoch 33/100\n",
      "5/5 - 0s - loss: 1.3132 - accuracy: 0.8310 - val_loss: 1.6293 - val_accuracy: 0.5556 - 19ms/epoch - 4ms/step\n",
      "Epoch 34/100\n",
      "5/5 - 0s - loss: 1.2969 - accuracy: 0.8310 - val_loss: 1.6207 - val_accuracy: 0.5556 - 19ms/epoch - 4ms/step\n",
      "Epoch 35/100\n",
      "5/5 - 0s - loss: 1.2812 - accuracy: 0.8310 - val_loss: 1.6122 - val_accuracy: 0.5556 - 19ms/epoch - 4ms/step\n",
      "Epoch 36/100\n",
      "5/5 - 0s - loss: 1.2653 - accuracy: 0.8310 - val_loss: 1.6041 - val_accuracy: 0.5556 - 18ms/epoch - 4ms/step\n",
      "Epoch 37/100\n",
      "5/5 - 0s - loss: 1.2500 - accuracy: 0.8380 - val_loss: 1.5963 - val_accuracy: 0.5556 - 20ms/epoch - 4ms/step\n",
      "Epoch 38/100\n",
      "5/5 - 0s - loss: 1.2352 - accuracy: 0.8380 - val_loss: 1.5890 - val_accuracy: 0.5556 - 19ms/epoch - 4ms/step\n",
      "Epoch 39/100\n",
      "5/5 - 0s - loss: 1.2201 - accuracy: 0.8380 - val_loss: 1.5818 - val_accuracy: 0.5556 - 18ms/epoch - 4ms/step\n",
      "Epoch 40/100\n",
      "5/5 - 0s - loss: 1.2062 - accuracy: 0.8380 - val_loss: 1.5746 - val_accuracy: 0.5556 - 20ms/epoch - 4ms/step\n",
      "Epoch 41/100\n",
      "5/5 - 0s - loss: 1.1917 - accuracy: 0.8380 - val_loss: 1.5677 - val_accuracy: 0.5556 - 19ms/epoch - 4ms/step\n",
      "Epoch 42/100\n",
      "5/5 - 0s - loss: 1.1779 - accuracy: 0.8380 - val_loss: 1.5609 - val_accuracy: 0.5556 - 20ms/epoch - 4ms/step\n",
      "Epoch 43/100\n",
      "5/5 - 0s - loss: 1.1644 - accuracy: 0.8380 - val_loss: 1.5544 - val_accuracy: 0.5556 - 18ms/epoch - 4ms/step\n",
      "Epoch 44/100\n",
      "5/5 - 0s - loss: 1.1510 - accuracy: 0.8380 - val_loss: 1.5481 - val_accuracy: 0.5556 - 20ms/epoch - 4ms/step\n",
      "Epoch 45/100\n",
      "5/5 - 0s - loss: 1.1381 - accuracy: 0.8521 - val_loss: 1.5418 - val_accuracy: 0.5556 - 19ms/epoch - 4ms/step\n",
      "Epoch 46/100\n",
      "5/5 - 0s - loss: 1.1251 - accuracy: 0.8521 - val_loss: 1.5358 - val_accuracy: 0.5556 - 20ms/epoch - 4ms/step\n",
      "Epoch 47/100\n",
      "5/5 - 0s - loss: 1.1126 - accuracy: 0.8521 - val_loss: 1.5299 - val_accuracy: 0.5556 - 20ms/epoch - 4ms/step\n",
      "Epoch 48/100\n",
      "5/5 - 0s - loss: 1.1002 - accuracy: 0.8521 - val_loss: 1.5240 - val_accuracy: 0.5556 - 19ms/epoch - 4ms/step\n",
      "Epoch 49/100\n",
      "5/5 - 0s - loss: 1.0882 - accuracy: 0.8521 - val_loss: 1.5186 - val_accuracy: 0.5556 - 20ms/epoch - 4ms/step\n",
      "Epoch 50/100\n",
      "5/5 - 0s - loss: 1.0762 - accuracy: 0.8521 - val_loss: 1.5132 - val_accuracy: 0.5556 - 19ms/epoch - 4ms/step\n",
      "Epoch 51/100\n",
      "5/5 - 0s - loss: 1.0645 - accuracy: 0.8521 - val_loss: 1.5077 - val_accuracy: 0.5556 - 21ms/epoch - 4ms/step\n",
      "Epoch 52/100\n",
      "5/5 - 0s - loss: 1.0532 - accuracy: 0.8592 - val_loss: 1.5021 - val_accuracy: 0.5556 - 19ms/epoch - 4ms/step\n",
      "Epoch 53/100\n",
      "5/5 - 0s - loss: 1.0418 - accuracy: 0.8592 - val_loss: 1.4973 - val_accuracy: 0.5556 - 19ms/epoch - 4ms/step\n",
      "Epoch 54/100\n",
      "5/5 - 0s - loss: 1.0308 - accuracy: 0.8592 - val_loss: 1.4925 - val_accuracy: 0.5556 - 19ms/epoch - 4ms/step\n",
      "Epoch 55/100\n",
      "5/5 - 0s - loss: 1.0201 - accuracy: 0.8592 - val_loss: 1.4873 - val_accuracy: 0.5556 - 19ms/epoch - 4ms/step\n",
      "Epoch 56/100\n",
      "5/5 - 0s - loss: 1.0093 - accuracy: 0.8592 - val_loss: 1.4825 - val_accuracy: 0.5556 - 19ms/epoch - 4ms/step\n",
      "Epoch 57/100\n",
      "5/5 - 0s - loss: 0.9989 - accuracy: 0.8662 - val_loss: 1.4776 - val_accuracy: 0.5556 - 20ms/epoch - 4ms/step\n",
      "Epoch 58/100\n",
      "5/5 - 0s - loss: 0.9886 - accuracy: 0.8662 - val_loss: 1.4730 - val_accuracy: 0.5556 - 19ms/epoch - 4ms/step\n",
      "Epoch 59/100\n",
      "5/5 - 0s - loss: 0.9785 - accuracy: 0.8732 - val_loss: 1.4684 - val_accuracy: 0.5556 - 21ms/epoch - 4ms/step\n",
      "Epoch 60/100\n",
      "5/5 - 0s - loss: 0.9685 - accuracy: 0.8732 - val_loss: 1.4637 - val_accuracy: 0.5556 - 19ms/epoch - 4ms/step\n",
      "Epoch 61/100\n",
      "5/5 - 0s - loss: 0.9588 - accuracy: 0.8732 - val_loss: 1.4595 - val_accuracy: 0.5556 - 18ms/epoch - 4ms/step\n",
      "Epoch 62/100\n",
      "5/5 - 0s - loss: 0.9491 - accuracy: 0.8803 - val_loss: 1.4548 - val_accuracy: 0.5556 - 20ms/epoch - 4ms/step\n",
      "Epoch 63/100\n",
      "5/5 - 0s - loss: 0.9397 - accuracy: 0.8803 - val_loss: 1.4507 - val_accuracy: 0.5556 - 19ms/epoch - 4ms/step\n",
      "Epoch 64/100\n",
      "5/5 - 0s - loss: 0.9302 - accuracy: 0.8803 - val_loss: 1.4469 - val_accuracy: 0.5556 - 19ms/epoch - 4ms/step\n",
      "Epoch 65/100\n",
      "5/5 - 0s - loss: 0.9211 - accuracy: 0.8873 - val_loss: 1.4428 - val_accuracy: 0.5556 - 20ms/epoch - 4ms/step\n",
      "Epoch 66/100\n",
      "5/5 - 0s - loss: 0.9120 - accuracy: 0.8873 - val_loss: 1.4390 - val_accuracy: 0.5556 - 19ms/epoch - 4ms/step\n",
      "Epoch 67/100\n",
      "5/5 - 0s - loss: 0.9032 - accuracy: 0.8873 - val_loss: 1.4351 - val_accuracy: 0.5556 - 19ms/epoch - 4ms/step\n",
      "Epoch 68/100\n",
      "5/5 - 0s - loss: 0.8946 - accuracy: 0.8873 - val_loss: 1.4313 - val_accuracy: 0.5556 - 20ms/epoch - 4ms/step\n",
      "Epoch 69/100\n",
      "5/5 - 0s - loss: 0.8858 - accuracy: 0.8873 - val_loss: 1.4274 - val_accuracy: 0.5556 - 20ms/epoch - 4ms/step\n",
      "Epoch 70/100\n",
      "5/5 - 0s - loss: 0.8775 - accuracy: 0.8873 - val_loss: 1.4237 - val_accuracy: 0.5556 - 19ms/epoch - 4ms/step\n"
     ]
    },
    {
     "name": "stdout",
     "output_type": "stream",
     "text": [
      "Epoch 71/100\n",
      "5/5 - 0s - loss: 0.8691 - accuracy: 0.8873 - val_loss: 1.4203 - val_accuracy: 0.5556 - 20ms/epoch - 4ms/step\n",
      "Epoch 72/100\n",
      "5/5 - 0s - loss: 0.8608 - accuracy: 0.8944 - val_loss: 1.4172 - val_accuracy: 0.5556 - 19ms/epoch - 4ms/step\n",
      "Epoch 73/100\n",
      "5/5 - 0s - loss: 0.8527 - accuracy: 0.8944 - val_loss: 1.4137 - val_accuracy: 0.5556 - 21ms/epoch - 4ms/step\n",
      "Epoch 74/100\n",
      "5/5 - 0s - loss: 0.8446 - accuracy: 0.8944 - val_loss: 1.4105 - val_accuracy: 0.5556 - 19ms/epoch - 4ms/step\n",
      "Epoch 75/100\n",
      "5/5 - 0s - loss: 0.8368 - accuracy: 0.8944 - val_loss: 1.4070 - val_accuracy: 0.5556 - 19ms/epoch - 4ms/step\n",
      "Epoch 76/100\n",
      "5/5 - 0s - loss: 0.8290 - accuracy: 0.8944 - val_loss: 1.4039 - val_accuracy: 0.5556 - 17ms/epoch - 3ms/step\n",
      "Epoch 77/100\n",
      "5/5 - 0s - loss: 0.8213 - accuracy: 0.8944 - val_loss: 1.4010 - val_accuracy: 0.5556 - 18ms/epoch - 4ms/step\n",
      "Epoch 78/100\n",
      "5/5 - 0s - loss: 0.8136 - accuracy: 0.8944 - val_loss: 1.3980 - val_accuracy: 0.5556 - 21ms/epoch - 4ms/step\n",
      "Epoch 79/100\n",
      "5/5 - 0s - loss: 0.8063 - accuracy: 0.8944 - val_loss: 1.3950 - val_accuracy: 0.5556 - 19ms/epoch - 4ms/step\n",
      "Epoch 80/100\n",
      "5/5 - 0s - loss: 0.7987 - accuracy: 0.9014 - val_loss: 1.3919 - val_accuracy: 0.5556 - 20ms/epoch - 4ms/step\n",
      "Epoch 81/100\n",
      "5/5 - 0s - loss: 0.7915 - accuracy: 0.9014 - val_loss: 1.3892 - val_accuracy: 0.5556 - 19ms/epoch - 4ms/step\n",
      "Epoch 82/100\n",
      "5/5 - 0s - loss: 0.7843 - accuracy: 0.9014 - val_loss: 1.3864 - val_accuracy: 0.5556 - 20ms/epoch - 4ms/step\n",
      "Epoch 83/100\n",
      "5/5 - 0s - loss: 0.7773 - accuracy: 0.9085 - val_loss: 1.3837 - val_accuracy: 0.5556 - 19ms/epoch - 4ms/step\n",
      "Epoch 84/100\n",
      "5/5 - 0s - loss: 0.7703 - accuracy: 0.9225 - val_loss: 1.3808 - val_accuracy: 0.5556 - 20ms/epoch - 4ms/step\n",
      "Epoch 85/100\n",
      "5/5 - 0s - loss: 0.7634 - accuracy: 0.9225 - val_loss: 1.3777 - val_accuracy: 0.5556 - 19ms/epoch - 4ms/step\n",
      "Epoch 86/100\n",
      "5/5 - 0s - loss: 0.7565 - accuracy: 0.9225 - val_loss: 1.3754 - val_accuracy: 0.5556 - 19ms/epoch - 4ms/step\n",
      "Epoch 87/100\n",
      "5/5 - 0s - loss: 0.7498 - accuracy: 0.9225 - val_loss: 1.3731 - val_accuracy: 0.5556 - 20ms/epoch - 4ms/step\n",
      "Epoch 88/100\n",
      "5/5 - 0s - loss: 0.7433 - accuracy: 0.9225 - val_loss: 1.3705 - val_accuracy: 0.5556 - 18ms/epoch - 4ms/step\n",
      "Epoch 89/100\n",
      "5/5 - 0s - loss: 0.7368 - accuracy: 0.9225 - val_loss: 1.3681 - val_accuracy: 0.5556 - 19ms/epoch - 4ms/step\n",
      "Epoch 90/100\n",
      "5/5 - 0s - loss: 0.7302 - accuracy: 0.9296 - val_loss: 1.3658 - val_accuracy: 0.5556 - 20ms/epoch - 4ms/step\n",
      "Epoch 91/100\n",
      "5/5 - 0s - loss: 0.7239 - accuracy: 0.9296 - val_loss: 1.3637 - val_accuracy: 0.5556 - 19ms/epoch - 4ms/step\n",
      "Epoch 92/100\n",
      "5/5 - 0s - loss: 0.7176 - accuracy: 0.9296 - val_loss: 1.3614 - val_accuracy: 0.5556 - 19ms/epoch - 4ms/step\n",
      "Epoch 93/100\n",
      "5/5 - 0s - loss: 0.7112 - accuracy: 0.9296 - val_loss: 1.3591 - val_accuracy: 0.5556 - 19ms/epoch - 4ms/step\n",
      "Epoch 94/100\n",
      "5/5 - 0s - loss: 0.7051 - accuracy: 0.9366 - val_loss: 1.3571 - val_accuracy: 0.5556 - 19ms/epoch - 4ms/step\n",
      "Epoch 95/100\n",
      "5/5 - 0s - loss: 0.6990 - accuracy: 0.9366 - val_loss: 1.3550 - val_accuracy: 0.5556 - 19ms/epoch - 4ms/step\n",
      "Epoch 96/100\n",
      "5/5 - 0s - loss: 0.6930 - accuracy: 0.9366 - val_loss: 1.3530 - val_accuracy: 0.5556 - 19ms/epoch - 4ms/step\n",
      "Epoch 97/100\n",
      "5/5 - 0s - loss: 0.6871 - accuracy: 0.9366 - val_loss: 1.3513 - val_accuracy: 0.5556 - 19ms/epoch - 4ms/step\n",
      "Epoch 98/100\n",
      "5/5 - 0s - loss: 0.6813 - accuracy: 0.9366 - val_loss: 1.3494 - val_accuracy: 0.5556 - 20ms/epoch - 4ms/step\n",
      "Epoch 99/100\n",
      "5/5 - 0s - loss: 0.6754 - accuracy: 0.9366 - val_loss: 1.3472 - val_accuracy: 0.5556 - 19ms/epoch - 4ms/step\n",
      "Epoch 100/100\n",
      "5/5 - 0s - loss: 0.6698 - accuracy: 0.9366 - val_loss: 1.3451 - val_accuracy: 0.5556 - 20ms/epoch - 4ms/step\n",
      "WARNING:tensorflow:5 out of the last 5 calls to <function Model.make_predict_function.<locals>.predict_function at 0x0000026E22E65CF0> triggered tf.function retracing. Tracing is expensive and the excessive number of tracings could be due to (1) creating @tf.function repeatedly in a loop, (2) passing tensors with different shapes, (3) passing Python objects instead of tensors. For (1), please define your @tf.function outside of the loop. For (2), @tf.function has reduce_retracing=True option that can avoid unnecessary retracing. For (3), please refer to https://www.tensorflow.org/guide/function#controlling_retracing and https://www.tensorflow.org/api_docs/python/tf/function for  more details.\n",
      "1/1 [==============================] - 0s 25ms/step\n"
     ]
    }
   ],
   "source": [
    "for currEmb in ['BERT_UNCASED', 'all-distilroberta', 'all-mpnet-base']:\n",
    "    data = loadData(f\"{datadir}/{dsName}_{currEmb}.json\")\n",
    "    trainX, trainY, testX, testY, devX, devY = prepareTrainTestDevXYSentence(data,classify_by_field=\"class\")\n",
    "\n",
    "    currclassifier = NNClassifier()\n",
    "    history = currclassifier.train(trainX, trainY, devX, devY)\n",
    "\n",
    "    labels.append(f\"{currEmb} NN\")\n",
    "    curr_train_acc = history.history[\"accuracy\"][-1]\n",
    "    train_accs.append(curr_train_acc)\n",
    "    \n",
    "    res = currclassifier.predict(testX)\n",
    "    curr_test_acc = evaluate(res, testY)\n",
    "    test_accs.append(curr_test_acc)"
   ]
  },
  {
   "cell_type": "markdown",
   "metadata": {},
   "source": [
    "All results are presented in the bar chart."
   ]
  },
  {
   "cell_type": "code",
   "execution_count": 20,
   "metadata": {},
   "outputs": [
    {
     "data": {
      "image/png": "[encoded data removed]",
      "text/plain": [
       "<Figure size 800x600 with 1 Axes>"
      ]
     },
     "metadata": {},
     "output_type": "display_data"
    }
   ],
   "source": [
    "width = 0.3\n",
    "plt.bar(np.arange(len(test_accs)) - (width/2), test_accs, width=width)\n",
    "plt.bar(np.arange(len(train_accs)) + (width/2), train_accs, width=width)\n",
    "plt.xticks(range(len(labels)), labels, rotation=-50)\n",
    "plt.ylabel(\"Accuracy\")\n",
    "plt.title(\"Classical algorithm results\")\n",
    "plt.legend([\"Test\", \"Train\"])\n",
    "plt.show()"
   ]
  },
  {
   "cell_type": "markdown",
   "metadata": {},
   "source": [
    "All results are saved to file."
   ]
  },
  {
   "cell_type": "code",
   "execution_count": 21,
   "metadata": {},
   "outputs": [],
   "source": [
    "with open(f\"{modeldir}/{dsName}_results.json\", \"w\", encoding=\"utf-8\") as f:\n",
    "        json.dump({\"train_accuracy\": train_accs, \"test_accuracy\": test_accs, \"model type\": labels}, f, indent=1, ensure_ascii=False)"
   ]
  },
  {
   "cell_type": "markdown",
   "metadata": {},
   "source": [
    "## 6. Saving, loading and re-using models"
   ]
  },
  {
   "cell_type": "markdown",
   "metadata": {},
   "source": [
    "!!! To save the model use function save. The function's argument is the folder name where trained model's files will be saved."
   ]
  },
  {
   "cell_type": "code",
   "execution_count": 22,
   "metadata": {},
   "outputs": [
    {
     "name": "stdout",
     "output_type": "stream",
     "text": [
      "INFO:tensorflow:Assets written to: ../../models/classical/labelled_newscatcher_dataset_BERT_CASED\\assets\n"
     ]
    }
   ],
   "source": [
    "classifier.save(f\"{modeldir}/{dsName}_{embName}\")"
   ]
  },
  {
   "cell_type": "markdown",
   "metadata": {},
   "source": [
    "!!! To load previousely saved model create *NNClassifier* object and use function *load*. The function's argument is the folder name where trained model's files are saved. In this example *newclassifier* object after loading will become replica of *classifier* object."
   ]
  },
  {
   "cell_type": "code",
   "execution_count": 23,
   "metadata": {},
   "outputs": [
    {
     "data": {
      "text/plain": [
       "True"
      ]
     },
     "execution_count": 23,
     "metadata": {},
     "output_type": "execute_result"
    }
   ],
   "source": [
    "newclassifier = NNClassifier()\n",
    "newclassifier.load(f\"{modeldir}/{dsName}_{embName}\")"
   ]
  },
  {
   "cell_type": "markdown",
   "metadata": {},
   "source": [
    "!!! To use classifier for prediction:\n",
    "1) generate embedding vector;\n",
    "2) predict the class of the sentence calling function *predict* and passing embedding vector of the sentence."
   ]
  },
  {
   "cell_type": "code",
   "execution_count": 24,
   "metadata": {},
   "outputs": [
    {
     "name": "stderr",
     "output_type": "stream",
     "text": [
      "Some weights of the model checkpoint at bert-base-cased were not used when initializing BertModel: ['cls.predictions.transform.LayerNorm.weight', 'cls.predictions.transform.LayerNorm.bias', 'cls.predictions.decoder.weight', 'cls.predictions.bias', 'cls.seq_relationship.bias', 'cls.seq_relationship.weight', 'cls.predictions.transform.dense.weight', 'cls.predictions.transform.dense.bias']\n",
      "- This IS expected if you are initializing BertModel from the checkpoint of a model trained on another task or with another architecture (e.g. initializing a BertForSequenceClassification model from a BertForPreTraining model).\n",
      "- This IS NOT expected if you are initializing BertModel from the checkpoint of a model that you expect to be exactly identical (initializing a BertForSequenceClassification model from a BertForSequenceClassification model).\n"
     ]
    },
    {
     "name": "stdout",
     "output_type": "stream",
     "text": [
      "bert-base-cased loaded!\n"
     ]
    }
   ],
   "source": [
    "sys.path.append(\"../../data/data_processing/data_vectorisation/\")\n",
    "from Embeddings import Embeddings\n",
    "vc = Embeddings('bert-base-cased','bert')\n",
    "sentence=\"global financial system\"\n",
    "embvec = vc.getEmbeddingVector(sentence)"
   ]
  },
  {
   "cell_type": "code",
   "execution_count": 25,
   "metadata": {},
   "outputs": [
    {
     "name": "stdout",
     "output_type": "stream",
     "text": [
      "WARNING:tensorflow:6 out of the last 6 calls to <function Model.make_predict_function.<locals>.predict_function at 0x0000026E2E7EEF80> triggered tf.function retracing. Tracing is expensive and the excessive number of tracings could be due to (1) creating @tf.function repeatedly in a loop, (2) passing tensors with different shapes, (3) passing Python objects instead of tensors. For (1), please define your @tf.function outside of the loop. For (2), @tf.function has reduce_retracing=True option that can avoid unnecessary retracing. For (3), please refer to https://www.tensorflow.org/guide/function#controlling_retracing and https://www.tensorflow.org/api_docs/python/tf/function for  more details.\n",
      "1/1 [==============================] - 0s 41ms/step\n",
      "1/1 [==============================] - 0s 23ms/step\n",
      "Sentence: global financial system\n",
      "Class (original classifier): [5]\n",
      "Class (reloaded classifier): [5]\n"
     ]
    }
   ],
   "source": [
    "classpredicted = newclassifier.predict(embvec)\n",
    "origclasspredicted = classifier.predict(embvec)\n",
    "print(f\"Sentence: {sentence}\\nClass (original classifier): {origclasspredicted}\\nClass (reloaded classifier): {classpredicted}\")"
   ]
  },
  {
   "cell_type": "code",
   "execution_count": null,
   "metadata": {},
   "outputs": [],
   "source": []
  }
 ],
 "metadata": {
  "kernelspec": {
   "display_name": "Python 3 (ipykernel)",
   "language": "python",
   "name": "python3"
  },
  "language_info": {
   "codemirror_mode": {
    "name": "ipython",
    "version": 3
   },
   "file_extension": ".py",
   "mimetype": "text/x-python",
   "name": "python",
   "nbconvert_exporter": "python",
   "pygments_lexer": "ipython3",
   "version": "3.10.5"
  },
  "vscode": {
   "interpreter": {
    "hash": "a665b5d41d17b532ea9890333293a1b812fa0b73c9c25c950b3cedf1bebd0438"
   }
  }
 },
 "nbformat": 4,
 "nbformat_minor": 4
}
