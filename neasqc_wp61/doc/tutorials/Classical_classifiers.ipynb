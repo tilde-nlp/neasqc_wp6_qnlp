{
 "cells": [
  {
   "cell_type": "markdown",
   "metadata": {
    "tags": []
   },
   "source": [
    "# Classical classifiers"
   ]
  },
  {
   "cell_type": "markdown",
   "metadata": {},
   "source": [
    "This notebook shows how well classical classifiers solve the sentence classification problem. This is mainly needed to have a baseline for quantum solution to compare against."
   ]
  },
  {
   "cell_type": "markdown",
   "metadata": {},
   "source": [
    "We first load our library files and the required packages."
   ]
  },
  {
   "cell_type": "code",
   "execution_count": 1,
   "metadata": {},
   "outputs": [],
   "source": [
    "import sys\n",
    "import os\n",
    "import json\n",
    "import numpy as np\n",
    "from sklearn.neighbors import KNeighborsClassifier\n",
    "\n",
    "sys.path.append(\"../../models/classical/\")\n",
    "\n",
    "from NNClassifier import (loadData,evaluate, NNClassifier,\n",
    "       prepareTrainTestXYWords, prepareTrainTestXYSentence,)"
   ]
  },
  {
   "cell_type": "markdown",
   "metadata": {},
   "source": [
    "We have implemented sentence vectorization using pretrained BERT cased and uncased (see [Git](https://github.com/google-research/bert), [arXiv](https://arxiv.org/abs/1810.04805)) base models (each sentence is represented as a 768-dimensional real-valued vector), sentence transformer models *all-mpnet-base-v2* and *all-distilroberta-v1* (see [link](https://www.sbert.net/docs/pretrained_models.html)) as well as word-level vectorization using [_fastText_](https://fasttext.cc/) model pretrained on [English Wikipedia and Common Crawl](hhttps://fasttext.cc/docs/en/crawl-vectors.html) (each word in a sentence is represented as a 300-dimensional real-valued vector)."
   ]
  },
  {
   "cell_type": "markdown",
   "metadata": {},
   "source": [
    "The Jupyter notebook *Prepare_datasets_4classifier.ipynb* shows how to filterdata and acquire embedding vectors using different vectorization models."
   ]
  },
  {
   "cell_type": "code",
   "execution_count": 2,
   "metadata": {},
   "outputs": [],
   "source": [
    "datadir = \"../../data/datasets\"\n",
    "dsName='labelled_newscatcher_dataset'"
   ]
  },
  {
   "cell_type": "code",
   "execution_count": 3,
   "metadata": {},
   "outputs": [],
   "source": [
    "modeldir=\"../../models/classical\""
   ]
  },
  {
   "cell_type": "markdown",
   "metadata": {},
   "source": [
    "## 1. Training shallow feedforward neural network"
   ]
  },
  {
   "cell_type": "markdown",
   "metadata": {},
   "source": [
    "To train shallow feedforward neural network models we employ sentence level embeddings. "
   ]
  },
  {
   "cell_type": "code",
   "execution_count": 4,
   "metadata": {},
   "outputs": [],
   "source": [
    "embName='BERT_CASED'"
   ]
  },
  {
   "cell_type": "code",
   "execution_count": 5,
   "metadata": {},
   "outputs": [
    {
     "name": "stdout",
     "output_type": "stream",
     "text": [
      "Training samples: 160, test samples: 18\n",
      "An example sentence: Official Website of the Tigers, class: SPORTS, syntactical tag: n[n[n[(n/n)   n]] (n\\\\n)[((n\\\\n)/n)   n[(n/n)   n]]]\n",
      "Vectorized sentence dimension: 768\n"
     ]
    }
   ],
   "source": [
    "data = loadData(f\"{datadir}/{dsName}_{embName}.json\")\n",
    "print(f\"Training samples: {len(data['train_data'])}, test samples: {len(data['test_data'])}\")\n",
    "print(f\"An example sentence: {data['train_data'][2]['sentence']}, class: {data['train_data'][2]['class']}, syntactical tag: {data['train_data'][2]['tag']}\")\n",
    "print(f\"Vectorized sentence dimension: {len(data['train_data'][0]['sentence_vectorized'][0])}\")"
   ]
  },
  {
   "cell_type": "markdown",
   "metadata": {},
   "source": [
    "We reformat the data as numpy arrays for classifier training. "
   ]
  },
  {
   "cell_type": "code",
   "execution_count": 6,
   "metadata": {},
   "outputs": [
    {
     "name": "stdout",
     "output_type": "stream",
     "text": [
      "(160, 768)\n",
      "(160, 8)\n",
      "(18, 768)\n",
      "(18, 8)\n"
     ]
    }
   ],
   "source": [
    "trainX, trainY, testX, testY = prepareTrainTestXYSentence(data,classify_by_field=\"class\")\n",
    "print(f\"{trainX.shape}\")\n",
    "print(f\"{trainY.shape}\")\n",
    "print(f\"{testX.shape}\")\n",
    "print(f\"{testY.shape}\")"
   ]
  },
  {
   "cell_type": "markdown",
   "metadata": {},
   "source": [
    "Now we train a feedforward neural network classifier."
   ]
  },
  {
   "cell_type": "code",
   "execution_count": 7,
   "metadata": {
    "scrolled": true,
    "tags": []
   },
   "outputs": [
    {
     "name": "stdout",
     "output_type": "stream",
     "text": [
      "Epoch 1/100\n",
      "5/5 - 0s - loss: 2.0760 - accuracy: 0.1750 - 297ms/epoch - 59ms/step\n",
      "Epoch 2/100\n",
      "5/5 - 0s - loss: 1.8632 - accuracy: 0.3063 - 4ms/epoch - 800us/step\n",
      "Epoch 3/100\n",
      "5/5 - 0s - loss: 1.7601 - accuracy: 0.3875 - 5ms/epoch - 1ms/step\n",
      "Epoch 4/100\n",
      "5/5 - 0s - loss: 1.6685 - accuracy: 0.4500 - 4ms/epoch - 800us/step\n",
      "Epoch 5/100\n",
      "5/5 - 0s - loss: 1.5801 - accuracy: 0.4938 - 4ms/epoch - 800us/step\n",
      "Epoch 6/100\n",
      "5/5 - 0s - loss: 1.4947 - accuracy: 0.5250 - 5ms/epoch - 1ms/step\n",
      "Epoch 7/100\n",
      "5/5 - 0s - loss: 1.4244 - accuracy: 0.5562 - 5ms/epoch - 1000us/step\n",
      "Epoch 8/100\n",
      "5/5 - 0s - loss: 1.3622 - accuracy: 0.6250 - 4ms/epoch - 800us/step\n",
      "Epoch 9/100\n",
      "5/5 - 0s - loss: 1.3021 - accuracy: 0.6562 - 4ms/epoch - 800us/step\n",
      "Epoch 10/100\n",
      "5/5 - 0s - loss: 1.2488 - accuracy: 0.6875 - 3ms/epoch - 600us/step\n",
      "Epoch 11/100\n",
      "5/5 - 0s - loss: 1.2029 - accuracy: 0.7188 - 3ms/epoch - 600us/step\n",
      "Epoch 12/100\n",
      "5/5 - 0s - loss: 1.1549 - accuracy: 0.7188 - 4ms/epoch - 800us/step\n",
      "Epoch 13/100\n",
      "5/5 - 0s - loss: 1.1148 - accuracy: 0.7437 - 5ms/epoch - 1ms/step\n",
      "Epoch 14/100\n",
      "5/5 - 0s - loss: 1.0743 - accuracy: 0.7500 - 4ms/epoch - 800us/step\n",
      "Epoch 15/100\n",
      "5/5 - 0s - loss: 1.0357 - accuracy: 0.7563 - 4ms/epoch - 800us/step\n",
      "Epoch 16/100\n",
      "5/5 - 0s - loss: 1.0067 - accuracy: 0.7812 - 3ms/epoch - 600us/step\n",
      "Epoch 17/100\n",
      "5/5 - 0s - loss: 0.9773 - accuracy: 0.7750 - 4ms/epoch - 800us/step\n",
      "Epoch 18/100\n",
      "5/5 - 0s - loss: 0.9449 - accuracy: 0.7812 - 4ms/epoch - 800us/step\n",
      "Epoch 19/100\n",
      "5/5 - 0s - loss: 0.9158 - accuracy: 0.7812 - 4ms/epoch - 799us/step\n",
      "Epoch 20/100\n",
      "5/5 - 0s - loss: 0.8912 - accuracy: 0.7812 - 3ms/epoch - 600us/step\n",
      "Epoch 21/100\n",
      "5/5 - 0s - loss: 0.8649 - accuracy: 0.7875 - 4ms/epoch - 800us/step\n",
      "Epoch 22/100\n",
      "5/5 - 0s - loss: 0.8411 - accuracy: 0.8188 - 4ms/epoch - 800us/step\n",
      "Epoch 23/100\n",
      "5/5 - 0s - loss: 0.8194 - accuracy: 0.8188 - 3ms/epoch - 600us/step\n",
      "Epoch 24/100\n",
      "5/5 - 0s - loss: 0.7974 - accuracy: 0.8188 - 4ms/epoch - 800us/step\n",
      "Epoch 25/100\n",
      "5/5 - 0s - loss: 0.7747 - accuracy: 0.8250 - 4ms/epoch - 800us/step\n",
      "Epoch 26/100\n",
      "5/5 - 0s - loss: 0.7563 - accuracy: 0.8250 - 4ms/epoch - 800us/step\n",
      "Epoch 27/100\n",
      "5/5 - 0s - loss: 0.7370 - accuracy: 0.8313 - 3ms/epoch - 600us/step\n",
      "Epoch 28/100\n",
      "5/5 - 0s - loss: 0.7193 - accuracy: 0.8500 - 4ms/epoch - 800us/step\n",
      "Epoch 29/100\n",
      "5/5 - 0s - loss: 0.7016 - accuracy: 0.8625 - 3ms/epoch - 600us/step\n",
      "Epoch 30/100\n",
      "5/5 - 0s - loss: 0.6854 - accuracy: 0.8813 - 4ms/epoch - 800us/step\n",
      "Epoch 31/100\n",
      "5/5 - 0s - loss: 0.6711 - accuracy: 0.8687 - 4ms/epoch - 800us/step\n",
      "Epoch 32/100\n",
      "5/5 - 0s - loss: 0.6511 - accuracy: 0.8750 - 4ms/epoch - 800us/step\n",
      "Epoch 33/100\n",
      "5/5 - 0s - loss: 0.6361 - accuracy: 0.8938 - 3ms/epoch - 600us/step\n",
      "Epoch 34/100\n",
      "5/5 - 0s - loss: 0.6222 - accuracy: 0.9062 - 4ms/epoch - 800us/step\n",
      "Epoch 35/100\n",
      "5/5 - 0s - loss: 0.6073 - accuracy: 0.9125 - 3ms/epoch - 600us/step\n",
      "Epoch 36/100\n",
      "5/5 - 0s - loss: 0.5943 - accuracy: 0.9125 - 4ms/epoch - 800us/step\n",
      "Epoch 37/100\n",
      "5/5 - 0s - loss: 0.5816 - accuracy: 0.9062 - 4ms/epoch - 800us/step\n",
      "Epoch 38/100\n",
      "5/5 - 0s - loss: 0.5678 - accuracy: 0.9125 - 4ms/epoch - 800us/step\n",
      "Epoch 39/100\n",
      "5/5 - 0s - loss: 0.5572 - accuracy: 0.9125 - 4ms/epoch - 800us/step\n",
      "Epoch 40/100\n",
      "5/5 - 0s - loss: 0.5456 - accuracy: 0.9250 - 3ms/epoch - 600us/step\n",
      "Epoch 41/100\n",
      "5/5 - 0s - loss: 0.5341 - accuracy: 0.9312 - 4ms/epoch - 800us/step\n",
      "Epoch 42/100\n",
      "5/5 - 0s - loss: 0.5209 - accuracy: 0.9250 - 3ms/epoch - 600us/step\n",
      "Epoch 43/100\n",
      "5/5 - 0s - loss: 0.5115 - accuracy: 0.9312 - 4ms/epoch - 800us/step\n",
      "Epoch 44/100\n",
      "5/5 - 0s - loss: 0.4993 - accuracy: 0.9438 - 3ms/epoch - 600us/step\n",
      "Epoch 45/100\n",
      "5/5 - 0s - loss: 0.4905 - accuracy: 0.9500 - 4ms/epoch - 800us/step\n",
      "Epoch 46/100\n",
      "5/5 - 0s - loss: 0.4793 - accuracy: 0.9563 - 3ms/epoch - 600us/step\n",
      "Epoch 47/100\n",
      "5/5 - 0s - loss: 0.4698 - accuracy: 0.9688 - 4ms/epoch - 800us/step\n",
      "Epoch 48/100\n",
      "5/5 - 0s - loss: 0.4606 - accuracy: 0.9688 - 3ms/epoch - 600us/step\n",
      "Epoch 49/100\n",
      "5/5 - 0s - loss: 0.4516 - accuracy: 0.9688 - 4ms/epoch - 800us/step\n",
      "Epoch 50/100\n",
      "5/5 - 0s - loss: 0.4423 - accuracy: 0.9688 - 4ms/epoch - 800us/step\n",
      "Epoch 51/100\n",
      "5/5 - 0s - loss: 0.4370 - accuracy: 0.9750 - 4ms/epoch - 800us/step\n",
      "Epoch 52/100\n",
      "5/5 - 0s - loss: 0.4247 - accuracy: 0.9750 - 3ms/epoch - 600us/step\n",
      "Epoch 53/100\n",
      "5/5 - 0s - loss: 0.4168 - accuracy: 0.9750 - 3ms/epoch - 600us/step\n",
      "Epoch 54/100\n",
      "5/5 - 0s - loss: 0.4086 - accuracy: 0.9750 - 4ms/epoch - 800us/step\n",
      "Epoch 55/100\n",
      "5/5 - 0s - loss: 0.4028 - accuracy: 0.9688 - 3ms/epoch - 600us/step\n",
      "Epoch 56/100\n",
      "5/5 - 0s - loss: 0.3926 - accuracy: 0.9750 - 4ms/epoch - 800us/step\n",
      "Epoch 57/100\n",
      "5/5 - 0s - loss: 0.3870 - accuracy: 0.9750 - 3ms/epoch - 601us/step\n",
      "Epoch 58/100\n",
      "5/5 - 0s - loss: 0.3788 - accuracy: 0.9750 - 3ms/epoch - 600us/step\n",
      "Epoch 59/100\n",
      "5/5 - 0s - loss: 0.3729 - accuracy: 0.9750 - 3ms/epoch - 600us/step\n",
      "Epoch 60/100\n",
      "5/5 - 0s - loss: 0.3640 - accuracy: 0.9812 - 4ms/epoch - 800us/step\n",
      "Epoch 61/100\n",
      "5/5 - 0s - loss: 0.3584 - accuracy: 0.9812 - 3ms/epoch - 600us/step\n",
      "Epoch 62/100\n",
      "5/5 - 0s - loss: 0.3531 - accuracy: 0.9750 - 4ms/epoch - 800us/step\n",
      "Epoch 63/100\n",
      "5/5 - 0s - loss: 0.3459 - accuracy: 0.9812 - 3ms/epoch - 600us/step\n",
      "Epoch 64/100\n",
      "5/5 - 0s - loss: 0.3398 - accuracy: 0.9812 - 3ms/epoch - 600us/step\n",
      "Epoch 65/100\n",
      "5/5 - 0s - loss: 0.3344 - accuracy: 0.9812 - 3ms/epoch - 600us/step\n",
      "Epoch 66/100\n",
      "5/5 - 0s - loss: 0.3278 - accuracy: 0.9812 - 4ms/epoch - 800us/step\n",
      "Epoch 67/100\n",
      "5/5 - 0s - loss: 0.3214 - accuracy: 0.9812 - 4ms/epoch - 800us/step\n",
      "Epoch 68/100\n",
      "5/5 - 0s - loss: 0.3167 - accuracy: 0.9812 - 3ms/epoch - 600us/step\n",
      "Epoch 69/100\n",
      "5/5 - 0s - loss: 0.3113 - accuracy: 0.9812 - 4ms/epoch - 800us/step\n",
      "Epoch 70/100\n",
      "5/5 - 0s - loss: 0.3055 - accuracy: 0.9812 - 3ms/epoch - 600us/step\n",
      "Epoch 71/100\n",
      "5/5 - 0s - loss: 0.3002 - accuracy: 0.9875 - 4ms/epoch - 776us/step\n",
      "Epoch 72/100\n",
      "5/5 - 0s - loss: 0.2962 - accuracy: 0.9812 - 4ms/epoch - 800us/step\n",
      "Epoch 73/100\n",
      "5/5 - 0s - loss: 0.2897 - accuracy: 0.9812 - 4ms/epoch - 800us/step\n",
      "Epoch 74/100\n",
      "5/5 - 0s - loss: 0.2853 - accuracy: 0.9875 - 3ms/epoch - 600us/step\n",
      "Epoch 75/100\n",
      "5/5 - 0s - loss: 0.2800 - accuracy: 0.9875 - 4ms/epoch - 800us/step\n",
      "Epoch 76/100\n",
      "5/5 - 0s - loss: 0.2753 - accuracy: 0.9875 - 3ms/epoch - 600us/step\n",
      "Epoch 77/100\n",
      "5/5 - 0s - loss: 0.2710 - accuracy: 0.9937 - 4ms/epoch - 800us/step\n",
      "Epoch 78/100\n",
      "5/5 - 0s - loss: 0.2675 - accuracy: 0.9937 - 4ms/epoch - 800us/step\n",
      "Epoch 79/100\n",
      "5/5 - 0s - loss: 0.2626 - accuracy: 0.9937 - 4ms/epoch - 800us/step\n",
      "Epoch 80/100\n",
      "5/5 - 0s - loss: 0.2585 - accuracy: 0.9937 - 3ms/epoch - 600us/step\n",
      "Epoch 81/100\n",
      "5/5 - 0s - loss: 0.2537 - accuracy: 0.9937 - 4ms/epoch - 800us/step\n",
      "Epoch 82/100\n",
      "5/5 - 0s - loss: 0.2506 - accuracy: 0.9937 - 4ms/epoch - 800us/step\n",
      "Epoch 83/100\n",
      "5/5 - 0s - loss: 0.2458 - accuracy: 0.9937 - 3ms/epoch - 600us/step\n",
      "Epoch 84/100\n",
      "5/5 - 0s - loss: 0.2423 - accuracy: 0.9937 - 4ms/epoch - 800us/step\n",
      "Epoch 85/100\n",
      "5/5 - 0s - loss: 0.2392 - accuracy: 0.9937 - 3ms/epoch - 600us/step\n",
      "Epoch 86/100\n",
      "5/5 - 0s - loss: 0.2348 - accuracy: 0.9937 - 4ms/epoch - 800us/step\n",
      "Epoch 87/100\n",
      "5/5 - 0s - loss: 0.2311 - accuracy: 0.9937 - 4ms/epoch - 800us/step\n",
      "Epoch 88/100\n",
      "5/5 - 0s - loss: 0.2282 - accuracy: 0.9937 - 3ms/epoch - 600us/step\n",
      "Epoch 89/100\n",
      "5/5 - 0s - loss: 0.2251 - accuracy: 0.9937 - 4ms/epoch - 800us/step\n",
      "Epoch 90/100\n",
      "5/5 - 0s - loss: 0.2213 - accuracy: 0.9937 - 3ms/epoch - 600us/step\n",
      "Epoch 91/100\n",
      "5/5 - 0s - loss: 0.2179 - accuracy: 0.9937 - 3ms/epoch - 600us/step\n",
      "Epoch 92/100\n",
      "5/5 - 0s - loss: 0.2143 - accuracy: 0.9937 - 4ms/epoch - 800us/step\n",
      "Epoch 93/100\n",
      "5/5 - 0s - loss: 0.2111 - accuracy: 0.9937 - 4ms/epoch - 800us/step\n",
      "Epoch 94/100\n",
      "5/5 - 0s - loss: 0.2082 - accuracy: 0.9937 - 3ms/epoch - 600us/step\n",
      "Epoch 95/100\n",
      "5/5 - 0s - loss: 0.2050 - accuracy: 0.9937 - 4ms/epoch - 800us/step\n",
      "Epoch 96/100\n",
      "5/5 - 0s - loss: 0.2026 - accuracy: 0.9937 - 3ms/epoch - 600us/step\n",
      "Epoch 97/100\n",
      "5/5 - 0s - loss: 0.1994 - accuracy: 0.9937 - 4ms/epoch - 800us/step\n",
      "Epoch 98/100\n",
      "5/5 - 0s - loss: 0.1967 - accuracy: 0.9937 - 4ms/epoch - 800us/step\n",
      "Epoch 99/100\n",
      "5/5 - 0s - loss: 0.1935 - accuracy: 0.9937 - 4ms/epoch - 800us/step\n",
      "Epoch 100/100\n",
      "5/5 - 0s - loss: 0.1908 - accuracy: 0.9937 - 3ms/epoch - 600us/step\n"
     ]
    }
   ],
   "source": [
    "classifier = NNClassifier()\n",
    "history = classifier.train(trainX, trainY)"
   ]
  },
  {
   "cell_type": "markdown",
   "metadata": {},
   "source": [
    "## 2. Evaluating shallow feedforward neural network"
   ]
  },
  {
   "cell_type": "markdown",
   "metadata": {},
   "source": [
    "The *history* object returned by *train* function holds a record of the metric values during training."
   ]
  },
  {
   "cell_type": "code",
   "execution_count": 8,
   "metadata": {},
   "outputs": [
    {
     "name": "stdout",
     "output_type": "stream",
     "text": [
      "FNN train accuracy on BERT_CASED vectors: 0.9937499761581421\n"
     ]
    }
   ],
   "source": [
    "nn_train_acc = history.history[\"accuracy\"][-1]\n",
    "print(f\"FNN train accuracy on {embName} vectors: {nn_train_acc}\")"
   ]
  },
  {
   "cell_type": "markdown",
   "metadata": {},
   "source": [
    "And measure the accuracy on the test set."
   ]
  },
  {
   "cell_type": "code",
   "execution_count": 9,
   "metadata": {},
   "outputs": [
    {
     "name": "stdout",
     "output_type": "stream",
     "text": [
      "1/1 [==============================] - 0s 48ms/step\n",
      "FFNN test accuracy on BERT_CASED vectors: 0.6111111111111112\n"
     ]
    }
   ],
   "source": [
    "res = classifier.predict(testX)\n",
    "nn_test_acc = evaluate(res, testY)\n",
    "print(f\"FFNN test accuracy on {embName} vectors: {nn_test_acc}\")"
   ]
  },
  {
   "cell_type": "markdown",
   "metadata": {},
   "source": [
    "For comparison we employ the nierest neighbor algorithm on the same data. We calculate the accuracy of classifying the sentence with the label corresponding to the closest sentence in the training data."
   ]
  },
  {
   "cell_type": "code",
   "execution_count": 10,
   "metadata": {},
   "outputs": [
    {
     "name": "stdout",
     "output_type": "stream",
     "text": [
      "Nearest neighbor test accuracy: 0.8888888888888888, train accuracy: 1.0\n"
     ]
    }
   ],
   "source": [
    "neigh = KNeighborsClassifier(n_neighbors=1)\n",
    "neigh.fit(trainX, trainY)\n",
    "res = neigh.predict(testX)\n",
    "neigh_test_acc = np.sum(res == testY)/len(testY[0])/len(testY)\n",
    "neigh_train_acc = neigh.score(trainX, trainY)\n",
    "print(f\"Nearest neighbor test accuracy: {neigh_test_acc}, train accuracy: {neigh_train_acc}\")"
   ]
  },
  {
   "cell_type": "markdown",
   "metadata": {},
   "source": [
    "Depending on random, the FNN classifier might perform better or worse (or the same) than the 1-nearest neighbor algorithm."
   ]
  },
  {
   "cell_type": "markdown",
   "metadata": {},
   "source": [
    "## 3. Training convolutional neural network classifier"
   ]
  },
  {
   "cell_type": "markdown",
   "metadata": {},
   "source": [
    "Now we load fastText word embeddings and train a convolutional network on them."
   ]
  },
  {
   "cell_type": "code",
   "execution_count": 11,
   "metadata": {
    "scrolled": true,
    "tags": []
   },
   "outputs": [
    {
     "name": "stdout",
     "output_type": "stream",
     "text": [
      "Epoch 1/30\n",
      "5/5 - 0s - loss: 2.0546 - accuracy: 0.1625 - 315ms/epoch - 63ms/step\n",
      "Epoch 2/30\n",
      "5/5 - 0s - loss: 1.7266 - accuracy: 0.5562 - 11ms/epoch - 2ms/step\n",
      "Epoch 3/30\n",
      "5/5 - 0s - loss: 1.5310 - accuracy: 0.6062 - 11ms/epoch - 2ms/step\n",
      "Epoch 4/30\n",
      "5/5 - 0s - loss: 1.3897 - accuracy: 0.6438 - 13ms/epoch - 3ms/step\n",
      "Epoch 5/30\n",
      "5/5 - 0s - loss: 1.2686 - accuracy: 0.6500 - 11ms/epoch - 2ms/step\n",
      "Epoch 6/30\n",
      "5/5 - 0s - loss: 1.1541 - accuracy: 0.7250 - 11ms/epoch - 2ms/step\n",
      "Epoch 7/30\n",
      "5/5 - 0s - loss: 1.0499 - accuracy: 0.7250 - 11ms/epoch - 2ms/step\n",
      "Epoch 8/30\n",
      "5/5 - 0s - loss: 0.9495 - accuracy: 0.7875 - 12ms/epoch - 2ms/step\n",
      "Epoch 9/30\n",
      "5/5 - 0s - loss: 0.8737 - accuracy: 0.8250 - 13ms/epoch - 3ms/step\n",
      "Epoch 10/30\n",
      "5/5 - 0s - loss: 0.8134 - accuracy: 0.8687 - 10ms/epoch - 2ms/step\n",
      "Epoch 11/30\n",
      "5/5 - 0s - loss: 0.7197 - accuracy: 0.8500 - 12ms/epoch - 2ms/step\n",
      "Epoch 12/30\n",
      "5/5 - 0s - loss: 0.6826 - accuracy: 0.8875 - 11ms/epoch - 2ms/step\n",
      "Epoch 13/30\n",
      "5/5 - 0s - loss: 0.6191 - accuracy: 0.8938 - 11ms/epoch - 2ms/step\n",
      "Epoch 14/30\n",
      "5/5 - 0s - loss: 0.5735 - accuracy: 0.9125 - 13ms/epoch - 3ms/step\n",
      "Epoch 15/30\n",
      "5/5 - 0s - loss: 0.5051 - accuracy: 0.9312 - 10ms/epoch - 2ms/step\n",
      "Epoch 16/30\n",
      "5/5 - 0s - loss: 0.4672 - accuracy: 0.9375 - 11ms/epoch - 2ms/step\n",
      "Epoch 17/30\n",
      "5/5 - 0s - loss: 0.4252 - accuracy: 0.9625 - 10ms/epoch - 2ms/step\n",
      "Epoch 18/30\n",
      "5/5 - 0s - loss: 0.4062 - accuracy: 0.9438 - 10ms/epoch - 2ms/step\n",
      "Epoch 19/30\n",
      "5/5 - 0s - loss: 0.3761 - accuracy: 0.9500 - 10ms/epoch - 2ms/step\n",
      "Epoch 20/30\n",
      "5/5 - 0s - loss: 0.3310 - accuracy: 0.9937 - 10ms/epoch - 2ms/step\n",
      "Epoch 21/30\n",
      "5/5 - 0s - loss: 0.3026 - accuracy: 0.9812 - 10ms/epoch - 2ms/step\n",
      "Epoch 22/30\n",
      "5/5 - 0s - loss: 0.3071 - accuracy: 0.9625 - 10ms/epoch - 2ms/step\n",
      "Epoch 23/30\n",
      "5/5 - 0s - loss: 0.2636 - accuracy: 0.9750 - 10ms/epoch - 2ms/step\n",
      "Epoch 24/30\n",
      "5/5 - 0s - loss: 0.2402 - accuracy: 1.0000 - 11ms/epoch - 2ms/step\n",
      "Epoch 25/30\n",
      "5/5 - 0s - loss: 0.2157 - accuracy: 0.9875 - 10ms/epoch - 2ms/step\n",
      "Epoch 26/30\n",
      "5/5 - 0s - loss: 0.1958 - accuracy: 0.9937 - 10ms/epoch - 2ms/step\n",
      "Epoch 27/30\n",
      "5/5 - 0s - loss: 0.1846 - accuracy: 0.9937 - 10ms/epoch - 2ms/step\n",
      "Epoch 28/30\n",
      "5/5 - 0s - loss: 0.1722 - accuracy: 1.0000 - 10ms/epoch - 2ms/step\n",
      "Epoch 29/30\n",
      "5/5 - 0s - loss: 0.1650 - accuracy: 0.9937 - 10ms/epoch - 2ms/step\n",
      "Epoch 30/30\n",
      "5/5 - 0s - loss: 0.1435 - accuracy: 0.9875 - 10ms/epoch - 2ms/step\n"
     ]
    }
   ],
   "source": [
    "data = loadData(f\"{datadir}/{dsName}_FASTTEXT.json\")\n",
    "\n",
    "maxLen = 6\n",
    "trainX, trainY, testX, testY = prepareTrainTestXYWords(data, maxLen,classify_by_field=\"class\")\n",
    "\n",
    "cnnclassifier = NNClassifier(model=\"CNN\", vectorSpaceSize=300)\n",
    "history = cnnclassifier.train(trainX, trainY)"
   ]
  },
  {
   "cell_type": "markdown",
   "metadata": {},
   "source": [
    "## 4. Evaluating convolutional neural network classifier"
   ]
  },
  {
   "cell_type": "code",
   "execution_count": 12,
   "metadata": {},
   "outputs": [
    {
     "name": "stdout",
     "output_type": "stream",
     "text": [
      "CNN train accuracy on fastText vectors: 0.987500011920929\n"
     ]
    }
   ],
   "source": [
    "fasttext_nn_train_acc = history.history['accuracy'][-1]\n",
    "print(f\"CNN train accuracy on fastText vectors: {fasttext_nn_train_acc}\")"
   ]
  },
  {
   "cell_type": "code",
   "execution_count": 13,
   "metadata": {},
   "outputs": [
    {
     "name": "stdout",
     "output_type": "stream",
     "text": [
      "1/1 [==============================] - 0s 50ms/step\n",
      "CNN test accuracy on fastText vectors: 0.6111111111111112\n"
     ]
    }
   ],
   "source": [
    "res = cnnclassifier.predict(testX)\n",
    "fasttext_nn_test_acc = evaluate(res, testY)\n",
    "print(f\"CNN test accuracy on fastText vectors: {fasttext_nn_test_acc}\")"
   ]
  },
  {
   "cell_type": "markdown",
   "metadata": {},
   "source": [
    "## 5. Comparing results"
   ]
  },
  {
   "cell_type": "markdown",
   "metadata": {},
   "source": [
    "Now we will show results (train and test accuracies) in a chart."
   ]
  },
  {
   "cell_type": "code",
   "execution_count": 14,
   "metadata": {},
   "outputs": [],
   "source": [
    "import matplotlib.pyplot as plt\n",
    "plt.rcParams[\"figure.figsize\"] = (8,6)\n",
    "test_accs = [fasttext_nn_test_acc, neigh_test_acc, nn_test_acc]\n",
    "train_accs = [fasttext_nn_train_acc, neigh_train_acc, nn_train_acc]\n",
    "labels = [\"fastText CNN\",f\"{embName} nearest neighbors\", f\"{embName} NN\"]"
   ]
  },
  {
   "cell_type": "markdown",
   "metadata": {},
   "source": [
    "To compare results we will train models for other sentence embeddings as well."
   ]
  },
  {
   "cell_type": "code",
   "execution_count": 15,
   "metadata": {},
   "outputs": [
    {
     "name": "stdout",
     "output_type": "stream",
     "text": [
      "Epoch 1/100\n",
      "5/5 - 0s - loss: 2.0550 - accuracy: 0.2562 - 187ms/epoch - 37ms/step\n",
      "Epoch 2/100\n",
      "5/5 - 0s - loss: 1.7430 - accuracy: 0.3375 - 4ms/epoch - 703us/step\n",
      "Epoch 3/100\n",
      "5/5 - 0s - loss: 1.6237 - accuracy: 0.4313 - 4ms/epoch - 800us/step\n",
      "Epoch 4/100\n",
      "5/5 - 0s - loss: 1.5161 - accuracy: 0.4625 - 4ms/epoch - 800us/step\n",
      "Epoch 5/100\n",
      "5/5 - 0s - loss: 1.4162 - accuracy: 0.5312 - 3ms/epoch - 600us/step\n",
      "Epoch 6/100\n",
      "5/5 - 0s - loss: 1.3209 - accuracy: 0.6187 - 3ms/epoch - 600us/step\n",
      "Epoch 7/100\n",
      "5/5 - 0s - loss: 1.2482 - accuracy: 0.6500 - 4ms/epoch - 800us/step\n",
      "Epoch 8/100\n",
      "5/5 - 0s - loss: 1.1853 - accuracy: 0.6687 - 3ms/epoch - 600us/step\n",
      "Epoch 9/100\n",
      "5/5 - 0s - loss: 1.1248 - accuracy: 0.6812 - 3ms/epoch - 600us/step\n",
      "Epoch 10/100\n",
      "5/5 - 0s - loss: 1.0754 - accuracy: 0.7250 - 4ms/epoch - 800us/step\n",
      "Epoch 11/100\n",
      "5/5 - 0s - loss: 1.0291 - accuracy: 0.7312 - 5ms/epoch - 1000us/step\n",
      "Epoch 12/100\n",
      "5/5 - 0s - loss: 0.9883 - accuracy: 0.7500 - 3ms/epoch - 600us/step\n",
      "Epoch 13/100\n",
      "5/5 - 0s - loss: 0.9507 - accuracy: 0.7563 - 3ms/epoch - 600us/step\n",
      "Epoch 14/100\n",
      "5/5 - 0s - loss: 0.9142 - accuracy: 0.7688 - 4ms/epoch - 800us/step\n",
      "Epoch 15/100\n",
      "5/5 - 0s - loss: 0.8801 - accuracy: 0.7875 - 4ms/epoch - 800us/step\n",
      "Epoch 16/100\n",
      "5/5 - 0s - loss: 0.8506 - accuracy: 0.7937 - 5ms/epoch - 999us/step\n",
      "Epoch 17/100\n",
      "5/5 - 0s - loss: 0.8240 - accuracy: 0.8000 - 4ms/epoch - 800us/step\n",
      "Epoch 18/100\n",
      "5/5 - 0s - loss: 0.7935 - accuracy: 0.8188 - 4ms/epoch - 800us/step\n",
      "Epoch 19/100\n",
      "5/5 - 0s - loss: 0.7700 - accuracy: 0.8250 - 4ms/epoch - 800us/step\n",
      "Epoch 20/100\n",
      "5/5 - 0s - loss: 0.7464 - accuracy: 0.8375 - 4ms/epoch - 800us/step\n",
      "Epoch 21/100\n",
      "5/5 - 0s - loss: 0.7223 - accuracy: 0.8438 - 3ms/epoch - 600us/step\n",
      "Epoch 22/100\n",
      "5/5 - 0s - loss: 0.7013 - accuracy: 0.8562 - 5ms/epoch - 999us/step\n",
      "Epoch 23/100\n",
      "5/5 - 0s - loss: 0.6799 - accuracy: 0.8625 - 3ms/epoch - 600us/step\n",
      "Epoch 24/100\n",
      "5/5 - 0s - loss: 0.6602 - accuracy: 0.8750 - 3ms/epoch - 600us/step\n",
      "Epoch 25/100\n",
      "5/5 - 0s - loss: 0.6413 - accuracy: 0.8750 - 4ms/epoch - 800us/step\n",
      "Epoch 26/100\n",
      "5/5 - 0s - loss: 0.6248 - accuracy: 0.8750 - 4ms/epoch - 800us/step\n",
      "Epoch 27/100\n",
      "5/5 - 0s - loss: 0.6065 - accuracy: 0.8813 - 3ms/epoch - 600us/step\n",
      "Epoch 28/100\n",
      "5/5 - 0s - loss: 0.5908 - accuracy: 0.8813 - 5ms/epoch - 1000us/step\n",
      "Epoch 29/100\n",
      "5/5 - 0s - loss: 0.5752 - accuracy: 0.8875 - 4ms/epoch - 800us/step\n",
      "Epoch 30/100\n",
      "5/5 - 0s - loss: 0.5591 - accuracy: 0.9062 - 4ms/epoch - 800us/step\n",
      "Epoch 31/100\n",
      "5/5 - 0s - loss: 0.5442 - accuracy: 0.9062 - 3ms/epoch - 600us/step\n",
      "Epoch 32/100\n",
      "5/5 - 0s - loss: 0.5306 - accuracy: 0.9062 - 4ms/epoch - 800us/step\n",
      "Epoch 33/100\n",
      "5/5 - 0s - loss: 0.5177 - accuracy: 0.9187 - 3ms/epoch - 600us/step\n",
      "Epoch 34/100\n",
      "5/5 - 0s - loss: 0.5034 - accuracy: 0.9125 - 5ms/epoch - 1ms/step\n",
      "Epoch 35/100\n",
      "5/5 - 0s - loss: 0.4911 - accuracy: 0.9187 - 4ms/epoch - 799us/step\n",
      "Epoch 36/100\n",
      "5/5 - 0s - loss: 0.4798 - accuracy: 0.9187 - 4ms/epoch - 800us/step\n",
      "Epoch 37/100\n",
      "5/5 - 0s - loss: 0.4689 - accuracy: 0.9187 - 4ms/epoch - 800us/step\n",
      "Epoch 38/100\n",
      "5/5 - 0s - loss: 0.4564 - accuracy: 0.9187 - 3ms/epoch - 600us/step\n",
      "Epoch 39/100\n",
      "5/5 - 0s - loss: 0.4458 - accuracy: 0.9250 - 4ms/epoch - 800us/step\n",
      "Epoch 40/100\n",
      "5/5 - 0s - loss: 0.4354 - accuracy: 0.9375 - 4ms/epoch - 801us/step\n",
      "Epoch 41/100\n",
      "5/5 - 0s - loss: 0.4260 - accuracy: 0.9312 - 4ms/epoch - 800us/step\n",
      "Epoch 42/100\n",
      "5/5 - 0s - loss: 0.4155 - accuracy: 0.9375 - 4ms/epoch - 800us/step\n",
      "Epoch 43/100\n",
      "5/5 - 0s - loss: 0.4069 - accuracy: 0.9375 - 4ms/epoch - 800us/step\n",
      "Epoch 44/100\n",
      "5/5 - 0s - loss: 0.3970 - accuracy: 0.9375 - 4ms/epoch - 800us/step\n",
      "Epoch 45/100\n",
      "5/5 - 0s - loss: 0.3886 - accuracy: 0.9375 - 4ms/epoch - 800us/step\n",
      "Epoch 46/100\n",
      "5/5 - 0s - loss: 0.3803 - accuracy: 0.9438 - 4ms/epoch - 800us/step\n",
      "Epoch 47/100\n",
      "5/5 - 0s - loss: 0.3714 - accuracy: 0.9500 - 4ms/epoch - 798us/step\n",
      "Epoch 48/100\n",
      "5/5 - 0s - loss: 0.3652 - accuracy: 0.9500 - 4ms/epoch - 800us/step\n",
      "Epoch 49/100\n",
      "5/5 - 0s - loss: 0.3562 - accuracy: 0.9563 - 3ms/epoch - 600us/step\n",
      "Epoch 50/100\n",
      "5/5 - 0s - loss: 0.3491 - accuracy: 0.9563 - 3ms/epoch - 600us/step\n",
      "Epoch 51/100\n",
      "5/5 - 0s - loss: 0.3412 - accuracy: 0.9563 - 3ms/epoch - 600us/step\n",
      "Epoch 52/100\n",
      "5/5 - 0s - loss: 0.3348 - accuracy: 0.9563 - 3ms/epoch - 600us/step\n",
      "Epoch 53/100\n",
      "5/5 - 0s - loss: 0.3276 - accuracy: 0.9563 - 6ms/epoch - 1ms/step\n",
      "Epoch 54/100\n",
      "5/5 - 0s - loss: 0.3213 - accuracy: 0.9563 - 4ms/epoch - 800us/step\n",
      "Epoch 55/100\n",
      "5/5 - 0s - loss: 0.3150 - accuracy: 0.9625 - 3ms/epoch - 600us/step\n",
      "Epoch 56/100\n",
      "5/5 - 0s - loss: 0.3090 - accuracy: 0.9625 - 4ms/epoch - 800us/step\n",
      "Epoch 57/100\n",
      "5/5 - 0s - loss: 0.3025 - accuracy: 0.9625 - 3ms/epoch - 600us/step\n",
      "Epoch 58/100\n",
      "5/5 - 0s - loss: 0.2973 - accuracy: 0.9688 - 4ms/epoch - 800us/step\n",
      "Epoch 59/100\n",
      "5/5 - 0s - loss: 0.2919 - accuracy: 0.9688 - 5ms/epoch - 1000us/step\n",
      "Epoch 60/100\n",
      "5/5 - 0s - loss: 0.2868 - accuracy: 0.9750 - 4ms/epoch - 800us/step\n",
      "Epoch 61/100\n",
      "5/5 - 0s - loss: 0.2803 - accuracy: 0.9750 - 3ms/epoch - 599us/step\n",
      "Epoch 62/100\n",
      "5/5 - 0s - loss: 0.2756 - accuracy: 0.9750 - 4ms/epoch - 800us/step\n",
      "Epoch 63/100\n",
      "5/5 - 0s - loss: 0.2705 - accuracy: 0.9750 - 3ms/epoch - 600us/step\n",
      "Epoch 64/100\n",
      "5/5 - 0s - loss: 0.2657 - accuracy: 0.9750 - 3ms/epoch - 600us/step\n",
      "Epoch 65/100\n",
      "5/5 - 0s - loss: 0.2608 - accuracy: 0.9750 - 6ms/epoch - 1ms/step\n",
      "Epoch 66/100\n",
      "5/5 - 0s - loss: 0.2560 - accuracy: 0.9750 - 4ms/epoch - 800us/step\n",
      "Epoch 67/100\n",
      "5/5 - 0s - loss: 0.2516 - accuracy: 0.9750 - 3ms/epoch - 600us/step\n",
      "Epoch 68/100\n",
      "5/5 - 0s - loss: 0.2471 - accuracy: 0.9750 - 4ms/epoch - 800us/step\n",
      "Epoch 69/100\n",
      "5/5 - 0s - loss: 0.2432 - accuracy: 0.9750 - 3ms/epoch - 600us/step\n",
      "Epoch 70/100\n",
      "5/5 - 0s - loss: 0.2386 - accuracy: 0.9750 - 3ms/epoch - 600us/step\n",
      "Epoch 71/100\n",
      "5/5 - 0s - loss: 0.2355 - accuracy: 0.9875 - 5ms/epoch - 1000us/step\n",
      "Epoch 72/100\n",
      "5/5 - 0s - loss: 0.2312 - accuracy: 0.9937 - 4ms/epoch - 800us/step\n",
      "Epoch 73/100\n",
      "5/5 - 0s - loss: 0.2269 - accuracy: 0.9937 - 4ms/epoch - 800us/step\n",
      "Epoch 74/100\n",
      "5/5 - 0s - loss: 0.2233 - accuracy: 1.0000 - 3ms/epoch - 600us/step\n",
      "Epoch 75/100\n",
      "5/5 - 0s - loss: 0.2193 - accuracy: 0.9937 - 4ms/epoch - 800us/step\n",
      "Epoch 76/100\n",
      "5/5 - 0s - loss: 0.2158 - accuracy: 1.0000 - 3ms/epoch - 600us/step\n",
      "Epoch 77/100\n",
      "5/5 - 0s - loss: 0.2126 - accuracy: 1.0000 - 4ms/epoch - 801us/step\n",
      "Epoch 78/100\n",
      "5/5 - 0s - loss: 0.2105 - accuracy: 1.0000 - 4ms/epoch - 800us/step\n",
      "Epoch 79/100\n",
      "5/5 - 0s - loss: 0.2063 - accuracy: 1.0000 - 3ms/epoch - 600us/step\n",
      "Epoch 80/100\n",
      "5/5 - 0s - loss: 0.2027 - accuracy: 1.0000 - 4ms/epoch - 800us/step\n",
      "Epoch 81/100\n",
      "5/5 - 0s - loss: 0.1992 - accuracy: 1.0000 - 3ms/epoch - 600us/step\n",
      "Epoch 82/100\n",
      "5/5 - 0s - loss: 0.1963 - accuracy: 1.0000 - 4ms/epoch - 800us/step\n",
      "Epoch 83/100\n",
      "5/5 - 0s - loss: 0.1931 - accuracy: 1.0000 - 3ms/epoch - 600us/step\n",
      "Epoch 84/100\n",
      "5/5 - 0s - loss: 0.1901 - accuracy: 1.0000 - 4ms/epoch - 801us/step\n",
      "Epoch 85/100\n",
      "5/5 - 0s - loss: 0.1877 - accuracy: 1.0000 - 4ms/epoch - 800us/step\n",
      "Epoch 86/100\n",
      "5/5 - 0s - loss: 0.1848 - accuracy: 1.0000 - 3ms/epoch - 600us/step\n",
      "Epoch 87/100\n",
      "5/5 - 0s - loss: 0.1824 - accuracy: 1.0000 - 3ms/epoch - 600us/step\n",
      "Epoch 88/100\n",
      "5/5 - 0s - loss: 0.1791 - accuracy: 1.0000 - 4ms/epoch - 800us/step\n",
      "Epoch 89/100\n",
      "5/5 - 0s - loss: 0.1779 - accuracy: 1.0000 - 3ms/epoch - 600us/step\n",
      "Epoch 90/100\n",
      "5/5 - 0s - loss: 0.1742 - accuracy: 1.0000 - 4ms/epoch - 800us/step\n",
      "Epoch 91/100\n",
      "5/5 - 0s - loss: 0.1721 - accuracy: 1.0000 - 3ms/epoch - 600us/step\n",
      "Epoch 92/100\n",
      "5/5 - 0s - loss: 0.1688 - accuracy: 1.0000 - 4ms/epoch - 800us/step\n",
      "Epoch 93/100\n",
      "5/5 - 0s - loss: 0.1665 - accuracy: 1.0000 - 3ms/epoch - 600us/step\n",
      "Epoch 94/100\n",
      "5/5 - 0s - loss: 0.1642 - accuracy: 1.0000 - 4ms/epoch - 800us/step\n",
      "Epoch 95/100\n",
      "5/5 - 0s - loss: 0.1623 - accuracy: 1.0000 - 3ms/epoch - 600us/step\n",
      "Epoch 96/100\n",
      "5/5 - 0s - loss: 0.1597 - accuracy: 1.0000 - 4ms/epoch - 800us/step\n",
      "Epoch 97/100\n",
      "5/5 - 0s - loss: 0.1576 - accuracy: 1.0000 - 3ms/epoch - 600us/step\n",
      "Epoch 98/100\n",
      "5/5 - 0s - loss: 0.1553 - accuracy: 1.0000 - 4ms/epoch - 800us/step\n",
      "Epoch 99/100\n",
      "5/5 - 0s - loss: 0.1536 - accuracy: 1.0000 - 4ms/epoch - 800us/step\n",
      "Epoch 100/100\n",
      "5/5 - 0s - loss: 0.1513 - accuracy: 1.0000 - 3ms/epoch - 600us/step\n",
      "1/1 [==============================] - 0s 24ms/step\n",
      "Epoch 1/100\n",
      "5/5 - 0s - loss: 2.0629 - accuracy: 0.1875 - 185ms/epoch - 37ms/step\n"
     ]
    },
    {
     "name": "stdout",
     "output_type": "stream",
     "text": [
      "Epoch 2/100\n",
      "5/5 - 0s - loss: 2.0297 - accuracy: 0.4062 - 3ms/epoch - 600us/step\n",
      "Epoch 3/100\n",
      "5/5 - 0s - loss: 1.9991 - accuracy: 0.5063 - 4ms/epoch - 800us/step\n",
      "Epoch 4/100\n",
      "5/5 - 0s - loss: 1.9692 - accuracy: 0.5813 - 3ms/epoch - 599us/step\n",
      "Epoch 5/100\n",
      "5/5 - 0s - loss: 1.9400 - accuracy: 0.6250 - 4ms/epoch - 800us/step\n",
      "Epoch 6/100\n",
      "5/5 - 0s - loss: 1.9113 - accuracy: 0.6562 - 3ms/epoch - 600us/step\n",
      "Epoch 7/100\n",
      "5/5 - 0s - loss: 1.8832 - accuracy: 0.6687 - 4ms/epoch - 800us/step\n",
      "Epoch 8/100\n",
      "5/5 - 0s - loss: 1.8553 - accuracy: 0.7000 - 3ms/epoch - 600us/step\n",
      "Epoch 9/100\n",
      "5/5 - 0s - loss: 1.8277 - accuracy: 0.7250 - 4ms/epoch - 800us/step\n",
      "Epoch 10/100\n",
      "5/5 - 0s - loss: 1.8020 - accuracy: 0.7375 - 3ms/epoch - 600us/step\n",
      "Epoch 11/100\n",
      "5/5 - 0s - loss: 1.7752 - accuracy: 0.7375 - 3ms/epoch - 600us/step\n",
      "Epoch 12/100\n",
      "5/5 - 0s - loss: 1.7498 - accuracy: 0.7563 - 4ms/epoch - 800us/step\n",
      "Epoch 13/100\n",
      "5/5 - 0s - loss: 1.7241 - accuracy: 0.7563 - 3ms/epoch - 600us/step\n",
      "Epoch 14/100\n",
      "5/5 - 0s - loss: 1.6997 - accuracy: 0.7625 - 3ms/epoch - 600us/step\n",
      "Epoch 15/100\n",
      "5/5 - 0s - loss: 1.6752 - accuracy: 0.7625 - 4ms/epoch - 800us/step\n",
      "Epoch 16/100\n",
      "5/5 - 0s - loss: 1.6519 - accuracy: 0.7625 - 4ms/epoch - 800us/step\n",
      "Epoch 17/100\n",
      "5/5 - 0s - loss: 1.6287 - accuracy: 0.7625 - 4ms/epoch - 800us/step\n",
      "Epoch 18/100\n",
      "5/5 - 0s - loss: 1.6062 - accuracy: 0.7625 - 4ms/epoch - 800us/step\n",
      "Epoch 19/100\n",
      "5/5 - 0s - loss: 1.5838 - accuracy: 0.7625 - 3ms/epoch - 599us/step\n",
      "Epoch 20/100\n",
      "5/5 - 0s - loss: 1.5620 - accuracy: 0.7750 - 3ms/epoch - 600us/step\n",
      "Epoch 21/100\n",
      "5/5 - 0s - loss: 1.5411 - accuracy: 0.7875 - 3ms/epoch - 600us/step\n",
      "Epoch 22/100\n",
      "5/5 - 0s - loss: 1.5201 - accuracy: 0.7875 - 3ms/epoch - 600us/step\n",
      "Epoch 23/100\n",
      "5/5 - 0s - loss: 1.4996 - accuracy: 0.7937 - 3ms/epoch - 600us/step\n",
      "Epoch 24/100\n",
      "5/5 - 0s - loss: 1.4796 - accuracy: 0.8000 - 4ms/epoch - 800us/step\n",
      "Epoch 25/100\n",
      "5/5 - 0s - loss: 1.4604 - accuracy: 0.8000 - 3ms/epoch - 600us/step\n",
      "Epoch 26/100\n",
      "5/5 - 0s - loss: 1.4412 - accuracy: 0.8000 - 4ms/epoch - 800us/step\n",
      "Epoch 27/100\n",
      "5/5 - 0s - loss: 1.4224 - accuracy: 0.8000 - 3ms/epoch - 600us/step\n",
      "Epoch 28/100\n",
      "5/5 - 0s - loss: 1.4043 - accuracy: 0.8000 - 3ms/epoch - 600us/step\n",
      "Epoch 29/100\n",
      "5/5 - 0s - loss: 1.3866 - accuracy: 0.8000 - 4ms/epoch - 800us/step\n",
      "Epoch 30/100\n",
      "5/5 - 0s - loss: 1.3690 - accuracy: 0.8125 - 4ms/epoch - 800us/step\n",
      "Epoch 31/100\n",
      "5/5 - 0s - loss: 1.3518 - accuracy: 0.8188 - 3ms/epoch - 600us/step\n",
      "Epoch 32/100\n",
      "5/5 - 0s - loss: 1.3349 - accuracy: 0.8250 - 4ms/epoch - 800us/step\n",
      "Epoch 33/100\n",
      "5/5 - 0s - loss: 1.3189 - accuracy: 0.8375 - 3ms/epoch - 600us/step\n",
      "Epoch 34/100\n",
      "5/5 - 0s - loss: 1.3025 - accuracy: 0.8375 - 4ms/epoch - 800us/step\n",
      "Epoch 35/100\n",
      "5/5 - 0s - loss: 1.2869 - accuracy: 0.8438 - 3ms/epoch - 600us/step\n",
      "Epoch 36/100\n",
      "5/5 - 0s - loss: 1.2717 - accuracy: 0.8438 - 4ms/epoch - 800us/step\n",
      "Epoch 37/100\n",
      "5/5 - 0s - loss: 1.2565 - accuracy: 0.8562 - 4ms/epoch - 800us/step\n",
      "Epoch 38/100\n",
      "5/5 - 0s - loss: 1.2418 - accuracy: 0.8562 - 3ms/epoch - 600us/step\n",
      "Epoch 39/100\n",
      "5/5 - 0s - loss: 1.2272 - accuracy: 0.8562 - 4ms/epoch - 800us/step\n",
      "Epoch 40/100\n",
      "5/5 - 0s - loss: 1.2135 - accuracy: 0.8562 - 3ms/epoch - 600us/step\n",
      "Epoch 41/100\n",
      "5/5 - 0s - loss: 1.1992 - accuracy: 0.8562 - 4ms/epoch - 800us/step\n",
      "Epoch 42/100\n",
      "5/5 - 0s - loss: 1.1858 - accuracy: 0.8625 - 3ms/epoch - 600us/step\n",
      "Epoch 43/100\n",
      "5/5 - 0s - loss: 1.1723 - accuracy: 0.8625 - 4ms/epoch - 800us/step\n",
      "Epoch 44/100\n",
      "5/5 - 0s - loss: 1.1593 - accuracy: 0.8687 - 3ms/epoch - 600us/step\n",
      "Epoch 45/100\n",
      "5/5 - 0s - loss: 1.1466 - accuracy: 0.8687 - 4ms/epoch - 800us/step\n",
      "Epoch 46/100\n",
      "5/5 - 0s - loss: 1.1340 - accuracy: 0.8750 - 3ms/epoch - 600us/step\n",
      "Epoch 47/100\n",
      "5/5 - 0s - loss: 1.1217 - accuracy: 0.8750 - 4ms/epoch - 800us/step\n",
      "Epoch 48/100\n",
      "5/5 - 0s - loss: 1.1096 - accuracy: 0.8750 - 3ms/epoch - 600us/step\n",
      "Epoch 49/100\n",
      "5/5 - 0s - loss: 1.0978 - accuracy: 0.8750 - 3ms/epoch - 600us/step\n",
      "Epoch 50/100\n",
      "5/5 - 0s - loss: 1.0861 - accuracy: 0.8750 - 4ms/epoch - 800us/step\n",
      "Epoch 51/100\n",
      "5/5 - 0s - loss: 1.0746 - accuracy: 0.8750 - 3ms/epoch - 600us/step\n",
      "Epoch 52/100\n",
      "5/5 - 0s - loss: 1.0633 - accuracy: 0.8813 - 3ms/epoch - 600us/step\n",
      "Epoch 53/100\n",
      "5/5 - 0s - loss: 1.0523 - accuracy: 0.8875 - 4ms/epoch - 800us/step\n",
      "Epoch 54/100\n",
      "5/5 - 0s - loss: 1.0415 - accuracy: 0.8875 - 3ms/epoch - 600us/step\n",
      "Epoch 55/100\n",
      "5/5 - 0s - loss: 1.0308 - accuracy: 0.8875 - 4ms/epoch - 800us/step\n",
      "Epoch 56/100\n",
      "5/5 - 0s - loss: 1.0203 - accuracy: 0.8875 - 3ms/epoch - 600us/step\n",
      "Epoch 57/100\n",
      "5/5 - 0s - loss: 1.0102 - accuracy: 0.8875 - 4ms/epoch - 800us/step\n",
      "Epoch 58/100\n",
      "5/5 - 0s - loss: 1.0000 - accuracy: 0.8875 - 4ms/epoch - 800us/step\n",
      "Epoch 59/100\n",
      "5/5 - 0s - loss: 0.9902 - accuracy: 0.8875 - 3ms/epoch - 600us/step\n",
      "Epoch 60/100\n",
      "5/5 - 0s - loss: 0.9802 - accuracy: 0.8875 - 3ms/epoch - 600us/step\n",
      "Epoch 61/100\n",
      "5/5 - 0s - loss: 0.9706 - accuracy: 0.8875 - 4ms/epoch - 800us/step\n",
      "Epoch 62/100\n",
      "5/5 - 0s - loss: 0.9612 - accuracy: 0.8875 - 3ms/epoch - 600us/step\n",
      "Epoch 63/100\n",
      "5/5 - 0s - loss: 0.9519 - accuracy: 0.8875 - 3ms/epoch - 600us/step\n",
      "Epoch 64/100\n",
      "5/5 - 0s - loss: 0.9426 - accuracy: 0.8875 - 4ms/epoch - 800us/step\n",
      "Epoch 65/100\n",
      "5/5 - 0s - loss: 0.9338 - accuracy: 0.8875 - 4ms/epoch - 800us/step\n",
      "Epoch 66/100\n",
      "5/5 - 0s - loss: 0.9249 - accuracy: 0.8875 - 3ms/epoch - 600us/step\n",
      "Epoch 67/100\n",
      "5/5 - 0s - loss: 0.9160 - accuracy: 0.8938 - 4ms/epoch - 800us/step\n",
      "Epoch 68/100\n",
      "5/5 - 0s - loss: 0.9075 - accuracy: 0.8938 - 3ms/epoch - 600us/step\n",
      "Epoch 69/100\n",
      "5/5 - 0s - loss: 0.8989 - accuracy: 0.8938 - 3ms/epoch - 600us/step\n",
      "Epoch 70/100\n",
      "5/5 - 0s - loss: 0.8905 - accuracy: 0.8938 - 4ms/epoch - 800us/step\n",
      "Epoch 71/100\n",
      "5/5 - 0s - loss: 0.8824 - accuracy: 0.8938 - 4ms/epoch - 800us/step\n",
      "Epoch 72/100\n",
      "5/5 - 0s - loss: 0.8742 - accuracy: 0.8938 - 3ms/epoch - 600us/step\n",
      "Epoch 73/100\n",
      "5/5 - 0s - loss: 0.8663 - accuracy: 0.8938 - 4ms/epoch - 800us/step\n",
      "Epoch 74/100\n",
      "5/5 - 0s - loss: 0.8584 - accuracy: 0.9000 - 3ms/epoch - 600us/step\n",
      "Epoch 75/100\n",
      "5/5 - 0s - loss: 0.8505 - accuracy: 0.9062 - 4ms/epoch - 800us/step\n",
      "Epoch 76/100\n",
      "5/5 - 0s - loss: 0.8430 - accuracy: 0.9062 - 3ms/epoch - 600us/step\n",
      "Epoch 77/100\n",
      "5/5 - 0s - loss: 0.8353 - accuracy: 0.9062 - 4ms/epoch - 800us/step\n",
      "Epoch 78/100\n",
      "5/5 - 0s - loss: 0.8279 - accuracy: 0.9062 - 4ms/epoch - 800us/step\n",
      "Epoch 79/100\n",
      "5/5 - 0s - loss: 0.8205 - accuracy: 0.9062 - 3ms/epoch - 600us/step\n",
      "Epoch 80/100\n",
      "5/5 - 0s - loss: 0.8134 - accuracy: 0.9062 - 4ms/epoch - 800us/step\n",
      "Epoch 81/100\n",
      "5/5 - 0s - loss: 0.8062 - accuracy: 0.9062 - 3ms/epoch - 600us/step\n",
      "Epoch 82/100\n",
      "5/5 - 0s - loss: 0.7991 - accuracy: 0.9062 - 4ms/epoch - 800us/step\n",
      "Epoch 83/100\n",
      "5/5 - 0s - loss: 0.7922 - accuracy: 0.9062 - 3ms/epoch - 600us/step\n",
      "Epoch 84/100\n",
      "5/5 - 0s - loss: 0.7853 - accuracy: 0.9062 - 3ms/epoch - 600us/step\n",
      "Epoch 85/100\n",
      "5/5 - 0s - loss: 0.7784 - accuracy: 0.9062 - 4ms/epoch - 799us/step\n",
      "Epoch 86/100\n",
      "5/5 - 0s - loss: 0.7718 - accuracy: 0.9187 - 3ms/epoch - 600us/step\n",
      "Epoch 87/100\n",
      "5/5 - 0s - loss: 0.7653 - accuracy: 0.9187 - 4ms/epoch - 800us/step\n",
      "Epoch 88/100\n",
      "5/5 - 0s - loss: 0.7588 - accuracy: 0.9187 - 3ms/epoch - 600us/step\n",
      "Epoch 89/100\n",
      "5/5 - 0s - loss: 0.7523 - accuracy: 0.9187 - 4ms/epoch - 800us/step\n",
      "Epoch 90/100\n",
      "5/5 - 0s - loss: 0.7459 - accuracy: 0.9187 - 3ms/epoch - 600us/step\n",
      "Epoch 91/100\n",
      "5/5 - 0s - loss: 0.7396 - accuracy: 0.9250 - 4ms/epoch - 800us/step\n",
      "Epoch 92/100\n",
      "5/5 - 0s - loss: 0.7334 - accuracy: 0.9250 - 4ms/epoch - 799us/step\n",
      "Epoch 93/100\n",
      "5/5 - 0s - loss: 0.7272 - accuracy: 0.9250 - 3ms/epoch - 600us/step\n",
      "Epoch 94/100\n",
      "5/5 - 0s - loss: 0.7214 - accuracy: 0.9312 - 4ms/epoch - 800us/step\n",
      "Epoch 95/100\n",
      "5/5 - 0s - loss: 0.7153 - accuracy: 0.9312 - 3ms/epoch - 600us/step\n",
      "Epoch 96/100\n",
      "5/5 - 0s - loss: 0.7094 - accuracy: 0.9312 - 4ms/epoch - 800us/step\n",
      "Epoch 97/100\n",
      "5/5 - 0s - loss: 0.7035 - accuracy: 0.9312 - 3ms/epoch - 600us/step\n",
      "Epoch 98/100\n",
      "5/5 - 0s - loss: 0.6978 - accuracy: 0.9312 - 3ms/epoch - 600us/step\n",
      "Epoch 99/100\n",
      "5/5 - 0s - loss: 0.6921 - accuracy: 0.9312 - 3ms/epoch - 600us/step\n",
      "Epoch 100/100\n",
      "5/5 - 0s - loss: 0.6865 - accuracy: 0.9312 - 4ms/epoch - 801us/step\n",
      "1/1 [==============================] - 0s 27ms/step\n",
      "Epoch 1/100\n",
      "5/5 - 0s - loss: 2.0741 - accuracy: 0.1750 - 185ms/epoch - 37ms/step\n",
      "Epoch 2/100\n",
      "5/5 - 0s - loss: 2.0401 - accuracy: 0.3500 - 4ms/epoch - 800us/step\n"
     ]
    },
    {
     "name": "stdout",
     "output_type": "stream",
     "text": [
      "Epoch 3/100\n",
      "5/5 - 0s - loss: 2.0090 - accuracy: 0.5063 - 4ms/epoch - 800us/step\n",
      "Epoch 4/100\n",
      "5/5 - 0s - loss: 1.9790 - accuracy: 0.6000 - 3ms/epoch - 600us/step\n",
      "Epoch 5/100\n",
      "5/5 - 0s - loss: 1.9488 - accuracy: 0.6500 - 4ms/epoch - 800us/step\n",
      "Epoch 6/100\n",
      "5/5 - 0s - loss: 1.9197 - accuracy: 0.6687 - 3ms/epoch - 599us/step\n",
      "Epoch 7/100\n",
      "5/5 - 0s - loss: 1.8915 - accuracy: 0.6812 - 4ms/epoch - 800us/step\n",
      "Epoch 8/100\n",
      "5/5 - 0s - loss: 1.8629 - accuracy: 0.7063 - 3ms/epoch - 600us/step\n",
      "Epoch 9/100\n",
      "5/5 - 0s - loss: 1.8352 - accuracy: 0.7250 - 3ms/epoch - 600us/step\n",
      "Epoch 10/100\n",
      "5/5 - 0s - loss: 1.8078 - accuracy: 0.7312 - 3ms/epoch - 600us/step\n",
      "Epoch 11/100\n",
      "5/5 - 0s - loss: 1.7807 - accuracy: 0.7312 - 4ms/epoch - 800us/step\n",
      "Epoch 12/100\n",
      "5/5 - 0s - loss: 1.7545 - accuracy: 0.7312 - 3ms/epoch - 599us/step\n",
      "Epoch 13/100\n",
      "5/5 - 0s - loss: 1.7292 - accuracy: 0.7312 - 3ms/epoch - 600us/step\n",
      "Epoch 14/100\n",
      "5/5 - 0s - loss: 1.7040 - accuracy: 0.7375 - 4ms/epoch - 800us/step\n",
      "Epoch 15/100\n",
      "5/5 - 0s - loss: 1.6789 - accuracy: 0.7437 - 3ms/epoch - 600us/step\n",
      "Epoch 16/100\n",
      "5/5 - 0s - loss: 1.6552 - accuracy: 0.7500 - 3ms/epoch - 600us/step\n",
      "Epoch 17/100\n",
      "5/5 - 0s - loss: 1.6313 - accuracy: 0.7563 - 4ms/epoch - 800us/step\n",
      "Epoch 18/100\n",
      "5/5 - 0s - loss: 1.6090 - accuracy: 0.7563 - 3ms/epoch - 600us/step\n",
      "Epoch 19/100\n",
      "5/5 - 0s - loss: 1.5854 - accuracy: 0.7563 - 4ms/epoch - 800us/step\n",
      "Epoch 20/100\n",
      "5/5 - 0s - loss: 1.5634 - accuracy: 0.7812 - 3ms/epoch - 600us/step\n",
      "Epoch 21/100\n",
      "5/5 - 0s - loss: 1.5419 - accuracy: 0.7812 - 3ms/epoch - 600us/step\n",
      "Epoch 22/100\n",
      "5/5 - 0s - loss: 1.5210 - accuracy: 0.7812 - 4ms/epoch - 800us/step\n",
      "Epoch 23/100\n",
      "5/5 - 0s - loss: 1.5002 - accuracy: 0.7875 - 4ms/epoch - 800us/step\n",
      "Epoch 24/100\n",
      "5/5 - 0s - loss: 1.4800 - accuracy: 0.8000 - 3ms/epoch - 600us/step\n",
      "Epoch 25/100\n",
      "5/5 - 0s - loss: 1.4605 - accuracy: 0.8000 - 3ms/epoch - 600us/step\n",
      "Epoch 26/100\n",
      "5/5 - 0s - loss: 1.4413 - accuracy: 0.8000 - 4ms/epoch - 800us/step\n",
      "Epoch 27/100\n",
      "5/5 - 0s - loss: 1.4224 - accuracy: 0.8000 - 3ms/epoch - 600us/step\n",
      "Epoch 28/100\n",
      "5/5 - 0s - loss: 1.4040 - accuracy: 0.8062 - 3ms/epoch - 600us/step\n",
      "Epoch 29/100\n",
      "5/5 - 0s - loss: 1.3860 - accuracy: 0.8062 - 4ms/epoch - 800us/step\n",
      "Epoch 30/100\n",
      "5/5 - 0s - loss: 1.3685 - accuracy: 0.8125 - 4ms/epoch - 800us/step\n",
      "Epoch 31/100\n",
      "5/5 - 0s - loss: 1.3511 - accuracy: 0.8125 - 3ms/epoch - 600us/step\n",
      "Epoch 32/100\n",
      "5/5 - 0s - loss: 1.3346 - accuracy: 0.8188 - 4ms/epoch - 800us/step\n",
      "Epoch 33/100\n",
      "5/5 - 0s - loss: 1.3181 - accuracy: 0.8250 - 3ms/epoch - 600us/step\n",
      "Epoch 34/100\n",
      "5/5 - 0s - loss: 1.3019 - accuracy: 0.8250 - 4ms/epoch - 800us/step\n",
      "Epoch 35/100\n",
      "5/5 - 0s - loss: 1.2863 - accuracy: 0.8250 - 3ms/epoch - 600us/step\n",
      "Epoch 36/100\n",
      "5/5 - 0s - loss: 1.2711 - accuracy: 0.8250 - 4ms/epoch - 800us/step\n",
      "Epoch 37/100\n",
      "5/5 - 0s - loss: 1.2560 - accuracy: 0.8313 - 4ms/epoch - 800us/step\n",
      "Epoch 38/100\n",
      "5/5 - 0s - loss: 1.2412 - accuracy: 0.8313 - 3ms/epoch - 600us/step\n",
      "Epoch 39/100\n",
      "5/5 - 0s - loss: 1.2269 - accuracy: 0.8438 - 4ms/epoch - 800us/step\n",
      "Epoch 40/100\n",
      "5/5 - 0s - loss: 1.2126 - accuracy: 0.8438 - 3ms/epoch - 600us/step\n",
      "Epoch 41/100\n",
      "5/5 - 0s - loss: 1.1988 - accuracy: 0.8500 - 4ms/epoch - 800us/step\n",
      "Epoch 42/100\n",
      "5/5 - 0s - loss: 1.1853 - accuracy: 0.8500 - 3ms/epoch - 600us/step\n",
      "Epoch 43/100\n",
      "5/5 - 0s - loss: 1.1721 - accuracy: 0.8500 - 4ms/epoch - 800us/step\n",
      "Epoch 44/100\n",
      "5/5 - 0s - loss: 1.1593 - accuracy: 0.8562 - 4ms/epoch - 800us/step\n",
      "Epoch 45/100\n",
      "5/5 - 0s - loss: 1.1464 - accuracy: 0.8562 - 4ms/epoch - 800us/step\n",
      "Epoch 46/100\n",
      "5/5 - 0s - loss: 1.1339 - accuracy: 0.8562 - 3ms/epoch - 600us/step\n",
      "Epoch 47/100\n",
      "5/5 - 0s - loss: 1.1217 - accuracy: 0.8562 - 4ms/epoch - 800us/step\n",
      "Epoch 48/100\n",
      "5/5 - 0s - loss: 1.1097 - accuracy: 0.8625 - 3ms/epoch - 600us/step\n",
      "Epoch 49/100\n",
      "5/5 - 0s - loss: 1.0980 - accuracy: 0.8687 - 3ms/epoch - 600us/step\n",
      "Epoch 50/100\n",
      "5/5 - 0s - loss: 1.0865 - accuracy: 0.8687 - 4ms/epoch - 800us/step\n",
      "Epoch 51/100\n",
      "5/5 - 0s - loss: 1.0751 - accuracy: 0.8687 - 4ms/epoch - 800us/step\n",
      "Epoch 52/100\n",
      "5/5 - 0s - loss: 1.0639 - accuracy: 0.8687 - 3ms/epoch - 600us/step\n",
      "Epoch 53/100\n",
      "5/5 - 0s - loss: 1.0529 - accuracy: 0.8687 - 4ms/epoch - 800us/step\n",
      "Epoch 54/100\n",
      "5/5 - 0s - loss: 1.0422 - accuracy: 0.8750 - 3ms/epoch - 600us/step\n",
      "Epoch 55/100\n",
      "5/5 - 0s - loss: 1.0317 - accuracy: 0.8750 - 4ms/epoch - 800us/step\n",
      "Epoch 56/100\n",
      "5/5 - 0s - loss: 1.0214 - accuracy: 0.8813 - 3ms/epoch - 600us/step\n",
      "Epoch 57/100\n",
      "5/5 - 0s - loss: 1.0112 - accuracy: 0.8813 - 4ms/epoch - 800us/step\n",
      "Epoch 58/100\n",
      "5/5 - 0s - loss: 1.0011 - accuracy: 0.8813 - 4ms/epoch - 800us/step\n",
      "Epoch 59/100\n",
      "5/5 - 0s - loss: 0.9912 - accuracy: 0.8813 - 3ms/epoch - 600us/step\n",
      "Epoch 60/100\n",
      "5/5 - 0s - loss: 0.9816 - accuracy: 0.8813 - 4ms/epoch - 800us/step\n",
      "Epoch 61/100\n",
      "5/5 - 0s - loss: 0.9721 - accuracy: 0.8813 - 3ms/epoch - 600us/step\n",
      "Epoch 62/100\n",
      "5/5 - 0s - loss: 0.9626 - accuracy: 0.8813 - 3ms/epoch - 600us/step\n",
      "Epoch 63/100\n",
      "5/5 - 0s - loss: 0.9535 - accuracy: 0.8813 - 4ms/epoch - 800us/step\n",
      "Epoch 64/100\n",
      "5/5 - 0s - loss: 0.9442 - accuracy: 0.8813 - 4ms/epoch - 800us/step\n",
      "Epoch 65/100\n",
      "5/5 - 0s - loss: 0.9352 - accuracy: 0.8813 - 4ms/epoch - 800us/step\n",
      "Epoch 66/100\n",
      "5/5 - 0s - loss: 0.9265 - accuracy: 0.8813 - 3ms/epoch - 600us/step\n",
      "Epoch 67/100\n",
      "5/5 - 0s - loss: 0.9180 - accuracy: 0.8813 - 4ms/epoch - 800us/step\n",
      "Epoch 68/100\n",
      "5/5 - 0s - loss: 0.9094 - accuracy: 0.8813 - 3ms/epoch - 599us/step\n",
      "Epoch 69/100\n",
      "5/5 - 0s - loss: 0.9009 - accuracy: 0.8813 - 4ms/epoch - 800us/step\n",
      "Epoch 70/100\n",
      "5/5 - 0s - loss: 0.8926 - accuracy: 0.8813 - 3ms/epoch - 600us/step\n",
      "Epoch 71/100\n",
      "5/5 - 0s - loss: 0.8844 - accuracy: 0.8813 - 3ms/epoch - 599us/step\n",
      "Epoch 72/100\n",
      "5/5 - 0s - loss: 0.8764 - accuracy: 0.8813 - 4ms/epoch - 800us/step\n",
      "Epoch 73/100\n",
      "5/5 - 0s - loss: 0.8684 - accuracy: 0.8813 - 3ms/epoch - 600us/step\n",
      "Epoch 74/100\n",
      "5/5 - 0s - loss: 0.8606 - accuracy: 0.8813 - 4ms/epoch - 800us/step\n",
      "Epoch 75/100\n",
      "5/5 - 0s - loss: 0.8529 - accuracy: 0.8938 - 3ms/epoch - 600us/step\n",
      "Epoch 76/100\n",
      "5/5 - 0s - loss: 0.8453 - accuracy: 0.8938 - 4ms/epoch - 800us/step\n",
      "Epoch 77/100\n",
      "5/5 - 0s - loss: 0.8378 - accuracy: 0.8938 - 4ms/epoch - 800us/step\n",
      "Epoch 78/100\n",
      "5/5 - 0s - loss: 0.8304 - accuracy: 0.8938 - 4ms/epoch - 800us/step\n",
      "Epoch 79/100\n",
      "5/5 - 0s - loss: 0.8232 - accuracy: 0.9000 - 3ms/epoch - 600us/step\n",
      "Epoch 80/100\n",
      "5/5 - 0s - loss: 0.8159 - accuracy: 0.9000 - 4ms/epoch - 800us/step\n",
      "Epoch 81/100\n",
      "5/5 - 0s - loss: 0.8088 - accuracy: 0.9000 - 3ms/epoch - 600us/step\n",
      "Epoch 82/100\n",
      "5/5 - 0s - loss: 0.8017 - accuracy: 0.9000 - 3ms/epoch - 600us/step\n",
      "Epoch 83/100\n",
      "5/5 - 0s - loss: 0.7949 - accuracy: 0.9062 - 4ms/epoch - 800us/step\n",
      "Epoch 84/100\n",
      "5/5 - 0s - loss: 0.7879 - accuracy: 0.9062 - 4ms/epoch - 800us/step\n",
      "Epoch 85/100\n",
      "5/5 - 0s - loss: 0.7814 - accuracy: 0.9062 - 3ms/epoch - 600us/step\n",
      "Epoch 86/100\n",
      "5/5 - 0s - loss: 0.7747 - accuracy: 0.9062 - 4ms/epoch - 800us/step\n",
      "Epoch 87/100\n",
      "5/5 - 0s - loss: 0.7682 - accuracy: 0.9062 - 3ms/epoch - 600us/step\n",
      "Epoch 88/100\n",
      "5/5 - 0s - loss: 0.7616 - accuracy: 0.9062 - 4ms/epoch - 800us/step\n",
      "Epoch 89/100\n",
      "5/5 - 0s - loss: 0.7552 - accuracy: 0.9062 - 3ms/epoch - 600us/step\n",
      "Epoch 90/100\n",
      "5/5 - 0s - loss: 0.7489 - accuracy: 0.9062 - 4ms/epoch - 800us/step\n",
      "Epoch 91/100\n",
      "5/5 - 0s - loss: 0.7426 - accuracy: 0.9062 - 4ms/epoch - 800us/step\n",
      "Epoch 92/100\n",
      "5/5 - 0s - loss: 0.7366 - accuracy: 0.9062 - 4ms/epoch - 800us/step\n",
      "Epoch 93/100\n",
      "5/5 - 0s - loss: 0.7303 - accuracy: 0.9062 - 3ms/epoch - 600us/step\n",
      "Epoch 94/100\n",
      "5/5 - 0s - loss: 0.7244 - accuracy: 0.9062 - 3ms/epoch - 599us/step\n",
      "Epoch 95/100\n",
      "5/5 - 0s - loss: 0.7185 - accuracy: 0.9062 - 3ms/epoch - 600us/step\n",
      "Epoch 96/100\n",
      "5/5 - 0s - loss: 0.7127 - accuracy: 0.9062 - 4ms/epoch - 800us/step\n",
      "Epoch 97/100\n",
      "5/5 - 0s - loss: 0.7069 - accuracy: 0.9062 - 4ms/epoch - 800us/step\n",
      "Epoch 98/100\n",
      "5/5 - 0s - loss: 0.7012 - accuracy: 0.9062 - 4ms/epoch - 800us/step\n",
      "Epoch 99/100\n",
      "5/5 - 0s - loss: 0.6955 - accuracy: 0.9125 - 4ms/epoch - 800us/step\n",
      "Epoch 100/100\n",
      "5/5 - 0s - loss: 0.6900 - accuracy: 0.9187 - 3ms/epoch - 600us/step\n",
      "WARNING:tensorflow:5 out of the last 5 calls to <function Model.make_predict_function.<locals>.predict_function at 0x000001AA6ADCE200> triggered tf.function retracing. Tracing is expensive and the excessive number of tracings could be due to (1) creating @tf.function repeatedly in a loop, (2) passing tensors with different shapes, (3) passing Python objects instead of tensors. For (1), please define your @tf.function outside of the loop. For (2), @tf.function has reduce_retracing=True option that can avoid unnecessary retracing. For (3), please refer to https://www.tensorflow.org/guide/function#controlling_retracing and https://www.tensorflow.org/api_docs/python/tf/function for  more details.\n"
     ]
    },
    {
     "name": "stdout",
     "output_type": "stream",
     "text": [
      "1/1 [==============================] - 0s 24ms/step\n"
     ]
    }
   ],
   "source": [
    "for currEmb in ['BERT_UNCASED', 'all-distilroberta', 'all-mpnet-base']:\n",
    "    data = loadData(f\"{datadir}/{dsName}_{currEmb}.json\")\n",
    "    trainX, trainY, testX, testY = prepareTrainTestXYSentence(data,classify_by_field=\"class\")\n",
    "\n",
    "    currclassifier = NNClassifier()\n",
    "    history = currclassifier.train(trainX, trainY)\n",
    "\n",
    "    labels.append(f\"{currEmb} NN\")\n",
    "    curr_train_acc = history.history[\"accuracy\"][-1]\n",
    "    train_accs.append(curr_train_acc)\n",
    "    \n",
    "    res = currclassifier.predict(testX)\n",
    "    curr_test_acc = evaluate(res, testY)\n",
    "    test_accs.append(curr_test_acc)"
   ]
  },
  {
   "cell_type": "markdown",
   "metadata": {},
   "source": [
    "All results are presented in the bar chart."
   ]
  },
  {
   "cell_type": "code",
   "execution_count": 16,
   "metadata": {},
   "outputs": [
    {
     "data": {
      "image/png": "[encoded data removed]",
      "text/plain": [
       "<Figure size 800x600 with 1 Axes>"
      ]
     },
     "metadata": {},
     "output_type": "display_data"
    }
   ],
   "source": [
    "width = 0.3\n",
    "plt.bar(np.arange(len(test_accs)) - (width/2), test_accs, width=width)\n",
    "plt.bar(np.arange(len(train_accs)) + (width/2), train_accs, width=width)\n",
    "plt.xticks(range(len(labels)), labels, rotation=-50)\n",
    "plt.ylabel(\"Accuracy\")\n",
    "plt.title(\"Classical algorithm results\")\n",
    "plt.legend([\"Test\", \"Train\"])\n",
    "plt.show()"
   ]
  },
  {
   "cell_type": "markdown",
   "metadata": {},
   "source": [
    "All results are saved to file."
   ]
  },
  {
   "cell_type": "code",
   "execution_count": 17,
   "metadata": {},
   "outputs": [],
   "source": [
    "with open(f\"{modeldir}/{dsName}_results.json\", \"w\", encoding=\"utf-8\") as f:\n",
    "        json.dump({\"train_accuracy\": train_accs, \"test_accuracy\": test_accs, \"model type\": labels}, f, indent=1, ensure_ascii=False)"
   ]
  },
  {
   "cell_type": "markdown",
   "metadata": {},
   "source": [
    "## 6. Saving, loading and re-using models"
   ]
  },
  {
   "cell_type": "markdown",
   "metadata": {},
   "source": [
    "!!! To save the model use function save. The function's argument is the folder name where trained model's files will be saved."
   ]
  },
  {
   "cell_type": "code",
   "execution_count": 18,
   "metadata": {},
   "outputs": [
    {
     "name": "stdout",
     "output_type": "stream",
     "text": [
      "INFO:tensorflow:Assets written to: ../../models/classical/labelled_newscatcher_dataset_BERT_CASED\\assets\n"
     ]
    }
   ],
   "source": [
    "classifier.save(f\"{modeldir}/{dsName}_{embName}\")"
   ]
  },
  {
   "cell_type": "markdown",
   "metadata": {},
   "source": [
    "!!! To load previousely saved model create *NNClassifier* object and use function *load*. The function's argument is the folder name where trained model's files are saved. In this example *newclassifier* object after loading will become replica of *classifier* object."
   ]
  },
  {
   "cell_type": "code",
   "execution_count": 19,
   "metadata": {},
   "outputs": [
    {
     "data": {
      "text/plain": [
       "True"
      ]
     },
     "execution_count": 19,
     "metadata": {},
     "output_type": "execute_result"
    }
   ],
   "source": [
    "newclassifier = NNClassifier()\n",
    "newclassifier.load(f\"{modeldir}/{dsName}_{embName}\")"
   ]
  },
  {
   "cell_type": "markdown",
   "metadata": {},
   "source": [
    "!!! To use classifier for prediction:\n",
    "1) generate embedding vector;\n",
    "2) predict the class of the sentence calling function *predict* and passing embedding vector of the sentence."
   ]
  },
  {
   "cell_type": "code",
   "execution_count": 24,
   "metadata": {},
   "outputs": [
    {
     "name": "stderr",
     "output_type": "stream",
     "text": [
      "Some weights of the model checkpoint at bert-base-cased were not used when initializing BertModel: ['cls.predictions.bias', 'cls.predictions.decoder.weight', 'cls.predictions.transform.dense.bias', 'cls.seq_relationship.weight', 'cls.predictions.transform.dense.weight', 'cls.seq_relationship.bias', 'cls.predictions.transform.LayerNorm.bias', 'cls.predictions.transform.LayerNorm.weight']\n",
      "- This IS expected if you are initializing BertModel from the checkpoint of a model trained on another task or with another architecture (e.g. initializing a BertForSequenceClassification model from a BertForPreTraining model).\n",
      "- This IS NOT expected if you are initializing BertModel from the checkpoint of a model that you expect to be exactly identical (initializing a BertForSequenceClassification model from a BertForSequenceClassification model).\n"
     ]
    },
    {
     "name": "stdout",
     "output_type": "stream",
     "text": [
      "bert-base-cased loaded!\n"
     ]
    }
   ],
   "source": [
    "sys.path.append(\"../../data/data_processing/data_vectorisation/\")\n",
    "from Embeddings import Embeddings\n",
    "vc = Embeddings('bert-base-cased','bert')\n",
    "sentence=\"global financial system\"\n",
    "embvec = vc.getEmbeddingVector(sentence)"
   ]
  },
  {
   "cell_type": "code",
   "execution_count": 25,
   "metadata": {},
   "outputs": [
    {
     "name": "stdout",
     "output_type": "stream",
     "text": [
      "1/1 [==============================] - 0s 22ms/step\n",
      "1/1 [==============================] - 0s 24ms/step\n",
      "Sentence: global financial system\n",
      "Class (original classifier): [3]\n",
      "Class (reloaded classifier): [3]\n"
     ]
    }
   ],
   "source": [
    "classpredicted = newclassifier.predict(embvec)\n",
    "origclasspredicted = classifier.predict(embvec)\n",
    "print(f\"Sentence: {sentence}\\nClass (original classifier): {origclasspredicted}\\nClass (reloaded classifier): {classpredicted}\")"
   ]
  },
  {
   "cell_type": "code",
   "execution_count": null,
   "metadata": {},
   "outputs": [],
   "source": []
  }
 ],
 "metadata": {
  "kernelspec": {
   "display_name": "Python 3 (ipykernel)",
   "language": "python",
   "name": "python3"
  },
  "language_info": {
   "codemirror_mode": {
    "name": "ipython",
    "version": 3
   },
   "file_extension": ".py",
   "mimetype": "text/x-python",
   "name": "python",
   "nbconvert_exporter": "python",
   "pygments_lexer": "ipython3",
   "version": "3.10.5"
  },
  "vscode": {
   "interpreter": {
    "hash": "a665b5d41d17b532ea9890333293a1b812fa0b73c9c25c950b3cedf1bebd0438"
   }
  }
 },
 "nbformat": 4,
 "nbformat_minor": 4
}
