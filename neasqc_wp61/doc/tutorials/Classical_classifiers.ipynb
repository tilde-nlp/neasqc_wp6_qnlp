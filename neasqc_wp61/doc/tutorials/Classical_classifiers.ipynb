{
 "cells": [
  {
   "cell_type": "markdown",
   "metadata": {
    "tags": []
   },
   "source": [
    "# Classical classifiers"
   ]
  },
  {
   "cell_type": "markdown",
   "metadata": {},
   "source": [
    "This notebook shows how well classical classifiers solve the sentence classification problem. This is mainly needed to have a baseline for quantum solution to compare against."
   ]
  },
  {
   "cell_type": "markdown",
   "metadata": {},
   "source": [
    "We first load our library files and the required packages."
   ]
  },
  {
   "cell_type": "code",
   "execution_count": 11,
   "metadata": {},
   "outputs": [],
   "source": [
    "import sys\n",
    "import os\n",
    "import json\n",
    "import numpy as np\n",
    "from sklearn.neighbors import KNeighborsClassifier\n",
    "\n",
    "sys.path.append(\"../../models/classical/\")\n",
    "\n",
    "from NNClassifier import (loadData,evaluate, NNClassifier,\n",
    "       prepareTrainTestXYWords, prepareTrainTestXYSentence,)"
   ]
  },
  {
   "cell_type": "markdown",
   "metadata": {},
   "source": [
    "We have implemented sentence vectorization using pretrained BERT cased and uncased (see [Git](https://github.com/google-research/bert), [arXiv](https://arxiv.org/abs/1810.04805)) base models (each sentence is represented as a 768-dimensional real-valued vector), sentence transformer models *all-mpnet-base-v2* and *all-distilroberta-v1* (see [link](https://www.sbert.net/docs/pretrained_models.html)) as well as word-level vectorization using [_fastText_](https://fasttext.cc/) model pretrained on [English Wikipedia and Common Crawl](hhttps://fasttext.cc/docs/en/crawl-vectors.html) (each word in a sentence is represented as a 300-dimensional real-valued vector)."
   ]
  },
  {
   "cell_type": "markdown",
   "metadata": {},
   "source": [
    "The Jupyter notebook *Prepare_datasets_4classifier.ipynb* shows how to filterdata and acquire embedding vectors using different vectorization models."
   ]
  },
  {
   "cell_type": "code",
   "execution_count": 12,
   "metadata": {},
   "outputs": [],
   "source": [
    "datadir = \"../../data/datasets\"\n",
    "dsName='amazonreview_train'"
   ]
  },
  {
   "cell_type": "markdown",
   "metadata": {},
   "source": [
    "## 1. Training shallow feedforward neural network"
   ]
  },
  {
   "cell_type": "markdown",
   "metadata": {},
   "source": [
    "To train shallow feedforward neural network models we employ sentence level embeddings. "
   ]
  },
  {
   "cell_type": "code",
   "execution_count": 13,
   "metadata": {},
   "outputs": [],
   "source": [
    "embName='all-mpnet-base' #'BERT_CASED' # or 'BERT_UNCASED', 'all-distilroberta', 'all-mpnet-base'"
   ]
  },
  {
   "cell_type": "code",
   "execution_count": 14,
   "metadata": {},
   "outputs": [
    {
     "name": "stdout",
     "output_type": "stream",
     "text": [
      "Training samples: 145610, test samples: 16179\n",
      "An example sentence: mobile phone interference, class: 1, syntactical tag: n[(n/n)   n[(n/n)   n]]\n",
      "Vectorized sentence dimension: 768\n"
     ]
    }
   ],
   "source": [
    "data = loadData(f\"{datadir}/{dsName}_{embName}.json\")\n",
    "print(f\"Training samples: {len(data['train_data'])}, test samples: {len(data['test_data'])}\")\n",
    "print(f\"An example sentence: {data['train_data'][2]['sentence']}, class: {data['train_data'][2]['class']}, syntactical tag: {data['train_data'][2]['tag']}\")\n",
    "print(f\"Vectorized sentence dimension: {len(data['train_data'][0]['sentence_vectorized'][0])}\")"
   ]
  },
  {
   "cell_type": "markdown",
   "metadata": {},
   "source": [
    "We reformat the data as numpy arrays for classifier training. "
   ]
  },
  {
   "cell_type": "code",
   "execution_count": 15,
   "metadata": {},
   "outputs": [
    {
     "name": "stdout",
     "output_type": "stream",
     "text": [
      "(145610, 768)\n",
      "(145610, 2)\n",
      "(16179, 768)\n",
      "(16179, 2)\n"
     ]
    }
   ],
   "source": [
    "trainX, trainY, testX, testY = prepareTrainTestXYSentence(data,classify_by_field=\"class\")\n",
    "print(f\"{trainX.shape}\")\n",
    "print(f\"{trainY.shape}\")\n",
    "print(f\"{testX.shape}\")\n",
    "print(f\"{testY.shape}\")"
   ]
  },
  {
   "cell_type": "markdown",
   "metadata": {},
   "source": [
    "Now we train a feedforward neural network classifier."
   ]
  },
  {
   "cell_type": "code",
   "execution_count": 16,
   "metadata": {
    "scrolled": true,
    "tags": []
   },
   "outputs": [
    {
     "name": "stdout",
     "output_type": "stream",
     "text": [
      "Epoch 1/100\n",
      "4551/4551 - 4s - loss: 0.3760 - accuracy: 0.8331 - 4s/epoch - 980us/step\n",
      "Epoch 2/100\n",
      "4551/4551 - 4s - loss: 0.3477 - accuracy: 0.8422 - 4s/epoch - 912us/step\n",
      "Epoch 3/100\n",
      "4551/4551 - 4s - loss: 0.3451 - accuracy: 0.8432 - 4s/epoch - 915us/step\n",
      "Epoch 4/100\n",
      "4551/4551 - 4s - loss: 0.3438 - accuracy: 0.8439 - 4s/epoch - 920us/step\n",
      "Epoch 5/100\n",
      "4551/4551 - 4s - loss: 0.3428 - accuracy: 0.8442 - 4s/epoch - 906us/step\n",
      "Epoch 6/100\n",
      "4551/4551 - 4s - loss: 0.3422 - accuracy: 0.8444 - 4s/epoch - 914us/step\n",
      "Epoch 7/100\n",
      "4551/4551 - 4s - loss: 0.3417 - accuracy: 0.8447 - 4s/epoch - 952us/step\n",
      "Epoch 8/100\n",
      "4551/4551 - 4s - loss: 0.3412 - accuracy: 0.8447 - 4s/epoch - 928us/step\n",
      "Epoch 9/100\n",
      "4551/4551 - 4s - loss: 0.3409 - accuracy: 0.8453 - 4s/epoch - 909us/step\n",
      "Epoch 10/100\n",
      "4551/4551 - 4s - loss: 0.3406 - accuracy: 0.8452 - 4s/epoch - 916us/step\n",
      "Epoch 11/100\n",
      "4551/4551 - 4s - loss: 0.3403 - accuracy: 0.8457 - 4s/epoch - 925us/step\n",
      "Epoch 12/100\n",
      "4551/4551 - 4s - loss: 0.3400 - accuracy: 0.8454 - 4s/epoch - 908us/step\n",
      "Epoch 13/100\n",
      "4551/4551 - 4s - loss: 0.3398 - accuracy: 0.8456 - 4s/epoch - 909us/step\n",
      "Epoch 14/100\n",
      "4551/4551 - 4s - loss: 0.3396 - accuracy: 0.8456 - 4s/epoch - 920us/step\n",
      "Epoch 15/100\n",
      "4551/4551 - 4s - loss: 0.3395 - accuracy: 0.8456 - 4s/epoch - 908us/step\n",
      "Epoch 16/100\n",
      "4551/4551 - 4s - loss: 0.3394 - accuracy: 0.8457 - 4s/epoch - 913us/step\n",
      "Epoch 17/100\n",
      "4551/4551 - 4s - loss: 0.3392 - accuracy: 0.8458 - 4s/epoch - 907us/step\n",
      "Epoch 18/100\n",
      "4551/4551 - 4s - loss: 0.3391 - accuracy: 0.8458 - 4s/epoch - 904us/step\n",
      "Epoch 19/100\n",
      "4551/4551 - 4s - loss: 0.3390 - accuracy: 0.8458 - 4s/epoch - 924us/step\n",
      "Epoch 20/100\n",
      "4551/4551 - 4s - loss: 0.3389 - accuracy: 0.8458 - 4s/epoch - 930us/step\n",
      "Epoch 21/100\n",
      "4551/4551 - 4s - loss: 0.3388 - accuracy: 0.8466 - 4s/epoch - 942us/step\n",
      "Epoch 22/100\n",
      "4551/4551 - 4s - loss: 0.3387 - accuracy: 0.8460 - 4s/epoch - 925us/step\n",
      "Epoch 23/100\n",
      "4551/4551 - 4s - loss: 0.3387 - accuracy: 0.8460 - 4s/epoch - 968us/step\n",
      "Epoch 24/100\n",
      "4551/4551 - 4s - loss: 0.3386 - accuracy: 0.8460 - 4s/epoch - 918us/step\n",
      "Epoch 25/100\n",
      "4551/4551 - 4s - loss: 0.3385 - accuracy: 0.8460 - 4s/epoch - 910us/step\n",
      "Epoch 26/100\n",
      "4551/4551 - 4s - loss: 0.3385 - accuracy: 0.8463 - 4s/epoch - 912us/step\n",
      "Epoch 27/100\n",
      "4551/4551 - 4s - loss: 0.3384 - accuracy: 0.8460 - 4s/epoch - 917us/step\n",
      "Epoch 28/100\n",
      "4551/4551 - 4s - loss: 0.3384 - accuracy: 0.8464 - 4s/epoch - 942us/step\n",
      "Epoch 29/100\n",
      "4551/4551 - 4s - loss: 0.3383 - accuracy: 0.8461 - 4s/epoch - 921us/step\n",
      "Epoch 30/100\n",
      "4551/4551 - 4s - loss: 0.3383 - accuracy: 0.8463 - 4s/epoch - 908us/step\n",
      "Epoch 31/100\n",
      "4551/4551 - 4s - loss: 0.3382 - accuracy: 0.8463 - 4s/epoch - 917us/step\n",
      "Epoch 32/100\n",
      "4551/4551 - 4s - loss: 0.3382 - accuracy: 0.8461 - 4s/epoch - 959us/step\n",
      "Epoch 33/100\n",
      "4551/4551 - 5s - loss: 0.3382 - accuracy: 0.8462 - 5s/epoch - 1ms/step\n",
      "Epoch 34/100\n",
      "4551/4551 - 4s - loss: 0.3381 - accuracy: 0.8464 - 4s/epoch - 976us/step\n",
      "Epoch 35/100\n",
      "4551/4551 - 4s - loss: 0.3381 - accuracy: 0.8462 - 4s/epoch - 917us/step\n",
      "Epoch 36/100\n",
      "4551/4551 - 4s - loss: 0.3381 - accuracy: 0.8467 - 4s/epoch - 924us/step\n",
      "Epoch 37/100\n",
      "4551/4551 - 4s - loss: 0.3381 - accuracy: 0.8462 - 4s/epoch - 916us/step\n",
      "Epoch 38/100\n",
      "4551/4551 - 4s - loss: 0.3380 - accuracy: 0.8465 - 4s/epoch - 952us/step\n",
      "Epoch 39/100\n",
      "4551/4551 - 4s - loss: 0.3380 - accuracy: 0.8462 - 4s/epoch - 938us/step\n",
      "Epoch 40/100\n",
      "4551/4551 - 4s - loss: 0.3379 - accuracy: 0.8463 - 4s/epoch - 913us/step\n",
      "Epoch 41/100\n",
      "4551/4551 - 4s - loss: 0.3380 - accuracy: 0.8463 - 4s/epoch - 915us/step\n",
      "Epoch 42/100\n",
      "4551/4551 - 4s - loss: 0.3379 - accuracy: 0.8462 - 4s/epoch - 904us/step\n",
      "Epoch 43/100\n",
      "4551/4551 - 4s - loss: 0.3379 - accuracy: 0.8462 - 4s/epoch - 911us/step\n",
      "Epoch 44/100\n",
      "4551/4551 - 4s - loss: 0.3379 - accuracy: 0.8462 - 4s/epoch - 925us/step\n",
      "Epoch 45/100\n",
      "4551/4551 - 4s - loss: 0.3378 - accuracy: 0.8464 - 4s/epoch - 937us/step\n",
      "Epoch 46/100\n",
      "4551/4551 - 4s - loss: 0.3379 - accuracy: 0.8464 - 4s/epoch - 927us/step\n",
      "Epoch 47/100\n",
      "4551/4551 - 4s - loss: 0.3379 - accuracy: 0.8464 - 4s/epoch - 925us/step\n",
      "Epoch 48/100\n",
      "4551/4551 - 4s - loss: 0.3378 - accuracy: 0.8460 - 4s/epoch - 922us/step\n",
      "Epoch 49/100\n",
      "4551/4551 - 4s - loss: 0.3379 - accuracy: 0.8463 - 4s/epoch - 914us/step\n",
      "Epoch 50/100\n",
      "4551/4551 - 4s - loss: 0.3378 - accuracy: 0.8462 - 4s/epoch - 923us/step\n",
      "Epoch 51/100\n",
      "4551/4551 - 4s - loss: 0.3378 - accuracy: 0.8463 - 4s/epoch - 899us/step\n",
      "Epoch 52/100\n",
      "4551/4551 - 4s - loss: 0.3378 - accuracy: 0.8463 - 4s/epoch - 906us/step\n",
      "Epoch 53/100\n",
      "4551/4551 - 4s - loss: 0.3378 - accuracy: 0.8463 - 4s/epoch - 982us/step\n",
      "Epoch 54/100\n",
      "4551/4551 - 4s - loss: 0.3377 - accuracy: 0.8461 - 4s/epoch - 969us/step\n",
      "Epoch 55/100\n",
      "4551/4551 - 4s - loss: 0.3378 - accuracy: 0.8464 - 4s/epoch - 915us/step\n",
      "Epoch 56/100\n",
      "4551/4551 - 4s - loss: 0.3378 - accuracy: 0.8460 - 4s/epoch - 922us/step\n",
      "Epoch 57/100\n",
      "4551/4551 - 4s - loss: 0.3378 - accuracy: 0.8463 - 4s/epoch - 919us/step\n",
      "Epoch 58/100\n",
      "4551/4551 - 4s - loss: 0.3377 - accuracy: 0.8461 - 4s/epoch - 924us/step\n",
      "Epoch 59/100\n",
      "4551/4551 - 4s - loss: 0.3377 - accuracy: 0.8461 - 4s/epoch - 922us/step\n",
      "Epoch 60/100\n",
      "4551/4551 - 4s - loss: 0.3377 - accuracy: 0.8459 - 4s/epoch - 931us/step\n",
      "Epoch 61/100\n",
      "4551/4551 - 4s - loss: 0.3377 - accuracy: 0.8461 - 4s/epoch - 938us/step\n",
      "Epoch 62/100\n",
      "4551/4551 - 4s - loss: 0.3377 - accuracy: 0.8459 - 4s/epoch - 924us/step\n",
      "Epoch 63/100\n",
      "4551/4551 - 4s - loss: 0.3377 - accuracy: 0.8462 - 4s/epoch - 943us/step\n",
      "Epoch 64/100\n",
      "4551/4551 - 4s - loss: 0.3377 - accuracy: 0.8460 - 4s/epoch - 912us/step\n",
      "Epoch 65/100\n",
      "4551/4551 - 4s - loss: 0.3377 - accuracy: 0.8459 - 4s/epoch - 920us/step\n",
      "Epoch 66/100\n",
      "4551/4551 - 4s - loss: 0.3377 - accuracy: 0.8462 - 4s/epoch - 925us/step\n",
      "Epoch 67/100\n",
      "4551/4551 - 4s - loss: 0.3377 - accuracy: 0.8460 - 4s/epoch - 918us/step\n",
      "Epoch 68/100\n",
      "4551/4551 - 4s - loss: 0.3377 - accuracy: 0.8462 - 4s/epoch - 916us/step\n",
      "Epoch 69/100\n",
      "4551/4551 - 4s - loss: 0.3377 - accuracy: 0.8459 - 4s/epoch - 954us/step\n",
      "Epoch 70/100\n",
      "4551/4551 - 4s - loss: 0.3376 - accuracy: 0.8458 - 4s/epoch - 929us/step\n",
      "Epoch 71/100\n",
      "4551/4551 - 4s - loss: 0.3377 - accuracy: 0.8461 - 4s/epoch - 916us/step\n",
      "Epoch 72/100\n",
      "4551/4551 - 4s - loss: 0.3376 - accuracy: 0.8463 - 4s/epoch - 943us/step\n",
      "Epoch 73/100\n",
      "4551/4551 - 4s - loss: 0.3376 - accuracy: 0.8461 - 4s/epoch - 917us/step\n",
      "Epoch 74/100\n",
      "4551/4551 - 4s - loss: 0.3376 - accuracy: 0.8462 - 4s/epoch - 941us/step\n",
      "Epoch 75/100\n",
      "4551/4551 - 4s - loss: 0.3377 - accuracy: 0.8461 - 4s/epoch - 927us/step\n",
      "Epoch 76/100\n",
      "4551/4551 - 4s - loss: 0.3376 - accuracy: 0.8464 - 4s/epoch - 977us/step\n",
      "Epoch 77/100\n",
      "4551/4551 - 5s - loss: 0.3376 - accuracy: 0.8460 - 5s/epoch - 1ms/step\n",
      "Epoch 78/100\n",
      "4551/4551 - 4s - loss: 0.3376 - accuracy: 0.8460 - 4s/epoch - 917us/step\n",
      "Epoch 79/100\n",
      "4551/4551 - 4s - loss: 0.3376 - accuracy: 0.8461 - 4s/epoch - 901us/step\n",
      "Epoch 80/100\n",
      "4551/4551 - 5s - loss: 0.3376 - accuracy: 0.8460 - 5s/epoch - 1ms/step\n",
      "Epoch 81/100\n",
      "4551/4551 - 4s - loss: 0.3376 - accuracy: 0.8457 - 4s/epoch - 935us/step\n",
      "Epoch 82/100\n",
      "4551/4551 - 4s - loss: 0.3376 - accuracy: 0.8462 - 4s/epoch - 933us/step\n",
      "Epoch 83/100\n",
      "4551/4551 - 4s - loss: 0.3376 - accuracy: 0.8463 - 4s/epoch - 915us/step\n",
      "Epoch 84/100\n",
      "4551/4551 - 4s - loss: 0.3376 - accuracy: 0.8460 - 4s/epoch - 955us/step\n",
      "Epoch 85/100\n",
      "4551/4551 - 4s - loss: 0.3376 - accuracy: 0.8461 - 4s/epoch - 978us/step\n",
      "Epoch 86/100\n",
      "4551/4551 - 4s - loss: 0.3376 - accuracy: 0.8461 - 4s/epoch - 945us/step\n",
      "Epoch 87/100\n",
      "4551/4551 - 4s - loss: 0.3376 - accuracy: 0.8459 - 4s/epoch - 931us/step\n",
      "Epoch 88/100\n",
      "4551/4551 - 4s - loss: 0.3376 - accuracy: 0.8457 - 4s/epoch - 919us/step\n",
      "Epoch 89/100\n",
      "4551/4551 - 4s - loss: 0.3376 - accuracy: 0.8465 - 4s/epoch - 914us/step\n",
      "Epoch 90/100\n",
      "4551/4551 - 4s - loss: 0.3375 - accuracy: 0.8465 - 4s/epoch - 915us/step\n",
      "Epoch 91/100\n",
      "4551/4551 - 4s - loss: 0.3376 - accuracy: 0.8459 - 4s/epoch - 916us/step\n",
      "Epoch 92/100\n",
      "4551/4551 - 4s - loss: 0.3375 - accuracy: 0.8460 - 4s/epoch - 926us/step\n",
      "Epoch 93/100\n",
      "4551/4551 - 4s - loss: 0.3376 - accuracy: 0.8462 - 4s/epoch - 925us/step\n",
      "Epoch 94/100\n",
      "4551/4551 - 4s - loss: 0.3376 - accuracy: 0.8461 - 4s/epoch - 947us/step\n",
      "Epoch 95/100\n",
      "4551/4551 - 4s - loss: 0.3375 - accuracy: 0.8458 - 4s/epoch - 922us/step\n",
      "Epoch 96/100\n",
      "4551/4551 - 4s - loss: 0.3376 - accuracy: 0.8462 - 4s/epoch - 891us/step\n"
     ]
    },
    {
     "name": "stdout",
     "output_type": "stream",
     "text": [
      "Epoch 97/100\n",
      "4551/4551 - 4s - loss: 0.3376 - accuracy: 0.8463 - 4s/epoch - 908us/step\n",
      "Epoch 98/100\n",
      "4551/4551 - 4s - loss: 0.3375 - accuracy: 0.8460 - 4s/epoch - 900us/step\n",
      "Epoch 99/100\n",
      "4551/4551 - 4s - loss: 0.3375 - accuracy: 0.8460 - 4s/epoch - 910us/step\n",
      "Epoch 100/100\n",
      "4551/4551 - 4s - loss: 0.3376 - accuracy: 0.8459 - 4s/epoch - 958us/step\n"
     ]
    }
   ],
   "source": [
    "classifier = NNClassifier()\n",
    "history = classifier.train(trainX, trainY)"
   ]
  },
  {
   "cell_type": "markdown",
   "metadata": {},
   "source": [
    "## 2. Evaluating shallow feedforward neural network"
   ]
  },
  {
   "cell_type": "markdown",
   "metadata": {},
   "source": [
    "The *history* object returned by *train* function holds a record of the metric values during training."
   ]
  },
  {
   "cell_type": "code",
   "execution_count": 17,
   "metadata": {},
   "outputs": [
    {
     "name": "stdout",
     "output_type": "stream",
     "text": [
      "FNN train accuracy on all-mpnet-base vectors: 0.8458553552627563\n"
     ]
    }
   ],
   "source": [
    "nn_train_acc = history.history[\"accuracy\"][-1]\n",
    "print(f\"FNN train accuracy on {embName} vectors: {nn_train_acc}\")"
   ]
  },
  {
   "cell_type": "markdown",
   "metadata": {},
   "source": [
    "And measure the accuracy on the test set."
   ]
  },
  {
   "cell_type": "code",
   "execution_count": 18,
   "metadata": {},
   "outputs": [
    {
     "name": "stdout",
     "output_type": "stream",
     "text": [
      "506/506 [==============================] - 0s 767us/step\n",
      "FFNN test accuracy on all-mpnet-base vectors: 0.8399159404165895\n"
     ]
    }
   ],
   "source": [
    "res = classifier.predict(testX)\n",
    "nn_test_acc = evaluate(res, testY)\n",
    "print(f\"FFNN test accuracy on {embName} vectors: {nn_test_acc}\")"
   ]
  },
  {
   "cell_type": "markdown",
   "metadata": {},
   "source": [
    "For comparison we employ the nierest neighbor algorithm on the same data. We calculate the accuracy of classifying the sentence with the label corresponding to the closest sentence in the training data."
   ]
  },
  {
   "cell_type": "code",
   "execution_count": 19,
   "metadata": {},
   "outputs": [
    {
     "name": "stdout",
     "output_type": "stream",
     "text": [
      "Nearest neighbor test accuracy: 0.7928178502997713, train accuracy: 0.9919442345992721\n"
     ]
    }
   ],
   "source": [
    "neigh = KNeighborsClassifier(n_neighbors=1)\n",
    "neigh.fit(trainX, trainY)\n",
    "res = neigh.predict(testX)\n",
    "neigh_test_acc = np.sum(res == testY)/2/len(testY)\n",
    "neigh_train_acc = neigh.score(trainX, trainY)\n",
    "print(f\"Nearest neighbor test accuracy: {neigh_test_acc}, train accuracy: {neigh_train_acc}\")"
   ]
  },
  {
   "cell_type": "markdown",
   "metadata": {},
   "source": [
    "Depending on random, the FNN classifier might perform better or worse (or the same) than the 1-nearest neighbor algorithm."
   ]
  },
  {
   "cell_type": "markdown",
   "metadata": {},
   "source": [
    "## 3. Training convolutional neural network classifier"
   ]
  },
  {
   "cell_type": "markdown",
   "metadata": {},
   "source": [
    "Now we load fastText word embeddings and train a convolutional network on them."
   ]
  },
  {
   "cell_type": "code",
   "execution_count": 22,
   "metadata": {
    "scrolled": true,
    "tags": []
   },
   "outputs": [
    {
     "name": "stdout",
     "output_type": "stream",
     "text": [
      "Epoch 1/30\n",
      "4551/4551 - 17s - loss: 0.3861 - accuracy: 0.8236 - 17s/epoch - 4ms/step\n",
      "Epoch 2/30\n",
      "4551/4551 - 16s - loss: 0.3558 - accuracy: 0.8384 - 16s/epoch - 4ms/step\n",
      "Epoch 3/30\n",
      "4551/4551 - 17s - loss: 0.3430 - accuracy: 0.8450 - 17s/epoch - 4ms/step\n",
      "Epoch 4/30\n",
      "4551/4551 - 17s - loss: 0.3326 - accuracy: 0.8501 - 17s/epoch - 4ms/step\n",
      "Epoch 5/30\n",
      "4551/4551 - 16s - loss: 0.3234 - accuracy: 0.8570 - 16s/epoch - 3ms/step\n",
      "Epoch 6/30\n",
      "4551/4551 - 16s - loss: 0.3145 - accuracy: 0.8615 - 16s/epoch - 3ms/step\n",
      "Epoch 7/30\n",
      "4551/4551 - 16s - loss: 0.3062 - accuracy: 0.8656 - 16s/epoch - 3ms/step\n",
      "Epoch 8/30\n",
      "4551/4551 - 16s - loss: 0.2980 - accuracy: 0.8701 - 16s/epoch - 3ms/step\n",
      "Epoch 9/30\n",
      "4551/4551 - 16s - loss: 0.2912 - accuracy: 0.8740 - 16s/epoch - 3ms/step\n",
      "Epoch 10/30\n",
      "4551/4551 - 16s - loss: 0.2853 - accuracy: 0.8772 - 16s/epoch - 3ms/step\n",
      "Epoch 11/30\n",
      "4551/4551 - 16s - loss: 0.2774 - accuracy: 0.8810 - 16s/epoch - 4ms/step\n",
      "Epoch 12/30\n",
      "4551/4551 - 16s - loss: 0.2720 - accuracy: 0.8836 - 16s/epoch - 4ms/step\n",
      "Epoch 13/30\n",
      "4551/4551 - 16s - loss: 0.2658 - accuracy: 0.8876 - 16s/epoch - 4ms/step\n",
      "Epoch 14/30\n",
      "4551/4551 - 16s - loss: 0.2609 - accuracy: 0.8897 - 16s/epoch - 4ms/step\n",
      "Epoch 15/30\n",
      "4551/4551 - 16s - loss: 0.2547 - accuracy: 0.8922 - 16s/epoch - 3ms/step\n",
      "Epoch 16/30\n",
      "4551/4551 - 16s - loss: 0.2502 - accuracy: 0.8954 - 16s/epoch - 4ms/step\n",
      "Epoch 17/30\n",
      "4551/4551 - 16s - loss: 0.2462 - accuracy: 0.8971 - 16s/epoch - 4ms/step\n",
      "Epoch 18/30\n",
      "4551/4551 - 16s - loss: 0.2424 - accuracy: 0.8988 - 16s/epoch - 4ms/step\n",
      "Epoch 19/30\n",
      "4551/4551 - 16s - loss: 0.2375 - accuracy: 0.9014 - 16s/epoch - 4ms/step\n",
      "Epoch 20/30\n",
      "4551/4551 - 16s - loss: 0.2338 - accuracy: 0.9040 - 16s/epoch - 4ms/step\n",
      "Epoch 21/30\n",
      "4551/4551 - 16s - loss: 0.2296 - accuracy: 0.9052 - 16s/epoch - 4ms/step\n",
      "Epoch 22/30\n",
      "4551/4551 - 16s - loss: 0.2267 - accuracy: 0.9064 - 16s/epoch - 4ms/step\n",
      "Epoch 23/30\n",
      "4551/4551 - 16s - loss: 0.2231 - accuracy: 0.9087 - 16s/epoch - 3ms/step\n",
      "Epoch 24/30\n",
      "4551/4551 - 16s - loss: 0.2189 - accuracy: 0.9099 - 16s/epoch - 4ms/step\n",
      "Epoch 25/30\n",
      "4551/4551 - 16s - loss: 0.2179 - accuracy: 0.9116 - 16s/epoch - 3ms/step\n",
      "Epoch 26/30\n",
      "4551/4551 - 16s - loss: 0.2137 - accuracy: 0.9127 - 16s/epoch - 3ms/step\n",
      "Epoch 27/30\n",
      "4551/4551 - 16s - loss: 0.2100 - accuracy: 0.9150 - 16s/epoch - 4ms/step\n",
      "Epoch 28/30\n",
      "4551/4551 - 16s - loss: 0.2077 - accuracy: 0.9154 - 16s/epoch - 3ms/step\n",
      "Epoch 29/30\n",
      "4551/4551 - 14s - loss: 0.2058 - accuracy: 0.9159 - 14s/epoch - 3ms/step\n",
      "Epoch 30/30\n",
      "4551/4551 - 11s - loss: 0.2021 - accuracy: 0.9189 - 11s/epoch - 2ms/step\n"
     ]
    }
   ],
   "source": [
    "data = loadData(f\"{datadir}/{dsName}_FASTTEXT.json\")\n",
    "\n",
    "maxLen = 6\n",
    "trainX, trainY, testX, testY = prepareTrainTestXYWords(data, maxLen,classify_by_field=\"class\")\n",
    "\n",
    "cnnclassifier = NNClassifier(model=\"CNN\", vectorSpaceSize=300)\n",
    "history = cnnclassifier.train(trainX, trainY)"
   ]
  },
  {
   "cell_type": "markdown",
   "metadata": {},
   "source": [
    "## 4. Evaluating convolutional neural network classifier"
   ]
  },
  {
   "cell_type": "code",
   "execution_count": 23,
   "metadata": {},
   "outputs": [
    {
     "name": "stdout",
     "output_type": "stream",
     "text": [
      "CNN train accuracy on fastText vectors: 0.9189135432243347\n"
     ]
    }
   ],
   "source": [
    "fasttext_nn_train_acc = history.history['accuracy'][-1]\n",
    "print(f\"CNN train accuracy on fastText vectors: {fasttext_nn_train_acc}\")"
   ]
  },
  {
   "cell_type": "code",
   "execution_count": 24,
   "metadata": {},
   "outputs": [
    {
     "name": "stdout",
     "output_type": "stream",
     "text": [
      "506/506 [==============================] - 1s 1ms/step\n",
      "CNN test accuracy on fastText vectors: 0.8337968972124359\n"
     ]
    }
   ],
   "source": [
    "res = cnnclassifier.predict(testX)\n",
    "fasttext_nn_test_acc = evaluate(res, testY)\n",
    "print(f\"CNN test accuracy on fastText vectors: {fasttext_nn_test_acc}\")"
   ]
  },
  {
   "cell_type": "markdown",
   "metadata": {},
   "source": [
    "## 5. Comparing results"
   ]
  },
  {
   "cell_type": "markdown",
   "metadata": {},
   "source": [
    "Here is the whole set of results plotted"
   ]
  },
  {
   "cell_type": "code",
   "execution_count": 25,
   "metadata": {},
   "outputs": [
    {
     "data": {
      "image/png": "[encoded data removed]",
      "text/plain": [
       "<Figure size 800x600 with 1 Axes>"
      ]
     },
     "metadata": {},
     "output_type": "display_data"
    }
   ],
   "source": [
    "import matplotlib.pyplot as plt\n",
    "plt.rcParams[\"figure.figsize\"] = (8,6)\n",
    "test_accs = [neigh_test_acc, nn_test_acc, fasttext_nn_test_acc]\n",
    "train_accs = [neigh_train_acc, nn_train_acc, fasttext_nn_train_acc]\n",
    "labels = [f\"{embName} nearest neighbors\", f\"{embName} NN\", \"fastText CNN\"]\n",
    "width = 0.3\n",
    "plt.bar(np.arange(len(test_accs)) - (width/2), test_accs, width=width)\n",
    "plt.bar(np.arange(len(train_accs)) + (width/2), train_accs, width=width)\n",
    "plt.xticks(range(len(labels)), labels)\n",
    "plt.ylabel(\"Accuracy\")\n",
    "plt.title(\"Classical algorithm results\")\n",
    "plt.legend([\"Test\", \"Train\"])\n",
    "plt.show()"
   ]
  },
  {
   "cell_type": "markdown",
   "metadata": {},
   "source": [
    "## 6. Saving, loading and re-using models"
   ]
  },
  {
   "cell_type": "markdown",
   "metadata": {},
   "source": [
    "!!! To save the model use function save. The function's argument is the folder name where trained model's files will be saved."
   ]
  },
  {
   "cell_type": "code",
   "execution_count": 26,
   "metadata": {},
   "outputs": [],
   "source": [
    "modeldir=\"../../models/classical\""
   ]
  },
  {
   "cell_type": "code",
   "execution_count": 29,
   "metadata": {},
   "outputs": [
    {
     "ename": "TypeError",
     "evalue": "NNClassifier.save() takes 1 positional argument but 2 were given",
     "output_type": "error",
     "traceback": [
      "\u001b[1;31m---------------------------------------------------------------------------\u001b[0m",
      "\u001b[1;31mTypeError\u001b[0m                                 Traceback (most recent call last)",
      "Input \u001b[1;32mIn [29]\u001b[0m, in \u001b[0;36m<cell line: 1>\u001b[1;34m()\u001b[0m\n\u001b[1;32m----> 1\u001b[0m \u001b[43mclassifier\u001b[49m\u001b[38;5;241;43m.\u001b[39;49m\u001b[43msave\u001b[49m\u001b[43m(\u001b[49m\u001b[38;5;124;43mf\u001b[39;49m\u001b[38;5;124;43m\"\u001b[39;49m\u001b[38;5;132;43;01m{\u001b[39;49;00m\u001b[43mmodeldir\u001b[49m\u001b[38;5;132;43;01m}\u001b[39;49;00m\u001b[38;5;124;43m/\u001b[39;49m\u001b[38;5;132;43;01m{\u001b[39;49;00m\u001b[43mdsName\u001b[49m\u001b[38;5;132;43;01m}\u001b[39;49;00m\u001b[38;5;124;43m_\u001b[39;49m\u001b[38;5;132;43;01m{\u001b[39;49;00m\u001b[43membName\u001b[49m\u001b[38;5;132;43;01m}\u001b[39;49;00m\u001b[38;5;124;43m\"\u001b[39;49m\u001b[43m)\u001b[49m\n",
      "\u001b[1;31mTypeError\u001b[0m: NNClassifier.save() takes 1 positional argument but 2 were given"
     ]
    }
   ],
   "source": [
    "classifier.save(f\"{modeldir}/{dsName}_{embName}\")"
   ]
  },
  {
   "cell_type": "code",
   "execution_count": 28,
   "metadata": {},
   "outputs": [
    {
     "ename": "TypeError",
     "evalue": "NNClassifier.save() takes 1 positional argument but 2 were given",
     "output_type": "error",
     "traceback": [
      "\u001b[1;31m---------------------------------------------------------------------------\u001b[0m",
      "\u001b[1;31mTypeError\u001b[0m                                 Traceback (most recent call last)",
      "Input \u001b[1;32mIn [28]\u001b[0m, in \u001b[0;36m<cell line: 1>\u001b[1;34m()\u001b[0m\n\u001b[1;32m----> 1\u001b[0m \u001b[43mcnnclassifier\u001b[49m\u001b[38;5;241;43m.\u001b[39;49m\u001b[43msave\u001b[49m\u001b[43m(\u001b[49m\u001b[38;5;124;43mf\u001b[39;49m\u001b[38;5;124;43m\"\u001b[39;49m\u001b[38;5;132;43;01m{\u001b[39;49;00m\u001b[43mmodeldir\u001b[49m\u001b[38;5;132;43;01m}\u001b[39;49;00m\u001b[38;5;124;43m/\u001b[39;49m\u001b[38;5;132;43;01m{\u001b[39;49;00m\u001b[43mdsName\u001b[49m\u001b[38;5;132;43;01m}\u001b[39;49;00m\u001b[38;5;124;43m_FASTTEXT\u001b[39;49m\u001b[38;5;124;43m\"\u001b[39;49m\u001b[43m)\u001b[49m\n",
      "\u001b[1;31mTypeError\u001b[0m: NNClassifier.save() takes 1 positional argument but 2 were given"
     ]
    }
   ],
   "source": [
    "cnnclassifier.save(f\"{modeldir}/{dsName}_FASTTEXT\")"
   ]
  },
  {
   "cell_type": "markdown",
   "metadata": {},
   "source": [
    "!!! To load previousely saved model create *NNClassifier* object and use function *load*. The function's argument is the folder name where trained model's files are saved. In this example *newclassifier* object after loading will become replica of *classifier* object."
   ]
  },
  {
   "cell_type": "code",
   "execution_count": null,
   "metadata": {},
   "outputs": [],
   "source": [
    "newclassifier = NNClassifier()\n",
    "newclassifier.load(f\"{modeldir}/{dsName}_{embName})"
   ]
  },
  {
   "cell_type": "markdown",
   "metadata": {},
   "source": [
    "!!! To use newclassifier for prediction use function *predict*."
   ]
  },
  {
   "cell_type": "code",
   "execution_count": null,
   "metadata": {},
   "outputs": [],
   "source": [
    "res = newclassifier.predict(\"Great work\")"
   ]
  },
  {
   "cell_type": "code",
   "execution_count": null,
   "metadata": {},
   "outputs": [],
   "source": [
    "print(res)"
   ]
  },
  {
   "cell_type": "code",
   "execution_count": null,
   "metadata": {},
   "outputs": [],
   "source": []
  }
 ],
 "metadata": {
  "kernelspec": {
   "display_name": "Python 3 (ipykernel)",
   "language": "python",
   "name": "python3"
  },
  "language_info": {
   "codemirror_mode": {
    "name": "ipython",
    "version": 3
   },
   "file_extension": ".py",
   "mimetype": "text/x-python",
   "name": "python",
   "nbconvert_exporter": "python",
   "pygments_lexer": "ipython3",
   "version": "3.10.5"
  },
  "vscode": {
   "interpreter": {
    "hash": "a665b5d41d17b532ea9890333293a1b812fa0b73c9c25c950b3cedf1bebd0438"
   }
  }
 },
 "nbformat": 4,
 "nbformat_minor": 4
}
