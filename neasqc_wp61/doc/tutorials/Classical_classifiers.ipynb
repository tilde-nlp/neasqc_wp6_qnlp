{
 "cells": [
  {
   "cell_type": "markdown",
   "metadata": {
    "tags": []
   },
   "source": [
    "# Classical classifiers"
   ]
  },
  {
   "cell_type": "markdown",
   "metadata": {},
   "source": [
    "This notebook shows how well classical classifiers solve the sentence classification problem. This is mainly needed to have a baseline for quantum solution to compare against."
   ]
  },
  {
   "cell_type": "markdown",
   "metadata": {},
   "source": [
    "We first load our library files and the required packages."
   ]
  },
  {
   "cell_type": "code",
   "execution_count": 1,
   "metadata": {},
   "outputs": [],
   "source": [
    "import sys\n",
    "import os\n",
    "import json\n",
    "import numpy as np\n",
    "from sklearn.neighbors import KNeighborsClassifier\n",
    "\n",
    "sys.path.append(\"../../models/classical/\")\n",
    "\n",
    "from NNClassifier import (loadData,evaluate, NNClassifier,\n",
    "       prepareTrainTestXYWords, prepareTrainTestXYSentence,)"
   ]
  },
  {
   "cell_type": "markdown",
   "metadata": {},
   "source": [
    "We have implemented sentence vectorization using pretrained BERT cased and uncased (see [Git](https://github.com/google-research/bert), [arXiv](https://arxiv.org/abs/1810.04805)) base models (each sentence is represented as a 768-dimensional real-valued vector), sentence transformer models *all-mpnet-base-v2* and *all-distilroberta-v1* (see [link](https://www.sbert.net/docs/pretrained_models.html)) as well as word-level vectorization using [_fastText_](https://fasttext.cc/) model pretrained on [English Wikipedia and Common Crawl](hhttps://fasttext.cc/docs/en/crawl-vectors.html) (each word in a sentence is represented as a 300-dimensional real-valued vector)."
   ]
  },
  {
   "cell_type": "markdown",
   "metadata": {},
   "source": [
    "The Jupyter notebook *Prepare_datasets_4classifier.ipynb* shows how to filterdata and acquire embedding vectors using different vectorization models."
   ]
  },
  {
   "cell_type": "code",
   "execution_count": 2,
   "metadata": {},
   "outputs": [],
   "source": [
    "datadir = \"../../data/datasets\"\n",
    "dsName='reviews'"
   ]
  },
  {
   "cell_type": "code",
   "execution_count": 3,
   "metadata": {},
   "outputs": [],
   "source": [
    "modeldir=\"../../models/classical\""
   ]
  },
  {
   "cell_type": "markdown",
   "metadata": {},
   "source": [
    "## 1. Training shallow feedforward neural network"
   ]
  },
  {
   "cell_type": "markdown",
   "metadata": {},
   "source": [
    "To train shallow feedforward neural network models we employ sentence level embeddings. "
   ]
  },
  {
   "cell_type": "code",
   "execution_count": 4,
   "metadata": {},
   "outputs": [],
   "source": [
    "embName='BERT_CASED'"
   ]
  },
  {
   "cell_type": "code",
   "execution_count": 5,
   "metadata": {},
   "outputs": [
    {
     "name": "stdout",
     "output_type": "stream",
     "text": [
      "Training samples: 27001, test samples: 3001\n",
      "An example sentence: good mellow coffee, class: 4, syntactical tag: n[(n/n)   n[(n/n)   n]]\n",
      "Vectorized sentence dimension: 768\n"
     ]
    }
   ],
   "source": [
    "data = loadData(f\"{datadir}/{dsName}_{embName}.json\")\n",
    "print(f\"Training samples: {len(data['train_data'])}, test samples: {len(data['test_data'])}\")\n",
    "print(f\"An example sentence: {data['train_data'][2]['sentence']}, class: {data['train_data'][2]['class']}, syntactical tag: {data['train_data'][2]['tag']}\")\n",
    "print(f\"Vectorized sentence dimension: {len(data['train_data'][0]['sentence_vectorized'][0])}\")"
   ]
  },
  {
   "cell_type": "markdown",
   "metadata": {},
   "source": [
    "We reformat the data as numpy arrays for classifier training. "
   ]
  },
  {
   "cell_type": "code",
   "execution_count": 6,
   "metadata": {},
   "outputs": [
    {
     "name": "stdout",
     "output_type": "stream",
     "text": [
      "(27001, 768)\n",
      "(27001, 5)\n",
      "(3001, 768)\n",
      "(3001, 5)\n"
     ]
    }
   ],
   "source": [
    "trainX, trainY, testX, testY = prepareTrainTestXYSentence(data,classify_by_field=\"class\")\n",
    "print(f\"{trainX.shape}\")\n",
    "print(f\"{trainY.shape}\")\n",
    "print(f\"{testX.shape}\")\n",
    "print(f\"{testY.shape}\")"
   ]
  },
  {
   "cell_type": "markdown",
   "metadata": {},
   "source": [
    "Now we train a feedforward neural network classifier."
   ]
  },
  {
   "cell_type": "code",
   "execution_count": 7,
   "metadata": {
    "scrolled": true,
    "tags": []
   },
   "outputs": [
    {
     "name": "stdout",
     "output_type": "stream",
     "text": [
      "Epoch 1/100\n",
      "844/844 - 1s - loss: 0.8800 - accuracy: 0.7089 - 703ms/epoch - 833us/step\n",
      "Epoch 2/100\n",
      "844/844 - 0s - loss: 0.8278 - accuracy: 0.7173 - 474ms/epoch - 562us/step\n",
      "Epoch 3/100\n",
      "844/844 - 0s - loss: 0.8157 - accuracy: 0.7196 - 484ms/epoch - 573us/step\n",
      "Epoch 4/100\n",
      "844/844 - 0s - loss: 0.8087 - accuracy: 0.7212 - 470ms/epoch - 557us/step\n",
      "Epoch 5/100\n",
      "844/844 - 0s - loss: 0.8057 - accuracy: 0.7216 - 469ms/epoch - 556us/step\n",
      "Epoch 6/100\n",
      "844/844 - 0s - loss: 0.8011 - accuracy: 0.7221 - 478ms/epoch - 566us/step\n",
      "Epoch 7/100\n",
      "844/844 - 0s - loss: 0.7960 - accuracy: 0.7239 - 477ms/epoch - 565us/step\n",
      "Epoch 8/100\n",
      "844/844 - 0s - loss: 0.7935 - accuracy: 0.7257 - 473ms/epoch - 560us/step\n",
      "Epoch 9/100\n",
      "844/844 - 0s - loss: 0.7918 - accuracy: 0.7240 - 486ms/epoch - 576us/step\n",
      "Epoch 10/100\n",
      "844/844 - 0s - loss: 0.7895 - accuracy: 0.7271 - 489ms/epoch - 579us/step\n",
      "Epoch 11/100\n",
      "844/844 - 0s - loss: 0.7879 - accuracy: 0.7258 - 479ms/epoch - 568us/step\n",
      "Epoch 12/100\n",
      "844/844 - 0s - loss: 0.7870 - accuracy: 0.7274 - 493ms/epoch - 584us/step\n",
      "Epoch 13/100\n",
      "844/844 - 0s - loss: 0.7843 - accuracy: 0.7257 - 484ms/epoch - 573us/step\n",
      "Epoch 14/100\n",
      "844/844 - 0s - loss: 0.7811 - accuracy: 0.7273 - 479ms/epoch - 568us/step\n",
      "Epoch 15/100\n",
      "844/844 - 0s - loss: 0.7803 - accuracy: 0.7266 - 489ms/epoch - 579us/step\n",
      "Epoch 16/100\n",
      "844/844 - 0s - loss: 0.7803 - accuracy: 0.7279 - 488ms/epoch - 578us/step\n",
      "Epoch 17/100\n",
      "844/844 - 0s - loss: 0.7787 - accuracy: 0.7280 - 487ms/epoch - 577us/step\n",
      "Epoch 18/100\n",
      "844/844 - 0s - loss: 0.7788 - accuracy: 0.7287 - 481ms/epoch - 570us/step\n",
      "Epoch 19/100\n",
      "844/844 - 0s - loss: 0.7759 - accuracy: 0.7277 - 495ms/epoch - 586us/step\n",
      "Epoch 20/100\n",
      "844/844 - 0s - loss: 0.7758 - accuracy: 0.7288 - 478ms/epoch - 566us/step\n",
      "Epoch 21/100\n",
      "844/844 - 0s - loss: 0.7759 - accuracy: 0.7290 - 483ms/epoch - 572us/step\n",
      "Epoch 22/100\n",
      "844/844 - 0s - loss: 0.7747 - accuracy: 0.7285 - 481ms/epoch - 570us/step\n",
      "Epoch 23/100\n",
      "844/844 - 0s - loss: 0.7722 - accuracy: 0.7305 - 482ms/epoch - 571us/step\n",
      "Epoch 24/100\n",
      "844/844 - 0s - loss: 0.7732 - accuracy: 0.7296 - 484ms/epoch - 573us/step\n",
      "Epoch 25/100\n",
      "844/844 - 0s - loss: 0.7723 - accuracy: 0.7300 - 482ms/epoch - 571us/step\n",
      "Epoch 26/100\n",
      "844/844 - 0s - loss: 0.7696 - accuracy: 0.7299 - 480ms/epoch - 569us/step\n",
      "Epoch 27/100\n",
      "844/844 - 0s - loss: 0.7704 - accuracy: 0.7298 - 480ms/epoch - 569us/step\n",
      "Epoch 28/100\n",
      "844/844 - 0s - loss: 0.7705 - accuracy: 0.7292 - 478ms/epoch - 566us/step\n",
      "Epoch 29/100\n",
      "844/844 - 0s - loss: 0.7700 - accuracy: 0.7290 - 476ms/epoch - 564us/step\n",
      "Epoch 30/100\n",
      "844/844 - 0s - loss: 0.7665 - accuracy: 0.7313 - 487ms/epoch - 577us/step\n",
      "Epoch 31/100\n",
      "844/844 - 0s - loss: 0.7667 - accuracy: 0.7296 - 479ms/epoch - 568us/step\n",
      "Epoch 32/100\n",
      "844/844 - 0s - loss: 0.7681 - accuracy: 0.7313 - 476ms/epoch - 564us/step\n",
      "Epoch 33/100\n",
      "844/844 - 0s - loss: 0.7664 - accuracy: 0.7316 - 482ms/epoch - 571us/step\n",
      "Epoch 34/100\n",
      "844/844 - 0s - loss: 0.7663 - accuracy: 0.7308 - 481ms/epoch - 570us/step\n",
      "Epoch 35/100\n",
      "844/844 - 0s - loss: 0.7653 - accuracy: 0.7311 - 479ms/epoch - 568us/step\n",
      "Epoch 36/100\n",
      "844/844 - 0s - loss: 0.7638 - accuracy: 0.7312 - 477ms/epoch - 565us/step\n",
      "Epoch 37/100\n",
      "844/844 - 0s - loss: 0.7644 - accuracy: 0.7307 - 478ms/epoch - 566us/step\n",
      "Epoch 38/100\n",
      "844/844 - 0s - loss: 0.7629 - accuracy: 0.7310 - 483ms/epoch - 572us/step\n",
      "Epoch 39/100\n",
      "844/844 - 0s - loss: 0.7654 - accuracy: 0.7283 - 485ms/epoch - 575us/step\n",
      "Epoch 40/100\n",
      "844/844 - 0s - loss: 0.7649 - accuracy: 0.7309 - 486ms/epoch - 576us/step\n",
      "Epoch 41/100\n",
      "844/844 - 0s - loss: 0.7632 - accuracy: 0.7310 - 484ms/epoch - 573us/step\n",
      "Epoch 42/100\n",
      "844/844 - 0s - loss: 0.7620 - accuracy: 0.7315 - 489ms/epoch - 579us/step\n",
      "Epoch 43/100\n",
      "844/844 - 0s - loss: 0.7626 - accuracy: 0.7323 - 484ms/epoch - 573us/step\n",
      "Epoch 44/100\n",
      "844/844 - 0s - loss: 0.7610 - accuracy: 0.7318 - 479ms/epoch - 568us/step\n",
      "Epoch 45/100\n",
      "844/844 - 0s - loss: 0.7622 - accuracy: 0.7314 - 487ms/epoch - 577us/step\n",
      "Epoch 46/100\n",
      "844/844 - 0s - loss: 0.7606 - accuracy: 0.7339 - 485ms/epoch - 575us/step\n",
      "Epoch 47/100\n",
      "844/844 - 0s - loss: 0.7605 - accuracy: 0.7321 - 487ms/epoch - 577us/step\n",
      "Epoch 48/100\n",
      "844/844 - 0s - loss: 0.7605 - accuracy: 0.7335 - 494ms/epoch - 585us/step\n",
      "Epoch 49/100\n",
      "844/844 - 0s - loss: 0.7626 - accuracy: 0.7310 - 493ms/epoch - 584us/step\n",
      "Epoch 50/100\n",
      "844/844 - 0s - loss: 0.7593 - accuracy: 0.7323 - 493ms/epoch - 584us/step\n",
      "Epoch 51/100\n",
      "844/844 - 0s - loss: 0.7596 - accuracy: 0.7318 - 498ms/epoch - 590us/step\n",
      "Epoch 52/100\n",
      "844/844 - 0s - loss: 0.7612 - accuracy: 0.7325 - 497ms/epoch - 589us/step\n",
      "Epoch 53/100\n",
      "844/844 - 0s - loss: 0.7596 - accuracy: 0.7314 - 498ms/epoch - 590us/step\n",
      "Epoch 54/100\n",
      "844/844 - 0s - loss: 0.7593 - accuracy: 0.7320 - 488ms/epoch - 578us/step\n",
      "Epoch 55/100\n",
      "844/844 - 0s - loss: 0.7583 - accuracy: 0.7327 - 496ms/epoch - 588us/step\n",
      "Epoch 56/100\n",
      "844/844 - 0s - loss: 0.7584 - accuracy: 0.7332 - 496ms/epoch - 588us/step\n",
      "Epoch 57/100\n",
      "844/844 - 0s - loss: 0.7572 - accuracy: 0.7325 - 498ms/epoch - 590us/step\n",
      "Epoch 58/100\n",
      "844/844 - 0s - loss: 0.7560 - accuracy: 0.7333 - 490ms/epoch - 581us/step\n",
      "Epoch 59/100\n",
      "844/844 - 0s - loss: 0.7580 - accuracy: 0.7325 - 492ms/epoch - 583us/step\n",
      "Epoch 60/100\n",
      "844/844 - 0s - loss: 0.7578 - accuracy: 0.7336 - 497ms/epoch - 589us/step\n",
      "Epoch 61/100\n",
      "844/844 - 0s - loss: 0.7571 - accuracy: 0.7326 - 496ms/epoch - 588us/step\n",
      "Epoch 62/100\n",
      "844/844 - 0s - loss: 0.7580 - accuracy: 0.7316 - 496ms/epoch - 588us/step\n",
      "Epoch 63/100\n",
      "844/844 - 0s - loss: 0.7557 - accuracy: 0.7326 - 495ms/epoch - 586us/step\n",
      "Epoch 64/100\n",
      "844/844 - 1s - loss: 0.7565 - accuracy: 0.7329 - 503ms/epoch - 596us/step\n",
      "Epoch 65/100\n",
      "844/844 - 0s - loss: 0.7565 - accuracy: 0.7319 - 499ms/epoch - 591us/step\n",
      "Epoch 66/100\n",
      "844/844 - 0s - loss: 0.7568 - accuracy: 0.7329 - 491ms/epoch - 582us/step\n",
      "Epoch 67/100\n",
      "844/844 - 0s - loss: 0.7561 - accuracy: 0.7331 - 484ms/epoch - 573us/step\n",
      "Epoch 68/100\n",
      "844/844 - 0s - loss: 0.7560 - accuracy: 0.7338 - 489ms/epoch - 579us/step\n",
      "Epoch 69/100\n",
      "844/844 - 0s - loss: 0.7553 - accuracy: 0.7332 - 489ms/epoch - 579us/step\n",
      "Epoch 70/100\n",
      "844/844 - 0s - loss: 0.7551 - accuracy: 0.7340 - 482ms/epoch - 571us/step\n",
      "Epoch 71/100\n",
      "844/844 - 0s - loss: 0.7543 - accuracy: 0.7330 - 494ms/epoch - 585us/step\n",
      "Epoch 72/100\n",
      "844/844 - 0s - loss: 0.7552 - accuracy: 0.7333 - 488ms/epoch - 578us/step\n",
      "Epoch 73/100\n",
      "844/844 - 0s - loss: 0.7555 - accuracy: 0.7315 - 483ms/epoch - 572us/step\n",
      "Epoch 74/100\n",
      "844/844 - 0s - loss: 0.7540 - accuracy: 0.7355 - 486ms/epoch - 576us/step\n",
      "Epoch 75/100\n",
      "844/844 - 0s - loss: 0.7559 - accuracy: 0.7328 - 485ms/epoch - 575us/step\n",
      "Epoch 76/100\n",
      "844/844 - 0s - loss: 0.7542 - accuracy: 0.7326 - 485ms/epoch - 575us/step\n",
      "Epoch 77/100\n",
      "844/844 - 0s - loss: 0.7538 - accuracy: 0.7339 - 485ms/epoch - 575us/step\n",
      "Epoch 78/100\n",
      "844/844 - 0s - loss: 0.7561 - accuracy: 0.7330 - 486ms/epoch - 576us/step\n",
      "Epoch 79/100\n",
      "844/844 - 0s - loss: 0.7537 - accuracy: 0.7327 - 477ms/epoch - 565us/step\n",
      "Epoch 80/100\n",
      "844/844 - 0s - loss: 0.7542 - accuracy: 0.7344 - 483ms/epoch - 572us/step\n",
      "Epoch 81/100\n",
      "844/844 - 0s - loss: 0.7548 - accuracy: 0.7324 - 479ms/epoch - 568us/step\n",
      "Epoch 82/100\n",
      "844/844 - 0s - loss: 0.7523 - accuracy: 0.7339 - 483ms/epoch - 572us/step\n",
      "Epoch 83/100\n",
      "844/844 - 0s - loss: 0.7519 - accuracy: 0.7340 - 485ms/epoch - 575us/step\n",
      "Epoch 84/100\n",
      "844/844 - 0s - loss: 0.7519 - accuracy: 0.7333 - 477ms/epoch - 565us/step\n",
      "Epoch 85/100\n",
      "844/844 - 0s - loss: 0.7538 - accuracy: 0.7325 - 479ms/epoch - 568us/step\n",
      "Epoch 86/100\n",
      "844/844 - 0s - loss: 0.7544 - accuracy: 0.7328 - 485ms/epoch - 575us/step\n",
      "Epoch 87/100\n",
      "844/844 - 0s - loss: 0.7511 - accuracy: 0.7337 - 483ms/epoch - 572us/step\n",
      "Epoch 88/100\n",
      "844/844 - 0s - loss: 0.7543 - accuracy: 0.7337 - 487ms/epoch - 577us/step\n",
      "Epoch 89/100\n",
      "844/844 - 0s - loss: 0.7527 - accuracy: 0.7346 - 488ms/epoch - 578us/step\n",
      "Epoch 90/100\n",
      "844/844 - 0s - loss: 0.7530 - accuracy: 0.7338 - 484ms/epoch - 573us/step\n",
      "Epoch 91/100\n",
      "844/844 - 0s - loss: 0.7517 - accuracy: 0.7337 - 478ms/epoch - 566us/step\n",
      "Epoch 92/100\n",
      "844/844 - 0s - loss: 0.7538 - accuracy: 0.7322 - 484ms/epoch - 573us/step\n",
      "Epoch 93/100\n",
      "844/844 - 0s - loss: 0.7530 - accuracy: 0.7325 - 487ms/epoch - 577us/step\n",
      "Epoch 94/100\n",
      "844/844 - 0s - loss: 0.7515 - accuracy: 0.7326 - 486ms/epoch - 576us/step\n",
      "Epoch 95/100\n",
      "844/844 - 0s - loss: 0.7526 - accuracy: 0.7338 - 486ms/epoch - 576us/step\n"
     ]
    },
    {
     "name": "stdout",
     "output_type": "stream",
     "text": [
      "Epoch 96/100\n",
      "844/844 - 0s - loss: 0.7522 - accuracy: 0.7341 - 487ms/epoch - 577us/step\n",
      "Epoch 97/100\n",
      "844/844 - 0s - loss: 0.7528 - accuracy: 0.7339 - 486ms/epoch - 576us/step\n",
      "Epoch 98/100\n",
      "844/844 - 0s - loss: 0.7521 - accuracy: 0.7342 - 485ms/epoch - 575us/step\n",
      "Epoch 99/100\n",
      "844/844 - 0s - loss: 0.7536 - accuracy: 0.7334 - 489ms/epoch - 579us/step\n",
      "Epoch 100/100\n",
      "844/844 - 0s - loss: 0.7516 - accuracy: 0.7333 - 487ms/epoch - 577us/step\n"
     ]
    }
   ],
   "source": [
    "classifier = NNClassifier()\n",
    "history = classifier.train(trainX, trainY)"
   ]
  },
  {
   "cell_type": "markdown",
   "metadata": {},
   "source": [
    "## 2. Evaluating shallow feedforward neural network"
   ]
  },
  {
   "cell_type": "markdown",
   "metadata": {},
   "source": [
    "The *history* object returned by *train* function holds a record of the metric values during training."
   ]
  },
  {
   "cell_type": "code",
   "execution_count": 8,
   "metadata": {},
   "outputs": [
    {
     "name": "stdout",
     "output_type": "stream",
     "text": [
      "FNN train accuracy on BERT_CASED vectors: 0.7333061695098877\n"
     ]
    }
   ],
   "source": [
    "nn_train_acc = history.history[\"accuracy\"][-1]\n",
    "print(f\"FNN train accuracy on {embName} vectors: {nn_train_acc}\")"
   ]
  },
  {
   "cell_type": "markdown",
   "metadata": {},
   "source": [
    "And measure the accuracy on the test set."
   ]
  },
  {
   "cell_type": "code",
   "execution_count": 9,
   "metadata": {},
   "outputs": [
    {
     "name": "stdout",
     "output_type": "stream",
     "text": [
      "94/94 [==============================] - 0s 495us/step\n",
      "FFNN test accuracy on BERT_CASED vectors: 0.7174275241586138\n"
     ]
    }
   ],
   "source": [
    "res = classifier.predict(testX)\n",
    "nn_test_acc = evaluate(res, testY)\n",
    "print(f\"FFNN test accuracy on {embName} vectors: {nn_test_acc}\")"
   ]
  },
  {
   "cell_type": "markdown",
   "metadata": {},
   "source": [
    "For comparison we employ the nierest neighbor algorithm on the same data. We calculate the accuracy of classifying the sentence with the label corresponding to the closest sentence in the training data."
   ]
  },
  {
   "cell_type": "code",
   "execution_count": 10,
   "metadata": {},
   "outputs": [
    {
     "name": "stdout",
     "output_type": "stream",
     "text": [
      "Nearest neighbor test accuracy: 0.8399200266577808, train accuracy: 1.0\n"
     ]
    }
   ],
   "source": [
    "neigh = KNeighborsClassifier(n_neighbors=1)\n",
    "neigh.fit(trainX, trainY)\n",
    "res = neigh.predict(testX)\n",
    "neigh_test_acc = np.sum(res == testY)/len(testY[0])/len(testY)\n",
    "neigh_train_acc = neigh.score(trainX, trainY)\n",
    "print(f\"Nearest neighbor test accuracy: {neigh_test_acc}, train accuracy: {neigh_train_acc}\")"
   ]
  },
  {
   "cell_type": "markdown",
   "metadata": {},
   "source": [
    "Depending on random, the FNN classifier might perform better or worse (or the same) than the 1-nearest neighbor algorithm."
   ]
  },
  {
   "cell_type": "markdown",
   "metadata": {},
   "source": [
    "## 3. Training convolutional neural network classifier"
   ]
  },
  {
   "cell_type": "markdown",
   "metadata": {},
   "source": [
    "Now we load fastText word embeddings and train a convolutional network on them."
   ]
  },
  {
   "cell_type": "code",
   "execution_count": 11,
   "metadata": {
    "scrolled": true,
    "tags": []
   },
   "outputs": [
    {
     "name": "stdout",
     "output_type": "stream",
     "text": [
      "Epoch 1/30\n",
      "844/844 - 2s - loss: 0.8359 - accuracy: 0.7184 - 2s/epoch - 2ms/step\n",
      "Epoch 2/30\n",
      "844/844 - 2s - loss: 0.7590 - accuracy: 0.7309 - 2s/epoch - 2ms/step\n",
      "Epoch 3/30\n",
      "844/844 - 2s - loss: 0.7305 - accuracy: 0.7382 - 2s/epoch - 2ms/step\n",
      "Epoch 4/30\n",
      "844/844 - 2s - loss: 0.7090 - accuracy: 0.7441 - 2s/epoch - 2ms/step\n",
      "Epoch 5/30\n",
      "844/844 - 2s - loss: 0.6915 - accuracy: 0.7500 - 2s/epoch - 2ms/step\n",
      "Epoch 6/30\n",
      "844/844 - 2s - loss: 0.6691 - accuracy: 0.7535 - 2s/epoch - 2ms/step\n",
      "Epoch 7/30\n",
      "844/844 - 2s - loss: 0.6511 - accuracy: 0.7600 - 2s/epoch - 2ms/step\n",
      "Epoch 8/30\n",
      "844/844 - 2s - loss: 0.6303 - accuracy: 0.7646 - 2s/epoch - 2ms/step\n",
      "Epoch 9/30\n",
      "844/844 - 2s - loss: 0.6117 - accuracy: 0.7725 - 2s/epoch - 2ms/step\n",
      "Epoch 10/30\n",
      "844/844 - 2s - loss: 0.5907 - accuracy: 0.7766 - 2s/epoch - 2ms/step\n",
      "Epoch 11/30\n",
      "844/844 - 2s - loss: 0.5721 - accuracy: 0.7838 - 2s/epoch - 2ms/step\n",
      "Epoch 12/30\n",
      "844/844 - 2s - loss: 0.5575 - accuracy: 0.7889 - 2s/epoch - 2ms/step\n",
      "Epoch 13/30\n",
      "844/844 - 2s - loss: 0.5429 - accuracy: 0.7946 - 2s/epoch - 2ms/step\n",
      "Epoch 14/30\n",
      "844/844 - 2s - loss: 0.5248 - accuracy: 0.8029 - 2s/epoch - 2ms/step\n",
      "Epoch 15/30\n",
      "844/844 - 2s - loss: 0.5116 - accuracy: 0.8044 - 2s/epoch - 2ms/step\n",
      "Epoch 16/30\n",
      "844/844 - 2s - loss: 0.4940 - accuracy: 0.8112 - 2s/epoch - 2ms/step\n",
      "Epoch 17/30\n",
      "844/844 - 2s - loss: 0.4861 - accuracy: 0.8163 - 2s/epoch - 2ms/step\n",
      "Epoch 18/30\n",
      "844/844 - 2s - loss: 0.4755 - accuracy: 0.8201 - 2s/epoch - 2ms/step\n",
      "Epoch 19/30\n",
      "844/844 - 2s - loss: 0.4635 - accuracy: 0.8220 - 2s/epoch - 2ms/step\n",
      "Epoch 20/30\n",
      "844/844 - 2s - loss: 0.4471 - accuracy: 0.8278 - 2s/epoch - 2ms/step\n",
      "Epoch 21/30\n",
      "844/844 - 2s - loss: 0.4369 - accuracy: 0.8332 - 2s/epoch - 2ms/step\n",
      "Epoch 22/30\n",
      "844/844 - 2s - loss: 0.4286 - accuracy: 0.8349 - 2s/epoch - 2ms/step\n",
      "Epoch 23/30\n",
      "844/844 - 2s - loss: 0.4174 - accuracy: 0.8377 - 2s/epoch - 2ms/step\n",
      "Epoch 24/30\n",
      "844/844 - 2s - loss: 0.4105 - accuracy: 0.8416 - 2s/epoch - 2ms/step\n",
      "Epoch 25/30\n",
      "844/844 - 2s - loss: 0.3974 - accuracy: 0.8476 - 2s/epoch - 2ms/step\n",
      "Epoch 26/30\n",
      "844/844 - 2s - loss: 0.3893 - accuracy: 0.8510 - 2s/epoch - 2ms/step\n",
      "Epoch 27/30\n",
      "844/844 - 2s - loss: 0.3808 - accuracy: 0.8536 - 2s/epoch - 2ms/step\n",
      "Epoch 28/30\n",
      "844/844 - 2s - loss: 0.3741 - accuracy: 0.8589 - 2s/epoch - 2ms/step\n",
      "Epoch 29/30\n",
      "844/844 - 2s - loss: 0.3700 - accuracy: 0.8596 - 2s/epoch - 2ms/step\n",
      "Epoch 30/30\n",
      "844/844 - 2s - loss: 0.3579 - accuracy: 0.8617 - 2s/epoch - 2ms/step\n"
     ]
    }
   ],
   "source": [
    "data = loadData(f\"{datadir}/{dsName}_FASTTEXT.json\")\n",
    "\n",
    "maxLen = 6\n",
    "trainX, trainY, testX, testY = prepareTrainTestXYWords(data, maxLen,classify_by_field=\"class\")\n",
    "\n",
    "cnnclassifier = NNClassifier(model=\"CNN\", vectorSpaceSize=300)\n",
    "history = cnnclassifier.train(trainX, trainY)"
   ]
  },
  {
   "cell_type": "markdown",
   "metadata": {},
   "source": [
    "## 4. Evaluating convolutional neural network classifier"
   ]
  },
  {
   "cell_type": "code",
   "execution_count": 12,
   "metadata": {},
   "outputs": [
    {
     "name": "stdout",
     "output_type": "stream",
     "text": [
      "CNN train accuracy on fastText vectors: 0.8616718053817749\n"
     ]
    }
   ],
   "source": [
    "fasttext_nn_train_acc = history.history['accuracy'][-1]\n",
    "print(f\"CNN train accuracy on fastText vectors: {fasttext_nn_train_acc}\")"
   ]
  },
  {
   "cell_type": "code",
   "execution_count": 13,
   "metadata": {},
   "outputs": [
    {
     "name": "stdout",
     "output_type": "stream",
     "text": [
      "94/94 [==============================] - 0s 1ms/step\n",
      "CNN test accuracy on fastText vectors: 0.7190936354548484\n"
     ]
    }
   ],
   "source": [
    "res = cnnclassifier.predict(testX)\n",
    "fasttext_nn_test_acc = evaluate(res, testY)\n",
    "print(f\"CNN test accuracy on fastText vectors: {fasttext_nn_test_acc}\")"
   ]
  },
  {
   "cell_type": "markdown",
   "metadata": {},
   "source": [
    "## 5. Comparing results"
   ]
  },
  {
   "cell_type": "markdown",
   "metadata": {},
   "source": [
    "Now we will show results (train and test accuracies) in a chart."
   ]
  },
  {
   "cell_type": "code",
   "execution_count": 14,
   "metadata": {},
   "outputs": [],
   "source": [
    "import matplotlib.pyplot as plt\n",
    "plt.rcParams[\"figure.figsize\"] = (8,6)\n",
    "test_accs = [fasttext_nn_test_acc, neigh_test_acc, nn_test_acc]\n",
    "train_accs = [fasttext_nn_train_acc, neigh_train_acc, nn_train_acc]\n",
    "labels = [\"fastText CNN\",f\"{embName} nearest neighbors\", f\"{embName} NN\"]"
   ]
  },
  {
   "cell_type": "markdown",
   "metadata": {},
   "source": [
    "To compare results we will train models for other sentence embeddings as well."
   ]
  },
  {
   "cell_type": "code",
   "execution_count": 15,
   "metadata": {},
   "outputs": [
    {
     "name": "stdout",
     "output_type": "stream",
     "text": [
      "Epoch 1/100\n",
      "844/844 - 1s - loss: 0.8541 - accuracy: 0.7123 - 671ms/epoch - 795us/step\n",
      "Epoch 2/100\n",
      "844/844 - 0s - loss: 0.7998 - accuracy: 0.7219 - 486ms/epoch - 576us/step\n",
      "Epoch 3/100\n",
      "844/844 - 0s - loss: 0.7881 - accuracy: 0.7248 - 484ms/epoch - 573us/step\n",
      "Epoch 4/100\n",
      "844/844 - 0s - loss: 0.7789 - accuracy: 0.7262 - 484ms/epoch - 573us/step\n",
      "Epoch 5/100\n",
      "844/844 - 0s - loss: 0.7743 - accuracy: 0.7293 - 471ms/epoch - 558us/step\n",
      "Epoch 6/100\n",
      "844/844 - 0s - loss: 0.7711 - accuracy: 0.7291 - 497ms/epoch - 589us/step\n",
      "Epoch 7/100\n",
      "844/844 - 0s - loss: 0.7673 - accuracy: 0.7303 - 474ms/epoch - 562us/step\n",
      "Epoch 8/100\n",
      "844/844 - 0s - loss: 0.7630 - accuracy: 0.7301 - 469ms/epoch - 556us/step\n",
      "Epoch 9/100\n",
      "844/844 - 0s - loss: 0.7604 - accuracy: 0.7308 - 470ms/epoch - 557us/step\n",
      "Epoch 10/100\n",
      "844/844 - 0s - loss: 0.7577 - accuracy: 0.7312 - 471ms/epoch - 558us/step\n",
      "Epoch 11/100\n",
      "844/844 - 0s - loss: 0.7567 - accuracy: 0.7317 - 471ms/epoch - 558us/step\n",
      "Epoch 12/100\n",
      "844/844 - 0s - loss: 0.7560 - accuracy: 0.7332 - 470ms/epoch - 557us/step\n",
      "Epoch 13/100\n",
      "844/844 - 0s - loss: 0.7529 - accuracy: 0.7331 - 470ms/epoch - 557us/step\n",
      "Epoch 14/100\n",
      "844/844 - 0s - loss: 0.7521 - accuracy: 0.7341 - 470ms/epoch - 557us/step\n",
      "Epoch 15/100\n",
      "844/844 - 0s - loss: 0.7502 - accuracy: 0.7346 - 469ms/epoch - 556us/step\n",
      "Epoch 16/100\n",
      "844/844 - 0s - loss: 0.7489 - accuracy: 0.7334 - 471ms/epoch - 558us/step\n",
      "Epoch 17/100\n",
      "844/844 - 0s - loss: 0.7491 - accuracy: 0.7338 - 468ms/epoch - 554us/step\n",
      "Epoch 18/100\n",
      "844/844 - 0s - loss: 0.7464 - accuracy: 0.7341 - 472ms/epoch - 559us/step\n",
      "Epoch 19/100\n",
      "844/844 - 0s - loss: 0.7454 - accuracy: 0.7336 - 475ms/epoch - 563us/step\n",
      "Epoch 20/100\n",
      "844/844 - 0s - loss: 0.7449 - accuracy: 0.7361 - 469ms/epoch - 556us/step\n",
      "Epoch 21/100\n",
      "844/844 - 0s - loss: 0.7446 - accuracy: 0.7359 - 471ms/epoch - 558us/step\n",
      "Epoch 22/100\n",
      "844/844 - 0s - loss: 0.7432 - accuracy: 0.7352 - 470ms/epoch - 557us/step\n",
      "Epoch 23/100\n",
      "844/844 - 0s - loss: 0.7425 - accuracy: 0.7361 - 470ms/epoch - 557us/step\n",
      "Epoch 24/100\n",
      "844/844 - 0s - loss: 0.7407 - accuracy: 0.7361 - 469ms/epoch - 556us/step\n",
      "Epoch 25/100\n",
      "844/844 - 0s - loss: 0.7411 - accuracy: 0.7353 - 469ms/epoch - 556us/step\n",
      "Epoch 26/100\n",
      "844/844 - 0s - loss: 0.7394 - accuracy: 0.7363 - 469ms/epoch - 556us/step\n",
      "Epoch 27/100\n",
      "844/844 - 0s - loss: 0.7395 - accuracy: 0.7364 - 469ms/epoch - 556us/step\n",
      "Epoch 28/100\n",
      "844/844 - 0s - loss: 0.7387 - accuracy: 0.7361 - 468ms/epoch - 554us/step\n",
      "Epoch 29/100\n",
      "844/844 - 0s - loss: 0.7383 - accuracy: 0.7374 - 469ms/epoch - 556us/step\n",
      "Epoch 30/100\n",
      "844/844 - 0s - loss: 0.7387 - accuracy: 0.7379 - 471ms/epoch - 558us/step\n",
      "Epoch 31/100\n",
      "844/844 - 0s - loss: 0.7376 - accuracy: 0.7373 - 470ms/epoch - 557us/step\n",
      "Epoch 32/100\n",
      "844/844 - 0s - loss: 0.7362 - accuracy: 0.7370 - 471ms/epoch - 558us/step\n",
      "Epoch 33/100\n",
      "844/844 - 0s - loss: 0.7373 - accuracy: 0.7375 - 470ms/epoch - 557us/step\n",
      "Epoch 34/100\n",
      "844/844 - 0s - loss: 0.7356 - accuracy: 0.7390 - 470ms/epoch - 557us/step\n",
      "Epoch 35/100\n",
      "844/844 - 0s - loss: 0.7350 - accuracy: 0.7373 - 470ms/epoch - 557us/step\n",
      "Epoch 36/100\n",
      "844/844 - 0s - loss: 0.7361 - accuracy: 0.7372 - 471ms/epoch - 558us/step\n",
      "Epoch 37/100\n",
      "844/844 - 0s - loss: 0.7360 - accuracy: 0.7383 - 472ms/epoch - 559us/step\n",
      "Epoch 38/100\n",
      "844/844 - 0s - loss: 0.7337 - accuracy: 0.7362 - 472ms/epoch - 559us/step\n",
      "Epoch 39/100\n",
      "844/844 - 0s - loss: 0.7339 - accuracy: 0.7385 - 471ms/epoch - 558us/step\n",
      "Epoch 40/100\n",
      "844/844 - 0s - loss: 0.7316 - accuracy: 0.7386 - 477ms/epoch - 565us/step\n",
      "Epoch 41/100\n",
      "844/844 - 0s - loss: 0.7322 - accuracy: 0.7373 - 472ms/epoch - 559us/step\n",
      "Epoch 42/100\n",
      "844/844 - 0s - loss: 0.7326 - accuracy: 0.7384 - 472ms/epoch - 559us/step\n",
      "Epoch 43/100\n",
      "844/844 - 0s - loss: 0.7324 - accuracy: 0.7391 - 472ms/epoch - 559us/step\n",
      "Epoch 44/100\n",
      "844/844 - 0s - loss: 0.7323 - accuracy: 0.7379 - 472ms/epoch - 559us/step\n",
      "Epoch 45/100\n",
      "844/844 - 0s - loss: 0.7347 - accuracy: 0.7364 - 473ms/epoch - 560us/step\n",
      "Epoch 46/100\n",
      "844/844 - 0s - loss: 0.7306 - accuracy: 0.7404 - 471ms/epoch - 558us/step\n",
      "Epoch 47/100\n",
      "844/844 - 0s - loss: 0.7306 - accuracy: 0.7370 - 470ms/epoch - 557us/step\n",
      "Epoch 48/100\n",
      "844/844 - 0s - loss: 0.7312 - accuracy: 0.7379 - 473ms/epoch - 560us/step\n",
      "Epoch 49/100\n",
      "844/844 - 0s - loss: 0.7320 - accuracy: 0.7389 - 471ms/epoch - 558us/step\n",
      "Epoch 50/100\n",
      "844/844 - 0s - loss: 0.7303 - accuracy: 0.7388 - 473ms/epoch - 560us/step\n",
      "Epoch 51/100\n",
      "844/844 - 0s - loss: 0.7303 - accuracy: 0.7388 - 470ms/epoch - 557us/step\n",
      "Epoch 52/100\n",
      "844/844 - 0s - loss: 0.7306 - accuracy: 0.7374 - 471ms/epoch - 558us/step\n",
      "Epoch 53/100\n",
      "844/844 - 0s - loss: 0.7298 - accuracy: 0.7394 - 472ms/epoch - 559us/step\n",
      "Epoch 54/100\n",
      "844/844 - 0s - loss: 0.7293 - accuracy: 0.7388 - 472ms/epoch - 559us/step\n",
      "Epoch 55/100\n",
      "844/844 - 0s - loss: 0.7290 - accuracy: 0.7401 - 470ms/epoch - 557us/step\n",
      "Epoch 56/100\n",
      "844/844 - 0s - loss: 0.7294 - accuracy: 0.7389 - 470ms/epoch - 557us/step\n",
      "Epoch 57/100\n",
      "844/844 - 0s - loss: 0.7280 - accuracy: 0.7401 - 471ms/epoch - 558us/step\n",
      "Epoch 58/100\n",
      "844/844 - 0s - loss: 0.7281 - accuracy: 0.7384 - 473ms/epoch - 560us/step\n",
      "Epoch 59/100\n",
      "844/844 - 0s - loss: 0.7282 - accuracy: 0.7397 - 470ms/epoch - 557us/step\n",
      "Epoch 60/100\n",
      "844/844 - 0s - loss: 0.7271 - accuracy: 0.7405 - 471ms/epoch - 558us/step\n",
      "Epoch 61/100\n",
      "844/844 - 0s - loss: 0.7274 - accuracy: 0.7393 - 476ms/epoch - 564us/step\n",
      "Epoch 62/100\n",
      "844/844 - 0s - loss: 0.7280 - accuracy: 0.7391 - 469ms/epoch - 556us/step\n",
      "Epoch 63/100\n",
      "844/844 - 0s - loss: 0.7275 - accuracy: 0.7388 - 471ms/epoch - 558us/step\n",
      "Epoch 64/100\n",
      "844/844 - 0s - loss: 0.7267 - accuracy: 0.7401 - 470ms/epoch - 557us/step\n",
      "Epoch 65/100\n",
      "844/844 - 0s - loss: 0.7268 - accuracy: 0.7395 - 470ms/epoch - 557us/step\n",
      "Epoch 66/100\n",
      "844/844 - 0s - loss: 0.7268 - accuracy: 0.7388 - 469ms/epoch - 556us/step\n",
      "Epoch 67/100\n",
      "844/844 - 0s - loss: 0.7272 - accuracy: 0.7395 - 470ms/epoch - 557us/step\n",
      "Epoch 68/100\n",
      "844/844 - 0s - loss: 0.7255 - accuracy: 0.7370 - 470ms/epoch - 557us/step\n",
      "Epoch 69/100\n",
      "844/844 - 0s - loss: 0.7254 - accuracy: 0.7403 - 471ms/epoch - 558us/step\n",
      "Epoch 70/100\n",
      "844/844 - 0s - loss: 0.7248 - accuracy: 0.7398 - 471ms/epoch - 558us/step\n",
      "Epoch 71/100\n",
      "844/844 - 0s - loss: 0.7246 - accuracy: 0.7403 - 472ms/epoch - 559us/step\n",
      "Epoch 72/100\n",
      "844/844 - 0s - loss: 0.7257 - accuracy: 0.7400 - 472ms/epoch - 559us/step\n",
      "Epoch 73/100\n",
      "844/844 - 0s - loss: 0.7249 - accuracy: 0.7399 - 471ms/epoch - 558us/step\n",
      "Epoch 74/100\n",
      "844/844 - 0s - loss: 0.7265 - accuracy: 0.7399 - 471ms/epoch - 558us/step\n",
      "Epoch 75/100\n",
      "844/844 - 0s - loss: 0.7258 - accuracy: 0.7383 - 469ms/epoch - 556us/step\n",
      "Epoch 76/100\n",
      "844/844 - 0s - loss: 0.7248 - accuracy: 0.7386 - 471ms/epoch - 558us/step\n",
      "Epoch 77/100\n",
      "844/844 - 0s - loss: 0.7233 - accuracy: 0.7402 - 475ms/epoch - 563us/step\n",
      "Epoch 78/100\n",
      "844/844 - 0s - loss: 0.7251 - accuracy: 0.7405 - 470ms/epoch - 557us/step\n",
      "Epoch 79/100\n",
      "844/844 - 0s - loss: 0.7238 - accuracy: 0.7403 - 475ms/epoch - 563us/step\n",
      "Epoch 80/100\n",
      "844/844 - 0s - loss: 0.7246 - accuracy: 0.7401 - 471ms/epoch - 558us/step\n",
      "Epoch 81/100\n",
      "844/844 - 0s - loss: 0.7248 - accuracy: 0.7390 - 473ms/epoch - 560us/step\n",
      "Epoch 82/100\n",
      "844/844 - 0s - loss: 0.7243 - accuracy: 0.7393 - 470ms/epoch - 557us/step\n",
      "Epoch 83/100\n",
      "844/844 - 0s - loss: 0.7240 - accuracy: 0.7407 - 474ms/epoch - 562us/step\n",
      "Epoch 84/100\n",
      "844/844 - 0s - loss: 0.7229 - accuracy: 0.7400 - 469ms/epoch - 556us/step\n",
      "Epoch 85/100\n",
      "844/844 - 0s - loss: 0.7238 - accuracy: 0.7402 - 471ms/epoch - 558us/step\n",
      "Epoch 86/100\n",
      "844/844 - 0s - loss: 0.7228 - accuracy: 0.7397 - 480ms/epoch - 569us/step\n",
      "Epoch 87/100\n",
      "844/844 - 0s - loss: 0.7236 - accuracy: 0.7412 - 469ms/epoch - 556us/step\n",
      "Epoch 88/100\n",
      "844/844 - 0s - loss: 0.7224 - accuracy: 0.7397 - 472ms/epoch - 559us/step\n",
      "Epoch 89/100\n",
      "844/844 - 0s - loss: 0.7231 - accuracy: 0.7407 - 470ms/epoch - 557us/step\n",
      "Epoch 90/100\n",
      "844/844 - 0s - loss: 0.7223 - accuracy: 0.7404 - 470ms/epoch - 557us/step\n",
      "Epoch 91/100\n",
      "844/844 - 0s - loss: 0.7234 - accuracy: 0.7400 - 468ms/epoch - 554us/step\n",
      "Epoch 92/100\n",
      "844/844 - 0s - loss: 0.7228 - accuracy: 0.7397 - 470ms/epoch - 557us/step\n",
      "Epoch 93/100\n",
      "844/844 - 0s - loss: 0.7220 - accuracy: 0.7404 - 470ms/epoch - 557us/step\n",
      "Epoch 94/100\n",
      "844/844 - 0s - loss: 0.7222 - accuracy: 0.7401 - 470ms/epoch - 557us/step\n",
      "Epoch 95/100\n",
      "844/844 - 0s - loss: 0.7236 - accuracy: 0.7399 - 468ms/epoch - 554us/step\n"
     ]
    },
    {
     "name": "stdout",
     "output_type": "stream",
     "text": [
      "Epoch 96/100\n",
      "844/844 - 0s - loss: 0.7222 - accuracy: 0.7409 - 469ms/epoch - 556us/step\n",
      "Epoch 97/100\n",
      "844/844 - 0s - loss: 0.7226 - accuracy: 0.7415 - 468ms/epoch - 555us/step\n",
      "Epoch 98/100\n",
      "844/844 - 0s - loss: 0.7220 - accuracy: 0.7419 - 469ms/epoch - 556us/step\n",
      "Epoch 99/100\n",
      "844/844 - 0s - loss: 0.7244 - accuracy: 0.7393 - 471ms/epoch - 558us/step\n",
      "Epoch 100/100\n",
      "844/844 - 0s - loss: 0.7199 - accuracy: 0.7408 - 469ms/epoch - 556us/step\n",
      "94/94 [==============================] - 0s 495us/step\n",
      "Epoch 1/100\n",
      "844/844 - 1s - loss: 0.9281 - accuracy: 0.7074 - 666ms/epoch - 789us/step\n",
      "Epoch 2/100\n",
      "844/844 - 0s - loss: 0.8141 - accuracy: 0.7184 - 483ms/epoch - 572us/step\n",
      "Epoch 3/100\n",
      "844/844 - 0s - loss: 0.7871 - accuracy: 0.7259 - 475ms/epoch - 563us/step\n",
      "Epoch 4/100\n",
      "844/844 - 0s - loss: 0.7732 - accuracy: 0.7289 - 478ms/epoch - 566us/step\n",
      "Epoch 5/100\n",
      "844/844 - 0s - loss: 0.7647 - accuracy: 0.7315 - 485ms/epoch - 575us/step\n",
      "Epoch 6/100\n",
      "844/844 - 0s - loss: 0.7587 - accuracy: 0.7325 - 491ms/epoch - 582us/step\n",
      "Epoch 7/100\n",
      "844/844 - 0s - loss: 0.7545 - accuracy: 0.7333 - 487ms/epoch - 577us/step\n",
      "Epoch 8/100\n",
      "844/844 - 0s - loss: 0.7509 - accuracy: 0.7344 - 493ms/epoch - 584us/step\n",
      "Epoch 9/100\n",
      "844/844 - 0s - loss: 0.7482 - accuracy: 0.7352 - 490ms/epoch - 581us/step\n",
      "Epoch 10/100\n",
      "844/844 - 0s - loss: 0.7458 - accuracy: 0.7362 - 488ms/epoch - 578us/step\n",
      "Epoch 11/100\n",
      "844/844 - 0s - loss: 0.7437 - accuracy: 0.7361 - 489ms/epoch - 579us/step\n",
      "Epoch 12/100\n",
      "844/844 - 0s - loss: 0.7419 - accuracy: 0.7362 - 500ms/epoch - 592us/step\n",
      "Epoch 13/100\n",
      "844/844 - 1s - loss: 0.7403 - accuracy: 0.7369 - 509ms/epoch - 603us/step\n",
      "Epoch 14/100\n",
      "844/844 - 1s - loss: 0.7388 - accuracy: 0.7369 - 502ms/epoch - 595us/step\n",
      "Epoch 15/100\n",
      "844/844 - 1s - loss: 0.7375 - accuracy: 0.7372 - 502ms/epoch - 595us/step\n",
      "Epoch 16/100\n",
      "844/844 - 1s - loss: 0.7364 - accuracy: 0.7382 - 504ms/epoch - 597us/step\n",
      "Epoch 17/100\n",
      "844/844 - 1s - loss: 0.7352 - accuracy: 0.7382 - 509ms/epoch - 603us/step\n",
      "Epoch 18/100\n",
      "844/844 - 0s - loss: 0.7341 - accuracy: 0.7388 - 489ms/epoch - 579us/step\n",
      "Epoch 19/100\n",
      "844/844 - 1s - loss: 0.7333 - accuracy: 0.7383 - 508ms/epoch - 602us/step\n",
      "Epoch 20/100\n",
      "844/844 - 0s - loss: 0.7323 - accuracy: 0.7386 - 498ms/epoch - 590us/step\n",
      "Epoch 21/100\n",
      "844/844 - 0s - loss: 0.7316 - accuracy: 0.7386 - 498ms/epoch - 590us/step\n",
      "Epoch 22/100\n",
      "844/844 - 0s - loss: 0.7307 - accuracy: 0.7391 - 491ms/epoch - 582us/step\n",
      "Epoch 23/100\n",
      "844/844 - 0s - loss: 0.7297 - accuracy: 0.7390 - 478ms/epoch - 566us/step\n",
      "Epoch 24/100\n",
      "844/844 - 0s - loss: 0.7292 - accuracy: 0.7398 - 479ms/epoch - 568us/step\n",
      "Epoch 25/100\n",
      "844/844 - 0s - loss: 0.7284 - accuracy: 0.7402 - 480ms/epoch - 569us/step\n",
      "Epoch 26/100\n",
      "844/844 - 0s - loss: 0.7278 - accuracy: 0.7400 - 480ms/epoch - 569us/step\n",
      "Epoch 27/100\n",
      "844/844 - 0s - loss: 0.7272 - accuracy: 0.7403 - 479ms/epoch - 568us/step\n",
      "Epoch 28/100\n",
      "844/844 - 0s - loss: 0.7267 - accuracy: 0.7408 - 483ms/epoch - 572us/step\n",
      "Epoch 29/100\n",
      "844/844 - 0s - loss: 0.7259 - accuracy: 0.7411 - 480ms/epoch - 569us/step\n",
      "Epoch 30/100\n",
      "844/844 - 0s - loss: 0.7255 - accuracy: 0.7417 - 482ms/epoch - 571us/step\n",
      "Epoch 31/100\n",
      "844/844 - 0s - loss: 0.7251 - accuracy: 0.7413 - 484ms/epoch - 573us/step\n",
      "Epoch 32/100\n",
      "844/844 - 0s - loss: 0.7244 - accuracy: 0.7418 - 484ms/epoch - 573us/step\n",
      "Epoch 33/100\n",
      "844/844 - 0s - loss: 0.7238 - accuracy: 0.7415 - 482ms/epoch - 571us/step\n",
      "Epoch 34/100\n",
      "844/844 - 0s - loss: 0.7236 - accuracy: 0.7419 - 490ms/epoch - 581us/step\n",
      "Epoch 35/100\n",
      "844/844 - 0s - loss: 0.7230 - accuracy: 0.7416 - 479ms/epoch - 568us/step\n",
      "Epoch 36/100\n",
      "844/844 - 0s - loss: 0.7226 - accuracy: 0.7419 - 481ms/epoch - 570us/step\n",
      "Epoch 37/100\n",
      "844/844 - 0s - loss: 0.7221 - accuracy: 0.7420 - 478ms/epoch - 566us/step\n",
      "Epoch 38/100\n",
      "844/844 - 1s - loss: 0.7217 - accuracy: 0.7425 - 511ms/epoch - 605us/step\n",
      "Epoch 39/100\n",
      "844/844 - 0s - loss: 0.7212 - accuracy: 0.7426 - 499ms/epoch - 591us/step\n",
      "Epoch 40/100\n",
      "844/844 - 0s - loss: 0.7211 - accuracy: 0.7418 - 495ms/epoch - 586us/step\n",
      "Epoch 41/100\n",
      "844/844 - 0s - loss: 0.7206 - accuracy: 0.7420 - 490ms/epoch - 581us/step\n",
      "Epoch 42/100\n",
      "844/844 - 0s - loss: 0.7202 - accuracy: 0.7429 - 493ms/epoch - 584us/step\n",
      "Epoch 43/100\n",
      "844/844 - 1s - loss: 0.7198 - accuracy: 0.7428 - 502ms/epoch - 595us/step\n",
      "Epoch 44/100\n",
      "844/844 - 0s - loss: 0.7195 - accuracy: 0.7424 - 493ms/epoch - 584us/step\n",
      "Epoch 45/100\n",
      "844/844 - 0s - loss: 0.7191 - accuracy: 0.7431 - 488ms/epoch - 578us/step\n",
      "Epoch 46/100\n",
      "844/844 - 0s - loss: 0.7189 - accuracy: 0.7427 - 492ms/epoch - 583us/step\n",
      "Epoch 47/100\n",
      "844/844 - 0s - loss: 0.7185 - accuracy: 0.7433 - 494ms/epoch - 585us/step\n",
      "Epoch 48/100\n",
      "844/844 - 0s - loss: 0.7182 - accuracy: 0.7437 - 492ms/epoch - 583us/step\n",
      "Epoch 49/100\n",
      "844/844 - 1s - loss: 0.7180 - accuracy: 0.7432 - 505ms/epoch - 598us/step\n",
      "Epoch 50/100\n",
      "844/844 - 0s - loss: 0.7175 - accuracy: 0.7435 - 491ms/epoch - 582us/step\n",
      "Epoch 51/100\n",
      "844/844 - 0s - loss: 0.7172 - accuracy: 0.7437 - 494ms/epoch - 585us/step\n",
      "Epoch 52/100\n",
      "844/844 - 0s - loss: 0.7170 - accuracy: 0.7435 - 495ms/epoch - 586us/step\n",
      "Epoch 53/100\n",
      "844/844 - 0s - loss: 0.7166 - accuracy: 0.7439 - 497ms/epoch - 589us/step\n",
      "Epoch 54/100\n",
      "844/844 - 0s - loss: 0.7164 - accuracy: 0.7437 - 492ms/epoch - 583us/step\n",
      "Epoch 55/100\n",
      "844/844 - 0s - loss: 0.7161 - accuracy: 0.7431 - 490ms/epoch - 581us/step\n",
      "Epoch 56/100\n",
      "844/844 - 0s - loss: 0.7159 - accuracy: 0.7442 - 491ms/epoch - 582us/step\n",
      "Epoch 57/100\n",
      "844/844 - 0s - loss: 0.7155 - accuracy: 0.7433 - 485ms/epoch - 575us/step\n",
      "Epoch 58/100\n",
      "844/844 - 0s - loss: 0.7153 - accuracy: 0.7442 - 479ms/epoch - 568us/step\n",
      "Epoch 59/100\n",
      "844/844 - 0s - loss: 0.7152 - accuracy: 0.7435 - 482ms/epoch - 571us/step\n",
      "Epoch 60/100\n",
      "844/844 - 0s - loss: 0.7149 - accuracy: 0.7441 - 478ms/epoch - 566us/step\n",
      "Epoch 61/100\n",
      "844/844 - 0s - loss: 0.7146 - accuracy: 0.7437 - 477ms/epoch - 565us/step\n",
      "Epoch 62/100\n",
      "844/844 - 0s - loss: 0.7145 - accuracy: 0.7442 - 476ms/epoch - 564us/step\n",
      "Epoch 63/100\n",
      "844/844 - 0s - loss: 0.7141 - accuracy: 0.7440 - 484ms/epoch - 573us/step\n",
      "Epoch 64/100\n",
      "844/844 - 0s - loss: 0.7139 - accuracy: 0.7439 - 475ms/epoch - 563us/step\n",
      "Epoch 65/100\n",
      "844/844 - 0s - loss: 0.7137 - accuracy: 0.7444 - 476ms/epoch - 564us/step\n",
      "Epoch 66/100\n",
      "844/844 - 0s - loss: 0.7135 - accuracy: 0.7438 - 480ms/epoch - 569us/step\n",
      "Epoch 67/100\n",
      "844/844 - 0s - loss: 0.7133 - accuracy: 0.7441 - 480ms/epoch - 569us/step\n",
      "Epoch 68/100\n",
      "844/844 - 0s - loss: 0.7130 - accuracy: 0.7443 - 478ms/epoch - 566us/step\n",
      "Epoch 69/100\n",
      "844/844 - 0s - loss: 0.7128 - accuracy: 0.7437 - 479ms/epoch - 568us/step\n",
      "Epoch 70/100\n",
      "844/844 - 0s - loss: 0.7126 - accuracy: 0.7444 - 478ms/epoch - 566us/step\n",
      "Epoch 71/100\n",
      "844/844 - 0s - loss: 0.7126 - accuracy: 0.7448 - 480ms/epoch - 569us/step\n",
      "Epoch 72/100\n",
      "844/844 - 0s - loss: 0.7122 - accuracy: 0.7440 - 478ms/epoch - 566us/step\n",
      "Epoch 73/100\n",
      "844/844 - 0s - loss: 0.7120 - accuracy: 0.7450 - 479ms/epoch - 568us/step\n",
      "Epoch 74/100\n",
      "844/844 - 0s - loss: 0.7119 - accuracy: 0.7448 - 477ms/epoch - 565us/step\n",
      "Epoch 75/100\n",
      "844/844 - 0s - loss: 0.7116 - accuracy: 0.7444 - 476ms/epoch - 564us/step\n",
      "Epoch 76/100\n",
      "844/844 - 0s - loss: 0.7115 - accuracy: 0.7442 - 484ms/epoch - 573us/step\n",
      "Epoch 77/100\n",
      "844/844 - 0s - loss: 0.7112 - accuracy: 0.7450 - 483ms/epoch - 572us/step\n",
      "Epoch 78/100\n",
      "844/844 - 0s - loss: 0.7110 - accuracy: 0.7445 - 483ms/epoch - 572us/step\n",
      "Epoch 79/100\n",
      "844/844 - 0s - loss: 0.7108 - accuracy: 0.7447 - 485ms/epoch - 575us/step\n",
      "Epoch 80/100\n",
      "844/844 - 0s - loss: 0.7106 - accuracy: 0.7444 - 482ms/epoch - 571us/step\n",
      "Epoch 81/100\n",
      "844/844 - 0s - loss: 0.7105 - accuracy: 0.7443 - 483ms/epoch - 572us/step\n",
      "Epoch 82/100\n",
      "844/844 - 0s - loss: 0.7104 - accuracy: 0.7452 - 482ms/epoch - 571us/step\n",
      "Epoch 83/100\n",
      "844/844 - 0s - loss: 0.7103 - accuracy: 0.7452 - 485ms/epoch - 575us/step\n",
      "Epoch 84/100\n",
      "844/844 - 0s - loss: 0.7101 - accuracy: 0.7450 - 492ms/epoch - 583us/step\n",
      "Epoch 85/100\n",
      "844/844 - 0s - loss: 0.7099 - accuracy: 0.7447 - 486ms/epoch - 576us/step\n",
      "Epoch 86/100\n",
      "844/844 - 0s - loss: 0.7096 - accuracy: 0.7450 - 484ms/epoch - 573us/step\n",
      "Epoch 87/100\n",
      "844/844 - 0s - loss: 0.7097 - accuracy: 0.7448 - 497ms/epoch - 589us/step\n",
      "Epoch 88/100\n",
      "844/844 - 0s - loss: 0.7094 - accuracy: 0.7452 - 486ms/epoch - 576us/step\n",
      "Epoch 89/100\n",
      "844/844 - 0s - loss: 0.7091 - accuracy: 0.7450 - 480ms/epoch - 569us/step\n"
     ]
    },
    {
     "name": "stdout",
     "output_type": "stream",
     "text": [
      "Epoch 90/100\n",
      "844/844 - 0s - loss: 0.7090 - accuracy: 0.7455 - 480ms/epoch - 569us/step\n",
      "Epoch 91/100\n",
      "844/844 - 0s - loss: 0.7089 - accuracy: 0.7457 - 481ms/epoch - 570us/step\n",
      "Epoch 92/100\n",
      "844/844 - 0s - loss: 0.7088 - accuracy: 0.7459 - 488ms/epoch - 578us/step\n",
      "Epoch 93/100\n",
      "844/844 - 0s - loss: 0.7085 - accuracy: 0.7455 - 483ms/epoch - 572us/step\n",
      "Epoch 94/100\n",
      "844/844 - 0s - loss: 0.7085 - accuracy: 0.7455 - 481ms/epoch - 570us/step\n",
      "Epoch 95/100\n",
      "844/844 - 0s - loss: 0.7083 - accuracy: 0.7458 - 482ms/epoch - 571us/step\n",
      "Epoch 96/100\n",
      "844/844 - 0s - loss: 0.7083 - accuracy: 0.7457 - 479ms/epoch - 568us/step\n",
      "Epoch 97/100\n",
      "844/844 - 0s - loss: 0.7081 - accuracy: 0.7463 - 482ms/epoch - 571us/step\n",
      "Epoch 98/100\n",
      "844/844 - 0s - loss: 0.7079 - accuracy: 0.7460 - 493ms/epoch - 584us/step\n",
      "Epoch 99/100\n",
      "844/844 - 0s - loss: 0.7077 - accuracy: 0.7456 - 479ms/epoch - 568us/step\n",
      "Epoch 100/100\n",
      "844/844 - 1s - loss: 0.7076 - accuracy: 0.7458 - 502ms/epoch - 595us/step\n",
      "94/94 [==============================] - 0s 484us/step\n",
      "Epoch 1/100\n",
      "844/844 - 1s - loss: 0.9120 - accuracy: 0.7092 - 708ms/epoch - 838us/step\n",
      "Epoch 2/100\n",
      "844/844 - 0s - loss: 0.7988 - accuracy: 0.7233 - 499ms/epoch - 591us/step\n",
      "Epoch 3/100\n",
      "844/844 - 0s - loss: 0.7719 - accuracy: 0.7295 - 487ms/epoch - 577us/step\n",
      "Epoch 4/100\n",
      "844/844 - 0s - loss: 0.7583 - accuracy: 0.7329 - 475ms/epoch - 563us/step\n",
      "Epoch 5/100\n",
      "844/844 - 0s - loss: 0.7498 - accuracy: 0.7359 - 487ms/epoch - 577us/step\n",
      "Epoch 6/100\n",
      "844/844 - 0s - loss: 0.7441 - accuracy: 0.7379 - 475ms/epoch - 563us/step\n",
      "Epoch 7/100\n",
      "844/844 - 0s - loss: 0.7394 - accuracy: 0.7396 - 477ms/epoch - 565us/step\n",
      "Epoch 8/100\n",
      "844/844 - 0s - loss: 0.7361 - accuracy: 0.7397 - 484ms/epoch - 573us/step\n",
      "Epoch 9/100\n",
      "844/844 - 0s - loss: 0.7330 - accuracy: 0.7407 - 475ms/epoch - 563us/step\n",
      "Epoch 10/100\n",
      "844/844 - 0s - loss: 0.7307 - accuracy: 0.7416 - 476ms/epoch - 564us/step\n",
      "Epoch 11/100\n",
      "844/844 - 0s - loss: 0.7286 - accuracy: 0.7422 - 477ms/epoch - 565us/step\n",
      "Epoch 12/100\n",
      "844/844 - 0s - loss: 0.7268 - accuracy: 0.7426 - 478ms/epoch - 566us/step\n",
      "Epoch 13/100\n",
      "844/844 - 0s - loss: 0.7251 - accuracy: 0.7434 - 483ms/epoch - 572us/step\n",
      "Epoch 14/100\n",
      "844/844 - 0s - loss: 0.7236 - accuracy: 0.7433 - 485ms/epoch - 575us/step\n",
      "Epoch 15/100\n",
      "844/844 - 0s - loss: 0.7222 - accuracy: 0.7438 - 486ms/epoch - 576us/step\n",
      "Epoch 16/100\n",
      "844/844 - 0s - loss: 0.7211 - accuracy: 0.7447 - 490ms/epoch - 581us/step\n",
      "Epoch 17/100\n",
      "844/844 - 0s - loss: 0.7200 - accuracy: 0.7447 - 481ms/epoch - 570us/step\n",
      "Epoch 18/100\n",
      "844/844 - 0s - loss: 0.7190 - accuracy: 0.7449 - 480ms/epoch - 569us/step\n",
      "Epoch 19/100\n",
      "844/844 - 0s - loss: 0.7179 - accuracy: 0.7449 - 481ms/epoch - 570us/step\n",
      "Epoch 20/100\n",
      "844/844 - 0s - loss: 0.7168 - accuracy: 0.7455 - 481ms/epoch - 570us/step\n",
      "Epoch 21/100\n",
      "844/844 - 0s - loss: 0.7160 - accuracy: 0.7460 - 483ms/epoch - 572us/step\n",
      "Epoch 22/100\n",
      "844/844 - 0s - loss: 0.7155 - accuracy: 0.7452 - 479ms/epoch - 568us/step\n",
      "Epoch 23/100\n",
      "844/844 - 0s - loss: 0.7144 - accuracy: 0.7457 - 486ms/epoch - 576us/step\n",
      "Epoch 24/100\n",
      "844/844 - 0s - loss: 0.7138 - accuracy: 0.7460 - 497ms/epoch - 589us/step\n",
      "Epoch 25/100\n",
      "844/844 - 1s - loss: 0.7131 - accuracy: 0.7461 - 501ms/epoch - 594us/step\n",
      "Epoch 26/100\n",
      "844/844 - 0s - loss: 0.7122 - accuracy: 0.7471 - 492ms/epoch - 583us/step\n",
      "Epoch 27/100\n",
      "844/844 - 0s - loss: 0.7118 - accuracy: 0.7469 - 494ms/epoch - 585us/step\n",
      "Epoch 28/100\n",
      "844/844 - 0s - loss: 0.7111 - accuracy: 0.7470 - 490ms/epoch - 581us/step\n",
      "Epoch 29/100\n",
      "844/844 - 0s - loss: 0.7105 - accuracy: 0.7480 - 490ms/epoch - 581us/step\n",
      "Epoch 30/100\n",
      "844/844 - 0s - loss: 0.7099 - accuracy: 0.7479 - 494ms/epoch - 585us/step\n",
      "Epoch 31/100\n",
      "844/844 - 0s - loss: 0.7094 - accuracy: 0.7475 - 496ms/epoch - 588us/step\n",
      "Epoch 32/100\n",
      "844/844 - 0s - loss: 0.7091 - accuracy: 0.7478 - 486ms/epoch - 576us/step\n",
      "Epoch 33/100\n",
      "844/844 - 0s - loss: 0.7085 - accuracy: 0.7486 - 488ms/epoch - 578us/step\n",
      "Epoch 34/100\n",
      "844/844 - 0s - loss: 0.7080 - accuracy: 0.7481 - 478ms/epoch - 566us/step\n",
      "Epoch 35/100\n",
      "844/844 - 0s - loss: 0.7077 - accuracy: 0.7479 - 482ms/epoch - 571us/step\n",
      "Epoch 36/100\n",
      "844/844 - 0s - loss: 0.7071 - accuracy: 0.7485 - 480ms/epoch - 569us/step\n",
      "Epoch 37/100\n",
      "844/844 - 0s - loss: 0.7065 - accuracy: 0.7490 - 480ms/epoch - 569us/step\n",
      "Epoch 38/100\n",
      "844/844 - 0s - loss: 0.7062 - accuracy: 0.7491 - 484ms/epoch - 573us/step\n",
      "Epoch 39/100\n",
      "844/844 - 0s - loss: 0.7059 - accuracy: 0.7488 - 478ms/epoch - 566us/step\n",
      "Epoch 40/100\n",
      "844/844 - 0s - loss: 0.7052 - accuracy: 0.7496 - 483ms/epoch - 572us/step\n",
      "Epoch 41/100\n",
      "844/844 - 0s - loss: 0.7049 - accuracy: 0.7495 - 477ms/epoch - 565us/step\n",
      "Epoch 42/100\n",
      "844/844 - 0s - loss: 0.7046 - accuracy: 0.7496 - 476ms/epoch - 564us/step\n",
      "Epoch 43/100\n",
      "844/844 - 0s - loss: 0.7043 - accuracy: 0.7496 - 487ms/epoch - 577us/step\n",
      "Epoch 44/100\n",
      "844/844 - 0s - loss: 0.7040 - accuracy: 0.7502 - 488ms/epoch - 578us/step\n",
      "Epoch 45/100\n",
      "844/844 - 0s - loss: 0.7036 - accuracy: 0.7496 - 476ms/epoch - 564us/step\n",
      "Epoch 46/100\n",
      "844/844 - 0s - loss: 0.7033 - accuracy: 0.7495 - 483ms/epoch - 572us/step\n",
      "Epoch 47/100\n",
      "844/844 - 0s - loss: 0.7029 - accuracy: 0.7501 - 495ms/epoch - 586us/step\n",
      "Epoch 48/100\n",
      "844/844 - 0s - loss: 0.7026 - accuracy: 0.7505 - 484ms/epoch - 573us/step\n",
      "Epoch 49/100\n",
      "844/844 - 0s - loss: 0.7022 - accuracy: 0.7501 - 476ms/epoch - 564us/step\n",
      "Epoch 50/100\n",
      "844/844 - 0s - loss: 0.7019 - accuracy: 0.7505 - 482ms/epoch - 571us/step\n",
      "Epoch 51/100\n",
      "844/844 - 1s - loss: 0.7017 - accuracy: 0.7504 - 526ms/epoch - 623us/step\n",
      "Epoch 52/100\n",
      "844/844 - 1s - loss: 0.7013 - accuracy: 0.7510 - 511ms/epoch - 605us/step\n",
      "Epoch 53/100\n",
      "844/844 - 0s - loss: 0.7009 - accuracy: 0.7508 - 474ms/epoch - 562us/step\n",
      "Epoch 54/100\n",
      "844/844 - 1s - loss: 0.7008 - accuracy: 0.7502 - 520ms/epoch - 616us/step\n",
      "Epoch 55/100\n",
      "844/844 - 1s - loss: 0.7003 - accuracy: 0.7506 - 515ms/epoch - 610us/step\n",
      "Epoch 56/100\n",
      "844/844 - 0s - loss: 0.7001 - accuracy: 0.7509 - 487ms/epoch - 577us/step\n",
      "Epoch 57/100\n",
      "844/844 - 0s - loss: 0.6999 - accuracy: 0.7513 - 482ms/epoch - 571us/step\n",
      "Epoch 58/100\n",
      "844/844 - 0s - loss: 0.6997 - accuracy: 0.7511 - 478ms/epoch - 566us/step\n",
      "Epoch 59/100\n",
      "844/844 - 0s - loss: 0.6992 - accuracy: 0.7515 - 479ms/epoch - 568us/step\n",
      "Epoch 60/100\n",
      "844/844 - 0s - loss: 0.6992 - accuracy: 0.7511 - 479ms/epoch - 568us/step\n",
      "Epoch 61/100\n",
      "844/844 - 0s - loss: 0.6989 - accuracy: 0.7513 - 475ms/epoch - 563us/step\n",
      "Epoch 62/100\n",
      "844/844 - 0s - loss: 0.6986 - accuracy: 0.7520 - 470ms/epoch - 557us/step\n",
      "Epoch 63/100\n",
      "844/844 - 0s - loss: 0.6983 - accuracy: 0.7515 - 476ms/epoch - 564us/step\n",
      "Epoch 64/100\n",
      "844/844 - 0s - loss: 0.6981 - accuracy: 0.7519 - 477ms/epoch - 565us/step\n",
      "Epoch 65/100\n",
      "844/844 - 0s - loss: 0.6979 - accuracy: 0.7513 - 477ms/epoch - 565us/step\n",
      "Epoch 66/100\n",
      "844/844 - 0s - loss: 0.6977 - accuracy: 0.7513 - 473ms/epoch - 560us/step\n",
      "Epoch 67/100\n",
      "844/844 - 0s - loss: 0.6975 - accuracy: 0.7517 - 474ms/epoch - 562us/step\n",
      "Epoch 68/100\n",
      "844/844 - 0s - loss: 0.6972 - accuracy: 0.7523 - 474ms/epoch - 562us/step\n",
      "Epoch 69/100\n",
      "844/844 - 0s - loss: 0.6971 - accuracy: 0.7523 - 473ms/epoch - 560us/step\n",
      "Epoch 70/100\n",
      "844/844 - 0s - loss: 0.6968 - accuracy: 0.7517 - 473ms/epoch - 560us/step\n",
      "Epoch 71/100\n",
      "844/844 - 0s - loss: 0.6966 - accuracy: 0.7514 - 474ms/epoch - 562us/step\n",
      "Epoch 72/100\n",
      "844/844 - 0s - loss: 0.6964 - accuracy: 0.7522 - 477ms/epoch - 565us/step\n",
      "Epoch 73/100\n",
      "844/844 - 0s - loss: 0.6963 - accuracy: 0.7523 - 478ms/epoch - 566us/step\n",
      "Epoch 74/100\n",
      "844/844 - 0s - loss: 0.6960 - accuracy: 0.7523 - 475ms/epoch - 563us/step\n",
      "Epoch 75/100\n",
      "844/844 - 0s - loss: 0.6957 - accuracy: 0.7521 - 475ms/epoch - 563us/step\n",
      "Epoch 76/100\n",
      "844/844 - 0s - loss: 0.6955 - accuracy: 0.7517 - 475ms/epoch - 563us/step\n",
      "Epoch 77/100\n",
      "844/844 - 0s - loss: 0.6954 - accuracy: 0.7525 - 495ms/epoch - 586us/step\n",
      "Epoch 78/100\n",
      "844/844 - 0s - loss: 0.6953 - accuracy: 0.7518 - 479ms/epoch - 568us/step\n",
      "Epoch 79/100\n",
      "844/844 - 0s - loss: 0.6950 - accuracy: 0.7520 - 473ms/epoch - 560us/step\n",
      "Epoch 80/100\n",
      "844/844 - 0s - loss: 0.6949 - accuracy: 0.7524 - 473ms/epoch - 560us/step\n",
      "Epoch 81/100\n",
      "844/844 - 0s - loss: 0.6947 - accuracy: 0.7523 - 475ms/epoch - 563us/step\n",
      "Epoch 82/100\n",
      "844/844 - 0s - loss: 0.6944 - accuracy: 0.7531 - 476ms/epoch - 564us/step\n",
      "Epoch 83/100\n",
      "844/844 - 0s - loss: 0.6942 - accuracy: 0.7525 - 476ms/epoch - 564us/step\n"
     ]
    },
    {
     "name": "stdout",
     "output_type": "stream",
     "text": [
      "Epoch 84/100\n",
      "844/844 - 0s - loss: 0.6941 - accuracy: 0.7518 - 474ms/epoch - 562us/step\n",
      "Epoch 85/100\n",
      "844/844 - 0s - loss: 0.6941 - accuracy: 0.7531 - 470ms/epoch - 557us/step\n",
      "Epoch 86/100\n",
      "844/844 - 0s - loss: 0.6939 - accuracy: 0.7526 - 474ms/epoch - 562us/step\n",
      "Epoch 87/100\n",
      "844/844 - 0s - loss: 0.6937 - accuracy: 0.7521 - 474ms/epoch - 562us/step\n",
      "Epoch 88/100\n",
      "844/844 - 0s - loss: 0.6935 - accuracy: 0.7532 - 483ms/epoch - 572us/step\n",
      "Epoch 89/100\n",
      "844/844 - 0s - loss: 0.6933 - accuracy: 0.7527 - 472ms/epoch - 559us/step\n",
      "Epoch 90/100\n",
      "844/844 - 0s - loss: 0.6931 - accuracy: 0.7528 - 473ms/epoch - 560us/step\n",
      "Epoch 91/100\n",
      "844/844 - 0s - loss: 0.6929 - accuracy: 0.7533 - 479ms/epoch - 568us/step\n",
      "Epoch 92/100\n",
      "844/844 - 0s - loss: 0.6929 - accuracy: 0.7526 - 478ms/epoch - 566us/step\n",
      "Epoch 93/100\n",
      "844/844 - 0s - loss: 0.6927 - accuracy: 0.7531 - 476ms/epoch - 564us/step\n",
      "Epoch 94/100\n",
      "844/844 - 0s - loss: 0.6925 - accuracy: 0.7522 - 478ms/epoch - 566us/step\n",
      "Epoch 95/100\n",
      "844/844 - 0s - loss: 0.6923 - accuracy: 0.7526 - 475ms/epoch - 563us/step\n",
      "Epoch 96/100\n",
      "844/844 - 0s - loss: 0.6924 - accuracy: 0.7529 - 473ms/epoch - 560us/step\n",
      "Epoch 97/100\n",
      "844/844 - 0s - loss: 0.6920 - accuracy: 0.7529 - 476ms/epoch - 564us/step\n",
      "Epoch 98/100\n",
      "844/844 - 0s - loss: 0.6918 - accuracy: 0.7530 - 491ms/epoch - 582us/step\n",
      "Epoch 99/100\n",
      "844/844 - 0s - loss: 0.6917 - accuracy: 0.7528 - 481ms/epoch - 570us/step\n",
      "Epoch 100/100\n",
      "844/844 - 0s - loss: 0.6917 - accuracy: 0.7536 - 478ms/epoch - 566us/step\n",
      "94/94 [==============================] - 0s 495us/step\n"
     ]
    }
   ],
   "source": [
    "for currEmb in ['BERT_UNCASED', 'all-distilroberta', 'all-mpnet-base']:\n",
    "    data = loadData(f\"{datadir}/{dsName}_{currEmb}.json\")\n",
    "    trainX, trainY, testX, testY = prepareTrainTestXYSentence(data,classify_by_field=\"class\")\n",
    "\n",
    "    currclassifier = NNClassifier()\n",
    "    history = currclassifier.train(trainX, trainY)\n",
    "\n",
    "    labels.append(f\"{currEmb} NN\")\n",
    "    curr_train_acc = history.history[\"accuracy\"][-1]\n",
    "    train_accs.append(curr_train_acc)\n",
    "    \n",
    "    res = currclassifier.predict(testX)\n",
    "    curr_test_acc = evaluate(res, testY)\n",
    "    test_accs.append(curr_test_acc)"
   ]
  },
  {
   "cell_type": "markdown",
   "metadata": {},
   "source": [
    "All results are presented in the bar chart."
   ]
  },
  {
   "cell_type": "code",
   "execution_count": 16,
   "metadata": {},
   "outputs": [
    {
     "data": {
      "image/png": "[encoded data removed]",
      "text/plain": [
       "<Figure size 800x600 with 1 Axes>"
      ]
     },
     "metadata": {},
     "output_type": "display_data"
    }
   ],
   "source": [
    "width = 0.3\n",
    "plt.bar(np.arange(len(test_accs)) - (width/2), test_accs, width=width)\n",
    "plt.bar(np.arange(len(train_accs)) + (width/2), train_accs, width=width)\n",
    "plt.xticks(range(len(labels)), labels, rotation=-50)\n",
    "plt.ylabel(\"Accuracy\")\n",
    "plt.title(\"Classical algorithm results\")\n",
    "plt.legend([\"Test\", \"Train\"])\n",
    "plt.show()"
   ]
  },
  {
   "cell_type": "markdown",
   "metadata": {},
   "source": [
    "All results are saved to file."
   ]
  },
  {
   "cell_type": "code",
   "execution_count": 17,
   "metadata": {},
   "outputs": [],
   "source": [
    "with open(f\"{modeldir}/{dsName}_results.json\", \"w\", encoding=\"utf-8\") as f:\n",
    "        json.dump({\"train_accuracy\": train_accs, \"test_accuracy\": test_accs, \"model type\": labels}, f, indent=1, ensure_ascii=False)"
   ]
  },
  {
   "cell_type": "markdown",
   "metadata": {},
   "source": [
    "## 6. Saving, loading and re-using models"
   ]
  },
  {
   "cell_type": "markdown",
   "metadata": {},
   "source": [
    "!!! To save the model use function save. The function's argument is the folder name where trained model's files will be saved."
   ]
  },
  {
   "cell_type": "code",
   "execution_count": 18,
   "metadata": {},
   "outputs": [
    {
     "name": "stdout",
     "output_type": "stream",
     "text": [
      "INFO:tensorflow:Assets written to: ../../models/classical/reviews_BERT_CASED\\assets\n"
     ]
    }
   ],
   "source": [
    "classifier.save(f\"{modeldir}/{dsName}_{embName}\")"
   ]
  },
  {
   "cell_type": "markdown",
   "metadata": {},
   "source": [
    "!!! To load previousely saved model create *NNClassifier* object and use function *load*. The function's argument is the folder name where trained model's files are saved. In this example *newclassifier* object after loading will become replica of *classifier* object."
   ]
  },
  {
   "cell_type": "code",
   "execution_count": 19,
   "metadata": {},
   "outputs": [
    {
     "data": {
      "text/plain": [
       "True"
      ]
     },
     "execution_count": 19,
     "metadata": {},
     "output_type": "execute_result"
    }
   ],
   "source": [
    "newclassifier = NNClassifier()\n",
    "newclassifier.load(f\"{modeldir}/{dsName}_{embName}\")"
   ]
  },
  {
   "cell_type": "markdown",
   "metadata": {},
   "source": [
    "!!! To use classifier for prediction:\n",
    "1) generate embedding vector;\n",
    "2) predict the class of the sentence calling function *predict* and passing embedding vector of the sentence."
   ]
  },
  {
   "cell_type": "code",
   "execution_count": 20,
   "metadata": {},
   "outputs": [
    {
     "name": "stderr",
     "output_type": "stream",
     "text": [
      "Some weights of the model checkpoint at bert-base-cased were not used when initializing BertModel: ['cls.predictions.bias', 'cls.predictions.transform.dense.weight', 'cls.predictions.transform.LayerNorm.bias', 'cls.predictions.decoder.weight', 'cls.predictions.transform.LayerNorm.weight', 'cls.seq_relationship.bias', 'cls.predictions.transform.dense.bias', 'cls.seq_relationship.weight']\n",
      "- This IS expected if you are initializing BertModel from the checkpoint of a model trained on another task or with another architecture (e.g. initializing a BertForSequenceClassification model from a BertForPreTraining model).\n",
      "- This IS NOT expected if you are initializing BertModel from the checkpoint of a model that you expect to be exactly identical (initializing a BertForSequenceClassification model from a BertForSequenceClassification model).\n"
     ]
    },
    {
     "name": "stdout",
     "output_type": "stream",
     "text": [
      "bert-base-cased loaded!\n"
     ]
    }
   ],
   "source": [
    "sys.path.append(\"../../data/data_processing/data_vectorisation/\")\n",
    "from Embeddings import Embeddings\n",
    "vc = Embeddings('bert-base-cased','bert')\n",
    "sentence=\"global financial system\"\n",
    "embvec = vc.getEmbeddingVector(sentence)"
   ]
  },
  {
   "cell_type": "code",
   "execution_count": 21,
   "metadata": {},
   "outputs": [
    {
     "name": "stdout",
     "output_type": "stream",
     "text": [
      "1/1 [==============================] - 0s 39ms/step\n",
      "1/1 [==============================] - 0s 22ms/step\n",
      "Sentence: global financial system\n",
      "Class (original classifier): [4]\n",
      "Class (reloaded classifier): [4]\n"
     ]
    }
   ],
   "source": [
    "classpredicted = newclassifier.predict(embvec)\n",
    "origclasspredicted = classifier.predict(embvec)\n",
    "print(f\"Sentence: {sentence}\\nClass (original classifier): {origclasspredicted}\\nClass (reloaded classifier): {classpredicted}\")"
   ]
  },
  {
   "cell_type": "code",
   "execution_count": null,
   "metadata": {},
   "outputs": [],
   "source": []
  }
 ],
 "metadata": {
  "kernelspec": {
   "display_name": "Python 3 (ipykernel)",
   "language": "python",
   "name": "python3"
  },
  "language_info": {
   "codemirror_mode": {
    "name": "ipython",
    "version": 3
   },
   "file_extension": ".py",
   "mimetype": "text/x-python",
   "name": "python",
   "nbconvert_exporter": "python",
   "pygments_lexer": "ipython3",
   "version": "3.10.5"
  },
  "vscode": {
   "interpreter": {
    "hash": "a665b5d41d17b532ea9890333293a1b812fa0b73c9c25c950b3cedf1bebd0438"
   }
  }
 },
 "nbformat": 4,
 "nbformat_minor": 4
}
