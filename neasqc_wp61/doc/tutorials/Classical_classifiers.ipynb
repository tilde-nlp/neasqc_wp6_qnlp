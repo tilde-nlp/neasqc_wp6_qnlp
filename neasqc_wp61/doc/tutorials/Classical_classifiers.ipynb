{
 "cells": [
  {
   "cell_type": "markdown",
   "metadata": {
    "tags": []
   },
   "source": [
    "# Classical classifiers"
   ]
  },
  {
   "cell_type": "markdown",
   "metadata": {},
   "source": [
    "This notebook shows how well classical classifiers solve the sentence classification problem. This is mainly needed to have a baseline for quantum solution to compare against."
   ]
  },
  {
   "cell_type": "markdown",
   "metadata": {},
   "source": [
    "We first load our library files and the required packages."
   ]
  },
  {
   "cell_type": "code",
   "execution_count": 22,
   "metadata": {},
   "outputs": [],
   "source": [
    "import sys\n",
    "import os\n",
    "import json\n",
    "import numpy as np\n",
    "from sklearn.neighbors import KNeighborsClassifier\n",
    "\n",
    "sys.path.append(\"../../models/classical/\")\n",
    "\n",
    "from NNClassifier import (loadData,evaluate, NNClassifier,\n",
    "       prepareTrainTestXYWords, prepareTrainTestXYSentence,)"
   ]
  },
  {
   "cell_type": "markdown",
   "metadata": {},
   "source": [
    "We have implemented sentence vectorization using pretrained BERT cased and uncased (see [Git](https://github.com/google-research/bert), [arXiv](https://arxiv.org/abs/1810.04805)) base models (each sentence is represented as a 768-dimensional real-valued vector), sentence transformer models *all-mpnet-base-v2* and *all-distilroberta-v1* (see [link](https://www.sbert.net/docs/pretrained_models.html)) as well as word-level vectorization using [_fastText_](https://fasttext.cc/) model pretrained on [English Wikipedia and Common Crawl](hhttps://fasttext.cc/docs/en/crawl-vectors.html) (each word in a sentence is represented as a 300-dimensional real-valued vector)."
   ]
  },
  {
   "cell_type": "markdown",
   "metadata": {},
   "source": [
    "The Jupyter notebook *Prepare_datasets_4classifier.ipynb* shows how to filterdata and acquire embedding vectors using different vectorization models."
   ]
  },
  {
   "cell_type": "code",
   "execution_count": 2,
   "metadata": {},
   "outputs": [],
   "source": [
    "datadir = \"../../data/datasets\"\n",
    "dsName='amazonreview_train'"
   ]
  },
  {
   "cell_type": "code",
   "execution_count": 3,
   "metadata": {},
   "outputs": [],
   "source": [
    "modeldir=\"../../models/classical\""
   ]
  },
  {
   "cell_type": "markdown",
   "metadata": {},
   "source": [
    "## 1. Training shallow feedforward neural network"
   ]
  },
  {
   "cell_type": "markdown",
   "metadata": {},
   "source": [
    "To train shallow feedforward neural network models we employ sentence level embeddings. "
   ]
  },
  {
   "cell_type": "code",
   "execution_count": 4,
   "metadata": {},
   "outputs": [],
   "source": [
    "embName='BERT_CASED'"
   ]
  },
  {
   "cell_type": "code",
   "execution_count": 5,
   "metadata": {},
   "outputs": [
    {
     "name": "stdout",
     "output_type": "stream",
     "text": [
      "Training samples: 183918, test samples: 20436\n",
      "An example sentence: A fascinatiing story, class: 2, syntactical tag: n[(n/n)   n[(n/n)   n]]\n",
      "Vectorized sentence dimension: 768\n"
     ]
    }
   ],
   "source": [
    "data = loadData(f\"{datadir}/{dsName}_{embName}.json\")\n",
    "print(f\"Training samples: {len(data['train_data'])}, test samples: {len(data['test_data'])}\")\n",
    "print(f\"An example sentence: {data['train_data'][2]['sentence']}, class: {data['train_data'][2]['class']}, syntactical tag: {data['train_data'][2]['tag']}\")\n",
    "print(f\"Vectorized sentence dimension: {len(data['train_data'][0]['sentence_vectorized'][0])}\")"
   ]
  },
  {
   "cell_type": "markdown",
   "metadata": {},
   "source": [
    "We reformat the data as numpy arrays for classifier training. "
   ]
  },
  {
   "cell_type": "code",
   "execution_count": 6,
   "metadata": {},
   "outputs": [
    {
     "name": "stdout",
     "output_type": "stream",
     "text": [
      "(183918, 768)\n",
      "(183918, 2)\n",
      "(20436, 768)\n",
      "(20436, 2)\n"
     ]
    }
   ],
   "source": [
    "trainX, trainY, testX, testY = prepareTrainTestXYSentence(data,classify_by_field=\"class\")\n",
    "print(f\"{trainX.shape}\")\n",
    "print(f\"{trainY.shape}\")\n",
    "print(f\"{testX.shape}\")\n",
    "print(f\"{testY.shape}\")"
   ]
  },
  {
   "cell_type": "markdown",
   "metadata": {},
   "source": [
    "Now we train a feedforward neural network classifier."
   ]
  },
  {
   "cell_type": "code",
   "execution_count": 7,
   "metadata": {
    "scrolled": true,
    "tags": []
   },
   "outputs": [
    {
     "name": "stdout",
     "output_type": "stream",
     "text": [
      "Epoch 1/100\n",
      "5748/5748 - 4s - loss: 0.4699 - accuracy: 0.7719 - 4s/epoch - 618us/step\n",
      "Epoch 2/100\n",
      "5748/5748 - 3s - loss: 0.4565 - accuracy: 0.7790 - 3s/epoch - 583us/step\n",
      "Epoch 3/100\n",
      "5748/5748 - 3s - loss: 0.4536 - accuracy: 0.7799 - 3s/epoch - 587us/step\n",
      "Epoch 4/100\n",
      "5748/5748 - 3s - loss: 0.4527 - accuracy: 0.7799 - 3s/epoch - 581us/step\n",
      "Epoch 5/100\n",
      "5748/5748 - 3s - loss: 0.4522 - accuracy: 0.7797 - 3s/epoch - 573us/step\n",
      "Epoch 6/100\n",
      "5748/5748 - 3s - loss: 0.4517 - accuracy: 0.7810 - 3s/epoch - 577us/step\n",
      "Epoch 7/100\n",
      "5748/5748 - 3s - loss: 0.4513 - accuracy: 0.7810 - 3s/epoch - 579us/step\n",
      "Epoch 8/100\n",
      "5748/5748 - 3s - loss: 0.4514 - accuracy: 0.7802 - 3s/epoch - 575us/step\n",
      "Epoch 9/100\n",
      "5748/5748 - 3s - loss: 0.4511 - accuracy: 0.7809 - 3s/epoch - 567us/step\n",
      "Epoch 10/100\n",
      "5748/5748 - 3s - loss: 0.4510 - accuracy: 0.7811 - 3s/epoch - 563us/step\n",
      "Epoch 11/100\n",
      "5748/5748 - 3s - loss: 0.4511 - accuracy: 0.7813 - 3s/epoch - 565us/step\n",
      "Epoch 12/100\n",
      "5748/5748 - 3s - loss: 0.4504 - accuracy: 0.7818 - 3s/epoch - 579us/step\n",
      "Epoch 13/100\n",
      "5748/5748 - 3s - loss: 0.4502 - accuracy: 0.7813 - 3s/epoch - 604us/step\n",
      "Epoch 14/100\n",
      "5748/5748 - 3s - loss: 0.4506 - accuracy: 0.7810 - 3s/epoch - 588us/step\n",
      "Epoch 15/100\n",
      "5748/5748 - 3s - loss: 0.4506 - accuracy: 0.7811 - 3s/epoch - 574us/step\n",
      "Epoch 16/100\n",
      "5748/5748 - 3s - loss: 0.4503 - accuracy: 0.7814 - 3s/epoch - 569us/step\n",
      "Epoch 17/100\n",
      "5748/5748 - 3s - loss: 0.4506 - accuracy: 0.7809 - 3s/epoch - 564us/step\n",
      "Epoch 18/100\n",
      "5748/5748 - 3s - loss: 0.4504 - accuracy: 0.7813 - 3s/epoch - 580us/step\n",
      "Epoch 19/100\n",
      "5748/5748 - 3s - loss: 0.4503 - accuracy: 0.7809 - 3s/epoch - 588us/step\n",
      "Epoch 20/100\n",
      "5748/5748 - 3s - loss: 0.4504 - accuracy: 0.7813 - 3s/epoch - 577us/step\n",
      "Epoch 21/100\n",
      "5748/5748 - 3s - loss: 0.4503 - accuracy: 0.7820 - 3s/epoch - 576us/step\n",
      "Epoch 22/100\n",
      "5748/5748 - 3s - loss: 0.4506 - accuracy: 0.7818 - 3s/epoch - 581us/step\n",
      "Epoch 23/100\n",
      "5748/5748 - 3s - loss: 0.4506 - accuracy: 0.7805 - 3s/epoch - 573us/step\n",
      "Epoch 24/100\n",
      "5748/5748 - 3s - loss: 0.4503 - accuracy: 0.7812 - 3s/epoch - 571us/step\n",
      "Epoch 25/100\n",
      "5748/5748 - 3s - loss: 0.4499 - accuracy: 0.7817 - 3s/epoch - 573us/step\n",
      "Epoch 26/100\n",
      "5748/5748 - 3s - loss: 0.4503 - accuracy: 0.7813 - 3s/epoch - 573us/step\n",
      "Epoch 27/100\n",
      "5748/5748 - 3s - loss: 0.4495 - accuracy: 0.7822 - 3s/epoch - 582us/step\n",
      "Epoch 28/100\n",
      "5748/5748 - 3s - loss: 0.4505 - accuracy: 0.7819 - 3s/epoch - 594us/step\n",
      "Epoch 29/100\n",
      "5748/5748 - 3s - loss: 0.4501 - accuracy: 0.7808 - 3s/epoch - 600us/step\n",
      "Epoch 30/100\n",
      "5748/5748 - 3s - loss: 0.4498 - accuracy: 0.7818 - 3s/epoch - 580us/step\n",
      "Epoch 31/100\n",
      "5748/5748 - 3s - loss: 0.4501 - accuracy: 0.7817 - 3s/epoch - 585us/step\n",
      "Epoch 32/100\n",
      "5748/5748 - 3s - loss: 0.4504 - accuracy: 0.7821 - 3s/epoch - 596us/step\n",
      "Epoch 33/100\n",
      "5748/5748 - 3s - loss: 0.4506 - accuracy: 0.7815 - 3s/epoch - 604us/step\n",
      "Epoch 34/100\n",
      "5748/5748 - 4s - loss: 0.4502 - accuracy: 0.7823 - 4s/epoch - 615us/step\n",
      "Epoch 35/100\n",
      "5748/5748 - 4s - loss: 0.4501 - accuracy: 0.7820 - 4s/epoch - 617us/step\n",
      "Epoch 36/100\n",
      "5748/5748 - 3s - loss: 0.4502 - accuracy: 0.7819 - 3s/epoch - 580us/step\n",
      "Epoch 37/100\n",
      "5748/5748 - 3s - loss: 0.4500 - accuracy: 0.7813 - 3s/epoch - 585us/step\n",
      "Epoch 38/100\n",
      "5748/5748 - 3s - loss: 0.4501 - accuracy: 0.7818 - 3s/epoch - 593us/step\n",
      "Epoch 39/100\n",
      "5748/5748 - 3s - loss: 0.4506 - accuracy: 0.7818 - 3s/epoch - 590us/step\n",
      "Epoch 40/100\n",
      "5748/5748 - 3s - loss: 0.4503 - accuracy: 0.7812 - 3s/epoch - 585us/step\n",
      "Epoch 41/100\n",
      "5748/5748 - 3s - loss: 0.4502 - accuracy: 0.7813 - 3s/epoch - 584us/step\n",
      "Epoch 42/100\n",
      "5748/5748 - 3s - loss: 0.4506 - accuracy: 0.7810 - 3s/epoch - 581us/step\n",
      "Epoch 43/100\n",
      "5748/5748 - 3s - loss: 0.4502 - accuracy: 0.7807 - 3s/epoch - 582us/step\n",
      "Epoch 44/100\n",
      "5748/5748 - 3s - loss: 0.4499 - accuracy: 0.7813 - 3s/epoch - 580us/step\n",
      "Epoch 45/100\n",
      "5748/5748 - 3s - loss: 0.4502 - accuracy: 0.7816 - 3s/epoch - 572us/step\n",
      "Epoch 46/100\n",
      "5748/5748 - 3s - loss: 0.4500 - accuracy: 0.7813 - 3s/epoch - 572us/step\n",
      "Epoch 47/100\n",
      "5748/5748 - 3s - loss: 0.4500 - accuracy: 0.7811 - 3s/epoch - 581us/step\n",
      "Epoch 48/100\n",
      "5748/5748 - 3s - loss: 0.4506 - accuracy: 0.7813 - 3s/epoch - 588us/step\n",
      "Epoch 49/100\n",
      "5748/5748 - 3s - loss: 0.4503 - accuracy: 0.7814 - 3s/epoch - 584us/step\n",
      "Epoch 50/100\n",
      "5748/5748 - 3s - loss: 0.4498 - accuracy: 0.7821 - 3s/epoch - 559us/step\n",
      "Epoch 51/100\n",
      "5748/5748 - 3s - loss: 0.4500 - accuracy: 0.7817 - 3s/epoch - 556us/step\n",
      "Epoch 52/100\n",
      "5748/5748 - 3s - loss: 0.4500 - accuracy: 0.7808 - 3s/epoch - 583us/step\n",
      "Epoch 53/100\n",
      "5748/5748 - 4s - loss: 0.4504 - accuracy: 0.7814 - 4s/epoch - 619us/step\n",
      "Epoch 54/100\n",
      "5748/5748 - 4s - loss: 0.4507 - accuracy: 0.7813 - 4s/epoch - 624us/step\n",
      "Epoch 55/100\n",
      "5748/5748 - 3s - loss: 0.4505 - accuracy: 0.7819 - 3s/epoch - 594us/step\n",
      "Epoch 56/100\n",
      "5748/5748 - 3s - loss: 0.4501 - accuracy: 0.7819 - 3s/epoch - 589us/step\n",
      "Epoch 57/100\n",
      "5748/5748 - 3s - loss: 0.4502 - accuracy: 0.7822 - 3s/epoch - 596us/step\n",
      "Epoch 58/100\n",
      "5748/5748 - 3s - loss: 0.4503 - accuracy: 0.7813 - 3s/epoch - 608us/step\n",
      "Epoch 59/100\n",
      "5748/5748 - 3s - loss: 0.4505 - accuracy: 0.7818 - 3s/epoch - 606us/step\n",
      "Epoch 60/100\n",
      "5748/5748 - 3s - loss: 0.4504 - accuracy: 0.7813 - 3s/epoch - 593us/step\n",
      "Epoch 61/100\n",
      "5748/5748 - 3s - loss: 0.4501 - accuracy: 0.7814 - 3s/epoch - 578us/step\n",
      "Epoch 62/100\n",
      "5748/5748 - 3s - loss: 0.4498 - accuracy: 0.7815 - 3s/epoch - 571us/step\n",
      "Epoch 63/100\n",
      "5748/5748 - 3s - loss: 0.4500 - accuracy: 0.7813 - 3s/epoch - 578us/step\n",
      "Epoch 64/100\n",
      "5748/5748 - 3s - loss: 0.4498 - accuracy: 0.7813 - 3s/epoch - 568us/step\n",
      "Epoch 65/100\n",
      "5748/5748 - 3s - loss: 0.4503 - accuracy: 0.7816 - 3s/epoch - 548us/step\n",
      "Epoch 66/100\n",
      "5748/5748 - 3s - loss: 0.4504 - accuracy: 0.7810 - 3s/epoch - 553us/step\n",
      "Epoch 67/100\n",
      "5748/5748 - 3s - loss: 0.4504 - accuracy: 0.7818 - 3s/epoch - 586us/step\n",
      "Epoch 68/100\n",
      "5748/5748 - 3s - loss: 0.4502 - accuracy: 0.7817 - 3s/epoch - 559us/step\n",
      "Epoch 69/100\n",
      "5748/5748 - 3s - loss: 0.4503 - accuracy: 0.7815 - 3s/epoch - 564us/step\n",
      "Epoch 70/100\n",
      "5748/5748 - 3s - loss: 0.4506 - accuracy: 0.7814 - 3s/epoch - 563us/step\n",
      "Epoch 71/100\n",
      "5748/5748 - 3s - loss: 0.4498 - accuracy: 0.7819 - 3s/epoch - 561us/step\n",
      "Epoch 72/100\n",
      "5748/5748 - 3s - loss: 0.4501 - accuracy: 0.7819 - 3s/epoch - 561us/step\n",
      "Epoch 73/100\n",
      "5748/5748 - 3s - loss: 0.4502 - accuracy: 0.7813 - 3s/epoch - 580us/step\n",
      "Epoch 74/100\n",
      "5748/5748 - 4s - loss: 0.4504 - accuracy: 0.7815 - 4s/epoch - 618us/step\n",
      "Epoch 75/100\n",
      "5748/5748 - 3s - loss: 0.4504 - accuracy: 0.7819 - 3s/epoch - 584us/step\n",
      "Epoch 76/100\n",
      "5748/5748 - 3s - loss: 0.4498 - accuracy: 0.7823 - 3s/epoch - 577us/step\n",
      "Epoch 77/100\n",
      "5748/5748 - 3s - loss: 0.4502 - accuracy: 0.7820 - 3s/epoch - 576us/step\n",
      "Epoch 78/100\n",
      "5748/5748 - 3s - loss: 0.4510 - accuracy: 0.7815 - 3s/epoch - 576us/step\n",
      "Epoch 79/100\n",
      "5748/5748 - 3s - loss: 0.4500 - accuracy: 0.7813 - 3s/epoch - 577us/step\n",
      "Epoch 80/100\n",
      "5748/5748 - 3s - loss: 0.4500 - accuracy: 0.7818 - 3s/epoch - 579us/step\n",
      "Epoch 81/100\n",
      "5748/5748 - 3s - loss: 0.4501 - accuracy: 0.7810 - 3s/epoch - 583us/step\n",
      "Epoch 82/100\n",
      "5748/5748 - 3s - loss: 0.4504 - accuracy: 0.7819 - 3s/epoch - 581us/step\n",
      "Epoch 83/100\n",
      "5748/5748 - 3s - loss: 0.4499 - accuracy: 0.7819 - 3s/epoch - 570us/step\n",
      "Epoch 84/100\n",
      "5748/5748 - 3s - loss: 0.4502 - accuracy: 0.7806 - 3s/epoch - 572us/step\n",
      "Epoch 85/100\n",
      "5748/5748 - 3s - loss: 0.4495 - accuracy: 0.7819 - 3s/epoch - 568us/step\n",
      "Epoch 86/100\n",
      "5748/5748 - 3s - loss: 0.4501 - accuracy: 0.7813 - 3s/epoch - 567us/step\n",
      "Epoch 87/100\n",
      "5748/5748 - 3s - loss: 0.4503 - accuracy: 0.7818 - 3s/epoch - 570us/step\n",
      "Epoch 88/100\n",
      "5748/5748 - 3s - loss: 0.4499 - accuracy: 0.7819 - 3s/epoch - 567us/step\n",
      "Epoch 89/100\n",
      "5748/5748 - 3s - loss: 0.4500 - accuracy: 0.7823 - 3s/epoch - 568us/step\n",
      "Epoch 90/100\n",
      "5748/5748 - 3s - loss: 0.4503 - accuracy: 0.7815 - 3s/epoch - 579us/step\n",
      "Epoch 91/100\n",
      "5748/5748 - 3s - loss: 0.4503 - accuracy: 0.7805 - 3s/epoch - 576us/step\n",
      "Epoch 92/100\n",
      "5748/5748 - 3s - loss: 0.4501 - accuracy: 0.7821 - 3s/epoch - 575us/step\n",
      "Epoch 93/100\n",
      "5748/5748 - 3s - loss: 0.4506 - accuracy: 0.7811 - 3s/epoch - 603us/step\n",
      "Epoch 94/100\n",
      "5748/5748 - 3s - loss: 0.4503 - accuracy: 0.7810 - 3s/epoch - 582us/step\n",
      "Epoch 95/100\n",
      "5748/5748 - 3s - loss: 0.4501 - accuracy: 0.7815 - 3s/epoch - 571us/step\n",
      "Epoch 96/100\n",
      "5748/5748 - 3s - loss: 0.4500 - accuracy: 0.7814 - 3s/epoch - 585us/step\n"
     ]
    },
    {
     "name": "stdout",
     "output_type": "stream",
     "text": [
      "Epoch 97/100\n",
      "5748/5748 - 3s - loss: 0.4501 - accuracy: 0.7816 - 3s/epoch - 583us/step\n",
      "Epoch 98/100\n",
      "5748/5748 - 3s - loss: 0.4504 - accuracy: 0.7812 - 3s/epoch - 581us/step\n",
      "Epoch 99/100\n",
      "5748/5748 - 4s - loss: 0.4501 - accuracy: 0.7821 - 4s/epoch - 643us/step\n",
      "Epoch 100/100\n",
      "5748/5748 - 4s - loss: 0.4504 - accuracy: 0.7824 - 4s/epoch - 640us/step\n"
     ]
    }
   ],
   "source": [
    "classifier = NNClassifier()\n",
    "history = classifier.train(trainX, trainY)"
   ]
  },
  {
   "cell_type": "markdown",
   "metadata": {},
   "source": [
    "## 2. Evaluating shallow feedforward neural network"
   ]
  },
  {
   "cell_type": "markdown",
   "metadata": {},
   "source": [
    "The *history* object returned by *train* function holds a record of the metric values during training."
   ]
  },
  {
   "cell_type": "code",
   "execution_count": 8,
   "metadata": {},
   "outputs": [
    {
     "name": "stdout",
     "output_type": "stream",
     "text": [
      "FNN train accuracy on BERT_CASED vectors: 0.7823812961578369\n"
     ]
    }
   ],
   "source": [
    "nn_train_acc = history.history[\"accuracy\"][-1]\n",
    "print(f\"FNN train accuracy on {embName} vectors: {nn_train_acc}\")"
   ]
  },
  {
   "cell_type": "markdown",
   "metadata": {},
   "source": [
    "And measure the accuracy on the test set."
   ]
  },
  {
   "cell_type": "code",
   "execution_count": 9,
   "metadata": {},
   "outputs": [
    {
     "name": "stdout",
     "output_type": "stream",
     "text": [
      "639/639 [==============================] - 0s 469us/step\n",
      "FFNN test accuracy on BERT_CASED vectors: 0.7851830103738501\n"
     ]
    }
   ],
   "source": [
    "res = classifier.predict(testX)\n",
    "nn_test_acc = evaluate(res, testY)\n",
    "print(f\"FFNN test accuracy on {embName} vectors: {nn_test_acc}\")"
   ]
  },
  {
   "cell_type": "markdown",
   "metadata": {},
   "source": [
    "For comparison we employ the nierest neighbor algorithm on the same data. We calculate the accuracy of classifying the sentence with the label corresponding to the closest sentence in the training data."
   ]
  },
  {
   "cell_type": "code",
   "execution_count": 10,
   "metadata": {},
   "outputs": [
    {
     "name": "stdout",
     "output_type": "stream",
     "text": [
      "Nearest neighbor test accuracy: 0.7376688197298884, train accuracy: 1.0\n"
     ]
    }
   ],
   "source": [
    "neigh = KNeighborsClassifier(n_neighbors=1)\n",
    "neigh.fit(trainX, trainY)\n",
    "res = neigh.predict(testX)\n",
    "neigh_test_acc = np.sum(res == testY)/2/len(testY)\n",
    "neigh_train_acc = neigh.score(trainX, trainY)\n",
    "print(f\"Nearest neighbor test accuracy: {neigh_test_acc}, train accuracy: {neigh_train_acc}\")"
   ]
  },
  {
   "cell_type": "markdown",
   "metadata": {},
   "source": [
    "Depending on random, the FNN classifier might perform better or worse (or the same) than the 1-nearest neighbor algorithm."
   ]
  },
  {
   "cell_type": "markdown",
   "metadata": {},
   "source": [
    "## 3. Training convolutional neural network classifier"
   ]
  },
  {
   "cell_type": "markdown",
   "metadata": {},
   "source": [
    "Now we load fastText word embeddings and train a convolutional network on them."
   ]
  },
  {
   "cell_type": "code",
   "execution_count": 11,
   "metadata": {
    "scrolled": true,
    "tags": []
   },
   "outputs": [
    {
     "name": "stdout",
     "output_type": "stream",
     "text": [
      "Epoch 1/30\n",
      "5748/5748 - 13s - loss: 0.3943 - accuracy: 0.8194 - 13s/epoch - 2ms/step\n",
      "Epoch 2/30\n",
      "5748/5748 - 13s - loss: 0.3648 - accuracy: 0.8336 - 13s/epoch - 2ms/step\n",
      "Epoch 3/30\n",
      "5748/5748 - 13s - loss: 0.3518 - accuracy: 0.8401 - 13s/epoch - 2ms/step\n",
      "Epoch 4/30\n",
      "5748/5748 - 14s - loss: 0.3431 - accuracy: 0.8450 - 14s/epoch - 2ms/step\n",
      "Epoch 5/30\n",
      "5748/5748 - 14s - loss: 0.3341 - accuracy: 0.8503 - 14s/epoch - 2ms/step\n",
      "Epoch 6/30\n",
      "5748/5748 - 14s - loss: 0.3262 - accuracy: 0.8538 - 14s/epoch - 2ms/step\n",
      "Epoch 7/30\n",
      "5748/5748 - 14s - loss: 0.3187 - accuracy: 0.8586 - 14s/epoch - 2ms/step\n",
      "Epoch 8/30\n",
      "5748/5748 - 14s - loss: 0.3132 - accuracy: 0.8614 - 14s/epoch - 2ms/step\n",
      "Epoch 9/30\n",
      "5748/5748 - 14s - loss: 0.3058 - accuracy: 0.8662 - 14s/epoch - 2ms/step\n",
      "Epoch 10/30\n",
      "5748/5748 - 14s - loss: 0.2996 - accuracy: 0.8688 - 14s/epoch - 2ms/step\n",
      "Epoch 11/30\n",
      "5748/5748 - 14s - loss: 0.2948 - accuracy: 0.8718 - 14s/epoch - 2ms/step\n",
      "Epoch 12/30\n",
      "5748/5748 - 14s - loss: 0.2900 - accuracy: 0.8746 - 14s/epoch - 2ms/step\n",
      "Epoch 13/30\n",
      "5748/5748 - 14s - loss: 0.2853 - accuracy: 0.8769 - 14s/epoch - 2ms/step\n",
      "Epoch 14/30\n",
      "5748/5748 - 14s - loss: 0.2786 - accuracy: 0.8816 - 14s/epoch - 2ms/step\n",
      "Epoch 15/30\n",
      "5748/5748 - 14s - loss: 0.2754 - accuracy: 0.8826 - 14s/epoch - 2ms/step\n",
      "Epoch 16/30\n",
      "5748/5748 - 17s - loss: 0.2702 - accuracy: 0.8848 - 17s/epoch - 3ms/step\n",
      "Epoch 17/30\n",
      "5748/5748 - 21s - loss: 0.2662 - accuracy: 0.8863 - 21s/epoch - 4ms/step\n",
      "Epoch 18/30\n",
      "5748/5748 - 20s - loss: 0.2630 - accuracy: 0.8885 - 20s/epoch - 4ms/step\n",
      "Epoch 19/30\n",
      "5748/5748 - 20s - loss: 0.2596 - accuracy: 0.8908 - 20s/epoch - 4ms/step\n",
      "Epoch 20/30\n",
      "5748/5748 - 20s - loss: 0.2575 - accuracy: 0.8913 - 20s/epoch - 4ms/step\n",
      "Epoch 21/30\n",
      "5748/5748 - 20s - loss: 0.2530 - accuracy: 0.8939 - 20s/epoch - 3ms/step\n",
      "Epoch 22/30\n",
      "5748/5748 - 19s - loss: 0.2488 - accuracy: 0.8962 - 19s/epoch - 3ms/step\n",
      "Epoch 23/30\n",
      "5748/5748 - 19s - loss: 0.2476 - accuracy: 0.8975 - 19s/epoch - 3ms/step\n",
      "Epoch 24/30\n",
      "5748/5748 - 19s - loss: 0.2438 - accuracy: 0.8990 - 19s/epoch - 3ms/step\n",
      "Epoch 25/30\n",
      "5748/5748 - 19s - loss: 0.2402 - accuracy: 0.8998 - 19s/epoch - 3ms/step\n",
      "Epoch 26/30\n",
      "5748/5748 - 19s - loss: 0.2377 - accuracy: 0.9014 - 19s/epoch - 3ms/step\n",
      "Epoch 27/30\n",
      "5748/5748 - 18s - loss: 0.2355 - accuracy: 0.9030 - 18s/epoch - 3ms/step\n",
      "Epoch 28/30\n",
      "5748/5748 - 18s - loss: 0.2311 - accuracy: 0.9042 - 18s/epoch - 3ms/step\n",
      "Epoch 29/30\n",
      "5748/5748 - 18s - loss: 0.2293 - accuracy: 0.9052 - 18s/epoch - 3ms/step\n",
      "Epoch 30/30\n",
      "5748/5748 - 18s - loss: 0.2274 - accuracy: 0.9067 - 18s/epoch - 3ms/step\n"
     ]
    }
   ],
   "source": [
    "data = loadData(f\"{datadir}/{dsName}_FASTTEXT.json\")\n",
    "\n",
    "maxLen = 6\n",
    "trainX, trainY, testX, testY = prepareTrainTestXYWords(data, maxLen,classify_by_field=\"class\")\n",
    "\n",
    "cnnclassifier = NNClassifier(model=\"CNN\", vectorSpaceSize=300)\n",
    "history = cnnclassifier.train(trainX, trainY)"
   ]
  },
  {
   "cell_type": "markdown",
   "metadata": {},
   "source": [
    "## 4. Evaluating convolutional neural network classifier"
   ]
  },
  {
   "cell_type": "code",
   "execution_count": 12,
   "metadata": {},
   "outputs": [
    {
     "name": "stdout",
     "output_type": "stream",
     "text": [
      "CNN train accuracy on fastText vectors: 0.9067084193229675\n"
     ]
    }
   ],
   "source": [
    "fasttext_nn_train_acc = history.history['accuracy'][-1]\n",
    "print(f\"CNN train accuracy on fastText vectors: {fasttext_nn_train_acc}\")"
   ]
  },
  {
   "cell_type": "code",
   "execution_count": 13,
   "metadata": {},
   "outputs": [
    {
     "name": "stdout",
     "output_type": "stream",
     "text": [
      "639/639 [==============================] - 1s 1ms/step\n",
      "CNN test accuracy on fastText vectors: 0.8319632021922099\n"
     ]
    }
   ],
   "source": [
    "res = cnnclassifier.predict(testX)\n",
    "fasttext_nn_test_acc = evaluate(res, testY)\n",
    "print(f\"CNN test accuracy on fastText vectors: {fasttext_nn_test_acc}\")"
   ]
  },
  {
   "cell_type": "markdown",
   "metadata": {},
   "source": [
    "## 5. Comparing results"
   ]
  },
  {
   "cell_type": "markdown",
   "metadata": {},
   "source": [
    "Now we will show results (train and test accuracies) in a chart."
   ]
  },
  {
   "cell_type": "code",
   "execution_count": 14,
   "metadata": {},
   "outputs": [],
   "source": [
    "import matplotlib.pyplot as plt\n",
    "plt.rcParams[\"figure.figsize\"] = (8,6)\n",
    "test_accs = [fasttext_nn_test_acc, neigh_test_acc, nn_test_acc]\n",
    "train_accs = [fasttext_nn_train_acc, neigh_train_acc, nn_train_acc]\n",
    "labels = [\"fastText CNN\",f\"{embName} nearest neighbors\", f\"{embName} NN\"]"
   ]
  },
  {
   "cell_type": "markdown",
   "metadata": {},
   "source": [
    "To compare results we will train models for other sentence embeddings as well."
   ]
  },
  {
   "cell_type": "code",
   "execution_count": 15,
   "metadata": {},
   "outputs": [
    {
     "name": "stdout",
     "output_type": "stream",
     "text": [
      "Epoch 1/100\n",
      "5748/5748 - 3s - loss: 0.4250 - accuracy: 0.8053 - 3s/epoch - 592us/step\n",
      "Epoch 2/100\n",
      "5748/5748 - 3s - loss: 0.4116 - accuracy: 0.8104 - 3s/epoch - 559us/step\n",
      "Epoch 3/100\n",
      "5748/5748 - 3s - loss: 0.4098 - accuracy: 0.8107 - 3s/epoch - 557us/step\n",
      "Epoch 4/100\n",
      "5748/5748 - 3s - loss: 0.4088 - accuracy: 0.8109 - 3s/epoch - 564us/step\n",
      "Epoch 5/100\n",
      "5748/5748 - 3s - loss: 0.4086 - accuracy: 0.8114 - 3s/epoch - 558us/step\n",
      "Epoch 6/100\n",
      "5748/5748 - 3s - loss: 0.4082 - accuracy: 0.8113 - 3s/epoch - 559us/step\n",
      "Epoch 7/100\n",
      "5748/5748 - 3s - loss: 0.4076 - accuracy: 0.8121 - 3s/epoch - 559us/step\n",
      "Epoch 8/100\n",
      "5748/5748 - 3s - loss: 0.4075 - accuracy: 0.8120 - 3s/epoch - 559us/step\n",
      "Epoch 9/100\n",
      "5748/5748 - 3s - loss: 0.4076 - accuracy: 0.8117 - 3s/epoch - 561us/step\n",
      "Epoch 10/100\n",
      "5748/5748 - 3s - loss: 0.4074 - accuracy: 0.8115 - 3s/epoch - 561us/step\n",
      "Epoch 11/100\n",
      "5748/5748 - 3s - loss: 0.4075 - accuracy: 0.8125 - 3s/epoch - 562us/step\n",
      "Epoch 12/100\n",
      "5748/5748 - 3s - loss: 0.4072 - accuracy: 0.8120 - 3s/epoch - 560us/step\n",
      "Epoch 13/100\n",
      "5748/5748 - 3s - loss: 0.4076 - accuracy: 0.8113 - 3s/epoch - 560us/step\n",
      "Epoch 14/100\n",
      "5748/5748 - 3s - loss: 0.4078 - accuracy: 0.8120 - 3s/epoch - 557us/step\n",
      "Epoch 15/100\n",
      "5748/5748 - 3s - loss: 0.4069 - accuracy: 0.8121 - 3s/epoch - 561us/step\n",
      "Epoch 16/100\n",
      "5748/5748 - 3s - loss: 0.4072 - accuracy: 0.8117 - 3s/epoch - 562us/step\n",
      "Epoch 17/100\n",
      "5748/5748 - 3s - loss: 0.4071 - accuracy: 0.8112 - 3s/epoch - 579us/step\n",
      "Epoch 18/100\n",
      "5748/5748 - 3s - loss: 0.4076 - accuracy: 0.8118 - 3s/epoch - 567us/step\n",
      "Epoch 19/100\n",
      "5748/5748 - 3s - loss: 0.4072 - accuracy: 0.8114 - 3s/epoch - 565us/step\n",
      "Epoch 20/100\n",
      "5748/5748 - 3s - loss: 0.4075 - accuracy: 0.8119 - 3s/epoch - 562us/step\n",
      "Epoch 21/100\n",
      "5748/5748 - 3s - loss: 0.4068 - accuracy: 0.8111 - 3s/epoch - 562us/step\n",
      "Epoch 22/100\n",
      "5748/5748 - 3s - loss: 0.4071 - accuracy: 0.8114 - 3s/epoch - 560us/step\n",
      "Epoch 23/100\n",
      "5748/5748 - 3s - loss: 0.4070 - accuracy: 0.8119 - 3s/epoch - 558us/step\n",
      "Epoch 24/100\n",
      "5748/5748 - 3s - loss: 0.4070 - accuracy: 0.8114 - 3s/epoch - 561us/step\n",
      "Epoch 25/100\n",
      "5748/5748 - 3s - loss: 0.4075 - accuracy: 0.8117 - 3s/epoch - 560us/step\n",
      "Epoch 26/100\n",
      "5748/5748 - 3s - loss: 0.4073 - accuracy: 0.8118 - 3s/epoch - 567us/step\n",
      "Epoch 27/100\n",
      "5748/5748 - 3s - loss: 0.4069 - accuracy: 0.8124 - 3s/epoch - 560us/step\n",
      "Epoch 28/100\n",
      "5748/5748 - 3s - loss: 0.4072 - accuracy: 0.8115 - 3s/epoch - 556us/step\n",
      "Epoch 29/100\n",
      "5748/5748 - 3s - loss: 0.4075 - accuracy: 0.8119 - 3s/epoch - 557us/step\n",
      "Epoch 30/100\n",
      "5748/5748 - 3s - loss: 0.4074 - accuracy: 0.8117 - 3s/epoch - 568us/step\n",
      "Epoch 31/100\n",
      "5748/5748 - 3s - loss: 0.4072 - accuracy: 0.8120 - 3s/epoch - 566us/step\n",
      "Epoch 32/100\n",
      "5748/5748 - 3s - loss: 0.4069 - accuracy: 0.8119 - 3s/epoch - 563us/step\n",
      "Epoch 33/100\n",
      "5748/5748 - 3s - loss: 0.4070 - accuracy: 0.8118 - 3s/epoch - 569us/step\n",
      "Epoch 34/100\n",
      "5748/5748 - 3s - loss: 0.4071 - accuracy: 0.8117 - 3s/epoch - 560us/step\n",
      "Epoch 35/100\n",
      "5748/5748 - 3s - loss: 0.4071 - accuracy: 0.8115 - 3s/epoch - 561us/step\n",
      "Epoch 36/100\n",
      "5748/5748 - 3s - loss: 0.4072 - accuracy: 0.8112 - 3s/epoch - 557us/step\n",
      "Epoch 37/100\n",
      "5748/5748 - 3s - loss: 0.4074 - accuracy: 0.8121 - 3s/epoch - 574us/step\n",
      "Epoch 38/100\n",
      "5748/5748 - 3s - loss: 0.4072 - accuracy: 0.8117 - 3s/epoch - 568us/step\n",
      "Epoch 39/100\n",
      "5748/5748 - 3s - loss: 0.4077 - accuracy: 0.8116 - 3s/epoch - 561us/step\n",
      "Epoch 40/100\n",
      "5748/5748 - 3s - loss: 0.4067 - accuracy: 0.8121 - 3s/epoch - 567us/step\n",
      "Epoch 41/100\n",
      "5748/5748 - 3s - loss: 0.4067 - accuracy: 0.8129 - 3s/epoch - 566us/step\n",
      "Epoch 42/100\n",
      "5748/5748 - 3s - loss: 0.4074 - accuracy: 0.8117 - 3s/epoch - 565us/step\n",
      "Epoch 43/100\n",
      "5748/5748 - 3s - loss: 0.4071 - accuracy: 0.8118 - 3s/epoch - 563us/step\n",
      "Epoch 44/100\n",
      "5748/5748 - 3s - loss: 0.4076 - accuracy: 0.8125 - 3s/epoch - 560us/step\n",
      "Epoch 45/100\n",
      "5748/5748 - 3s - loss: 0.4072 - accuracy: 0.8123 - 3s/epoch - 560us/step\n",
      "Epoch 46/100\n",
      "5748/5748 - 3s - loss: 0.4073 - accuracy: 0.8120 - 3s/epoch - 561us/step\n",
      "Epoch 47/100\n",
      "5748/5748 - 3s - loss: 0.4070 - accuracy: 0.8121 - 3s/epoch - 557us/step\n",
      "Epoch 48/100\n",
      "5748/5748 - 3s - loss: 0.4077 - accuracy: 0.8115 - 3s/epoch - 561us/step\n",
      "Epoch 49/100\n",
      "5748/5748 - 3s - loss: 0.4071 - accuracy: 0.8117 - 3s/epoch - 562us/step\n",
      "Epoch 50/100\n",
      "5748/5748 - 3s - loss: 0.4069 - accuracy: 0.8123 - 3s/epoch - 561us/step\n",
      "Epoch 51/100\n",
      "5748/5748 - 3s - loss: 0.4069 - accuracy: 0.8123 - 3s/epoch - 565us/step\n",
      "Epoch 52/100\n",
      "5748/5748 - 3s - loss: 0.4070 - accuracy: 0.8114 - 3s/epoch - 562us/step\n",
      "Epoch 53/100\n",
      "5748/5748 - 3s - loss: 0.4072 - accuracy: 0.8116 - 3s/epoch - 560us/step\n",
      "Epoch 54/100\n",
      "5748/5748 - 3s - loss: 0.4067 - accuracy: 0.8117 - 3s/epoch - 562us/step\n",
      "Epoch 55/100\n",
      "5748/5748 - 3s - loss: 0.4069 - accuracy: 0.8118 - 3s/epoch - 558us/step\n",
      "Epoch 56/100\n",
      "5748/5748 - 3s - loss: 0.4069 - accuracy: 0.8123 - 3s/epoch - 560us/step\n",
      "Epoch 57/100\n",
      "5748/5748 - 3s - loss: 0.4070 - accuracy: 0.8122 - 3s/epoch - 568us/step\n",
      "Epoch 58/100\n",
      "5748/5748 - 3s - loss: 0.4070 - accuracy: 0.8112 - 3s/epoch - 573us/step\n",
      "Epoch 59/100\n",
      "5748/5748 - 3s - loss: 0.4071 - accuracy: 0.8114 - 3s/epoch - 560us/step\n",
      "Epoch 60/100\n",
      "5748/5748 - 3s - loss: 0.4070 - accuracy: 0.8119 - 3s/epoch - 565us/step\n",
      "Epoch 61/100\n",
      "5748/5748 - 3s - loss: 0.4069 - accuracy: 0.8120 - 3s/epoch - 560us/step\n",
      "Epoch 62/100\n",
      "5748/5748 - 3s - loss: 0.4072 - accuracy: 0.8119 - 3s/epoch - 560us/step\n",
      "Epoch 63/100\n",
      "5748/5748 - 3s - loss: 0.4070 - accuracy: 0.8117 - 3s/epoch - 558us/step\n",
      "Epoch 64/100\n",
      "5748/5748 - 3s - loss: 0.4074 - accuracy: 0.8119 - 3s/epoch - 556us/step\n",
      "Epoch 65/100\n",
      "5748/5748 - 3s - loss: 0.4073 - accuracy: 0.8116 - 3s/epoch - 559us/step\n",
      "Epoch 66/100\n",
      "5748/5748 - 3s - loss: 0.4072 - accuracy: 0.8128 - 3s/epoch - 557us/step\n",
      "Epoch 67/100\n",
      "5748/5748 - 3s - loss: 0.4072 - accuracy: 0.8114 - 3s/epoch - 558us/step\n",
      "Epoch 68/100\n",
      "5748/5748 - 3s - loss: 0.4071 - accuracy: 0.8126 - 3s/epoch - 563us/step\n",
      "Epoch 69/100\n",
      "5748/5748 - 3s - loss: 0.4072 - accuracy: 0.8121 - 3s/epoch - 565us/step\n",
      "Epoch 70/100\n",
      "5748/5748 - 3s - loss: 0.4069 - accuracy: 0.8125 - 3s/epoch - 561us/step\n",
      "Epoch 71/100\n",
      "5748/5748 - 3s - loss: 0.4075 - accuracy: 0.8115 - 3s/epoch - 563us/step\n",
      "Epoch 72/100\n",
      "5748/5748 - 3s - loss: 0.4072 - accuracy: 0.8113 - 3s/epoch - 559us/step\n",
      "Epoch 73/100\n",
      "5748/5748 - 3s - loss: 0.4070 - accuracy: 0.8117 - 3s/epoch - 566us/step\n",
      "Epoch 74/100\n",
      "5748/5748 - 3s - loss: 0.4071 - accuracy: 0.8119 - 3s/epoch - 568us/step\n",
      "Epoch 75/100\n",
      "5748/5748 - 3s - loss: 0.4071 - accuracy: 0.8113 - 3s/epoch - 565us/step\n",
      "Epoch 76/100\n",
      "5748/5748 - 3s - loss: 0.4068 - accuracy: 0.8121 - 3s/epoch - 565us/step\n",
      "Epoch 77/100\n",
      "5748/5748 - 3s - loss: 0.4069 - accuracy: 0.8118 - 3s/epoch - 572us/step\n",
      "Epoch 78/100\n",
      "5748/5748 - 3s - loss: 0.4073 - accuracy: 0.8124 - 3s/epoch - 579us/step\n",
      "Epoch 79/100\n",
      "5748/5748 - 3s - loss: 0.4070 - accuracy: 0.8113 - 3s/epoch - 565us/step\n",
      "Epoch 80/100\n",
      "5748/5748 - 3s - loss: 0.4068 - accuracy: 0.8127 - 3s/epoch - 565us/step\n",
      "Epoch 81/100\n",
      "5748/5748 - 3s - loss: 0.4069 - accuracy: 0.8121 - 3s/epoch - 565us/step\n",
      "Epoch 82/100\n",
      "5748/5748 - 3s - loss: 0.4069 - accuracy: 0.8118 - 3s/epoch - 565us/step\n",
      "Epoch 83/100\n",
      "5748/5748 - 3s - loss: 0.4070 - accuracy: 0.8119 - 3s/epoch - 567us/step\n",
      "Epoch 84/100\n",
      "5748/5748 - 3s - loss: 0.4071 - accuracy: 0.8117 - 3s/epoch - 564us/step\n",
      "Epoch 85/100\n",
      "5748/5748 - 3s - loss: 0.4071 - accuracy: 0.8120 - 3s/epoch - 565us/step\n",
      "Epoch 86/100\n",
      "5748/5748 - 3s - loss: 0.4072 - accuracy: 0.8120 - 3s/epoch - 567us/step\n",
      "Epoch 87/100\n",
      "5748/5748 - 3s - loss: 0.4070 - accuracy: 0.8119 - 3s/epoch - 566us/step\n",
      "Epoch 88/100\n",
      "5748/5748 - 3s - loss: 0.4068 - accuracy: 0.8119 - 3s/epoch - 568us/step\n",
      "Epoch 89/100\n",
      "5748/5748 - 3s - loss: 0.4076 - accuracy: 0.8120 - 3s/epoch - 570us/step\n",
      "Epoch 90/100\n",
      "5748/5748 - 3s - loss: 0.4069 - accuracy: 0.8119 - 3s/epoch - 573us/step\n",
      "Epoch 91/100\n",
      "5748/5748 - 3s - loss: 0.4068 - accuracy: 0.8122 - 3s/epoch - 568us/step\n",
      "Epoch 92/100\n",
      "5748/5748 - 3s - loss: 0.4070 - accuracy: 0.8122 - 3s/epoch - 567us/step\n",
      "Epoch 93/100\n",
      "5748/5748 - 3s - loss: 0.4069 - accuracy: 0.8117 - 3s/epoch - 567us/step\n",
      "Epoch 94/100\n",
      "5748/5748 - 3s - loss: 0.4075 - accuracy: 0.8119 - 3s/epoch - 569us/step\n",
      "Epoch 95/100\n",
      "5748/5748 - 3s - loss: 0.4073 - accuracy: 0.8116 - 3s/epoch - 572us/step\n",
      "Epoch 96/100\n",
      "5748/5748 - 3s - loss: 0.4068 - accuracy: 0.8119 - 3s/epoch - 574us/step\n"
     ]
    },
    {
     "name": "stdout",
     "output_type": "stream",
     "text": [
      "Epoch 97/100\n",
      "5748/5748 - 3s - loss: 0.4069 - accuracy: 0.8121 - 3s/epoch - 571us/step\n",
      "Epoch 98/100\n",
      "5748/5748 - 3s - loss: 0.4066 - accuracy: 0.8120 - 3s/epoch - 581us/step\n",
      "Epoch 99/100\n",
      "5748/5748 - 3s - loss: 0.4070 - accuracy: 0.8122 - 3s/epoch - 576us/step\n",
      "Epoch 100/100\n",
      "5748/5748 - 3s - loss: 0.4073 - accuracy: 0.8116 - 3s/epoch - 567us/step\n",
      "639/639 [==============================] - 0s 466us/step\n",
      "Epoch 1/100\n",
      "5748/5748 - 3s - loss: 0.4059 - accuracy: 0.8130 - 3s/epoch - 607us/step\n",
      "Epoch 2/100\n",
      "5748/5748 - 3s - loss: 0.3817 - accuracy: 0.8220 - 3s/epoch - 573us/step\n",
      "Epoch 3/100\n",
      "5748/5748 - 3s - loss: 0.3793 - accuracy: 0.8228 - 3s/epoch - 573us/step\n",
      "Epoch 4/100\n",
      "5748/5748 - 3s - loss: 0.3781 - accuracy: 0.8232 - 3s/epoch - 570us/step\n",
      "Epoch 5/100\n",
      "5748/5748 - 3s - loss: 0.3773 - accuracy: 0.8242 - 3s/epoch - 565us/step\n",
      "Epoch 6/100\n",
      "5748/5748 - 3s - loss: 0.3766 - accuracy: 0.8244 - 3s/epoch - 571us/step\n",
      "Epoch 7/100\n",
      "5748/5748 - 3s - loss: 0.3762 - accuracy: 0.8245 - 3s/epoch - 571us/step\n",
      "Epoch 8/100\n",
      "5748/5748 - 3s - loss: 0.3757 - accuracy: 0.8246 - 3s/epoch - 566us/step\n",
      "Epoch 9/100\n",
      "5748/5748 - 3s - loss: 0.3754 - accuracy: 0.8249 - 3s/epoch - 566us/step\n",
      "Epoch 10/100\n",
      "5748/5748 - 3s - loss: 0.3751 - accuracy: 0.8248 - 3s/epoch - 570us/step\n",
      "Epoch 11/100\n",
      "5748/5748 - 3s - loss: 0.3749 - accuracy: 0.8249 - 3s/epoch - 570us/step\n",
      "Epoch 12/100\n",
      "5748/5748 - 3s - loss: 0.3747 - accuracy: 0.8249 - 3s/epoch - 570us/step\n",
      "Epoch 13/100\n",
      "5748/5748 - 3s - loss: 0.3745 - accuracy: 0.8252 - 3s/epoch - 565us/step\n",
      "Epoch 14/100\n",
      "5748/5748 - 3s - loss: 0.3744 - accuracy: 0.8251 - 3s/epoch - 573us/step\n",
      "Epoch 15/100\n",
      "5748/5748 - 3s - loss: 0.3743 - accuracy: 0.8253 - 3s/epoch - 581us/step\n",
      "Epoch 16/100\n",
      "5748/5748 - 3s - loss: 0.3741 - accuracy: 0.8253 - 3s/epoch - 566us/step\n",
      "Epoch 17/100\n",
      "5748/5748 - 3s - loss: 0.3740 - accuracy: 0.8253 - 3s/epoch - 570us/step\n",
      "Epoch 18/100\n",
      "5748/5748 - 3s - loss: 0.3740 - accuracy: 0.8252 - 3s/epoch - 577us/step\n",
      "Epoch 19/100\n",
      "5748/5748 - 3s - loss: 0.3738 - accuracy: 0.8254 - 3s/epoch - 566us/step\n",
      "Epoch 20/100\n",
      "5748/5748 - 3s - loss: 0.3738 - accuracy: 0.8254 - 3s/epoch - 576us/step\n",
      "Epoch 21/100\n",
      "5748/5748 - 3s - loss: 0.3737 - accuracy: 0.8252 - 3s/epoch - 572us/step\n",
      "Epoch 22/100\n",
      "5748/5748 - 3s - loss: 0.3736 - accuracy: 0.8255 - 3s/epoch - 571us/step\n",
      "Epoch 23/100\n",
      "5748/5748 - 3s - loss: 0.3736 - accuracy: 0.8257 - 3s/epoch - 571us/step\n",
      "Epoch 24/100\n",
      "5748/5748 - 3s - loss: 0.3736 - accuracy: 0.8256 - 3s/epoch - 571us/step\n",
      "Epoch 25/100\n",
      "5748/5748 - 3s - loss: 0.3735 - accuracy: 0.8255 - 3s/epoch - 572us/step\n",
      "Epoch 26/100\n",
      "5748/5748 - 3s - loss: 0.3734 - accuracy: 0.8257 - 3s/epoch - 590us/step\n",
      "Epoch 27/100\n",
      "5748/5748 - 3s - loss: 0.3734 - accuracy: 0.8258 - 3s/epoch - 579us/step\n",
      "Epoch 28/100\n",
      "5748/5748 - 3s - loss: 0.3733 - accuracy: 0.8253 - 3s/epoch - 569us/step\n",
      "Epoch 29/100\n",
      "5748/5748 - 3s - loss: 0.3733 - accuracy: 0.8257 - 3s/epoch - 569us/step\n",
      "Epoch 30/100\n",
      "5748/5748 - 3s - loss: 0.3732 - accuracy: 0.8258 - 3s/epoch - 572us/step\n",
      "Epoch 31/100\n",
      "5748/5748 - 3s - loss: 0.3733 - accuracy: 0.8257 - 3s/epoch - 575us/step\n",
      "Epoch 32/100\n",
      "5748/5748 - 3s - loss: 0.3731 - accuracy: 0.8254 - 3s/epoch - 575us/step\n",
      "Epoch 33/100\n",
      "5748/5748 - 3s - loss: 0.3732 - accuracy: 0.8259 - 3s/epoch - 573us/step\n",
      "Epoch 34/100\n",
      "5748/5748 - 3s - loss: 0.3731 - accuracy: 0.8255 - 3s/epoch - 577us/step\n",
      "Epoch 35/100\n",
      "5748/5748 - 3s - loss: 0.3731 - accuracy: 0.8254 - 3s/epoch - 583us/step\n",
      "Epoch 36/100\n",
      "5748/5748 - 3s - loss: 0.3731 - accuracy: 0.8259 - 3s/epoch - 572us/step\n",
      "Epoch 37/100\n",
      "5748/5748 - 3s - loss: 0.3731 - accuracy: 0.8256 - 3s/epoch - 575us/step\n",
      "Epoch 38/100\n",
      "5748/5748 - 3s - loss: 0.3730 - accuracy: 0.8259 - 3s/epoch - 575us/step\n",
      "Epoch 39/100\n",
      "5748/5748 - 3s - loss: 0.3731 - accuracy: 0.8260 - 3s/epoch - 576us/step\n",
      "Epoch 40/100\n",
      "5748/5748 - 3s - loss: 0.3731 - accuracy: 0.8254 - 3s/epoch - 575us/step\n",
      "Epoch 41/100\n",
      "5748/5748 - 3s - loss: 0.3730 - accuracy: 0.8258 - 3s/epoch - 567us/step\n",
      "Epoch 42/100\n",
      "5748/5748 - 3s - loss: 0.3730 - accuracy: 0.8259 - 3s/epoch - 568us/step\n",
      "Epoch 43/100\n",
      "5748/5748 - 3s - loss: 0.3730 - accuracy: 0.8259 - 3s/epoch - 567us/step\n",
      "Epoch 44/100\n",
      "5748/5748 - 3s - loss: 0.3730 - accuracy: 0.8260 - 3s/epoch - 568us/step\n",
      "Epoch 45/100\n",
      "5748/5748 - 3s - loss: 0.3730 - accuracy: 0.8259 - 3s/epoch - 575us/step\n",
      "Epoch 46/100\n",
      "5748/5748 - 3s - loss: 0.3729 - accuracy: 0.8255 - 3s/epoch - 573us/step\n",
      "Epoch 47/100\n",
      "5748/5748 - 3s - loss: 0.3729 - accuracy: 0.8258 - 3s/epoch - 579us/step\n",
      "Epoch 48/100\n",
      "5748/5748 - 3s - loss: 0.3729 - accuracy: 0.8260 - 3s/epoch - 579us/step\n",
      "Epoch 49/100\n",
      "5748/5748 - 3s - loss: 0.3729 - accuracy: 0.8259 - 3s/epoch - 573us/step\n",
      "Epoch 50/100\n",
      "5748/5748 - 3s - loss: 0.3729 - accuracy: 0.8257 - 3s/epoch - 570us/step\n",
      "Epoch 51/100\n",
      "5748/5748 - 3s - loss: 0.3729 - accuracy: 0.8263 - 3s/epoch - 573us/step\n",
      "Epoch 52/100\n",
      "5748/5748 - 3s - loss: 0.3729 - accuracy: 0.8255 - 3s/epoch - 574us/step\n",
      "Epoch 53/100\n",
      "5748/5748 - 3s - loss: 0.3729 - accuracy: 0.8258 - 3s/epoch - 572us/step\n",
      "Epoch 54/100\n",
      "5748/5748 - 3s - loss: 0.3729 - accuracy: 0.8257 - 3s/epoch - 580us/step\n",
      "Epoch 55/100\n",
      "5748/5748 - 3s - loss: 0.3728 - accuracy: 0.8259 - 3s/epoch - 586us/step\n",
      "Epoch 56/100\n",
      "5748/5748 - 3s - loss: 0.3729 - accuracy: 0.8258 - 3s/epoch - 566us/step\n",
      "Epoch 57/100\n",
      "5748/5748 - 3s - loss: 0.3728 - accuracy: 0.8258 - 3s/epoch - 576us/step\n",
      "Epoch 58/100\n",
      "5748/5748 - 3s - loss: 0.3729 - accuracy: 0.8258 - 3s/epoch - 573us/step\n",
      "Epoch 59/100\n",
      "5748/5748 - 3s - loss: 0.3728 - accuracy: 0.8258 - 3s/epoch - 575us/step\n",
      "Epoch 60/100\n",
      "5748/5748 - 3s - loss: 0.3728 - accuracy: 0.8258 - 3s/epoch - 579us/step\n",
      "Epoch 61/100\n",
      "5748/5748 - 3s - loss: 0.3729 - accuracy: 0.8261 - 3s/epoch - 579us/step\n",
      "Epoch 62/100\n",
      "5748/5748 - 3s - loss: 0.3728 - accuracy: 0.8262 - 3s/epoch - 572us/step\n",
      "Epoch 63/100\n",
      "5748/5748 - 3s - loss: 0.3729 - accuracy: 0.8255 - 3s/epoch - 575us/step\n",
      "Epoch 64/100\n",
      "5748/5748 - 3s - loss: 0.3728 - accuracy: 0.8262 - 3s/epoch - 577us/step\n",
      "Epoch 65/100\n",
      "5748/5748 - 3s - loss: 0.3728 - accuracy: 0.8257 - 3s/epoch - 573us/step\n",
      "Epoch 66/100\n",
      "5748/5748 - 3s - loss: 0.3727 - accuracy: 0.8260 - 3s/epoch - 574us/step\n",
      "Epoch 67/100\n",
      "5748/5748 - 3s - loss: 0.3728 - accuracy: 0.8258 - 3s/epoch - 578us/step\n",
      "Epoch 68/100\n",
      "5748/5748 - 3s - loss: 0.3728 - accuracy: 0.8261 - 3s/epoch - 578us/step\n",
      "Epoch 69/100\n",
      "5748/5748 - 3s - loss: 0.3728 - accuracy: 0.8260 - 3s/epoch - 586us/step\n",
      "Epoch 70/100\n",
      "5748/5748 - 3s - loss: 0.3728 - accuracy: 0.8260 - 3s/epoch - 578us/step\n",
      "Epoch 71/100\n",
      "5748/5748 - 3s - loss: 0.3728 - accuracy: 0.8258 - 3s/epoch - 575us/step\n",
      "Epoch 72/100\n",
      "5748/5748 - 3s - loss: 0.3728 - accuracy: 0.8263 - 3s/epoch - 576us/step\n",
      "Epoch 73/100\n",
      "5748/5748 - 3s - loss: 0.3728 - accuracy: 0.8259 - 3s/epoch - 580us/step\n",
      "Epoch 74/100\n",
      "5748/5748 - 3s - loss: 0.3728 - accuracy: 0.8256 - 3s/epoch - 589us/step\n",
      "Epoch 75/100\n",
      "5748/5748 - 3s - loss: 0.3728 - accuracy: 0.8260 - 3s/epoch - 587us/step\n",
      "Epoch 76/100\n",
      "5748/5748 - 3s - loss: 0.3727 - accuracy: 0.8257 - 3s/epoch - 575us/step\n",
      "Epoch 77/100\n",
      "5748/5748 - 3s - loss: 0.3727 - accuracy: 0.8259 - 3s/epoch - 585us/step\n",
      "Epoch 78/100\n",
      "5748/5748 - 3s - loss: 0.3728 - accuracy: 0.8259 - 3s/epoch - 571us/step\n",
      "Epoch 79/100\n",
      "5748/5748 - 3s - loss: 0.3728 - accuracy: 0.8258 - 3s/epoch - 573us/step\n",
      "Epoch 80/100\n",
      "5748/5748 - 3s - loss: 0.3727 - accuracy: 0.8259 - 3s/epoch - 575us/step\n",
      "Epoch 81/100\n",
      "5748/5748 - 3s - loss: 0.3728 - accuracy: 0.8255 - 3s/epoch - 577us/step\n",
      "Epoch 82/100\n",
      "5748/5748 - 3s - loss: 0.3728 - accuracy: 0.8262 - 3s/epoch - 565us/step\n",
      "Epoch 83/100\n",
      "5748/5748 - 3s - loss: 0.3727 - accuracy: 0.8257 - 3s/epoch - 573us/step\n",
      "Epoch 84/100\n",
      "5748/5748 - 3s - loss: 0.3727 - accuracy: 0.8258 - 3s/epoch - 570us/step\n",
      "Epoch 85/100\n",
      "5748/5748 - 3s - loss: 0.3727 - accuracy: 0.8256 - 3s/epoch - 571us/step\n",
      "Epoch 86/100\n",
      "5748/5748 - 3s - loss: 0.3727 - accuracy: 0.8257 - 3s/epoch - 570us/step\n",
      "Epoch 87/100\n",
      "5748/5748 - 3s - loss: 0.3727 - accuracy: 0.8264 - 3s/epoch - 563us/step\n",
      "Epoch 88/100\n",
      "5748/5748 - 3s - loss: 0.3727 - accuracy: 0.8258 - 3s/epoch - 568us/step\n",
      "Epoch 89/100\n",
      "5748/5748 - 3s - loss: 0.3727 - accuracy: 0.8261 - 3s/epoch - 577us/step\n",
      "Epoch 90/100\n",
      "5748/5748 - 3s - loss: 0.3727 - accuracy: 0.8258 - 3s/epoch - 573us/step\n",
      "Epoch 91/100\n",
      "5748/5748 - 3s - loss: 0.3727 - accuracy: 0.8259 - 3s/epoch - 572us/step\n"
     ]
    },
    {
     "name": "stdout",
     "output_type": "stream",
     "text": [
      "Epoch 92/100\n",
      "5748/5748 - 3s - loss: 0.3727 - accuracy: 0.8257 - 3s/epoch - 567us/step\n",
      "Epoch 93/100\n",
      "5748/5748 - 3s - loss: 0.3727 - accuracy: 0.8259 - 3s/epoch - 566us/step\n",
      "Epoch 94/100\n",
      "5748/5748 - 3s - loss: 0.3727 - accuracy: 0.8261 - 3s/epoch - 581us/step\n",
      "Epoch 95/100\n",
      "5748/5748 - 3s - loss: 0.3727 - accuracy: 0.8257 - 3s/epoch - 572us/step\n",
      "Epoch 96/100\n",
      "5748/5748 - 3s - loss: 0.3727 - accuracy: 0.8260 - 3s/epoch - 564us/step\n",
      "Epoch 97/100\n",
      "5748/5748 - 3s - loss: 0.3727 - accuracy: 0.8263 - 3s/epoch - 560us/step\n",
      "Epoch 98/100\n",
      "5748/5748 - 3s - loss: 0.3726 - accuracy: 0.8258 - 3s/epoch - 566us/step\n",
      "Epoch 99/100\n",
      "5748/5748 - 3s - loss: 0.3727 - accuracy: 0.8260 - 3s/epoch - 565us/step\n",
      "Epoch 100/100\n",
      "5748/5748 - 3s - loss: 0.3727 - accuracy: 0.8259 - 3s/epoch - 572us/step\n",
      "639/639 [==============================] - 0s 461us/step\n",
      "Epoch 1/100\n",
      "5748/5748 - 4s - loss: 0.3807 - accuracy: 0.8286 - 4s/epoch - 624us/step\n",
      "Epoch 2/100\n",
      "5748/5748 - 3s - loss: 0.3565 - accuracy: 0.8367 - 3s/epoch - 588us/step\n",
      "Epoch 3/100\n",
      "5748/5748 - 3s - loss: 0.3541 - accuracy: 0.8375 - 3s/epoch - 588us/step\n",
      "Epoch 4/100\n",
      "5748/5748 - 3s - loss: 0.3529 - accuracy: 0.8385 - 3s/epoch - 590us/step\n",
      "Epoch 5/100\n",
      "5748/5748 - 3s - loss: 0.3521 - accuracy: 0.8383 - 3s/epoch - 587us/step\n",
      "Epoch 6/100\n",
      "5748/5748 - 3s - loss: 0.3514 - accuracy: 0.8390 - 3s/epoch - 589us/step\n",
      "Epoch 7/100\n",
      "5748/5748 - 3s - loss: 0.3510 - accuracy: 0.8389 - 3s/epoch - 591us/step\n",
      "Epoch 8/100\n",
      "5748/5748 - 3s - loss: 0.3506 - accuracy: 0.8395 - 3s/epoch - 590us/step\n",
      "Epoch 9/100\n",
      "5748/5748 - 3s - loss: 0.3503 - accuracy: 0.8395 - 3s/epoch - 598us/step\n",
      "Epoch 10/100\n",
      "5748/5748 - 3s - loss: 0.3500 - accuracy: 0.8396 - 3s/epoch - 596us/step\n",
      "Epoch 11/100\n",
      "5748/5748 - 3s - loss: 0.3497 - accuracy: 0.8397 - 3s/epoch - 604us/step\n",
      "Epoch 12/100\n",
      "5748/5748 - 3s - loss: 0.3495 - accuracy: 0.8396 - 3s/epoch - 591us/step\n",
      "Epoch 13/100\n",
      "5748/5748 - 3s - loss: 0.3494 - accuracy: 0.8396 - 3s/epoch - 591us/step\n",
      "Epoch 14/100\n",
      "5748/5748 - 3s - loss: 0.3491 - accuracy: 0.8397 - 3s/epoch - 591us/step\n",
      "Epoch 15/100\n",
      "5748/5748 - 3s - loss: 0.3490 - accuracy: 0.8401 - 3s/epoch - 592us/step\n",
      "Epoch 16/100\n",
      "5748/5748 - 3s - loss: 0.3489 - accuracy: 0.8399 - 3s/epoch - 592us/step\n",
      "Epoch 17/100\n",
      "5748/5748 - 3s - loss: 0.3488 - accuracy: 0.8403 - 3s/epoch - 590us/step\n",
      "Epoch 18/100\n",
      "5748/5748 - 3s - loss: 0.3487 - accuracy: 0.8398 - 3s/epoch - 594us/step\n",
      "Epoch 19/100\n",
      "5748/5748 - 3s - loss: 0.3486 - accuracy: 0.8399 - 3s/epoch - 591us/step\n",
      "Epoch 20/100\n",
      "5748/5748 - 3s - loss: 0.3486 - accuracy: 0.8399 - 3s/epoch - 586us/step\n",
      "Epoch 21/100\n",
      "5748/5748 - 3s - loss: 0.3485 - accuracy: 0.8399 - 3s/epoch - 590us/step\n",
      "Epoch 22/100\n",
      "5748/5748 - 3s - loss: 0.3484 - accuracy: 0.8403 - 3s/epoch - 595us/step\n",
      "Epoch 23/100\n",
      "5748/5748 - 3s - loss: 0.3484 - accuracy: 0.8398 - 3s/epoch - 596us/step\n",
      "Epoch 24/100\n",
      "5748/5748 - 4s - loss: 0.3483 - accuracy: 0.8399 - 4s/epoch - 696us/step\n",
      "Epoch 25/100\n",
      "5748/5748 - 4s - loss: 0.3482 - accuracy: 0.8402 - 4s/epoch - 615us/step\n",
      "Epoch 26/100\n",
      "5748/5748 - 3s - loss: 0.3482 - accuracy: 0.8400 - 3s/epoch - 586us/step\n",
      "Epoch 27/100\n",
      "5748/5748 - 3s - loss: 0.3482 - accuracy: 0.8398 - 3s/epoch - 587us/step\n",
      "Epoch 28/100\n",
      "5748/5748 - 3s - loss: 0.3481 - accuracy: 0.8399 - 3s/epoch - 587us/step\n",
      "Epoch 29/100\n",
      "5748/5748 - 3s - loss: 0.3481 - accuracy: 0.8400 - 3s/epoch - 590us/step\n",
      "Epoch 30/100\n",
      "5748/5748 - 3s - loss: 0.3480 - accuracy: 0.8398 - 3s/epoch - 600us/step\n",
      "Epoch 31/100\n",
      "5748/5748 - 3s - loss: 0.3480 - accuracy: 0.8401 - 3s/epoch - 588us/step\n",
      "Epoch 32/100\n",
      "5748/5748 - 3s - loss: 0.3480 - accuracy: 0.8401 - 3s/epoch - 584us/step\n",
      "Epoch 33/100\n",
      "5748/5748 - 3s - loss: 0.3480 - accuracy: 0.8400 - 3s/epoch - 583us/step\n",
      "Epoch 34/100\n",
      "5748/5748 - 3s - loss: 0.3480 - accuracy: 0.8400 - 3s/epoch - 583us/step\n",
      "Epoch 35/100\n",
      "5748/5748 - 3s - loss: 0.3479 - accuracy: 0.8400 - 3s/epoch - 582us/step\n",
      "Epoch 36/100\n",
      "5748/5748 - 3s - loss: 0.3479 - accuracy: 0.8398 - 3s/epoch - 583us/step\n",
      "Epoch 37/100\n",
      "5748/5748 - 3s - loss: 0.3479 - accuracy: 0.8402 - 3s/epoch - 584us/step\n",
      "Epoch 38/100\n",
      "5748/5748 - 3s - loss: 0.3479 - accuracy: 0.8402 - 3s/epoch - 582us/step\n",
      "Epoch 39/100\n",
      "5748/5748 - 3s - loss: 0.3479 - accuracy: 0.8398 - 3s/epoch - 583us/step\n",
      "Epoch 40/100\n",
      "5748/5748 - 3s - loss: 0.3478 - accuracy: 0.8402 - 3s/epoch - 582us/step\n",
      "Epoch 41/100\n",
      "5748/5748 - 3s - loss: 0.3479 - accuracy: 0.8402 - 3s/epoch - 581us/step\n",
      "Epoch 42/100\n",
      "5748/5748 - 3s - loss: 0.3478 - accuracy: 0.8400 - 3s/epoch - 581us/step\n",
      "Epoch 43/100\n",
      "5748/5748 - 3s - loss: 0.3478 - accuracy: 0.8401 - 3s/epoch - 584us/step\n",
      "Epoch 44/100\n",
      "5748/5748 - 3s - loss: 0.3478 - accuracy: 0.8396 - 3s/epoch - 584us/step\n",
      "Epoch 45/100\n",
      "5748/5748 - 3s - loss: 0.3477 - accuracy: 0.8400 - 3s/epoch - 584us/step\n",
      "Epoch 46/100\n",
      "5748/5748 - 3s - loss: 0.3478 - accuracy: 0.8401 - 3s/epoch - 586us/step\n",
      "Epoch 47/100\n",
      "5748/5748 - 3s - loss: 0.3478 - accuracy: 0.8397 - 3s/epoch - 586us/step\n",
      "Epoch 48/100\n",
      "5748/5748 - 3s - loss: 0.3478 - accuracy: 0.8400 - 3s/epoch - 584us/step\n",
      "Epoch 49/100\n",
      "5748/5748 - 3s - loss: 0.3477 - accuracy: 0.8402 - 3s/epoch - 597us/step\n",
      "Epoch 50/100\n",
      "5748/5748 - 3s - loss: 0.3478 - accuracy: 0.8399 - 3s/epoch - 595us/step\n",
      "Epoch 51/100\n",
      "5748/5748 - 3s - loss: 0.3478 - accuracy: 0.8398 - 3s/epoch - 584us/step\n",
      "Epoch 52/100\n",
      "5748/5748 - 3s - loss: 0.3477 - accuracy: 0.8398 - 3s/epoch - 586us/step\n",
      "Epoch 53/100\n",
      "5748/5748 - 3s - loss: 0.3478 - accuracy: 0.8400 - 3s/epoch - 585us/step\n",
      "Epoch 54/100\n",
      "5748/5748 - 3s - loss: 0.3477 - accuracy: 0.8400 - 3s/epoch - 584us/step\n",
      "Epoch 55/100\n",
      "5748/5748 - 3s - loss: 0.3478 - accuracy: 0.8402 - 3s/epoch - 584us/step\n",
      "Epoch 56/100\n",
      "5748/5748 - 3s - loss: 0.3477 - accuracy: 0.8401 - 3s/epoch - 583us/step\n",
      "Epoch 57/100\n",
      "5748/5748 - 3s - loss: 0.3477 - accuracy: 0.8396 - 3s/epoch - 586us/step\n",
      "Epoch 58/100\n",
      "5748/5748 - 3s - loss: 0.3478 - accuracy: 0.8401 - 3s/epoch - 584us/step\n",
      "Epoch 59/100\n",
      "5748/5748 - 3s - loss: 0.3477 - accuracy: 0.8401 - 3s/epoch - 584us/step\n",
      "Epoch 60/100\n",
      "5748/5748 - 3s - loss: 0.3477 - accuracy: 0.8398 - 3s/epoch - 582us/step\n",
      "Epoch 61/100\n",
      "5748/5748 - 3s - loss: 0.3477 - accuracy: 0.8403 - 3s/epoch - 583us/step\n",
      "Epoch 62/100\n",
      "5748/5748 - 3s - loss: 0.3477 - accuracy: 0.8401 - 3s/epoch - 581us/step\n",
      "Epoch 63/100\n",
      "5748/5748 - 3s - loss: 0.3477 - accuracy: 0.8400 - 3s/epoch - 582us/step\n",
      "Epoch 64/100\n",
      "5748/5748 - 3s - loss: 0.3476 - accuracy: 0.8403 - 3s/epoch - 582us/step\n",
      "Epoch 65/100\n",
      "5748/5748 - 3s - loss: 0.3477 - accuracy: 0.8401 - 3s/epoch - 583us/step\n",
      "Epoch 66/100\n",
      "5748/5748 - 3s - loss: 0.3477 - accuracy: 0.8400 - 3s/epoch - 584us/step\n",
      "Epoch 67/100\n",
      "5748/5748 - 3s - loss: 0.3477 - accuracy: 0.8406 - 3s/epoch - 585us/step\n",
      "Epoch 68/100\n",
      "5748/5748 - 3s - loss: 0.3477 - accuracy: 0.8400 - 3s/epoch - 583us/step\n",
      "Epoch 69/100\n",
      "5748/5748 - 3s - loss: 0.3477 - accuracy: 0.8398 - 3s/epoch - 592us/step\n",
      "Epoch 70/100\n",
      "5748/5748 - 3s - loss: 0.3476 - accuracy: 0.8400 - 3s/epoch - 585us/step\n",
      "Epoch 71/100\n",
      "5748/5748 - 3s - loss: 0.3477 - accuracy: 0.8398 - 3s/epoch - 580us/step\n",
      "Epoch 72/100\n",
      "5748/5748 - 3s - loss: 0.3477 - accuracy: 0.8397 - 3s/epoch - 581us/step\n",
      "Epoch 73/100\n",
      "5748/5748 - 3s - loss: 0.3476 - accuracy: 0.8401 - 3s/epoch - 582us/step\n",
      "Epoch 74/100\n",
      "5748/5748 - 3s - loss: 0.3477 - accuracy: 0.8398 - 3s/epoch - 584us/step\n",
      "Epoch 75/100\n",
      "5748/5748 - 3s - loss: 0.3476 - accuracy: 0.8402 - 3s/epoch - 582us/step\n",
      "Epoch 76/100\n",
      "5748/5748 - 3s - loss: 0.3476 - accuracy: 0.8400 - 3s/epoch - 581us/step\n",
      "Epoch 77/100\n",
      "5748/5748 - 3s - loss: 0.3477 - accuracy: 0.8397 - 3s/epoch - 580us/step\n",
      "Epoch 78/100\n",
      "5748/5748 - 3s - loss: 0.3476 - accuracy: 0.8400 - 3s/epoch - 580us/step\n",
      "Epoch 79/100\n",
      "5748/5748 - 3s - loss: 0.3477 - accuracy: 0.8397 - 3s/epoch - 582us/step\n",
      "Epoch 80/100\n",
      "5748/5748 - 3s - loss: 0.3477 - accuracy: 0.8400 - 3s/epoch - 580us/step\n",
      "Epoch 81/100\n",
      "5748/5748 - 3s - loss: 0.3476 - accuracy: 0.8399 - 3s/epoch - 584us/step\n",
      "Epoch 82/100\n",
      "5748/5748 - 3s - loss: 0.3476 - accuracy: 0.8402 - 3s/epoch - 583us/step\n",
      "Epoch 83/100\n",
      "5748/5748 - 3s - loss: 0.3476 - accuracy: 0.8401 - 3s/epoch - 585us/step\n",
      "Epoch 84/100\n",
      "5748/5748 - 3s - loss: 0.3477 - accuracy: 0.8398 - 3s/epoch - 586us/step\n",
      "Epoch 85/100\n",
      "5748/5748 - 3s - loss: 0.3476 - accuracy: 0.8403 - 3s/epoch - 597us/step\n",
      "Epoch 86/100\n",
      "5748/5748 - 3s - loss: 0.3476 - accuracy: 0.8401 - 3s/epoch - 593us/step\n"
     ]
    },
    {
     "name": "stdout",
     "output_type": "stream",
     "text": [
      "Epoch 87/100\n",
      "5748/5748 - 4s - loss: 0.3476 - accuracy: 0.8401 - 4s/epoch - 624us/step\n",
      "Epoch 88/100\n",
      "5748/5748 - 4s - loss: 0.3476 - accuracy: 0.8396 - 4s/epoch - 625us/step\n",
      "Epoch 89/100\n",
      "5748/5748 - 4s - loss: 0.3476 - accuracy: 0.8403 - 4s/epoch - 622us/step\n",
      "Epoch 90/100\n",
      "5748/5748 - 4s - loss: 0.3476 - accuracy: 0.8401 - 4s/epoch - 615us/step\n",
      "Epoch 91/100\n",
      "5748/5748 - 4s - loss: 0.3476 - accuracy: 0.8403 - 4s/epoch - 609us/step\n",
      "Epoch 92/100\n",
      "5748/5748 - 3s - loss: 0.3477 - accuracy: 0.8399 - 3s/epoch - 606us/step\n",
      "Epoch 93/100\n",
      "5748/5748 - 3s - loss: 0.3476 - accuracy: 0.8399 - 3s/epoch - 606us/step\n",
      "Epoch 94/100\n",
      "5748/5748 - 4s - loss: 0.3476 - accuracy: 0.8400 - 4s/epoch - 609us/step\n",
      "Epoch 95/100\n",
      "5748/5748 - 4s - loss: 0.3476 - accuracy: 0.8402 - 4s/epoch - 635us/step\n",
      "Epoch 96/100\n",
      "5748/5748 - 4s - loss: 0.3476 - accuracy: 0.8397 - 4s/epoch - 651us/step\n",
      "Epoch 97/100\n",
      "5748/5748 - 4s - loss: 0.3476 - accuracy: 0.8401 - 4s/epoch - 614us/step\n",
      "Epoch 98/100\n",
      "5748/5748 - 3s - loss: 0.3477 - accuracy: 0.8399 - 3s/epoch - 603us/step\n",
      "Epoch 99/100\n",
      "5748/5748 - 3s - loss: 0.3476 - accuracy: 0.8401 - 3s/epoch - 585us/step\n",
      "Epoch 100/100\n",
      "5748/5748 - 3s - loss: 0.3476 - accuracy: 0.8403 - 3s/epoch - 584us/step\n",
      "639/639 [==============================] - 0s 469us/step\n"
     ]
    }
   ],
   "source": [
    "for currEmb in ['BERT_UNCASED', 'all-distilroberta', 'all-mpnet-base']:\n",
    "    data = loadData(f\"{datadir}/{dsName}_{currEmb}.json\")\n",
    "    trainX, trainY, testX, testY = prepareTrainTestXYSentence(data,classify_by_field=\"class\")\n",
    "\n",
    "    currclassifier = NNClassifier()\n",
    "    history = currclassifier.train(trainX, trainY)\n",
    "\n",
    "    labels.append(f\"{currEmb} NN\")\n",
    "    curr_train_acc = history.history[\"accuracy\"][-1]\n",
    "    train_accs.append(curr_train_acc)\n",
    "    \n",
    "    res = currclassifier.predict(testX)\n",
    "    curr_test_acc = evaluate(res, testY)\n",
    "    test_accs.append(curr_test_acc)"
   ]
  },
  {
   "cell_type": "markdown",
   "metadata": {},
   "source": [
    "All results are presented in the bar chart."
   ]
  },
  {
   "cell_type": "code",
   "execution_count": 16,
   "metadata": {},
   "outputs": [
    {
     "data": {
      "image/png": "[encoded data removed]",
      "text/plain": [
       "<Figure size 800x600 with 1 Axes>"
      ]
     },
     "metadata": {},
     "output_type": "display_data"
    }
   ],
   "source": [
    "width = 0.3\n",
    "plt.bar(np.arange(len(test_accs)) - (width/2), test_accs, width=width)\n",
    "plt.bar(np.arange(len(train_accs)) + (width/2), train_accs, width=width)\n",
    "plt.xticks(range(len(labels)), labels, rotation=-50)\n",
    "plt.ylabel(\"Accuracy\")\n",
    "plt.title(\"Classical algorithm results\")\n",
    "plt.legend([\"Test\", \"Train\"])\n",
    "plt.show()"
   ]
  },
  {
   "cell_type": "markdown",
   "metadata": {},
   "source": [
    "All results are saved to file."
   ]
  },
  {
   "cell_type": "code",
   "execution_count": 17,
   "metadata": {},
   "outputs": [],
   "source": [
    "with open(f\"{modeldir}/{dsName}_results.json\", \"w\", encoding=\"utf-8\") as f:\n",
    "        json.dump({\"train_accuracy\": train_accs, \"test_accuracy\": test_accs, \"model type\": labels}, f, indent=1, ensure_ascii=False)"
   ]
  },
  {
   "cell_type": "markdown",
   "metadata": {},
   "source": [
    "## 6. Saving, loading and re-using models"
   ]
  },
  {
   "cell_type": "markdown",
   "metadata": {},
   "source": [
    "!!! To save the model use function save. The function's argument is the folder name where trained model's files will be saved."
   ]
  },
  {
   "cell_type": "code",
   "execution_count": 23,
   "metadata": {},
   "outputs": [
    {
     "name": "stdout",
     "output_type": "stream",
     "text": [
      "INFO:tensorflow:Assets written to: ../../models/classical/amazonreview_train_BERT_CASED\\assets\n"
     ]
    },
    {
     "name": "stderr",
     "output_type": "stream",
     "text": [
      "INFO:tensorflow:Assets written to: ../../models/classical/amazonreview_train_BERT_CASED\\assets\n"
     ]
    }
   ],
   "source": [
    "classifier.save(f\"{modeldir}/{dsName}_{embName}\")"
   ]
  },
  {
   "cell_type": "markdown",
   "metadata": {},
   "source": [
    "!!! To load previousely saved model create *NNClassifier* object and use function *load*. The function's argument is the folder name where trained model's files are saved. In this example *newclassifier* object after loading will become replica of *classifier* object."
   ]
  },
  {
   "cell_type": "code",
   "execution_count": 28,
   "metadata": {},
   "outputs": [
    {
     "name": "stdout",
     "output_type": "stream",
     "text": [
      "Failed to load model from ../../models/classical/amazonreview_train_BERT_CASED\n"
     ]
    },
    {
     "data": {
      "text/plain": [
       "False"
      ]
     },
     "execution_count": 28,
     "metadata": {},
     "output_type": "execute_result"
    }
   ],
   "source": [
    "newclassifier = NNClassifier()\n",
    "newclassifier.load(f\"{modeldir}/{dsName}_{embName}\")"
   ]
  },
  {
   "cell_type": "markdown",
   "metadata": {},
   "source": [
    "!!! To use newclassifier for prediction use function *predict* and pass embedding vector of the sentence."
   ]
  },
  {
   "cell_type": "code",
   "execution_count": null,
   "metadata": {},
   "outputs": [],
   "source": []
  }
 ],
 "metadata": {
  "kernelspec": {
   "display_name": "Python 3 (ipykernel)",
   "language": "python",
   "name": "python3"
  },
  "language_info": {
   "codemirror_mode": {
    "name": "ipython",
    "version": 3
   },
   "file_extension": ".py",
   "mimetype": "text/x-python",
   "name": "python",
   "nbconvert_exporter": "python",
   "pygments_lexer": "ipython3",
   "version": "3.10.5"
  },
  "vscode": {
   "interpreter": {
    "hash": "a665b5d41d17b532ea9890333293a1b812fa0b73c9c25c950b3cedf1bebd0438"
   }
  }
 },
 "nbformat": 4,
 "nbformat_minor": 4
}
