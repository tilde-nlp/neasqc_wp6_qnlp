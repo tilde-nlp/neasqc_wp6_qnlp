{
 "cells": [
  {
   "cell_type": "markdown",
   "id": "7e034ef4-5deb-49c7-88eb-51c750958597",
   "metadata": {},
   "source": [
    "# Single sentence training example"
   ]
  },
  {
   "cell_type": "code",
   "execution_count": 64,
   "id": "b025683f-9d98-4e68-adc4-6031c3a03a4d",
   "metadata": {},
   "outputs": [],
   "source": [
    "import sys\n",
    "sys.path.append(\"../../models/quantum/pre-alpha/\")"
   ]
  },
  {
   "cell_type": "code",
   "execution_count": 65,
   "id": "582432a7-e81e-4808-bcaa-99d7f649e55c",
   "metadata": {},
   "outputs": [],
   "source": [
    "\n",
    "import pandas as pd\n",
    "import json\n",
    "import matplotlib.pyplot as plt\n",
    "\n",
    "import random\n",
    "import dictionary\n",
    "import sentence\n",
    "import optimizer\n",
    "import loader\n",
    "import circuit"
   ]
  },
  {
   "cell_type": "markdown",
   "id": "c00e668d-c76c-45d4-9309-6588a2ffc6ae",
   "metadata": {},
   "source": [
    "Creating the dictionary and sentence objects. We need to "
   ]
  },
  {
   "cell_type": "code",
   "execution_count": 66,
   "id": "988ab8d1-acba-4517-96ab-a4fb246be55a",
   "metadata": {},
   "outputs": [],
   "source": [
    "myDict = dictionary.QuantumDict(qn=1,#Number of qubits for noun category. \n",
    "                                qs=1)#Number of qubits for sentence category\n",
    "                                     #For qn or qs>1 time increases considerably\n",
    "mySentence = sentence.Sentence(\"dog barking at cat\",#Sentence string\n",
    "                               dictionary=myDict,\n",
    "                               stype=1,#Sentence structure. 1 corresponds to NOUN-IVERB-PREP-NOUN\n",
    "                               label=0)#Truth Value -> 0:False, 1:True"
   ]
  },
  {
   "cell_type": "code",
   "execution_count": 67,
   "id": "cec591ad-e9cf-4e88-8c58-a29a9b1135f6",
   "metadata": {},
   "outputs": [
    {
     "name": "stdout",
     "output_type": "stream",
     "text": [
      "MySentence is a Sentence object with the following properties required to build and train the quantum circuit:\n",
      "\n",
      "Word categories: \n",
      " [['n'], ['nr', 's'], ['sr', 'nrr', 'nr', 's', 'nl'], ['n']] \n",
      "\n",
      "The number of qubits used per category:  \n",
      " [['n'], ['nr', 's'], ['sr', 'nrr', 'nr', 's', 'nl'], ['n']] \n",
      "\n",
      "A QuantumDict object with qn, qs and the word used:  \n",
      " <dictionary.QuantumDict object at 0x7fedd66e6b20> \n",
      "\n",
      "The sentence truth value:  \n",
      " 0 \n",
      "\n",
      "The number of qubits needed for the sentence structured for each word:  \n",
      " [[0], [1, 2], [3, 4, 5, 6, 7], [8]] \n",
      "\n",
      "The sentence structure code:  \n",
      " 1 \n",
      "\n"
     ]
    }
   ],
   "source": [
    "print('MySentence is a Sentence object with the following properties required to build and train the quantum circuit:\\n')\n",
    "print('Word categories: \\n {} \\n'.format(mySentence.categoriesarray))\n",
    "print('The number of qubits used per category:  \\n {} \\n'.format(mySentence.categoriesarray))\n",
    "print('A QuantumDict object with qn, qs and the word used:  \\n {} \\n'.format(mySentence.dictionary))\n",
    "print('The sentence truth value:  \\n {} \\n'.format(mySentence.label))\n",
    "print('The number of qubits needed for the sentence structured for each word:  \\n {} \\n'.format(mySentence.qubitsarray))\n",
    "print('The sentence structure code:  \\n {} \\n'.format(mySentence.stype))"
   ]
  },
  {
   "cell_type": "markdown",
   "id": "b96663e4-79fb-4973-add7-b72c69addff9",
   "metadata": {},
   "source": [
    "Now the qubit contractions are found for the given sentence structure"
   ]
  },
  {
   "cell_type": "code",
   "execution_count": 68,
   "id": "c468caf3-0ec6-4ead-8c70-77b38cb89d9a",
   "metadata": {
    "tags": []
   },
   "outputs": [],
   "source": [
    "mySentence.getqbitcontractions()#Searchs for the qubit contractions needed acording to qn, \n",
    "                                #qs, and sentence type\n",
    "    \n",
    "myCircBuilder = circuit.CircuitBuilder()\n",
    "mySentence.setsentenceparameters()#If nothing is specified, random parameters will be\n",
    "                                  #generated for the contractions"
   ]
  },
  {
   "cell_type": "markdown",
   "id": "3ac78266-586a-4950-ad6f-65782f119435",
   "metadata": {},
   "source": [
    "The following array has been created using the mapping from word to categories provided in the dictionary object and the rules for the contractions given by the sentence type. The qubit carrying the meaning of the sentence is qubit 6, which is only a qubit because qs=1 by default and is the only one not appearing in the contractions array"
   ]
  },
  {
   "cell_type": "code",
   "execution_count": 69,
   "id": "4d651084-5b22-4f7c-ae63-2988c46899ba",
   "metadata": {},
   "outputs": [
    {
     "name": "stdout",
     "output_type": "stream",
     "text": [
      "[array([0]), array([5])]\n",
      "[array([1]), array([4])]\n",
      "[array([2]), array([3])]\n",
      "[array([7]), array([8])]\n"
     ]
    }
   ],
   "source": [
    "for contraction in mySentence.contractions:\n",
    "    print(contraction)"
   ]
  },
  {
   "cell_type": "markdown",
   "id": "38d2a6ae-00bc-4429-ac1e-6736c2fe10c0",
   "metadata": {},
   "source": [
    "We run the circuit with the initial random parameters. In this case, sentence label is 0, so we are interested in the first quantum state."
   ]
  },
  {
   "cell_type": "markdown",
   "id": "066b535b-c0b4-4843-876b-225228ee01e2",
   "metadata": {},
   "source": [
    "### Creating the original sentence circuit"
   ]
  },
  {
   "cell_type": "markdown",
   "id": "36616077-f919-4ed4-a861-dee22e817805",
   "metadata": {},
   "source": [
    "Here we are running the circuit with the random initial parameters. In this case, we are interested in the result from the 6th qubit, as we stated above. The rest of qubits are projected to 0 in post-selection. This way, we get a value between 0 and 1 that we can use as a cost function to train the circuit. \n",
    "The probabilities of the two possible states are then properly normalized to sum 1."
   ]
  },
  {
   "cell_type": "markdown",
   "id": "a8640dc3-a1a4-4a52-a8ad-d4caefa17c5a",
   "metadata": {},
   "source": [
    "-----\n",
    "For creating the sentences the following ansatz was used.\n",
    "* qn = 1\n",
    "* qs = 1\n",
    "\n",
    "More qubits are shown for better understanding of Ansatz shape\n",
    "<img src=\"SentenceAnsatz.png\">"
   ]
  },
  {
   "cell_type": "code",
   "execution_count": 70,
   "id": "0eec4721-a631-4d8a-90c9-2f8ffb248c4e",
   "metadata": {
    "tags": []
   },
   "outputs": [
    {
     "name": "stdout",
     "output_type": "stream",
     "text": [
      "State |000000000>: probability 0.0012868871598064988, amplitude (-0.010138529196235709-0.034410716144009194j)\n",
      "State |000000100>: probability 0.0008585475023799161, amplitude (0.018851335432560717+0.022431554890131822j)\n",
      "\n",
      "\n",
      "Probability of sentence being False (qubit output = 0:  0.599825845311472\n",
      "Probability of sentence being True (qubit output = 1:  0.4001741546885279\n"
     ]
    }
   ],
   "source": [
    "myCircBuilder.createcircuit(mySentence)#Creates a QLM Program() object with the information \n",
    "                                       #from the sentence\n",
    "myCircBuilder.executecircuit()#Writes the result of executing the circuit as a \n",
    "                              #myCircBuilder attribute\n",
    "probs = []\n",
    "for sample in myCircBuilder.result:\n",
    "    #An iteration through the samples to apply post selection and record the \n",
    "    #probability of getting |00...0(qs=0)00...00> and |00...0(qs=1)00...00> states.\n",
    "    state = sample.state.bitstring\n",
    "    postselectedqubits = ''.join(state[x] for x in range(len(state)) if x != mySentence.sentencequbit)\n",
    "    if postselectedqubits == '0' * (myCircBuilder.qlmprogram.qbit_count - 1):\n",
    "        probs.append(sample.probability)\n",
    "        print(\"State %s: probability %s, amplitude %s\" % (sample.state, sample.probability, sample.amplitude))\n",
    "params = mySentence.getparameters()\n",
    "flat_params0 = [item for sublist in params for item in sublist]\n",
    "initialfalseprob = probs[0] / sum(probs)\n",
    "print('\\n')\n",
    "print('Probability of sentence being False (qubit output = 0: ', probs[0] / sum(probs))\n",
    "print('Probability of sentence being True (qubit output = 1: ', probs[1] / sum(probs))"
   ]
  },
  {
   "cell_type": "markdown",
   "id": "4cabef84-d7a6-4706-aaa4-d6f7f9726923",
   "metadata": {},
   "source": [
    "We get the parameters from the sentence and flattern them to feed the optimizer"
   ]
  },
  {
   "cell_type": "code",
   "execution_count": 71,
   "id": "e0f69201-713c-491b-8a7a-364f2f9a2125",
   "metadata": {
    "tags": []
   },
   "outputs": [],
   "source": [
    "#We flattern the pararms as they are formatted and separated per word\n",
    "params=mySentence.getparameters()\n",
    "flat_params0 = [item for sublist in params for item in sublist]"
   ]
  },
  {
   "cell_type": "markdown",
   "id": "bd71ff89-a496-4dfb-8eee-8fe9453dddd8",
   "metadata": {},
   "source": [
    "### Optimizing the circuit"
   ]
  },
  {
   "cell_type": "markdown",
   "id": "f659d09a-e4c1-4d8f-9123-1491ecff533e",
   "metadata": {},
   "source": [
    "We print the cost function with the initial parameters.\n",
    "Then, the optimized values are stored in resultparams. \n",
    "We need to reshape those params so we can use them for preparing the circuit again.\n",
    "COBYLA optimizer is used in this example"
   ]
  },
  {
   "cell_type": "code",
   "execution_count": 72,
   "id": "ca56bb0d-556c-4da8-991a-32c0e3139ebd",
   "metadata": {
    "tags": []
   },
   "outputs": [
    {
     "name": "stdout",
     "output_type": "stream",
     "text": [
      "iteration 10 \n",
      " Cost: 0.42595294758685254\n",
      "iteration 20 \n",
      " Cost: 0.18485029523982108\n",
      "iteration 30 \n",
      " Cost: 0.04203690737775966\n",
      "iteration 40 \n",
      " Cost: 0.004852103545591778\n",
      "iteration 50 \n",
      " Cost: 0.00026686585501783916\n",
      "iteration 60 \n",
      " Cost: 0.0002543639573293101\n",
      "iteration 70 \n",
      " Cost: 6.383439092671836e-05\n",
      "iteration 80 \n",
      " Cost: 0.00015595116059477967\n",
      "iteration 90 \n",
      " Cost: 2.872856540097092e-05\n",
      "iteration 100 \n",
      " Cost: 1.646180012589477e-05\n",
      "original params: [[4.704060184771865, 4.593598794432761], [2.0214647241956754, 5.681494431524554, 2.7599390176704373, 3.5133000521282542], [2.801337496870564, 2.72434292362868, 3.692248206297966, 0.17751381344594944, 1.5680588244747737, 6.266287216978032, 5.8114270089646585, 2.3746252415640727, 3.367451463771549, 3.902435757285109], [1.321555494400406, 4.464148182268861]]\n",
      "best params: [[5.066875908376348, 4.85080935085265], [1.9982079044113827, 5.674446650697957, 2.941429652032099, 3.512577276870386], [2.71036096101265, 2.915014340492139, 3.6571250387906145, 0.20374225426243495, 1.1220577463113175, 6.440861134700866, 5.667198584684119, 2.2219979009284114, 3.5419209950710697, 3.947486987157605], [1.6027965865318814, 4.584010638907262]]\n"
     ]
    }
   ],
   "source": [
    "myOptimizer = optimizer.ClassicalOptimizer()\n",
    "\n",
    "resultparams = myOptimizer.optimizesentence(mySentence,#Sentence object to be trained\n",
    "                                            tol=1e-2,#SciPy param, trust-interval related\n",
    "                                            options={'maxiter':100, 'rhobeg': 0.1},#Scipy params, \n",
    "                                                                            #max number of iterations\n",
    "                                                                            #and reasonable step\n",
    "                                            method=\"COBYLA\")#Optimization method\n",
    "resultreshaped = myOptimizer.reshapeparams(resultparams.x, mySentence)\n",
    "print('original params:', params)\n",
    "print('best params:', resultreshaped)"
   ]
  },
  {
   "cell_type": "code",
   "execution_count": 73,
   "id": "5fae9e9c-2593-48be-b134-931a5833a0f9",
   "metadata": {},
   "outputs": [
    {
     "data": {
      "text/plain": [
       "Text(0, 0.5, 'Cost function (Cross entropy)')"
      ]
     },
     "execution_count": 73,
     "metadata": {},
     "output_type": "execute_result"
    },
    {
     "data": {
      "image/png": "[encoded data removed]",
      "text/plain": [
       "<Figure size 432x288 with 1 Axes>"
      ]
     },
     "metadata": {
      "needs_background": "light"
     },
     "output_type": "display_data"
    }
   ],
   "source": [
    "plt.plot(myOptimizer.itercost)\n",
    "plt.xlabel('Iterations')\n",
    "plt.ylabel('Cost function (Cross entropy)')"
   ]
  },
  {
   "cell_type": "markdown",
   "id": "d20bcdc4-ceb9-4f8c-956e-e9f56b20d4e4",
   "metadata": {},
   "source": [
    "We run the circuit again with the optimized parameters and see how the truth value is satisfied and the cost function has been minimized. We see that the probability of the quantum output being compliant with the original label increases dramatically."
   ]
  },
  {
   "cell_type": "code",
   "execution_count": 74,
   "id": "194aec16-2a58-4fd8-a132-4ddc0284204b",
   "metadata": {},
   "outputs": [
    {
     "name": "stdout",
     "output_type": "stream",
     "text": [
      "Original probability of sentence being False: 0.599825845311472\n",
      "Trained probaility of sentence being False: 0.9999910755900951\n"
     ]
    }
   ],
   "source": [
    "myCircBuilderifnal = circuit.CircuitBuilder()\n",
    "mySentence.setsentenceparameters(randompar=False, params=resultreshaped)\n",
    "myCircBuilderifnal.createcircuit(mySentence)\n",
    "myCircBuilderifnal.executecircuit()\n",
    "\n",
    "probs = []\n",
    "for sample in myCircBuilderifnal.result:\n",
    "    state = sample.state.bitstring\n",
    "    postselectedqubits = ''.join(state[x] for x in range(len(state)) if x != mySentence.sentencequbit)\n",
    "    if postselectedqubits == '0' * (myCircBuilderifnal.qlmprogram.qbit_count - 1):\n",
    "        probs.append(sample.probability)\n",
    "print('Original probability of sentence being False: {}'.format(initialfalseprob))\n",
    "print('Trained probaility of sentence being False: {}'.format(probs[0] / sum(probs)))"
   ]
  }
 ],
 "metadata": {
  "kernelspec": {
   "display_name": "Python 3 (ipykernel)",
   "language": "python",
   "name": "python3"
  },
  "language_info": {
   "codemirror_mode": {
    "name": "ipython",
    "version": 3
   },
   "file_extension": ".py",
   "mimetype": "text/x-python",
   "name": "python",
   "nbconvert_exporter": "python",
   "pygments_lexer": "ipython3",
   "version": "3.8.0"
  }
 },
 "nbformat": 4,
 "nbformat_minor": 5
}
